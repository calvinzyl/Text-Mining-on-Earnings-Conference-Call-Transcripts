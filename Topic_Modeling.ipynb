{
  "cells": [
    {
      "cell_type": "code",
      "execution_count": 1,
      "metadata": {
        "id": "96V5NiEwTD9B"
      },
      "outputs": [],
      "source": [
        "import pickle\n",
        "import pandas as pd"
      ]
    },
    {
      "cell_type": "code",
      "execution_count": 2,
      "metadata": {
        "id": "A6QiWH5_TFww"
      },
      "outputs": [],
      "source": [
        "infile = open('/Users/yanlinzhang/Desktop/Natural Language Processing/Final Project/processed_final_final_df', 'rb')\n",
        "final_df = pickle.load(infile)\n",
        "infile.close()"
      ]
    },
    {
      "cell_type": "code",
      "execution_count": 53,
      "metadata": {},
      "outputs": [],
      "source": [
        "final_df.to_csv(\"/Users/yanlinzhang/Desktop/Natural Language Processing/Final Project/cleaned_transcripts.csv\")"
      ]
    },
    {
      "cell_type": "markdown",
      "metadata": {},
      "source": [
        "## Text Preprocessing"
      ]
    },
    {
      "cell_type": "code",
      "execution_count": 54,
      "metadata": {},
      "outputs": [],
      "source": [
        "# Remove special characters, spaces at the beginning and the end of the tokens, and lower-case the tokens\n",
        "\n",
        "def clean_txt(txt_in):\n",
        "    import re\n",
        "    if type(txt_in) == float:\n",
        "        return ''\n",
        "    tmp = txt_in.strip().lower()\n",
        "    tmp = re.sub(\"'\", ' ', tmp)\n",
        "    tmp = re.sub('@[A-Za-z0-9_]+', ' ', tmp)\n",
        "    tmp = re.sub('#[A-Za-z0-9_]+', ' ', tmp)\n",
        "    tmp = re.sub(r'http\\S+', ' ', tmp)\n",
        "    tmp = re.sub(r'www.\\S+', ' ', tmp)\n",
        "    tmp = re.sub('[()!?]', ' ', tmp)\n",
        "    tmp = re.sub('\\[.*?\\]',' ', tmp)\n",
        "    tmp = re.sub('[^a-z0-9]',' ', tmp)\n",
        "    tmp = re.sub('\\d+', ' ', tmp)\n",
        "    return tmp\n",
        "\n",
        "final_df['body_cleaned'] = final_df['body'].apply(lambda x: clean_txt(x))"
      ]
    },
    {
      "cell_type": "code",
      "execution_count": 272,
      "metadata": {},
      "outputs": [],
      "source": [
        "# Remove stopwords\n",
        "\n",
        "def my_stop_words(var_in):\n",
        "    from nltk.corpus import stopwords\n",
        "    sw = stopwords.words('english')\n",
        "    sw.extend(['presentation', 'summary','year','quarter','question','time','also','today','yes','day','think',\n",
        "    'growth','business','say','thanks','billion','term', 'copyright','right','reserved','operator','morning','afternoon','thank','good'])\n",
        "    tmp = [word for word in var_in.split() if word not in sw]\n",
        "    tmp = ' '.join(tmp)\n",
        "    return tmp\n",
        "\n",
        "final_df['body_nosw'] = final_df['body_cleaned'].apply(lambda x: my_stop_words(x))"
      ]
    },
    {
      "cell_type": "code",
      "execution_count": 273,
      "metadata": {},
      "outputs": [],
      "source": [
        "# Reduce tokens to their roots\n",
        "\n",
        "def my_stem(var_in):\n",
        "    from nltk.stem.porter import PorterStemmer\n",
        "    my_stem = PorterStemmer()\n",
        "    tmp = [my_stem.stem(word) for word in var_in.split()]\n",
        "    tmp = ' '.join(tmp)\n",
        "    return tmp\n",
        "\n",
        "def my_lemma(var_in):\n",
        "    from nltk.stem  import WordNetLemmatizer\n",
        "    my_lemmatizer = WordNetLemmatizer()\n",
        "    tmp = [my_lemmatizer.lemmatize(word) for word in var_in.split()]\n",
        "    tmp = ' '.join(tmp)\n",
        "    return tmp\n",
        "\n",
        "final_df['body_stemmed'] = final_df['body_nosw'].apply(lambda x: my_stem(x))\n",
        "final_df['body_lemmatized'] = final_df['body_nosw'].apply(lambda x: my_lemma(x))"
      ]
    },
    {
      "cell_type": "code",
      "execution_count": 274,
      "metadata": {},
      "outputs": [],
      "source": [
        "def remove_short(var_in):\n",
        "    tmp = [word for word in var_in.split() if len(word) > 2]\n",
        "    tmp = ' '.join(tmp)\n",
        "    return tmp\n",
        "\n",
        "final_df['body_lemmatized_cleaned'] = final_df['body_lemmatized'].apply(lambda x: remove_short(x))\n",
        "final_df['body_stemmed_cleaned'] = final_df['body_stemmed'].apply(lambda x: remove_short(x))"
      ]
    },
    {
      "cell_type": "code",
      "execution_count": 282,
      "metadata": {},
      "outputs": [],
      "source": [
        "def remove_sw(var_in):\n",
        "    google_sw = ['see','continue','well','really','across','new','first','user',\n",
        "                 'sync','service','new','look','see','inc','last','great','name','welcome',\n",
        "                 'really','thing','one','number','market','across','going','well','going well',\n",
        "                 'see','continue','well','really','across','new','google','first','user']\n",
        "    tmp = [word for word in var_in.split() if word not in google_sw]\n",
        "    tmp = ' '.join(tmp)\n",
        "    return tmp\n",
        "\n",
        "final_df['body_lemmatized_cleaned'] = final_df['body_lemmatized_cleaned'].apply(remove_sw)"
      ]
    },
    {
      "cell_type": "markdown",
      "metadata": {},
      "source": [
        "## Mannual Topic Extraction"
      ]
    },
    {
      "cell_type": "code",
      "execution_count": 276,
      "metadata": {},
      "outputs": [],
      "source": [
        "def extract_embeddings_domain(df_in, num_vec_in):\n",
        "\n",
        "    from gensim.models import Word2Vec\n",
        "    import numpy as np\n",
        "\n",
        "    model = Word2Vec(\n",
        "        df_in.str.split(), min_count=1,\n",
        "        vector_size=num_vec_in, workers=3, window=5, sg=0)\n",
        "\n",
        "    def get_score(var):\n",
        "        try:\n",
        "            tmp_arr = list()\n",
        "            for word in var:\n",
        "                tmp_arr.append(list(model.wv[word]))\n",
        "        except:\n",
        "            pass\n",
        "        return np.mean(np.array(tmp_arr), axis=0)\n",
        "        \n",
        "    tmp_out = df_in.str.split().apply(get_score)\n",
        "    tmp_data = tmp_out.apply(pd.Series).fillna(0)\n",
        "\n",
        "    return tmp_data\n",
        "\n",
        "we_matrix = extract_embeddings_domain(final_df['body_lemmatized_cleaned'], 500)"
      ]
    },
    {
      "cell_type": "code",
      "execution_count": 277,
      "metadata": {},
      "outputs": [],
      "source": [
        "from gensim.models import Word2Vec\n",
        "\n",
        "we_model = Word2Vec(\n",
        "    final_df['body_lemmatized_cleaned'].str.split(), min_count=1,\n",
        "    vector_size = 500, workers=3, window=5, sg=0)"
      ]
    },
    {
      "cell_type": "code",
      "execution_count": 278,
      "metadata": {},
      "outputs": [
        {
          "data": {
            "text/plain": [
              "Topic 1: Youtube        0.472614\n",
              "Topic 2: Fiscal         0.500026\n",
              "Topic 3: Customer       0.298928\n",
              "Topic 4: Revenue        0.486946\n",
              "Topic 5: Development    0.464932\n",
              "Topic 6: Expansion      0.514181\n",
              "Topic 7: Technology     0.541809\n",
              "Topic 8: Product        0.440055\n",
              "dtype: float64"
            ]
          },
          "execution_count": 278,
          "metadata": {},
          "output_type": "execute_result"
        }
      ],
      "source": [
        "def my_cos_sim(x_in, y_in):\n",
        "    import numpy as np\n",
        "    num_t = sum(x_in*y_in)\n",
        "    den_t = np.linalg.norm(x_in)*np.linalg.norm(y_in)\n",
        "    return num_t / den_t\n",
        "\n",
        "topic1 = list()\n",
        "topic2 = list()\n",
        "topic3 = list()\n",
        "topic4 = list()\n",
        "topic5 = list()\n",
        "topic6 = list()\n",
        "topic7 = list()\n",
        "topic8 = list()\n",
        "\n",
        "for i in range(len(we_matrix)):\n",
        "    topic1.append(my_cos_sim(we_matrix.loc[i, ], we_model.wv['youtube']))\n",
        "    topic2.append(my_cos_sim(we_matrix.loc[i, ], we_model.wv['fiscal']))\n",
        "    topic3.append(my_cos_sim(we_matrix.loc[i, ], we_model.wv['use']))\n",
        "    topic4.append(my_cos_sim(we_matrix.loc[i, ], we_model.wv['revenue']))\n",
        "    topic5.append(my_cos_sim(we_matrix.loc[i, ], we_model.wv['develop']))\n",
        "    topic6.append(my_cos_sim(we_matrix.loc[i, ], we_model.wv['expand']))\n",
        "    topic7.append(my_cos_sim(we_matrix.loc[i, ], we_model.wv['tech']))\n",
        "    topic8.append(my_cos_sim(we_matrix.loc[i, ], we_model.wv['product']))\n",
        "\n",
        "\n",
        "topic1_cos = pd.DataFrame(topic1).rename(columns={0: \"Topic 1: Youtube\"})\n",
        "topic2_cos = pd.DataFrame(topic2).rename(columns={0: \"Topic 2: Fiscal\"})\n",
        "topic3_cos = pd.DataFrame(topic3).rename(columns={0: \"Topic 3: Customer\"})\n",
        "topic4_cos = pd.DataFrame(topic4).rename(columns={0: \"Topic 4: Revenue\"})\n",
        "topic5_cos = pd.DataFrame(topic5).rename(columns={0: \"Topic 5: Development\"})\n",
        "topic6_cos = pd.DataFrame(topic6).rename(columns={0: \"Topic 6: Expansion\"})\n",
        "topic7_cos = pd.DataFrame(topic7).rename(columns={0: \"Topic 7: Technology\"})\n",
        "topic8_cos = pd.DataFrame(topic8).rename(columns={0: \"Topic 8: Product\"})\n",
        "\n",
        "showdown = topic1_cos.join(topic2_cos).join(topic3_cos).join(topic4_cos).join(topic5_cos).join(topic6_cos).join(topic7_cos).join(topic8_cos)\n",
        "showdown.mean(axis = 0)"
      ]
    },
    {
      "cell_type": "code",
      "execution_count": 279,
      "metadata": {},
      "outputs": [
        {
          "data": {
            "text/plain": [
              "{0: 'Topic 2: Fiscal',\n",
              " 1: 'Topic 4: Revenue',\n",
              " 2: 'Topic 1: Youtube',\n",
              " 3: 'Topic 7: Technology',\n",
              " 4: 'Topic 7: Technology',\n",
              " 5: 'Topic 4: Revenue',\n",
              " 6: 'Topic 2: Fiscal',\n",
              " 7: 'Topic 1: Youtube',\n",
              " 8: 'Topic 2: Fiscal',\n",
              " 9: 'Topic 1: Youtube',\n",
              " 10: 'Topic 7: Technology',\n",
              " 11: 'Topic 1: Youtube',\n",
              " 12: 'Topic 7: Technology',\n",
              " 13: 'Topic 4: Revenue',\n",
              " 14: 'Topic 1: Youtube',\n",
              " 15: 'Topic 1: Youtube',\n",
              " 16: 'Topic 7: Technology',\n",
              " 17: 'Topic 4: Revenue',\n",
              " 18: 'Topic 7: Technology',\n",
              " 19: 'Topic 2: Fiscal',\n",
              " 20: 'Topic 2: Fiscal',\n",
              " 21: 'Topic 2: Fiscal',\n",
              " 22: 'Topic 2: Fiscal',\n",
              " 23: 'Topic 4: Revenue',\n",
              " 24: 'Topic 2: Fiscal',\n",
              " 25: 'Topic 2: Fiscal',\n",
              " 26: 'Topic 4: Revenue',\n",
              " 27: 'Topic 4: Revenue',\n",
              " 28: 'Topic 4: Revenue',\n",
              " 29: 'Topic 2: Fiscal',\n",
              " 30: 'Topic 4: Revenue',\n",
              " 31: 'Topic 4: Revenue',\n",
              " 32: 'Topic 4: Revenue',\n",
              " 33: 'Topic 2: Fiscal',\n",
              " 34: 'Topic 4: Revenue',\n",
              " 35: 'Topic 4: Revenue',\n",
              " 36: 'Topic 4: Revenue',\n",
              " 37: 'Topic 7: Technology',\n",
              " 38: 'Topic 2: Fiscal',\n",
              " 39: 'Topic 2: Fiscal',\n",
              " 40: 'Topic 7: Technology',\n",
              " 41: 'Topic 7: Technology',\n",
              " 42: 'Topic 7: Technology',\n",
              " 43: 'Topic 7: Technology',\n",
              " 44: 'Topic 7: Technology',\n",
              " 45: 'Topic 7: Technology',\n",
              " 46: 'Topic 7: Technology',\n",
              " 47: 'Topic 7: Technology',\n",
              " 48: 'Topic 7: Technology',\n",
              " 49: 'Topic 7: Technology',\n",
              " 50: 'Topic 7: Technology',\n",
              " 51: 'Topic 7: Technology',\n",
              " 52: 'Topic 7: Technology',\n",
              " 53: 'Topic 7: Technology',\n",
              " 54: 'Topic 7: Technology',\n",
              " 55: 'Topic 7: Technology',\n",
              " 56: 'Topic 7: Technology',\n",
              " 57: 'Topic 2: Fiscal',\n",
              " 58: 'Topic 2: Fiscal',\n",
              " 59: 'Topic 2: Fiscal',\n",
              " 60: 'Topic 2: Fiscal',\n",
              " 61: 'Topic 2: Fiscal',\n",
              " 62: 'Topic 2: Fiscal',\n",
              " 63: 'Topic 2: Fiscal',\n",
              " 64: 'Topic 2: Fiscal',\n",
              " 65: 'Topic 2: Fiscal',\n",
              " 66: 'Topic 2: Fiscal',\n",
              " 67: 'Topic 2: Fiscal',\n",
              " 68: 'Topic 2: Fiscal',\n",
              " 69: 'Topic 2: Fiscal',\n",
              " 70: 'Topic 2: Fiscal',\n",
              " 71: 'Topic 2: Fiscal',\n",
              " 72: 'Topic 2: Fiscal',\n",
              " 73: 'Topic 7: Technology',\n",
              " 74: 'Topic 2: Fiscal',\n",
              " 75: 'Topic 2: Fiscal',\n",
              " 76: 'Topic 2: Fiscal',\n",
              " 77: 'Topic 2: Fiscal',\n",
              " 78: 'Topic 4: Revenue',\n",
              " 79: 'Topic 7: Technology',\n",
              " 80: 'Topic 7: Technology',\n",
              " 81: 'Topic 7: Technology',\n",
              " 82: 'Topic 7: Technology',\n",
              " 83: 'Topic 7: Technology',\n",
              " 84: 'Topic 7: Technology',\n",
              " 85: 'Topic 7: Technology',\n",
              " 86: 'Topic 7: Technology',\n",
              " 87: 'Topic 7: Technology',\n",
              " 88: 'Topic 7: Technology',\n",
              " 89: 'Topic 7: Technology',\n",
              " 90: 'Topic 7: Technology',\n",
              " 91: 'Topic 7: Technology',\n",
              " 92: 'Topic 7: Technology',\n",
              " 93: 'Topic 7: Technology',\n",
              " 94: 'Topic 7: Technology',\n",
              " 95: 'Topic 7: Technology',\n",
              " 96: 'Topic 7: Technology',\n",
              " 97: 'Topic 7: Technology',\n",
              " 98: 'Topic 7: Technology',\n",
              " 99: 'Topic 7: Technology',\n",
              " 100: 'Topic 7: Technology',\n",
              " 101: 'Topic 7: Technology',\n",
              " 102: 'Topic 7: Technology',\n",
              " 103: 'Topic 7: Technology',\n",
              " 104: 'Topic 7: Technology',\n",
              " 105: 'Topic 7: Technology',\n",
              " 106: 'Topic 7: Technology',\n",
              " 107: 'Topic 7: Technology',\n",
              " 108: 'Topic 7: Technology',\n",
              " 109: 'Topic 7: Technology',\n",
              " 110: 'Topic 7: Technology',\n",
              " 111: 'Topic 7: Technology',\n",
              " 112: 'Topic 7: Technology',\n",
              " 113: 'Topic 7: Technology',\n",
              " 114: 'Topic 2: Fiscal',\n",
              " 115: 'Topic 2: Fiscal',\n",
              " 116: 'Topic 2: Fiscal',\n",
              " 117: 'Topic 2: Fiscal',\n",
              " 118: 'Topic 2: Fiscal',\n",
              " 119: 'Topic 2: Fiscal',\n",
              " 120: 'Topic 4: Revenue',\n",
              " 121: 'Topic 4: Revenue',\n",
              " 122: 'Topic 2: Fiscal',\n",
              " 123: 'Topic 2: Fiscal',\n",
              " 124: 'Topic 2: Fiscal',\n",
              " 125: 'Topic 2: Fiscal',\n",
              " 126: 'Topic 2: Fiscal',\n",
              " 127: 'Topic 2: Fiscal',\n",
              " 128: 'Topic 2: Fiscal',\n",
              " 129: 'Topic 2: Fiscal',\n",
              " 130: 'Topic 7: Technology',\n",
              " 131: 'Topic 2: Fiscal',\n",
              " 132: 'Topic 2: Fiscal',\n",
              " 133: 'Topic 4: Revenue',\n",
              " 134: 'Topic 4: Revenue',\n",
              " 135: 'Topic 4: Revenue',\n",
              " 136: 'Topic 4: Revenue',\n",
              " 137: 'Topic 4: Revenue',\n",
              " 138: 'Topic 4: Revenue',\n",
              " 139: 'Topic 4: Revenue',\n",
              " 140: 'Topic 4: Revenue',\n",
              " 141: 'Topic 4: Revenue',\n",
              " 142: 'Topic 6: Expansion',\n",
              " 143: 'Topic 4: Revenue',\n",
              " 144: 'Topic 6: Expansion',\n",
              " 145: 'Topic 6: Expansion',\n",
              " 146: 'Topic 6: Expansion',\n",
              " 147: 'Topic 4: Revenue',\n",
              " 148: 'Topic 6: Expansion',\n",
              " 149: 'Topic 6: Expansion',\n",
              " 150: 'Topic 4: Revenue',\n",
              " 151: 'Topic 6: Expansion',\n",
              " 152: 'Topic 2: Fiscal',\n",
              " 153: 'Topic 2: Fiscal',\n",
              " 154: 'Topic 2: Fiscal',\n",
              " 155: 'Topic 2: Fiscal',\n",
              " 156: 'Topic 2: Fiscal',\n",
              " 157: 'Topic 2: Fiscal',\n",
              " 158: 'Topic 2: Fiscal',\n",
              " 159: 'Topic 2: Fiscal',\n",
              " 160: 'Topic 2: Fiscal',\n",
              " 161: 'Topic 2: Fiscal',\n",
              " 162: 'Topic 2: Fiscal',\n",
              " 163: 'Topic 2: Fiscal',\n",
              " 164: 'Topic 2: Fiscal',\n",
              " 165: 'Topic 2: Fiscal',\n",
              " 166: 'Topic 2: Fiscal',\n",
              " 167: 'Topic 2: Fiscal',\n",
              " 168: 'Topic 2: Fiscal',\n",
              " 169: 'Topic 5: Development',\n",
              " 170: 'Topic 5: Development',\n",
              " 171: 'Topic 7: Technology',\n",
              " 172: 'Topic 6: Expansion',\n",
              " 173: 'Topic 7: Technology',\n",
              " 174: 'Topic 5: Development',\n",
              " 175: 'Topic 7: Technology',\n",
              " 176: 'Topic 7: Technology',\n",
              " 177: 'Topic 7: Technology',\n",
              " 178: 'Topic 7: Technology',\n",
              " 179: 'Topic 7: Technology',\n",
              " 180: 'Topic 7: Technology',\n",
              " 181: 'Topic 7: Technology',\n",
              " 182: 'Topic 7: Technology',\n",
              " 183: 'Topic 7: Technology',\n",
              " 184: 'Topic 7: Technology',\n",
              " 185: 'Topic 7: Technology',\n",
              " 186: 'Topic 7: Technology',\n",
              " 187: 'Topic 7: Technology'}"
            ]
          },
          "metadata": {},
          "output_type": "display_data"
        }
      ],
      "source": [
        "topic_assignment = showdown.idxmax(axis=1)\n",
        "topic_assignment_dict = topic_assignment.to_dict()\n",
        "display(topic_assignment_dict)"
      ]
    },
    {
      "cell_type": "code",
      "execution_count": 433,
      "metadata": {},
      "outputs": [
        {
          "data": {
            "text/html": [
              "<style type=\"text/css\">\n",
              "#T_7fa56_row0_col1, #T_7fa56_row1_col1, #T_7fa56_row2_col1, #T_7fa56_row3_col1, #T_7fa56_row4_col1, #T_7fa56_row5_col1 {\n",
              "  width: 400px;\n",
              "}\n",
              "</style>\n",
              "<table id=\"T_7fa56\">\n",
              "  <thead>\n",
              "    <tr>\n",
              "      <th class=\"blank level0\" >&nbsp;</th>\n",
              "      <th id=\"T_7fa56_level0_col0\" class=\"col_heading level0 col0\" >Topic</th>\n",
              "      <th id=\"T_7fa56_level0_col1\" class=\"col_heading level0 col1\" >Documents</th>\n",
              "    </tr>\n",
              "  </thead>\n",
              "  <tbody>\n",
              "    <tr>\n",
              "      <th id=\"T_7fa56_level0_row0\" class=\"row_heading level0 row0\" >0</th>\n",
              "      <td id=\"T_7fa56_row0_col0\" class=\"data row0 col0\" >Topic 1: Youtube</td>\n",
              "      <td id=\"T_7fa56_row0_col1\" class=\"data row0 col1\" >[2, 7, 9, 11, 14, 15]</td>\n",
              "    </tr>\n",
              "    <tr>\n",
              "      <th id=\"T_7fa56_level0_row1\" class=\"row_heading level0 row1\" >1</th>\n",
              "      <td id=\"T_7fa56_row1_col0\" class=\"data row1 col0\" >Topic 2: Fiscal</td>\n",
              "      <td id=\"T_7fa56_row1_col1\" class=\"data row1 col1\" >[0, 6, 8, 19, 20, 21, 22, 24, 25, 29, 33, 38, 39, 57, 58, 59, 60, 61, 62, 63, 64, 65, 66, 67, 68, 69, 70, 71, 72, 74, 75, 76, 77, 114, 115, 116, 117, 118, 119, 122, 123, 124, 125, 126, 127, 128, 129, 131, 132, 152, 153, 154, 155, 156, 157, 158, 159, 160, 161, 162, 163, 164, 165, 166, 167, 168]</td>\n",
              "    </tr>\n",
              "    <tr>\n",
              "      <th id=\"T_7fa56_level0_row2\" class=\"row_heading level0 row2\" >2</th>\n",
              "      <td id=\"T_7fa56_row2_col0\" class=\"data row2 col0\" >Topic 4: Revenue</td>\n",
              "      <td id=\"T_7fa56_row2_col1\" class=\"data row2 col1\" >[1, 5, 13, 17, 23, 26, 27, 28, 30, 31, 32, 34, 35, 36, 78, 120, 121, 133, 134, 135, 136, 137, 138, 139, 140, 141, 143, 147, 150]</td>\n",
              "    </tr>\n",
              "    <tr>\n",
              "      <th id=\"T_7fa56_level0_row3\" class=\"row_heading level0 row3\" >3</th>\n",
              "      <td id=\"T_7fa56_row3_col0\" class=\"data row3 col0\" >Topic 5: Development</td>\n",
              "      <td id=\"T_7fa56_row3_col1\" class=\"data row3 col1\" >[169, 170, 174]</td>\n",
              "    </tr>\n",
              "    <tr>\n",
              "      <th id=\"T_7fa56_level0_row4\" class=\"row_heading level0 row4\" >4</th>\n",
              "      <td id=\"T_7fa56_row4_col0\" class=\"data row4 col0\" >Topic 6: Expansion</td>\n",
              "      <td id=\"T_7fa56_row4_col1\" class=\"data row4 col1\" >[142, 144, 145, 146, 148, 149, 151, 172]</td>\n",
              "    </tr>\n",
              "    <tr>\n",
              "      <th id=\"T_7fa56_level0_row5\" class=\"row_heading level0 row5\" >5</th>\n",
              "      <td id=\"T_7fa56_row5_col0\" class=\"data row5 col0\" >Topic 7: Technology</td>\n",
              "      <td id=\"T_7fa56_row5_col1\" class=\"data row5 col1\" >[3, 4, 10, 12, 16, 18, 37, 40, 41, 42, 43, 44, 45, 46, 47, 48, 49, 50, 51, 52, 53, 54, 55, 56, 73, 79, 80, 81, 82, 83, 84, 85, 86, 87, 88, 89, 90, 91, 92, 93, 94, 95, 96, 97, 98, 99, 100, 101, 102, 103, 104, 105, 106, 107, 108, 109, 110, 111, 112, 113, 130, 171, 173, 175, 176, 177, 178, 179, 180, 181, 182, 183, 184, 185, 186, 187]</td>\n",
              "    </tr>\n",
              "  </tbody>\n",
              "</table>\n"
            ],
            "text/plain": [
              "<pandas.io.formats.style.Styler object at 0x7fb447f930d0>"
            ]
          },
          "execution_count": 433,
          "metadata": {},
          "output_type": "execute_result"
        }
      ],
      "source": [
        "topic_group = pd.DataFrame(topic_assignment)\n",
        "topic_group['Documents'] = topic_group.index\n",
        "topic_group = topic_group.groupby(0)[\"Documents\"].apply(list).reset_index().rename(columns={0: \"Topic\"})\n",
        "topic_group.style.set_properties(subset=['Documents'], **{'width':'400px'})"
      ]
    },
    {
      "cell_type": "markdown",
      "metadata": {},
      "source": [
        "## LSI Model"
      ]
    },
    {
      "cell_type": "code",
      "execution_count": 375,
      "metadata": {},
      "outputs": [
        {
          "name": "stdout",
          "output_type": "stream",
          "text": [
            "Optimal topics is 2\n"
          ]
        },
        {
          "data": {
            "image/png": "[encoded data removed]",
            "text/plain": [
              "<Figure size 864x360 with 1 Axes>"
            ]
          },
          "metadata": {},
          "output_type": "display_data"
        }
      ],
      "source": [
        "bi, tri = fetch_bi_grams(final_df['body_lemmatized_cleaned'].str.split())\n",
        "\n",
        "the_data = tri\n",
        "\n",
        "dictionary = Dictionary(the_data)\n",
        "id2word = corpora.Dictionary(the_data)\n",
        "    \n",
        "corpus = [id2word.doc2bow(text) for text in the_data]\n",
        "\n",
        "from gensim.models import LsiModel, TfidfModel\n",
        "from gensim.similarities import MatrixSimilarity\n",
        "\n",
        "c_scores = []\n",
        "for word in range(2, 21):\n",
        "    lsi_tune=  LsiModel(corpus, num_topics= word,\n",
        "                                          id2word = id2word)\n",
        "    coherence_tune=  CoherenceModel(model = lsi_tune, texts = the_data,\n",
        "                                    dictionary = dictionary, coherence = 'c_v')\n",
        "    c_scores.append(coherence_tune.get_coherence())\n",
        "    \n",
        "kn = KneeLocator(range(2, 21), c_scores,\n",
        "                 curve= 'concave', direction = 'increasing')\n",
        "opt_topics = kn.knee\n",
        "print (\"Optimal topics is\", opt_topics)\n",
        "\n",
        "fig=  plt.figure(figsize=  (12, 5))\n",
        "plt.plot(range(2, 21), c_scores, color = 'black', marker = 'o')\n",
        "plt.xlabel('Number of Topics')\n",
        "plt.ylabel('Coherence Score')\n",
        "plt.legend(('coherence_values'), loc = 'best')\n",
        "plt.title('Elbow Curve')\n",
        "plt.grid(True)\n",
        "plt.show()"
      ]
    },
    {
      "cell_type": "code",
      "execution_count": 376,
      "metadata": {},
      "outputs": [
        {
          "data": {
            "text/plain": [
              "0.43898602507429996"
            ]
          },
          "execution_count": 376,
          "metadata": {},
          "output_type": "execute_result"
        }
      ],
      "source": [
        "lsi_final=  LsiModel(corpus, num_topics= 5,\n",
        "                                          id2word = id2word)\n",
        "coherence_lsi=  CoherenceModel(model = lsi_final, texts = the_data,\n",
        "                                    dictionary = dictionary, coherence = 'c_v')\n",
        "coherence_lsi.get_coherence()"
      ]
    },
    {
      "cell_type": "code",
      "execution_count": null,
      "metadata": {},
      "outputs": [],
      "source": []
    },
    {
      "cell_type": "code",
      "execution_count": 426,
      "metadata": {},
      "outputs": [
        {
          "name": "stdout",
          "output_type": "stream",
          "text": [
            "(0, '-0.250*\"revenue\" + -0.223*\"customer\" + -0.178*\"product\" + -0.138*\"margin\" + -0.136*\"research\" + -0.134*\"like\" + -0.128*\"next\" + -0.127*\"cloud\" + -0.122*\"would\" + -0.119*\"million\" + -0.116*\"ceo\" + -0.113*\"data\" + -0.103*\"call\" + -0.103*\"expect\" + -0.102*\"technology\" + -0.101*\"analyst\" + -0.098*\"second\" + -0.094*\"bit\" + -0.093*\"demand\" + -0.092*\"gross\"')\n",
            "(1, '-0.309*\"euv\" + -0.269*\"asml\" + 0.207*\"cloud\" + -0.191*\"holding\" + -0.178*\"peter\" + -0.174*\"eur\" + -0.173*\"customer\" + -0.153*\"dram\" + -0.137*\"memory\" + -0.132*\"management\" + -0.130*\"wennink\" + 0.124*\"microsoft\" + 0.121*\"revenue\" + -0.116*\"board\" + 0.115*\"data\" + 0.108*\"azure\" + -0.108*\"tool\" + 0.103*\"corporation\" + -0.102*\"system\" + -0.101*\"president\"')\n",
            "(2, '0.232*\"customer\" + -0.197*\"technology\" + -0.170*\"micron\" + -0.168*\"product\" + 0.161*\"euv\" + 0.159*\"microsoft\" + 0.154*\"cloud\" + 0.150*\"azure\" + -0.144*\"lisa\" + 0.143*\"asml\" + 0.139*\"currency\" + 0.130*\"constant\" + -0.128*\"nand\" + -0.121*\"micro\" + -0.113*\"advanced\" + -0.109*\"director\" + -0.106*\"fiscal\" + 0.104*\"commercial\" + -0.102*\"president\" + -0.102*\"graphic\"')\n",
            "(3, '-0.249*\"micron\" + -0.220*\"technology\" + -0.202*\"nand\" + 0.199*\"nvidia\" + -0.191*\"dram\" + -0.186*\"fiscal\" + 0.137*\"gpu\" + 0.133*\"president\" + 0.132*\"center\" + 0.131*\"data\" + 0.125*\"learning\" + -0.122*\"cost\" + 0.120*\"deep\" + -0.115*\"demand\" + 0.114*\"system\" + 0.112*\"gaming\" + 0.112*\"computing\" + 0.110*\"gpus\" + -0.102*\"revenue\" + -0.101*\"bit\"')\n",
            "(4, '0.199*\"lisa\" + 0.171*\"micro\" + 0.171*\"advanced\" + 0.170*\"device\" + 0.164*\"revenue\" + 0.157*\"microsoft\" + -0.141*\"nvidia\" + 0.137*\"azure\" + 0.130*\"margin\" + 0.125*\"ryzen\" + -0.119*\"micron\" + -0.118*\"learning\" + -0.115*\"technology\" + 0.113*\"independent\" + 0.107*\"gross\" + 0.107*\"constant\" + 0.106*\"commercial\" + 0.104*\"currency\" + 0.103*\"custom\" + -0.103*\"world\"')\n"
          ]
        }
      ],
      "source": [
        "topics = lsi_final.print_topics(num_words=20)\n",
        "for topic in topics:\n",
        "    print(topic)"
      ]
    },
    {
      "cell_type": "code",
      "execution_count": 378,
      "metadata": {},
      "outputs": [
        {
          "name": "stderr",
          "output_type": "stream",
          "text": [
            "/var/folders/lp/v4x5vmys7d5506998ljns1j40000gn/T/ipykernel_54960/2189146305.py:2: SettingWithCopyWarning: \n",
            "A value is trying to be set on a copy of a slice from a DataFrame.\n",
            "Try using .loc[row_indexer,col_indexer] = value instead\n",
            "\n",
            "See the caveats in the documentation: https://pandas.pydata.org/pandas-docs/stable/user_guide/indexing.html#returning-a-view-versus-a-copy\n",
            "  tagged_corpus2['body_tokenized'] = tagged_corpus2['body_lemmatized_cleaned'].apply(lambda x: word_tokenize(x))\n",
            "/var/folders/lp/v4x5vmys7d5506998ljns1j40000gn/T/ipykernel_54960/2189146305.py:9: SettingWithCopyWarning: \n",
            "A value is trying to be set on a copy of a slice from a DataFrame.\n",
            "Try using .loc[row_indexer,col_indexer] = value instead\n",
            "\n",
            "See the caveats in the documentation: https://pandas.pydata.org/pandas-docs/stable/user_guide/indexing.html#returning-a-view-versus-a-copy\n",
            "  tagged_corpus2[\"topic\"] = topic\n"
          ]
        }
      ],
      "source": [
        "tagged_corpus2 = final_df[['body','body_lemmatized_cleaned']]\n",
        "tagged_corpus2['body_tokenized'] = tagged_corpus2['body_lemmatized_cleaned'].apply(lambda x: word_tokenize(x))\n",
        "\n",
        "topic = []\n",
        "for corpus in tagged_corpus2['body_tokenized']:\n",
        "  topic_scores = np.array(lsi_final[id2word.doc2bow(corpus)])\n",
        "  topic.append(np.argmax(topic_scores[:,1]))\n",
        "\n",
        "tagged_corpus2[\"topic\"] = topic"
      ]
    },
    {
      "cell_type": "code",
      "execution_count": 379,
      "metadata": {},
      "outputs": [
        {
          "data": {
            "text/plain": [
              "2    80\n",
              "1    53\n",
              "4    36\n",
              "3    19\n",
              "Name: topic, dtype: int64"
            ]
          },
          "execution_count": 379,
          "metadata": {},
          "output_type": "execute_result"
        }
      ],
      "source": [
        "tagged_corpus2['topic'].value_counts()"
      ]
    },
    {
      "cell_type": "code",
      "execution_count": 380,
      "metadata": {},
      "outputs": [
        {
          "name": "stderr",
          "output_type": "stream",
          "text": [
            "/var/folders/lp/v4x5vmys7d5506998ljns1j40000gn/T/ipykernel_54960/1253474491.py:2: SettingWithCopyWarning: \n",
            "A value is trying to be set on a copy of a slice from a DataFrame.\n",
            "Try using .loc[row_indexer,col_indexer] = value instead\n",
            "\n",
            "See the caveats in the documentation: https://pandas.pydata.org/pandas-docs/stable/user_guide/indexing.html#returning-a-view-versus-a-copy\n",
            "  lsi_topic_group['body'] = lsi_topic_group.index\n"
          ]
        },
        {
          "data": {
            "text/html": [
              "<style type=\"text/css\">\n",
              "#T_cdda7_row0_col1, #T_cdda7_row1_col1, #T_cdda7_row2_col1, #T_cdda7_row3_col1 {\n",
              "  width: 400px;\n",
              "}\n",
              "</style>\n",
              "<table id=\"T_cdda7\">\n",
              "  <thead>\n",
              "    <tr>\n",
              "      <th class=\"blank level0\" >&nbsp;</th>\n",
              "      <th id=\"T_cdda7_level0_col0\" class=\"col_heading level0 col0\" >topic</th>\n",
              "      <th id=\"T_cdda7_level0_col1\" class=\"col_heading level0 col1\" >Documents</th>\n",
              "    </tr>\n",
              "  </thead>\n",
              "  <tbody>\n",
              "    <tr>\n",
              "      <th id=\"T_cdda7_level0_row0\" class=\"row_heading level0 row0\" >0</th>\n",
              "      <td id=\"T_cdda7_row0_col0\" class=\"data row0 col0\" >1</td>\n",
              "      <td id=\"T_cdda7_row0_col1\" class=\"data row0 col1\" >[6, 7, 8, 9, 10, 11, 12, 16, 18, 95, 96, 97, 98, 99, 100, 101, 102, 103, 104, 105, 106, 107, 108, 109, 110, 111, 112, 113, 114, 115, 116, 117, 119, 120, 121, 122, 123, 127, 133, 139, 141, 144, 146, 147, 153, 155, 156, 158, 159, 161, 162, 167, 168]</td>\n",
              "    </tr>\n",
              "    <tr>\n",
              "      <th id=\"T_cdda7_level0_row1\" class=\"row_heading level0 row1\" >1</th>\n",
              "      <td id=\"T_cdda7_row1_col0\" class=\"data row1 col0\" >2</td>\n",
              "      <td id=\"T_cdda7_row1_col1\" class=\"data row1 col1\" >[0, 1, 2, 3, 4, 5, 13, 14, 15, 17, 38, 39, 40, 41, 42, 43, 44, 45, 46, 47, 48, 49, 50, 51, 52, 53, 54, 55, 56, 57, 58, 59, 60, 61, 62, 63, 64, 65, 66, 67, 68, 69, 70, 71, 72, 73, 74, 75, 76, 77, 78, 79, 80, 81, 82, 83, 84, 85, 86, 87, 88, 89, 90, 91, 92, 93, 94, 134, 135, 136, 137, 138, 140, 142, 143, 145, 148, 149, 150, 151]</td>\n",
              "    </tr>\n",
              "    <tr>\n",
              "      <th id=\"T_cdda7_level0_row2\" class=\"row_heading level0 row2\" >2</th>\n",
              "      <td id=\"T_cdda7_row2_col0\" class=\"data row2 col0\" >3</td>\n",
              "      <td id=\"T_cdda7_row2_col1\" class=\"data row2 col1\" >[169, 170, 171, 172, 173, 174, 175, 176, 177, 178, 179, 180, 181, 182, 183, 184, 185, 186, 187]</td>\n",
              "    </tr>\n",
              "    <tr>\n",
              "      <th id=\"T_cdda7_level0_row3\" class=\"row_heading level0 row3\" >3</th>\n",
              "      <td id=\"T_cdda7_row3_col0\" class=\"data row3 col0\" >4</td>\n",
              "      <td id=\"T_cdda7_row3_col1\" class=\"data row3 col1\" >[19, 20, 21, 22, 23, 24, 25, 26, 27, 28, 29, 30, 31, 32, 33, 34, 35, 36, 37, 118, 124, 125, 126, 128, 129, 130, 131, 132, 152, 154, 157, 160, 163, 164, 165, 166]</td>\n",
              "    </tr>\n",
              "  </tbody>\n",
              "</table>\n"
            ],
            "text/plain": [
              "<pandas.io.formats.style.Styler object at 0x7fb4b70b3610>"
            ]
          },
          "execution_count": 380,
          "metadata": {},
          "output_type": "execute_result"
        }
      ],
      "source": [
        "lsi_topic_group = tagged_corpus2[['topic','body']]\n",
        "lsi_topic_group['body'] = lsi_topic_group.index\n",
        "lsi_topic_group = lsi_topic_group.groupby('topic')[\"body\"].apply(list).reset_index().rename(columns={'body': \"Documents\"})\n",
        "lsi_topic_group.style.set_properties(subset=['Documents'], **{'width':'400px'})"
      ]
    },
    {
      "cell_type": "code",
      "execution_count": null,
      "metadata": {},
      "outputs": [],
      "source": []
    },
    {
      "cell_type": "markdown",
      "metadata": {},
      "source": [
        "## HDP Model"
      ]
    },
    {
      "cell_type": "code",
      "execution_count": 302,
      "metadata": {},
      "outputs": [
        {
          "data": {
            "text/plain": [
              "0.6394635689117046"
            ]
          },
          "execution_count": 302,
          "metadata": {},
          "output_type": "execute_result"
        }
      ],
      "source": [
        "from gensim.models import HdpModel\n",
        "\n",
        "\n",
        "hdp =  HdpModel(corpus=corpus, id2word = id2word)\n",
        "coherence_hdp =  CoherenceModel(model = hdp, texts = the_data,\n",
        "                                dictionary = dictionary, coherence = 'c_v')\n",
        "coherence_hdp.get_coherence()\n"
      ]
    },
    {
      "cell_type": "code",
      "execution_count": 429,
      "metadata": {},
      "outputs": [
        {
          "name": "stdout",
          "output_type": "stream",
          "text": [
            "(0, '0.008*revenue + 0.007*cloud + 0.005*product + 0.005*data + 0.005*customer + 0.005*like + 0.004*next + 0.004*million + 0.004*margin + 0.003*research + 0.003*corporation + 0.003*microsoft + 0.003*call + 0.003*platform + 0.003*operating')\n",
            "(1, '0.008*revenue + 0.008*customer + 0.006*product + 0.005*research + 0.004*like + 0.004*margin + 0.004*would + 0.004*ceo + 0.004*next + 0.004*second + 0.003*apple + 0.003*analyst + 0.003*nanometer + 0.003*call + 0.003*million')\n",
            "(2, '0.008*customer + 0.007*revenue + 0.007*technology + 0.006*product + 0.006*micron + 0.005*demand + 0.005*dram + 0.005*nand + 0.005*bit + 0.004*data + 0.004*cost + 0.004*margin + 0.004*like + 0.004*cisco + 0.004*fiscal')\n",
            "(3, '0.009*customer + 0.006*amazon + 0.005*revenue + 0.005*prime + 0.004*lot + 0.004*research + 0.004*would + 0.004*cloud + 0.004*next + 0.004*like + 0.003*product + 0.003*result + 0.003*brian + 0.003*call + 0.003*cfo')\n",
            "(4, '0.007*product + 0.006*customer + 0.005*revenue + 0.005*technology + 0.004*like + 0.004*ceo + 0.004*analyst + 0.004*cisco + 0.004*micron + 0.004*margin + 0.004*system + 0.004*bit + 0.003*director + 0.003*research + 0.003*company')\n",
            "(5, '0.007*revenue + 0.005*cloud + 0.005*product + 0.004*second + 0.004*customer + 0.004*data + 0.004*research + 0.003*margin + 0.003*half + 0.003*million + 0.003*center + 0.003*non + 0.003*ceo + 0.003*platform + 0.003*strong')\n",
            "(6, '0.006*technology + 0.006*revenue + 0.006*customer + 0.006*product + 0.005*margin + 0.004*research + 0.004*nand + 0.004*ceo + 0.004*bit + 0.004*gross + 0.004*micron + 0.004*dram + 0.004*would + 0.004*fiscal + 0.004*analyst')\n",
            "(7, '0.006*revenue + 0.005*product + 0.004*data + 0.004*million + 0.004*center + 0.004*customer + 0.003*research + 0.003*lisa + 0.003*margin + 0.003*call + 0.003*ceo + 0.003*graphic + 0.003*second + 0.003*president + 0.003*would')\n",
            "(8, '0.006*customer + 0.005*revenue + 0.005*apple + 0.003*would + 0.003*iphone + 0.003*euv + 0.003*product + 0.003*margin + 0.003*system + 0.003*research + 0.003*like + 0.003*ceo + 0.003*analyst + 0.003*asml + 0.003*call')\n",
            "(9, '0.008*product + 0.007*revenue + 0.005*million + 0.005*margin + 0.004*lisa + 0.004*advanced + 0.004*micro + 0.004*device + 0.004*research + 0.004*data + 0.004*customer + 0.004*next + 0.003*non + 0.003*ceo + 0.003*president')\n",
            "(10, '0.006*revenue + 0.006*customer + 0.004*cloud + 0.004*like + 0.003*research + 0.003*product + 0.003*call + 0.002*next + 0.002*cisco + 0.002*investment + 0.002*come + 0.002*microsoft + 0.002*result + 0.002*strong + 0.002*search')\n",
            "(11, '0.009*euv + 0.008*customer + 0.007*asml + 0.006*would + 0.005*eur + 0.005*holding + 0.005*management + 0.005*research + 0.005*peter + 0.004*board + 0.004*revenue + 0.004*system + 0.004*next + 0.004*memory + 0.004*mean')\n",
            "(12, '0.007*million + 0.007*product + 0.007*revenue + 0.006*lisa + 0.005*president + 0.005*amd + 0.004*advanced + 0.004*device + 0.004*micro + 0.004*graphic + 0.004*second + 0.004*ceo + 0.004*would + 0.004*custom + 0.004*analyst')\n",
            "(13, '0.006*apple + 0.004*iphone + 0.004*product + 0.004*revenue + 0.003*analyst + 0.003*next + 0.003*customer + 0.003*intel + 0.003*tim + 0.003*rate + 0.003*like + 0.003*company + 0.003*stacy + 0.002*inventory + 0.002*corporation')\n",
            "(14, '0.008*euv + 0.007*asml + 0.007*eur + 0.006*customer + 0.005*memory + 0.004*would + 0.004*holding + 0.004*management + 0.004*peter + 0.004*board + 0.004*system + 0.003*research + 0.003*order + 0.003*margin + 0.003*demand')\n",
            "(15, '0.008*customer + 0.007*asml + 0.006*euv + 0.006*holding + 0.006*peter + 0.005*eur + 0.005*analyst + 0.004*tool + 0.004*wennink + 0.004*nanometer + 0.004*president + 0.004*ceo + 0.004*node + 0.004*system + 0.003*million')\n",
            "(16, '0.005*customer + 0.004*euv + 0.004*system + 0.003*need + 0.003*model + 0.003*asml + 0.003*gaming + 0.003*revenue + 0.003*nvidia + 0.003*like + 0.002*call + 0.002*million + 0.002*would + 0.002*holding + 0.002*president')\n",
            "(17, '0.008*amazon + 0.005*com + 0.005*customer + 0.004*brian + 0.004*revenue + 0.004*prime + 0.003*line + 0.003*aws + 0.003*cfo + 0.003*margin + 0.003*olsavsky + 0.003*come + 0.003*like + 0.003*next + 0.003*cost')\n",
            "(18, '0.007*prime + 0.006*customer + 0.006*amazon + 0.004*brian + 0.004*com + 0.004*aws + 0.003*olsavsky + 0.003*cfo + 0.003*lot + 0.003*next + 0.003*like + 0.003*guidance + 0.003*result + 0.002*investment + 0.002*revenue')\n",
            "(19, '0.008*apple + 0.007*iphone + 0.005*revenue + 0.004*customer + 0.003*ipad + 0.003*june + 0.003*china + 0.002*product + 0.002*tim + 0.002*ago + 0.002*analyst + 0.002*watch + 0.002*channel + 0.002*qtr + 0.002*share')\n"
          ]
        }
      ],
      "source": [
        "topics = hdp.print_topics(num_words = 15)\n",
        "for topic in topics:\n",
        "    print(topic)"
      ]
    },
    {
      "cell_type": "code",
      "execution_count": 382,
      "metadata": {},
      "outputs": [
        {
          "name": "stderr",
          "output_type": "stream",
          "text": [
            "/var/folders/lp/v4x5vmys7d5506998ljns1j40000gn/T/ipykernel_54960/2856077034.py:2: SettingWithCopyWarning: \n",
            "A value is trying to be set on a copy of a slice from a DataFrame.\n",
            "Try using .loc[row_indexer,col_indexer] = value instead\n",
            "\n",
            "See the caveats in the documentation: https://pandas.pydata.org/pandas-docs/stable/user_guide/indexing.html#returning-a-view-versus-a-copy\n",
            "  tagged_corpus3['body_tokenized'] = tagged_corpus3['body_lemmatized_cleaned'].apply(lambda x: word_tokenize(x))\n",
            "/var/folders/lp/v4x5vmys7d5506998ljns1j40000gn/T/ipykernel_54960/2856077034.py:9: SettingWithCopyWarning: \n",
            "A value is trying to be set on a copy of a slice from a DataFrame.\n",
            "Try using .loc[row_indexer,col_indexer] = value instead\n",
            "\n",
            "See the caveats in the documentation: https://pandas.pydata.org/pandas-docs/stable/user_guide/indexing.html#returning-a-view-versus-a-copy\n",
            "  tagged_corpus3[\"topic\"] = topic\n"
          ]
        }
      ],
      "source": [
        "tagged_corpus3 = final_df[['body','body_lemmatized_cleaned']]\n",
        "tagged_corpus3['body_tokenized'] = tagged_corpus3['body_lemmatized_cleaned'].apply(lambda x: word_tokenize(x))\n",
        "\n",
        "topic = []\n",
        "for corpus in tagged_corpus3['body_tokenized']:\n",
        "  topic_scores = np.array(hdp[id2word.doc2bow(corpus)])\n",
        "  topic.append(np.argmax(topic_scores[:,1]))\n",
        "\n",
        "tagged_corpus3[\"topic\"] = topic"
      ]
    },
    {
      "cell_type": "code",
      "execution_count": 385,
      "metadata": {},
      "outputs": [
        {
          "name": "stderr",
          "output_type": "stream",
          "text": [
            "/var/folders/lp/v4x5vmys7d5506998ljns1j40000gn/T/ipykernel_54960/4054719455.py:2: SettingWithCopyWarning: \n",
            "A value is trying to be set on a copy of a slice from a DataFrame.\n",
            "Try using .loc[row_indexer,col_indexer] = value instead\n",
            "\n",
            "See the caveats in the documentation: https://pandas.pydata.org/pandas-docs/stable/user_guide/indexing.html#returning-a-view-versus-a-copy\n",
            "  hdp_topic_group['body'] = hdp_topic_group.index\n"
          ]
        },
        {
          "data": {
            "text/html": [
              "<style type=\"text/css\">\n",
              "#T_eda3c_row0_col1, #T_eda3c_row1_col1, #T_eda3c_row2_col1, #T_eda3c_row3_col1, #T_eda3c_row4_col1 {\n",
              "  width: 400px;\n",
              "}\n",
              "</style>\n",
              "<table id=\"T_eda3c\">\n",
              "  <thead>\n",
              "    <tr>\n",
              "      <th class=\"blank level0\" >&nbsp;</th>\n",
              "      <th id=\"T_eda3c_level0_col0\" class=\"col_heading level0 col0\" >topic</th>\n",
              "      <th id=\"T_eda3c_level0_col1\" class=\"col_heading level0 col1\" >Documents</th>\n",
              "    </tr>\n",
              "  </thead>\n",
              "  <tbody>\n",
              "    <tr>\n",
              "      <th id=\"T_eda3c_level0_row0\" class=\"row_heading level0 row0\" >0</th>\n",
              "      <td id=\"T_eda3c_row0_col0\" class=\"data row0 col0\" >0</td>\n",
              "      <td id=\"T_eda3c_row0_col1\" class=\"data row0 col1\" >[1, 4, 6, 7, 8, 10, 11, 12, 13, 14, 17, 29, 38, 41, 42, 43, 44, 45, 46, 47, 48, 49, 50, 51, 52, 53, 54, 55, 56, 57, 59, 63, 65, 68, 69, 70, 76, 77, 78, 80, 81, 83, 89, 95, 96, 97, 98, 99, 100, 101, 102, 103, 104, 105, 106, 107, 108, 109, 110, 111, 112, 113, 115, 125, 128, 129, 130, 131, 133, 134, 135, 136, 137, 138, 139, 140, 141, 142, 143, 144, 145, 146, 147, 148, 149, 150, 151, 152, 153, 154, 157, 159, 160, 161, 162, 163, 164, 165, 166, 167, 168, 169, 170, 171, 172, 173, 174, 175, 176, 177, 178, 179, 180, 181, 182, 184, 185, 186]</td>\n",
              "    </tr>\n",
              "    <tr>\n",
              "      <th id=\"T_eda3c_level0_row1\" class=\"row_heading level0 row1\" >1</th>\n",
              "      <td id=\"T_eda3c_row1_col0\" class=\"data row1 col0\" >1</td>\n",
              "      <td id=\"T_eda3c_row1_col1\" class=\"data row1 col1\" >[0, 2, 3, 5, 9, 15, 16, 18, 22, 25, 26, 30, 35, 37, 39, 40, 58, 61, 62, 64, 67, 71, 72, 75, 79, 82, 84, 85, 86, 88, 91, 92, 93, 94, 114, 116, 122, 127, 155, 156, 158, 183, 187]</td>\n",
              "    </tr>\n",
              "    <tr>\n",
              "      <th id=\"T_eda3c_level0_row2\" class=\"row_heading level0 row2\" >2</th>\n",
              "      <td id=\"T_eda3c_row2_col0\" class=\"data row2 col0\" >2</td>\n",
              "      <td id=\"T_eda3c_row2_col1\" class=\"data row2 col1\" >[19, 20, 21, 24, 27, 31, 34, 66, 73, 74, 87, 90, 118, 119, 120, 121, 123, 124, 126, 132]</td>\n",
              "    </tr>\n",
              "    <tr>\n",
              "      <th id=\"T_eda3c_level0_row3\" class=\"row_heading level0 row3\" >3</th>\n",
              "      <td id=\"T_eda3c_row3_col0\" class=\"data row3 col0\" >3</td>\n",
              "      <td id=\"T_eda3c_row3_col1\" class=\"data row3 col1\" >[23, 28, 33, 36, 60, 117]</td>\n",
              "    </tr>\n",
              "    <tr>\n",
              "      <th id=\"T_eda3c_level0_row4\" class=\"row_heading level0 row4\" >4</th>\n",
              "      <td id=\"T_eda3c_row4_col0\" class=\"data row4 col0\" >4</td>\n",
              "      <td id=\"T_eda3c_row4_col1\" class=\"data row4 col1\" >[32]</td>\n",
              "    </tr>\n",
              "  </tbody>\n",
              "</table>\n"
            ],
            "text/plain": [
              "<pandas.io.formats.style.Styler object at 0x7fb4b7c5aeb0>"
            ]
          },
          "execution_count": 385,
          "metadata": {},
          "output_type": "execute_result"
        }
      ],
      "source": [
        "hdp_topic_group = tagged_corpus3[['topic','body']]\n",
        "hdp_topic_group['body'] = hdp_topic_group.index\n",
        "hdp_topic_group = hdp_topic_group.groupby('topic')[\"body\"].apply(list).reset_index().rename(columns={'body': \"Documents\"})\n",
        "hdp_topic_group.style.set_properties(subset=['Documents'], **{'width':'400px'})"
      ]
    },
    {
      "cell_type": "code",
      "execution_count": 430,
      "metadata": {},
      "outputs": [
        {
          "data": {
            "text/html": [
              "<style type=\"text/css\">\n",
              "#T_75c3b_row0_col1, #T_75c3b_row1_col1, #T_75c3b_row2_col1, #T_75c3b_row3_col1, #T_75c3b_row4_col1 {\n",
              "  width: 400px;\n",
              "}\n",
              "</style>\n",
              "<table id=\"T_75c3b\">\n",
              "  <thead>\n",
              "    <tr>\n",
              "      <th class=\"blank level0\" >&nbsp;</th>\n",
              "      <th id=\"T_75c3b_level0_col0\" class=\"col_heading level0 col0\" >topic</th>\n",
              "      <th id=\"T_75c3b_level0_col1\" class=\"col_heading level0 col1\" >Documents</th>\n",
              "    </tr>\n",
              "  </thead>\n",
              "  <tbody>\n",
              "    <tr>\n",
              "      <th id=\"T_75c3b_level0_row0\" class=\"row_heading level0 row0\" >0</th>\n",
              "      <td id=\"T_75c3b_row0_col0\" class=\"data row0 col0\" >Microsoft product & data</td>\n",
              "      <td id=\"T_75c3b_row0_col1\" class=\"data row0 col1\" >[1, 4, 6, 7, 8, 10, 11, 12, 13, 14, 17, 29, 38, 41, 42, 43, 44, 45, 46, 47, 48, 49, 50, 51, 52, 53, 54, 55, 56, 57, 59, 63, 65, 68, 69, 70, 76, 77, 78, 80, 81, 83, 89, 95, 96, 97, 98, 99, 100, 101, 102, 103, 104, 105, 106, 107, 108, 109, 110, 111, 112, 113, 115, 125, 128, 129, 130, 131, 133, 134, 135, 136, 137, 138, 139, 140, 141, 142, 143, 144, 145, 146, 147, 148, 149, 150, 151, 152, 153, 154, 157, 159, 160, 161, 162, 163, 164, 165, 166, 167, 168, 169, 170, 171, 172, 173, 174, 175, 176, 177, 178, 179, 180, 181, 182, 184, 185, 186]</td>\n",
              "    </tr>\n",
              "    <tr>\n",
              "      <th id=\"T_75c3b_level0_row1\" class=\"row_heading level0 row1\" >1</th>\n",
              "      <td id=\"T_75c3b_row1_col0\" class=\"data row1 col0\" >Apple product R&D</td>\n",
              "      <td id=\"T_75c3b_row1_col1\" class=\"data row1 col1\" >[0, 2, 3, 5, 9, 15, 16, 18, 22, 25, 26, 30, 35, 37, 39, 40, 58, 61, 62, 64, 67, 71, 72, 75, 79, 82, 84, 85, 86, 88, 91, 92, 93, 94, 114, 116, 122, 127, 155, 156, 158, 183, 187]</td>\n",
              "    </tr>\n",
              "    <tr>\n",
              "      <th id=\"T_75c3b_level0_row2\" class=\"row_heading level0 row2\" >2</th>\n",
              "      <td id=\"T_75c3b_row2_col0\" class=\"data row2 col0\" >Micron & Cisco fiscal </td>\n",
              "      <td id=\"T_75c3b_row2_col1\" class=\"data row2 col1\" >[19, 20, 21, 24, 27, 31, 34, 66, 73, 74, 87, 90, 118, 119, 120, 121, 123, 124, 126, 132]</td>\n",
              "    </tr>\n",
              "    <tr>\n",
              "      <th id=\"T_75c3b_level0_row3\" class=\"row_heading level0 row3\" >3</th>\n",
              "      <td id=\"T_75c3b_row3_col0\" class=\"data row3 col0\" >Amazon product</td>\n",
              "      <td id=\"T_75c3b_row3_col1\" class=\"data row3 col1\" >[23, 28, 33, 36, 60, 117]</td>\n",
              "    </tr>\n",
              "    <tr>\n",
              "      <th id=\"T_75c3b_level0_row4\" class=\"row_heading level0 row4\" >4</th>\n",
              "      <td id=\"T_75c3b_row4_col0\" class=\"data row4 col0\" >Micron & Cisco product</td>\n",
              "      <td id=\"T_75c3b_row4_col1\" class=\"data row4 col1\" >[32]</td>\n",
              "    </tr>\n",
              "  </tbody>\n",
              "</table>\n"
            ],
            "text/plain": [
              "<pandas.io.formats.style.Styler object at 0x7fb4c58761c0>"
            ]
          },
          "execution_count": 430,
          "metadata": {},
          "output_type": "execute_result"
        }
      ],
      "source": [
        "hdp_topic_group1 = hdp_topic_group.replace({0: 'Microsoft product & data',\n",
        "                                            1: 'Apple product R&D',\n",
        "                                            2: 'Micron & Cisco fiscal ',\n",
        "                                            3: 'Amazon product',\n",
        "                                            4: 'Micron & Cisco product'\n",
        "})\n",
        "\n",
        "\n",
        "hdp_topic_group1.style.set_properties(subset=['Documents'], **{'width':'400px'})"
      ]
    },
    {
      "cell_type": "code",
      "execution_count": null,
      "metadata": {},
      "outputs": [],
      "source": []
    },
    {
      "cell_type": "code",
      "execution_count": null,
      "metadata": {},
      "outputs": [],
      "source": []
    },
    {
      "cell_type": "markdown",
      "metadata": {},
      "source": [
        "## LSI model"
      ]
    },
    {
      "cell_type": "code",
      "execution_count": 427,
      "metadata": {},
      "outputs": [
        {
          "data": {
            "text/html": [
              "<style type=\"text/css\">\n",
              "#T_7d973_row0_col1, #T_7d973_row1_col1, #T_7d973_row2_col1, #T_7d973_row3_col1 {\n",
              "  width: 400px;\n",
              "}\n",
              "</style>\n",
              "<table id=\"T_7d973\">\n",
              "  <thead>\n",
              "    <tr>\n",
              "      <th class=\"blank level0\" >&nbsp;</th>\n",
              "      <th id=\"T_7d973_level0_col0\" class=\"col_heading level0 col0\" >topic</th>\n",
              "      <th id=\"T_7d973_level0_col1\" class=\"col_heading level0 col1\" >Documents</th>\n",
              "    </tr>\n",
              "  </thead>\n",
              "  <tbody>\n",
              "    <tr>\n",
              "      <th id=\"T_7d973_level0_row0\" class=\"row_heading level0 row0\" >0</th>\n",
              "      <td id=\"T_7d973_row0_col0\" class=\"data row0 col0\" >ASML EUV + Microsoft Azure (more tech-oriented)</td>\n",
              "      <td id=\"T_7d973_row0_col1\" class=\"data row0 col1\" >[6, 7, 8, 9, 10, 11, 12, 16, 18, 95, 96, 97, 98, 99, 100, 101, 102, 103, 104, 105, 106, 107, 108, 109, 110, 111, 112, 113, 114, 115, 116, 117, 119, 120, 121, 122, 123, 127, 133, 139, 141, 144, 146, 147, 153, 155, 156, 158, 159, 161, 162, 167, 168]</td>\n",
              "    </tr>\n",
              "    <tr>\n",
              "      <th id=\"T_7d973_level0_row1\" class=\"row_heading level0 row1\" >1</th>\n",
              "      <td id=\"T_7d973_row1_col0\" class=\"data row1 col0\" >Micron EUV Microsoft (more product-oriented)</td>\n",
              "      <td id=\"T_7d973_row1_col1\" class=\"data row1 col1\" >[0, 1, 2, 3, 4, 5, 13, 14, 15, 17, 38, 39, 40, 41, 42, 43, 44, 45, 46, 47, 48, 49, 50, 51, 52, 53, 54, 55, 56, 57, 58, 59, 60, 61, 62, 63, 64, 65, 66, 67, 68, 69, 70, 71, 72, 73, 74, 75, 76, 77, 78, 79, 80, 81, 82, 83, 84, 85, 86, 87, 88, 89, 90, 91, 92, 93, 94, 134, 135, 136, 137, 138, 140, 142, 143, 145, 148, 149, 150, 151]</td>\n",
              "    </tr>\n",
              "    <tr>\n",
              "      <th id=\"T_7d973_level0_row2\" class=\"row_heading level0 row2\" >2</th>\n",
              "      <td id=\"T_7d973_row2_col0\" class=\"data row2 col0\" >Micron Nvidia (more fiscal-oriented)</td>\n",
              "      <td id=\"T_7d973_row2_col1\" class=\"data row2 col1\" >[169, 170, 171, 172, 173, 174, 175, 176, 177, 178, 179, 180, 181, 182, 183, 184, 185, 186, 187]</td>\n",
              "    </tr>\n",
              "    <tr>\n",
              "      <th id=\"T_7d973_level0_row3\" class=\"row_heading level0 row3\" >3</th>\n",
              "      <td id=\"T_7d973_row3_col0\" class=\"data row3 col0\" >Microsoft Micron Nvidia commercials</td>\n",
              "      <td id=\"T_7d973_row3_col1\" class=\"data row3 col1\" >[19, 20, 21, 22, 23, 24, 25, 26, 27, 28, 29, 30, 31, 32, 33, 34, 35, 36, 37, 118, 124, 125, 126, 128, 129, 130, 131, 132, 152, 154, 157, 160, 163, 164, 165, 166]</td>\n",
              "    </tr>\n",
              "  </tbody>\n",
              "</table>\n"
            ],
            "text/plain": [
              "<pandas.io.formats.style.Styler object at 0x7fb4474ac100>"
            ]
          },
          "execution_count": 427,
          "metadata": {},
          "output_type": "execute_result"
        }
      ],
      "source": [
        "lsi_topic_group1 = lsi_topic_group.replace({0: 'product and R&D',\n",
        "                                            1: 'ASML EUV + Microsoft Azure (more tech-oriented)',\n",
        "                                            2: 'Micron EUV Microsoft (more product-oriented)',\n",
        "                                            3: 'Micron Nvidia (more fiscal-oriented)',\n",
        "                                            4: 'Microsoft Micron Nvidia commercials'\n",
        "})\n",
        "lsi_topic_group1.style.set_properties(subset=['Documents'], **{'width':'400px'})"
      ]
    },
    {
      "cell_type": "code",
      "execution_count": null,
      "metadata": {},
      "outputs": [],
      "source": []
    },
    {
      "cell_type": "markdown",
      "metadata": {},
      "source": [
        "## LDA Model"
      ]
    },
    {
      "cell_type": "code",
      "execution_count": 146,
      "metadata": {},
      "outputs": [],
      "source": [
        "def fetch_bi_grams(var):\n",
        "    import numpy as np\n",
        "    from gensim.models import Phrases\n",
        "    from gensim.models.phrases import Phraser\n",
        "    sentence_stream=  np.array(var)\n",
        "    bigram=  Phrases(sentence_stream, min_count= 5, threshold= 10, delimiter= ',')\n",
        "    trigram=  Phrases(bigram[sentence_stream], min_count= 5, threshold= 10)\n",
        "    bigram_phraser=  Phraser(bigram)\n",
        "    trigram_phraser=  Phraser(trigram)\n",
        "    bi_grams = list()\n",
        "    tri_grams = list()\n",
        "    for sent in sentence_stream:\n",
        "        bi_grams.append(bigram_phraser[sent])\n",
        "        tri_grams.append(trigram_phraser[sent])\n",
        "    return bi_grams, tri_grams"
      ]
    },
    {
      "cell_type": "code",
      "execution_count": 414,
      "metadata": {},
      "outputs": [],
      "source": [
        "import gensim\n",
        "from gensim.corpora.dictionary import Dictionary\n",
        "from gensim.models.coherencemodel import CoherenceModel\n",
        "import gensim.corpora as corpora\n",
        "import matplotlib.pyplot as plt\n",
        "from kneed import KneeLocator\n",
        "    \n",
        "bi, tri = fetch_bi_grams(final_df['body_lemmatized_cleaned'].str.split())\n",
        "\n",
        "the_data = tri\n",
        "\n",
        "dictionary = Dictionary(the_data)\n",
        "id2word = corpora.Dictionary(the_data)\n",
        "    \n",
        "corpus = [id2word.doc2bow(text) for text in the_data]"
      ]
    },
    {
      "cell_type": "code",
      "execution_count": 330,
      "metadata": {},
      "outputs": [
        {
          "name": "stdout",
          "output_type": "stream",
          "text": [
            "Optimal topics is 2\n"
          ]
        },
        {
          "data": {
            "image/png": "[encoded data removed]",
            "text/plain": [
              "<Figure size 864x360 with 1 Axes>"
            ]
          },
          "metadata": {},
          "output_type": "display_data"
        }
      ],
      "source": [
        "c_scores = []\n",
        "\n",
        "for word in range(2, 21):\n",
        "    lda_tune=  gensim.models.LdaMulticore(corpus = corpus, num_topics = word,\n",
        "                                          id2word = id2word, iterations = 10, \n",
        "                                          passes = 5, random_state = 42)\n",
        "    coherence_tune=  CoherenceModel(model = lda_tune, texts = the_data,\n",
        "                                    dictionary = dictionary, coherence = 'c_v')\n",
        "    c_scores.append(coherence_tune.get_coherence())\n",
        "    \n",
        "kn = KneeLocator(range(2, 21), c_scores,\n",
        "                 curve= 'concave', direction = 'increasing')\n",
        "opt_topics = kn.knee\n",
        "print (\"Optimal topics is\", opt_topics)\n",
        "\n",
        "fig=  plt.figure(figsize=  (12, 5))\n",
        "plt.plot(range(2, 21), c_scores, color = 'black', marker = 'o')\n",
        "plt.xlabel('Number of Topics')\n",
        "plt.ylabel('Coherence Score')\n",
        "plt.legend(('coherence_values'), loc = 'best')\n",
        "plt.title('Elbow Curve')\n",
        "plt.grid(True)\n",
        "plt.show()"
      ]
    },
    {
      "cell_type": "code",
      "execution_count": 331,
      "metadata": {},
      "outputs": [],
      "source": [
        "import gensim\n",
        "import numpy as np\n",
        "np.seterr(divide='ignore', invalid='ignore')\n",
        "\n",
        "grid = {}\n",
        "grid['Validation_Set'] = {}\n",
        "\n",
        "# Alpha parameter\n",
        "alpha = list(np.arange(0.01, 1, 0.3))\n",
        "alpha.append('symmetric')\n",
        "alpha.append('asymmetric')\n",
        "# Beta parameter\n",
        "beta = list(np.arange(0.01, 1, 0.3))\n",
        "beta.append('symmetric')\n",
        "# Validation sets\n",
        "\n",
        "c_scores1 = []\n",
        "\n",
        "num_of_docs = len(corpus)\n",
        "corpus_sets = [# gensim.utils.ClippedCorpus(corpus, num_of_docs*0.25), \n",
        "               # gensim.utils.ClippedCorpus(corpus, num_of_docs*0.5), \n",
        "               gensim.utils.ClippedCorpus(corpus, int(num_of_docs*0.75)), \n",
        "               corpus]\n",
        "corpus_title = ['75% Corpus', '100% Corpus']\n",
        "model_results = {'Validation_Set': [],\n",
        "                 'Topics': [],\n",
        "                 'Alpha': [],\n",
        "                 'Beta': [],\n",
        "                 'Coherence': []\n",
        "                }\n",
        "for i in range(len(corpus_sets)):\n",
        "            # iterate through alpha values\n",
        "    for a in alpha:\n",
        "                # iterare through beta values\n",
        "        for b in beta:\n",
        "                    lda_tune=  gensim.models.LdaMulticore(corpus = corpus, num_topics = 10,\n",
        "                                          id2word = id2word, iterations = 10, \n",
        "                                          passes = 5, random_state = 42, alpha = a, eta = b)\n",
        "                    coherence_tune=  CoherenceModel(model = lda_tune, texts = the_data,\n",
        "                                    dictionary = dictionary, coherence = 'c_v')\n",
        "                    c_scores1.append(coherence_tune.get_coherence())\n",
        "\n",
        "                    # Save the model results\n",
        "                    model_results['Validation_Set'].append(corpus_title[i])\n",
        "                    model_results['Topics'].append(10)\n",
        "                    model_results['Alpha'].append(a)\n",
        "                    model_results['Beta'].append(b)\n",
        "                    model_results['Coherence'] = c_scores1\n",
        "                    \n",
        "lda_tune_result = pd.DataFrame(model_results)"
      ]
    },
    {
      "cell_type": "code",
      "execution_count": 333,
      "metadata": {},
      "outputs": [
        {
          "data": {
            "text/html": [
              "<div>\n",
              "<style scoped>\n",
              "    .dataframe tbody tr th:only-of-type {\n",
              "        vertical-align: middle;\n",
              "    }\n",
              "\n",
              "    .dataframe tbody tr th {\n",
              "        vertical-align: top;\n",
              "    }\n",
              "\n",
              "    .dataframe thead th {\n",
              "        text-align: right;\n",
              "    }\n",
              "</style>\n",
              "<table border=\"1\" class=\"dataframe\">\n",
              "  <thead>\n",
              "    <tr style=\"text-align: right;\">\n",
              "      <th></th>\n",
              "      <th>Validation_Set</th>\n",
              "      <th>Topics</th>\n",
              "      <th>Alpha</th>\n",
              "      <th>Beta</th>\n",
              "      <th>Coherence</th>\n",
              "    </tr>\n",
              "  </thead>\n",
              "  <tbody>\n",
              "    <tr>\n",
              "      <th>59</th>\n",
              "      <td>100% Corpus</td>\n",
              "      <td>10</td>\n",
              "      <td>asymmetric</td>\n",
              "      <td>symmetric</td>\n",
              "      <td>0.326183</td>\n",
              "    </tr>\n",
              "    <tr>\n",
              "      <th>54</th>\n",
              "      <td>100% Corpus</td>\n",
              "      <td>10</td>\n",
              "      <td>symmetric</td>\n",
              "      <td>symmetric</td>\n",
              "      <td>0.326183</td>\n",
              "    </tr>\n",
              "    <tr>\n",
              "      <th>4</th>\n",
              "      <td>75% Corpus</td>\n",
              "      <td>10</td>\n",
              "      <td>0.01</td>\n",
              "      <td>symmetric</td>\n",
              "      <td>0.326183</td>\n",
              "    </tr>\n",
              "    <tr>\n",
              "      <th>39</th>\n",
              "      <td>100% Corpus</td>\n",
              "      <td>10</td>\n",
              "      <td>0.31</td>\n",
              "      <td>symmetric</td>\n",
              "      <td>0.326183</td>\n",
              "    </tr>\n",
              "    <tr>\n",
              "      <th>34</th>\n",
              "      <td>100% Corpus</td>\n",
              "      <td>10</td>\n",
              "      <td>0.01</td>\n",
              "      <td>symmetric</td>\n",
              "      <td>0.326183</td>\n",
              "    </tr>\n",
              "    <tr>\n",
              "      <th>9</th>\n",
              "      <td>75% Corpus</td>\n",
              "      <td>10</td>\n",
              "      <td>0.31</td>\n",
              "      <td>symmetric</td>\n",
              "      <td>0.326183</td>\n",
              "    </tr>\n",
              "    <tr>\n",
              "      <th>29</th>\n",
              "      <td>75% Corpus</td>\n",
              "      <td>10</td>\n",
              "      <td>asymmetric</td>\n",
              "      <td>symmetric</td>\n",
              "      <td>0.326183</td>\n",
              "    </tr>\n",
              "    <tr>\n",
              "      <th>24</th>\n",
              "      <td>75% Corpus</td>\n",
              "      <td>10</td>\n",
              "      <td>symmetric</td>\n",
              "      <td>symmetric</td>\n",
              "      <td>0.326183</td>\n",
              "    </tr>\n",
              "    <tr>\n",
              "      <th>20</th>\n",
              "      <td>75% Corpus</td>\n",
              "      <td>10</td>\n",
              "      <td>symmetric</td>\n",
              "      <td>0.01</td>\n",
              "      <td>0.321886</td>\n",
              "    </tr>\n",
              "    <tr>\n",
              "      <th>55</th>\n",
              "      <td>100% Corpus</td>\n",
              "      <td>10</td>\n",
              "      <td>asymmetric</td>\n",
              "      <td>0.01</td>\n",
              "      <td>0.321886</td>\n",
              "    </tr>\n",
              "    <tr>\n",
              "      <th>50</th>\n",
              "      <td>100% Corpus</td>\n",
              "      <td>10</td>\n",
              "      <td>symmetric</td>\n",
              "      <td>0.01</td>\n",
              "      <td>0.321886</td>\n",
              "    </tr>\n",
              "    <tr>\n",
              "      <th>35</th>\n",
              "      <td>100% Corpus</td>\n",
              "      <td>10</td>\n",
              "      <td>0.31</td>\n",
              "      <td>0.01</td>\n",
              "      <td>0.321886</td>\n",
              "    </tr>\n",
              "    <tr>\n",
              "      <th>25</th>\n",
              "      <td>75% Corpus</td>\n",
              "      <td>10</td>\n",
              "      <td>asymmetric</td>\n",
              "      <td>0.01</td>\n",
              "      <td>0.321886</td>\n",
              "    </tr>\n",
              "    <tr>\n",
              "      <th>0</th>\n",
              "      <td>75% Corpus</td>\n",
              "      <td>10</td>\n",
              "      <td>0.01</td>\n",
              "      <td>0.01</td>\n",
              "      <td>0.321886</td>\n",
              "    </tr>\n",
              "    <tr>\n",
              "      <th>30</th>\n",
              "      <td>100% Corpus</td>\n",
              "      <td>10</td>\n",
              "      <td>0.01</td>\n",
              "      <td>0.01</td>\n",
              "      <td>0.321886</td>\n",
              "    </tr>\n",
              "    <tr>\n",
              "      <th>5</th>\n",
              "      <td>75% Corpus</td>\n",
              "      <td>10</td>\n",
              "      <td>0.31</td>\n",
              "      <td>0.01</td>\n",
              "      <td>0.321886</td>\n",
              "    </tr>\n",
              "    <tr>\n",
              "      <th>44</th>\n",
              "      <td>100% Corpus</td>\n",
              "      <td>10</td>\n",
              "      <td>0.61</td>\n",
              "      <td>symmetric</td>\n",
              "      <td>0.320453</td>\n",
              "    </tr>\n",
              "    <tr>\n",
              "      <th>14</th>\n",
              "      <td>75% Corpus</td>\n",
              "      <td>10</td>\n",
              "      <td>0.61</td>\n",
              "      <td>symmetric</td>\n",
              "      <td>0.320453</td>\n",
              "    </tr>\n",
              "    <tr>\n",
              "      <th>15</th>\n",
              "      <td>75% Corpus</td>\n",
              "      <td>10</td>\n",
              "      <td>0.91</td>\n",
              "      <td>0.01</td>\n",
              "      <td>0.319993</td>\n",
              "    </tr>\n",
              "    <tr>\n",
              "      <th>45</th>\n",
              "      <td>100% Corpus</td>\n",
              "      <td>10</td>\n",
              "      <td>0.91</td>\n",
              "      <td>0.01</td>\n",
              "      <td>0.319993</td>\n",
              "    </tr>\n",
              "  </tbody>\n",
              "</table>\n",
              "</div>"
            ],
            "text/plain": [
              "   Validation_Set  Topics       Alpha       Beta  Coherence\n",
              "59    100% Corpus      10  asymmetric  symmetric   0.326183\n",
              "54    100% Corpus      10   symmetric  symmetric   0.326183\n",
              "4      75% Corpus      10        0.01  symmetric   0.326183\n",
              "39    100% Corpus      10        0.31  symmetric   0.326183\n",
              "34    100% Corpus      10        0.01  symmetric   0.326183\n",
              "9      75% Corpus      10        0.31  symmetric   0.326183\n",
              "29     75% Corpus      10  asymmetric  symmetric   0.326183\n",
              "24     75% Corpus      10   symmetric  symmetric   0.326183\n",
              "20     75% Corpus      10   symmetric       0.01   0.321886\n",
              "55    100% Corpus      10  asymmetric       0.01   0.321886\n",
              "50    100% Corpus      10   symmetric       0.01   0.321886\n",
              "35    100% Corpus      10        0.31       0.01   0.321886\n",
              "25     75% Corpus      10  asymmetric       0.01   0.321886\n",
              "0      75% Corpus      10        0.01       0.01   0.321886\n",
              "30    100% Corpus      10        0.01       0.01   0.321886\n",
              "5      75% Corpus      10        0.31       0.01   0.321886\n",
              "44    100% Corpus      10        0.61  symmetric   0.320453\n",
              "14     75% Corpus      10        0.61  symmetric   0.320453\n",
              "15     75% Corpus      10        0.91       0.01   0.319993\n",
              "45    100% Corpus      10        0.91       0.01   0.319993"
            ]
          },
          "execution_count": 333,
          "metadata": {},
          "output_type": "execute_result"
        }
      ],
      "source": [
        "lda_tune_result.sort_values(by= 'Coherence', ascending=False).head(20)"
      ]
    },
    {
      "cell_type": "code",
      "execution_count": 415,
      "metadata": {},
      "outputs": [
        {
          "name": "stdout",
          "output_type": "stream",
          "text": [
            "(0, '0.009*\"customer\" + 0.008*\"revenue\" + 0.006*\"research\" + 0.005*\"like\" + 0.005*\"ceo\" + 0.004*\"would\" + 0.004*\"next\" + 0.004*\"product\"')\n",
            "(1, '0.010*\"revenue\" + 0.009*\"cloud\" + 0.007*\"customer\" + 0.007*\"microsoft\" + 0.006*\"azure\" + 0.006*\"currency\" + 0.005*\"margin\" + 0.005*\"data\"')\n",
            "(2, '0.009*\"product\" + 0.008*\"revenue\" + 0.006*\"customer\" + 0.006*\"million\" + 0.005*\"data\" + 0.005*\"next\" + 0.005*\"ceo\" + 0.005*\"technology\"')\n",
            "(3, '0.014*\"customer\" + 0.005*\"next\" + 0.005*\"revenue\" + 0.005*\"like\" + 0.005*\"would\" + 0.005*\"research\" + 0.005*\"demand\" + 0.005*\"product\"')\n",
            "(4, '0.010*\"revenue\" + 0.009*\"product\" + 0.006*\"data\" + 0.006*\"million\" + 0.006*\"cloud\" + 0.005*\"customer\" + 0.005*\"margin\" + 0.005*\"like\"')\n",
            "(5, '0.009*\"revenue\" + 0.008*\"customer\" + 0.008*\"cisco\" + 0.007*\"system\" + 0.005*\"like\" + 0.005*\"data\" + 0.005*\"product\" + 0.004*\"cloud\"')\n",
            "(6, '0.009*\"customer\" + 0.008*\"euv\" + 0.007*\"would\" + 0.006*\"asml\" + 0.006*\"product\" + 0.006*\"revenue\" + 0.006*\"research\" + 0.006*\"margin\"')\n",
            "(7, '0.009*\"revenue\" + 0.007*\"product\" + 0.006*\"customer\" + 0.006*\"like\" + 0.006*\"cloud\" + 0.005*\"youtube\" + 0.004*\"research\" + 0.004*\"call\"')\n",
            "(8, '0.007*\"customer\" + 0.007*\"revenue\" + 0.006*\"amazon\" + 0.005*\"product\" + 0.005*\"like\" + 0.005*\"margin\" + 0.005*\"research\" + 0.005*\"prime\"')\n",
            "(9, '0.010*\"revenue\" + 0.008*\"apple\" + 0.006*\"customer\" + 0.006*\"iphone\" + 0.005*\"product\" + 0.004*\"research\" + 0.004*\"like\" + 0.004*\"margin\"')\n"
          ]
        }
      ],
      "source": [
        "lda_final =  gensim.models.LdaMulticore(corpus = corpus, num_topics = 10,\n",
        "                                          id2word = id2word, iterations = 10, \n",
        "                                          passes = 5, random_state = 42,\n",
        "                                          eta = 'symmetric', alpha = 0.01)\n",
        "topics = lda_final.print_topics(num_words=8)\n",
        "for topic in topics:\n",
        "    print(topic)"
      ]
    },
    {
      "cell_type": "code",
      "execution_count": 416,
      "metadata": {},
      "outputs": [
        {
          "data": {
            "text/plain": [
              "0.32618315597217423"
            ]
          },
          "execution_count": 416,
          "metadata": {},
          "output_type": "execute_result"
        }
      ],
      "source": [
        "coherence=  CoherenceModel(model = lda_final, texts = the_data,\n",
        "                                    dictionary = dictionary, coherence = 'c_v')\n",
        "coherence.get_coherence()"
      ]
    },
    {
      "cell_type": "code",
      "execution_count": 417,
      "metadata": {},
      "outputs": [
        {
          "data": {
            "text/plain": [
              "-7.635778848059865"
            ]
          },
          "execution_count": 417,
          "metadata": {},
          "output_type": "execute_result"
        }
      ],
      "source": [
        "lda_final.log_perplexity(corpus)"
      ]
    },
    {
      "cell_type": "code",
      "execution_count": 396,
      "metadata": {},
      "outputs": [
        {
          "name": "stderr",
          "output_type": "stream",
          "text": [
            "/Users/yanlinzhang/opt/anaconda3/lib/python3.8/site-packages/past/builtins/misc.py:45: DeprecationWarning: the imp module is deprecated in favour of importlib; see the module's documentation for alternative uses\n",
            "  from imp import reload\n",
            "/Users/yanlinzhang/opt/anaconda3/lib/python3.8/site-packages/past/builtins/misc.py:45: DeprecationWarning: the imp module is deprecated in favour of importlib; see the module's documentation for alternative uses\n",
            "  from imp import reload\n",
            "/Users/yanlinzhang/opt/anaconda3/lib/python3.8/site-packages/past/builtins/misc.py:45: DeprecationWarning: the imp module is deprecated in favour of importlib; see the module's documentation for alternative uses\n",
            "  from imp import reload\n",
            "/Users/yanlinzhang/opt/anaconda3/lib/python3.8/site-packages/past/builtins/misc.py:45: DeprecationWarning: the imp module is deprecated in favour of importlib; see the module's documentation for alternative uses\n",
            "  from imp import reload\n",
            "/Users/yanlinzhang/opt/anaconda3/lib/python3.8/site-packages/past/builtins/misc.py:45: DeprecationWarning: the imp module is deprecated in favour of importlib; see the module's documentation for alternative uses\n",
            "  from imp import reload\n",
            "/Users/yanlinzhang/opt/anaconda3/lib/python3.8/site-packages/past/builtins/misc.py:45: DeprecationWarning: the imp module is deprecated in favour of importlib; see the module's documentation for alternative uses\n",
            "  from imp import reload\n",
            "/Users/yanlinzhang/opt/anaconda3/lib/python3.8/site-packages/past/builtins/misc.py:45: DeprecationWarning: the imp module is deprecated in favour of importlib; see the module's documentation for alternative uses\n",
            "  from imp import reload\n",
            "/Users/yanlinzhang/opt/anaconda3/lib/python3.8/site-packages/past/builtins/misc.py:45: DeprecationWarning: the imp module is deprecated in favour of importlib; see the module's documentation for alternative uses\n",
            "  from imp import reload\n"
          ]
        },
        {
          "data": {
            "text/html": [
              "\n",
              "<link rel=\"stylesheet\" type=\"text/css\" href=\"https://cdn.jsdelivr.net/gh/bmabey/pyLDAvis@3.3.1/pyLDAvis/js/ldavis.v1.0.0.css\">\n",
              "\n",
              "\n",
              "<div id=\"ldavis_el549601404124703790088550778062\"></div>\n",
              "<script type=\"text/javascript\">\n",
              "\n",
              "var ldavis_el549601404124703790088550778062_data = {\"mdsDat\": {\"x\": [-0.009956436213044883, 0.04609320428063553, 0.03364988611526516, -0.05757649435033133, 0.017047238838155985, -0.003006963152815332, 0.0017894336559750642, 0.009919698507740715, -0.02432966861052873, -0.01362989907105208], \"y\": [0.04017506689204916, 0.022138553854210572, -0.0149579568050094, 0.0009318263711574329, -0.03447126604613203, -0.027548355996520436, 0.013414000230311595, 0.014443044206183352, -0.00762224045277161, -0.0065026722534785655], \"topics\": [1, 2, 3, 4, 5, 6, 7, 8, 9, 10], \"cluster\": [1, 1, 1, 1, 1, 1, 1, 1, 1, 1], \"Freq\": [16.484371192786533, 13.132471582513322, 12.170647623896121, 11.254538677981587, 10.700390906769902, 10.699098278765758, 10.613880100124305, 7.079597087962014, 4.362561961289326, 3.5024425879111325]}, \"tinfo\": {\"Term\": [\"customer\", \"euv\", \"asml\", \"apple\", \"cisco\", \"holding\", \"peter\", \"eur\", \"azure\", \"iphone\", \"system\", \"amazon\", \"microsoft\", \"memory\", \"prime\", \"currency\", \"cloud\", \"revenue\", \"youtube\", \"wennink\", \"million\", \"research\", \"management\", \"president\", \"half\", \"like\", \"tool\", \"constant\", \"board\", \"would\", \"identical\", \"bricm\", \"posted_fiscal\", \"kls\", \"microcontrollers\", \"conceptual\", \"mehta\", \"acknowledged\", \"nilay\", \"lpddr\", \"semicustom\", \"nice_progress\", \"komatsu\", \"chassis\", \"prior_estimate\", \"ultrathin\", \"nics\", \"illustrates\", \"mbux\", \"iflytek\", \"metropolis\", \"outfitting\", \"chan\", \"geforces\", \"conflict\", \"texture\", \"sticky\", \"design_activity\", \"animate\", \"lisa_present\", \"ryzen\", \"micro\", \"lisa\", \"kumar\", \"naples\", \"blockchain\", \"cautionary\", \"devinder\", \"semi\", \"vega\", \"processor\", \"epyc\", \"reconciled\", \"laura\", \"radeon\", \"graphic\", \"gpu\", \"navi\", \"gross_leverage\", \"zen\", \"independent\", \"graf\", \"advanced\", \"gpus\", \"treasurer\", \"ebitda\", \"amd\", \"cpu\", \"han\", \"custom\", \"stacy\", \"rome\", \"wong\", \"micron\", \"president\", \"non\", \"nand\", \"product\", \"center\", \"technology\", \"million\", \"device\", \"ramp\", \"second\", \"data\", \"ceo\", \"revenue\", \"next\", \"analyst\", \"dram\", \"research\", \"expect\", \"would\", \"customer\", \"margin\", \"like\", \"performance\", \"gaap\", \"director\", \"gross\", \"division\", \"bit\", \"segment\", \"carolyn\", \"mixer\", \"kpi\", \"developer_productivity\", \"satya_talking\", \"cosmos\", \"per_search\", \"contribution_linkedin\", \"emil\", \"nemeroff\", \"jennifer\", \"frantz\", \"expiration\", \"glint\", \"authoring\", \"onenote\", \"empowers\", \"analyst_satya\", \"sharepoint\", \"marketeers\", \"cortana\", \"comparables\", \"result_detail\", \"linkedin\", \"zukin\", \"swanson\", \"chevron\", \"extensibility\", \"chemical\", \"iaa\", \"satya\", \"azure\", \"github\", \"nadella\", \"sql\", \"amy\", \"wei\", \"spencer\", \"hood\", \"microsoft\", \"keith\", \"currency\", \"constant\", \"window\", \"xbox\", \"raimo\", \"office\", \"paas\", \"annuity\", \"lenschow\", \"end_support\", \"commercial\", \"intelligent\", \"surface\", \"suh\", \"transactional\", \"unearned\", \"hybrid\", \"cloud\", \"dynamic\", \"seat\", \"corporation\", \"gaming\", \"increased\", \"organization\", \"revenue\", \"grew\", \"expense\", \"expect\", \"margin\", \"data\", \"customer\", \"driven\", \"line\", \"gross\", \"segment\", \"operating\", \"next\", \"point\", \"product\", \"company\", \"call\", \"would\", \"like\", \"strong\", \"million\", \"research\", \"airpods\", \"itunes\", \"selene\", \"arkit\", \"bionic\", \"subsidy\", \"applecare\", \"kristin\", \"portable\", \"wwdc\", \"joan\", \"siri\", \"katy\", \"pencil\", \"tim_talk\", \"huguet\", \"nov\", \"dubai\", \"catalina\", \"homepod\", \"shannon\", \"annie\", \"microservice\", \"lynn\", \"ended_qtr\", \"tvos\", \"revenue_yovery\", \"total_outside\", \"maestro\", \"iphone\", \"qtr\", \"ipads\", \"iphones\", \"apple\", \"yovery\", \"luca\", \"cook\", \"sacconaghi\", \"ipad\", \"mac\", \"reuters\", \"paxton\", \"huberty\", \"applicable\", \"dec\", \"tim\", \"satisfaction\", \"aapl\", \"wearable\", \"toni\", \"store\", \"nancy\", \"thomson\", \"watch\", \"app\", \"june\", \"march\", \"cross\", \"pay\", \"record\", \"revenue\", \"timothy\", \"china\", \"nvidia\", \"ever\", \"purchase\", \"people\", \"customer\", \"base\", \"product\", \"company\", \"research\", \"world\", \"way\", \"like\", \"result\", \"strong\", \"data\", \"margin\", \"point\", \"next\", \"forward\", \"could\", \"ceo\", \"cloud\", \"call\", \"analyst\", \"million\", \"division\", \"bit\", \"would\", \"effectivity\", \"duval\", \"witnessed\", \"joh\", \"cannibalized\", \"gossler\", \"sreekrishnan\", \"generale\", \"likelihood\", \"peter_mentioned\", \"imec\", \"dpv\", \"roger_mentioned\", \"ship_system\", \"sale_profitability\", \"logic_sector\", \"mulholland\", \"logic_space\", \"intends\", \"tammy\", \"menon\", \"voltage\", \"siemer\", \"hvm\", \"adi\", \"timetable\", \"emergent\", \"achal\", \"reuses\", \"adithya\", \"terence\", \"deshpande\", \"bhf\", \"euv\", \"houri\", \"instruct\", \"roger\", \"qiu\", \"nxe\", \"holding\", \"asml\", \"beam\", \"gardiner\", \"wennink\", \"dassen\", \"eur\", \"duv\", \"logic\", \"sandeep\", \"inspection\", \"peter\", \"harchandani\", \"hmi\", \"board\", \"wolfgang\", \"management\", \"skip\", \"miller\", \"litho\", \"memory\", \"andrew\", \"tool\", \"nickl\", \"chairman\", \"lithography\", \"wafer\", \"node\", \"system\", \"capacity\", \"nanometer\", \"would\", \"customer\", \"shipment\", \"demand\", \"ceo\", \"mean\", \"order\", \"president\", \"research\", \"expect\", \"second\", \"margin\", \"product\", \"next\", \"call\", \"analyst\", \"revenue\", \"strong\", \"bit\", \"like\", \"could\", \"gross\", \"million\", \"turning_alphabet\", \"commute\", \"doubleclick\", \"compute_capacity\", \"rebranded\", \"firebase\", \"equity_security\", \"argentine\", \"temasek\", \"nike\", \"algorithmically\", \"nathanson\", \"indonesia\", \"trivia\", \"chelsea\", \"chromecast\", \"fca\", \"kurian\", \"verily\", \"cup\", \"relatedly\", \"undersea\", \"resmed\", \"headcount_end\", \"undue\", \"gilead\", \"sbc\", \"railtel\", \"instructive\", \"blurring\", \"cpms\", \"bidding\", \"googlers\", \"diane\", \"sundar\", \"alphabet\", \"pichai\", \"youtube\", \"bet\", \"advertiser\", \"porat\", \"waymo\", \"analyst_sundar\", \"ruth\", \"ellen\", \"tac\", \"pixel\", \"programmatic\", \"assistant\", \"gcp\", \"campaign\", \"search\", \"fiber\", \"cfo_term\", \"marketer\", \"android\", \"accrued\", \"advertising\", \"mobile\", \"site\", \"experience\", \"west\", \"machine\", \"hardware\", \"local\", \"ongoing\", \"investment\", \"revenue\", \"opportunity\", \"like\", \"cloud\", \"product\", \"area\", \"lot\", \"focused\", \"long\", \"customer\", \"call\", \"content\", \"impact\", \"research\", \"cost\", \"ceo\", \"result\", \"would\", \"technology\", \"seeing\", \"next\", \"operating\", \"margin\", \"million\", \"strong\", \"second\", \"point\", \"sort_center\", \"hardin\", \"egm\", \"sortation\", \"diwali\", \"melich\", \"csoi\", \"shelly\", \"accompanying\", \"ron\", \"moovit\", \"shipping_cost\", \"fulfilling\", \"amazonfresh\", \"imdb\", \"heath\", \"pfeiffer\", \"gregory\", \"fulfillment\", \"josey\", \"olsavsky\", \"anticipates\", \"mfn\", \"principally\", \"fildes\", \"souq\", \"sizmek\", \"fitzgerald\", \"ott\", \"doorstep\", \"fba\", \"helfstein\", \"prime\", \"amazon\", \"seller\", \"grocery\", \"aws\", \"food\", \"alexa\", \"fulfilled\", \"internationally\", \"darin\", \"com\", \"selection\", \"echo\", \"terry\", \"brian\", \"manney\", \"jason\", \"north\", \"dave\", \"phil\", \"international\", \"excuse\", \"george\", \"cost\", \"whole\", \"lease\", \"lot\", \"operating\", \"come\", \"cfo\", \"customer\", \"like\", \"unit\", \"margin\", \"investment\", \"revenue\", \"research\", \"result\", \"next\", \"bit\", \"would\", \"product\", \"demand\", \"technology\", \"million\", \"analyst\", \"rate\", \"point\", \"seeing\", \"cloud\", \"strong\", \"call\", \"director\", \"second\", \"cloudlock\", \"erik\", \"lubert\", \"reclassified\", \"cliqr\", \"rpo\", \"rearchitecting\", \"firepower\", \"tetration\", \"orin\", \"mindmeld\", \"bone\", \"candidly\", \"router\", \"secuties\", \"aci\", \"acacia\", \"recommended\", \"brexit\", \"jess\", \"sam\", \"orderability\", \"chuck_cisco\", \"andre\", \"ratable\", \"saas_business\", \"shaun\", \"webscale\", \"mandatory\", \"sweat\", \"chuck\", \"faucette\", \"cisco\", \"hyperflex\", \"objection\", \"routing\", \"accompany\", \"robbins\", \"kelly\", \"security_portfolio\", \"marilyn\", \"switching\", \"liani\", \"charles\", \"kramer\", \"appdynamics\", \"mora\", \"simon\", \"wan\", \"tal\", \"campus\", \"recurring\", \"cat\", \"deferred\", \"system\", \"ittai\", \"silverstein\", \"webex\", \"collaboration\", \"software\", \"portfolio\", \"threat\", \"network\", \"customer\", \"gaap\", \"revenue\", \"security\", \"perspective\", \"innovation\", \"chairman\", \"data\", \"provider\", \"call\", \"executive\", \"like\", \"environment\", \"cloud\", \"application\", \"bit\", \"margin\", \"research\", \"next\", \"would\", \"point\", \"non\", \"result\", \"product\", \"center\", \"ceo\", \"gross\", \"technology\", \"strong\", \"analyst\", \"term\", \"cfo\", \"expect\", \"cloudcenter\", \"jie\", \"lateef\", \"emear\", \"jean\", \"acumen\", \"inhibitor\", \"disparity\", \"attribution\", \"recast\", \"operational_execution\", \"humanlike\", \"sharpen\", \"pastime\", \"downstream\", \"buck\", \"supposedly\", \"reentering\", \"recreate\", \"reengaged\", \"nol\", \"mindshare\", \"accessing\", \"ethereum\", \"tournament\", \"tuning\", \"circling\", \"accelerant\", \"tightest\", \"scratched\", \"criticality\", \"fujitsu\", \"scaler\", \"amd\", \"custom\", \"product\", \"data\", \"director\", \"semi\", \"datacenter\", \"million\", \"lisa\", \"learning\", \"advanced\", \"non\", \"center\", \"revenue\", \"cloud\", \"device\", \"corporation\", \"enterprise\", \"desktop\", \"technology\", \"micro\", \"kind\", \"segment\", \"intel\", \"half\", \"independent\", \"gpu\", \"gaap\", \"performance\", \"operating\", \"division\", \"margin\", \"ceo\", \"like\", \"based\", \"platform\", \"gross\", \"customer\", \"result\", \"research\", \"point\", \"strong\", \"come\", \"next\", \"bit\", \"expect\", \"call\", \"analyst\", \"adversity\", \"justice\", \"wolfgang_mentioned\", \"deviate\", \"reimbursed\", \"refurb\", \"restarted\", \"bollin\", \"negotiate\", \"subsequently\", \"churning\", \"agm\", \"nomination\", \"corroborated\", \"cleveland\", \"snep\", \"marathon\", \"workday\", \"experiential\", \"invaluable\", \"gung\", \"cymer\", \"mahesh\", \"sanganeria\", \"vpa\", \"connor\", \"admit\", \"pitch\", \"spie\", \"tilted\", \"slot\", \"previous_node\", \"jenkins\", \"wolfgang_said\", \"kai\", \"prolonged\", \"asml\", \"eur\", \"peter\", \"euv\", \"customer\", \"node\", \"wennink\", \"holding\", \"wolfgang\", \"logic\", \"nickl\", \"shipment\", \"gareth\", \"memory\", \"demand\", \"option\", \"field\", \"nanometer\", \"next\", \"management\", \"dram\", \"half\", \"analyst\", \"mean\", \"would\", \"like\", \"million\", \"call\", \"research\", \"said\", \"level\", \"bit\", \"margin\", \"come\", \"product\", \"revenue\", \"division\", \"ceo\", \"system\", \"second\", \"point\", \"president\", \"technology\", \"cfo\", \"result\", \"strong\", \"expect\", \"cold\", \"humbled\", \"envisaged\", \"wipe\", \"glean\", \"adviser\", \"journalist\", \"impedance\", \"announces\", \"unabated\", \"waning\", \"absenteeism\", \"grappling\", \"validating\", \"runtimes\", \"frictionless\", \"widest\", \"prodrive\", \"contractual\", \"organizing\", \"scrutiny\", \"shopify\", \"cntk\", \"preorder\", \"nonbusiness\", \"delete\", \"log\", \"friedland\", \"multipatterning\", \"constructively\", \"indigenous\", \"roger\", \"authoritative\", \"asml\", \"tool\", \"holding\", \"euv\", \"peter\", \"eur\", \"customer\", \"research\", \"said\", \"logic\", \"management\", \"president\", \"half\", \"could\", \"side\", \"wennink\", \"ceo\", \"second\", \"revenue\", \"result\", \"like\", \"high\", \"gross\", \"board\", \"would\", \"memory\", \"million\", \"order\", \"take\", \"term\", \"next\", \"lot\", \"director\", \"analyst\", \"product\", \"get\", \"come\", \"technology\", \"margin\", \"bit\", \"cloud\", \"demand\", \"expect\"], \"Freq\": [4904.0, 1043.0, 882.0, 1014.0, 980.0, 657.0, 638.0, 575.0, 849.0, 665.0, 1739.0, 653.0, 1014.0, 992.0, 539.0, 860.0, 2849.0, 5643.0, 619.0, 423.0, 2585.0, 3043.0, 580.0, 1515.0, 1398.0, 3062.0, 657.0, 726.0, 585.0, 2752.0, 5.238110978765335, 3.3899207893196084, 7.70804179077275, 2.449467548191301, 4.936084956076265, 3.2640779491742373, 2.384259606778331, 2.3746656357734106, 2.375071237806078, 11.950651877835877, 25.25830387166926, 5.435522938842929, 2.3128135301504846, 3.101431734470817, 2.2838276137418236, 5.480373225269439, 3.1426350093397595, 3.0861463092515735, 2.2840464464590533, 2.268922741022598, 3.9303446170118135, 3.0389044938439107, 3.8730144530228516, 4.702798458111282, 3.0529600872081737, 2.2575021580968455, 4.587318509425052, 6.176058465043606, 2.2380048042597136, 5.270610442821606, 289.27955076607924, 389.7561455976489, 434.9746224796153, 102.10270949148693, 28.906881726414216, 42.20607218851472, 14.156322144162287, 156.41153271691778, 212.5221010919212, 55.8113847728832, 268.2340572558477, 184.1640999154218, 13.81220649394099, 75.51288308288402, 87.47808533245306, 324.2291460829574, 351.4960681725606, 13.662553772417477, 7.918196548307489, 54.824588693974974, 204.30095509495303, 40.22836629624835, 369.32070319527077, 250.31230860179025, 77.90583247273673, 22.836758736928434, 161.30191971038266, 161.18172042974518, 35.62601766644083, 179.34545798980648, 165.9620273521781, 49.35513987048856, 46.36384251443648, 305.419933768743, 474.4007047489071, 471.41326782643074, 329.72350496329597, 1003.971699377229, 535.0148472381579, 554.8314659859524, 636.6470070703076, 363.63132187987316, 273.22191699075995, 511.82772369399896, 566.8673487984315, 560.831426236467, 872.347484810379, 566.5709290615457, 472.9356381435102, 312.63342965027755, 547.3259109901758, 452.7887920079806, 502.37353469236075, 647.785319838385, 509.12239340584847, 508.07173985593147, 370.0756552285021, 354.0339505511931, 369.59036922970137, 357.8488797471148, 346.4260491768968, 336.81654505697867, 331.83891995991837, 4.867370449242572, 9.746268128429403, 22.13104517825018, 6.976485699866592, 5.362539403283278, 19.266026284242947, 7.640046339601264, 5.379133863276161, 8.433458341413706, 5.391971484658326, 9.846817681965133, 4.524991731958477, 15.05614090741525, 7.521091278256912, 2.9554359032226696, 5.149927434594729, 5.984795891846562, 13.501189046415039, 9.631343861800477, 3.680922117283129, 25.85717771591798, 4.39587187738174, 13.255502146469606, 211.20340517631053, 5.1625619836195575, 4.377729469608408, 4.37596024958954, 5.888742666826568, 3.5881586005927484, 30.87503691520069, 262.0380511561663, 570.4624265926014, 58.572382256589805, 125.40276450630098, 54.40362605663818, 270.9348989048823, 29.94734874513443, 32.61664164783947, 143.81149082021045, 607.8104115012919, 59.48737265699169, 506.3460412622713, 425.6876422490052, 282.8017220267323, 107.95399060076612, 30.259574410315704, 276.41698406740466, 33.31136367694814, 69.20384598360904, 23.128978503369815, 26.307691824891254, 395.24074572230097, 128.95752696370056, 110.62165126150465, 49.803809824109166, 67.95537756566064, 44.34030003495215, 121.43084289391676, 802.5956592520566, 243.12844367992568, 56.19016725355693, 414.2898013259843, 289.0125993957489, 282.88432011159796, 94.9931413360527, 879.4698317072412, 253.16212880054846, 233.3052181525814, 414.8555225979836, 477.4057321687207, 427.19533316968545, 608.9066650541628, 264.5592136302641, 320.7724417296327, 335.6488636008055, 297.34952939945754, 300.2337392698253, 362.66509914695064, 301.5403502412037, 383.629073438559, 290.49065963284306, 317.27154581149733, 313.0616182875766, 316.8004383774317, 287.88176990037607, 294.5576855220617, 289.6488621296375, 38.91967432552894, 10.96616316226175, 4.297771249938523, 15.099141946657204, 6.488111472036937, 10.766644668823359, 20.941765883158787, 13.507948730695741, 5.006430724948596, 6.401607256663705, 12.063533222646617, 25.459607523934267, 45.268543755775255, 6.303031653409792, 9.886676179172103, 12.549681633994323, 6.271066177986376, 3.494508775054891, 4.875614449165589, 14.813129890636768, 72.63352844980861, 5.499381535291279, 4.17433351160722, 19.460272743559692, 4.866877680837474, 5.5683660519131335, 29.697661889673228, 6.871365165125912, 69.86572971260934, 465.15271630098084, 262.8547344625266, 34.683554033212246, 78.00675844821355, 677.1264816032891, 110.71347402075375, 149.78843289978002, 135.9041814222452, 26.461599593886678, 195.21536235493164, 157.2353304961779, 35.57380069089428, 44.096017069918815, 37.887880480407645, 47.85966240019875, 48.12561761769997, 162.94297291554216, 57.10236018925373, 34.36185157578315, 66.97521555550347, 29.65855904415416, 271.5824857947236, 45.69029012617695, 34.20903610255441, 114.98734543775217, 159.81423394003968, 118.0306064167658, 123.8438582406764, 91.47512022321293, 96.13107175080448, 237.03303146426703, 841.3220333795317, 101.11523340759726, 206.95589347962428, 208.26714317961182, 126.1365093488943, 112.1236763144389, 210.1752711371242, 504.4533912542626, 158.11434201008748, 405.6929455022367, 266.35470190533255, 345.84933333142305, 213.2062127549512, 230.96576975270685, 312.39426627981885, 257.9982926702117, 256.8064489230018, 277.22492366287236, 297.31650448507503, 249.67195744825673, 282.4762289152055, 217.1337122174171, 225.21191789245796, 248.19509235460689, 253.44107594592012, 239.1670364715462, 227.48064993352943, 232.05966463587765, 211.53574146697204, 211.1467299402462, 208.62844798010232, 6.508401759855163, 8.586606309049381, 3.5872330585111523, 4.698414619572059, 2.76746265759501, 4.709962103698721, 4.759425286772267, 3.4660350980381573, 5.205354645473802, 6.418781243001424, 2.622303667559192, 9.189046765049264, 6.2347756407249095, 8.57198533341299, 10.961801204498757, 5.020424697193024, 27.25146053737958, 6.846086315811281, 2.5057375616788984, 10.77442548813447, 3.663422373685434, 2.570541112231705, 2.496696045789961, 2.563682946481313, 2.4753318319703137, 2.451382568801269, 5.578607094362426, 8.252158332293504, 1.8615091686307965, 16.51774677171821, 15.163655946578096, 35.11463174229509, 8.510641923542213, 607.328367023069, 13.5387191548842, 10.72051241911619, 84.43188526383108, 10.712067979302239, 27.318545400140064, 372.88117374116456, 485.65957348212197, 55.4279632117137, 35.164033083392034, 234.9877425066301, 43.764465726042175, 302.44067119907936, 42.4297867142657, 174.48657876434564, 37.39421675282048, 33.591379578359586, 316.23968487530584, 34.44333216080778, 40.0586230400522, 275.7862845475885, 105.51082697087821, 272.2504033151708, 41.44877375756699, 34.062400908611984, 41.39913818314274, 387.3917663747894, 41.482879881300335, 257.885254254129, 55.17352890174713, 198.1543722814401, 47.76410705556566, 151.2237856156503, 174.0038742259825, 378.5242092296642, 199.47544824746055, 261.65687491225884, 492.8973220012549, 712.075969871522, 157.90707976898213, 354.072771697835, 407.8882595497773, 229.01052830024616, 175.83061397463536, 282.1415819915997, 428.649720967171, 347.85969547633385, 339.7500911092211, 414.38700411034813, 473.7401706136245, 381.6676117257594, 342.60712475536116, 335.29333577961705, 452.69959063393964, 287.7573500938848, 282.47581324780043, 300.36712395272485, 253.018209698941, 256.99639350440583, 262.99140068727917, 5.7709768425584524, 4.3171638329348365, 10.658456149627876, 7.192741314225213, 2.855378103637816, 2.819084733108232, 11.950092411772575, 3.519975638338336, 3.494416886390716, 2.77781000628605, 2.7444856250504084, 13.667532522642585, 6.153064327191719, 3.4502686503894595, 4.8285235881857576, 5.353939473262577, 3.376658164774414, 2.6753629649979733, 31.265176427613586, 3.350980257806059, 2.620822225812714, 4.022463027492926, 1.9959462400440116, 7.11654089797389, 3.3478057391095386, 1.9832938240049582, 25.27758564358365, 1.9533680925801669, 7.796643935034179, 1.9692553853175103, 2.6242043552222176, 9.70614841081109, 9.541615619952752, 12.55994445837666, 270.31433492990044, 274.367695270532, 136.31700682695498, 333.94079325988446, 127.01548909411049, 130.82332140878492, 107.54672007724642, 45.7087692425953, 26.62589182545879, 197.86257101317167, 45.39209370172464, 114.39192522055826, 43.27138825251426, 42.400209993317446, 79.21612263863581, 36.209056645043496, 37.599592615053304, 261.8319626961066, 30.95884291814959, 28.70440286881141, 22.527410756538853, 70.11905618957864, 19.308091853532563, 130.4826774972805, 269.7494506352699, 109.82066824901862, 234.98485671285175, 36.49380488428844, 168.66479975658513, 131.34475626738293, 49.74038405210654, 97.15760942920501, 264.16118214701646, 670.4642096752117, 266.74790132133796, 415.54341301179915, 394.4758562683369, 471.3142066469151, 184.74157395262168, 239.75472064855907, 140.05758783979562, 189.5790888017607, 434.32116199819666, 280.48365087384263, 127.6215417085687, 203.25964200230226, 302.4707139041255, 206.24310889142822, 249.3671112288627, 226.57614621694168, 244.23679763182892, 217.5447409485682, 191.99775464867236, 227.14114706495494, 197.86103916871298, 220.5487878349872, 210.53438798717312, 202.88768685705227, 204.00636622447095, 194.61407838220663, 9.7198752309953, 22.00735478773196, 12.986523916425595, 4.798482383038512, 9.415600476012807, 4.782378628390326, 5.3879147649529795, 7.035070866175435, 13.181535791277431, 4.607703902415741, 2.61424085747216, 13.324716811185615, 3.2207202340172763, 14.95280208791985, 5.152509015044127, 24.387751209794644, 6.906316267377953, 3.2124188897480144, 91.42735560419842, 7.724768149457905, 164.06209933302827, 3.237630919284767, 5.613993208515672, 5.112546439460614, 49.506062336463906, 6.375465175471921, 4.478571591413479, 4.477413482091382, 3.162964344026588, 2.4833911525470573, 57.19792686239679, 16.87573180087093, 342.8555989702054, 405.69046115557273, 79.49670274432431, 38.864979294422184, 172.35471980304789, 77.83350375942882, 46.62063660231294, 18.093513408146176, 22.37518820553713, 32.590367960009466, 273.5705860444448, 52.25193641756695, 36.683351058669345, 20.084872502461472, 317.34604459327045, 21.017879917921718, 19.86801991361969, 58.28458094337317, 84.69135060237977, 40.015709181377645, 73.27729149934306, 35.172418997186575, 51.727505392612706, 321.5170195393054, 90.43541467949746, 36.04160657692221, 285.7143143711129, 274.0862058656798, 276.39752985915356, 276.79760928584625, 531.3614175132233, 383.10727526715164, 153.7817012711971, 360.0467776911903, 223.50408620056317, 506.6574160945485, 353.47755708022544, 272.3875289873016, 325.05362111449864, 267.684652014576, 313.5136329704939, 384.26267921257505, 260.0603844464155, 265.7906719130889, 285.20007637304025, 261.5972548270189, 207.94139440069554, 236.7662089197631, 200.1196593080874, 252.71214854129713, 215.4024736479188, 217.57628126402665, 205.44620468426413, 208.10030406437085, 4.376274819559863, 2.776145886280612, 8.54837326589011, 2.72829425844728, 4.853780017161846, 9.536051013727798, 3.294733270739786, 1.9319159268680086, 7.9685858202363695, 3.239215958086528, 2.555134167274787, 1.8885666792081568, 2.563957511145451, 9.816768107967004, 3.164249147587516, 39.54830048574175, 2.496753158124417, 1.828187121123671, 9.723189205689925, 11.181740514418523, 16.976268443410234, 1.8349399172026275, 8.437671022406454, 1.7908953257371103, 1.832721371759204, 5.178642475461156, 1.8283964081254875, 2.4654700415914887, 3.105352275654617, 2.4679190349912896, 189.4411066475061, 20.269981343243508, 586.5644508969563, 22.79274905633601, 12.623666538553993, 88.09106780435276, 22.48398698773255, 182.08906846384178, 293.3770265249113, 21.050814373093523, 120.60948034969981, 99.71763532520184, 22.050474382421157, 129.49468646459977, 143.81090421190106, 31.124504339956335, 85.364339456543, 25.119492008792463, 34.6675768960945, 32.093162002489606, 55.91693676402105, 61.501645054486325, 27.5232959320682, 88.48766331800958, 514.9411806361973, 32.40861919066782, 26.46204206134283, 29.759323420684265, 76.24551640328981, 248.80712623319724, 226.86563179900682, 53.43035737995287, 173.8657522338088, 599.2897942738132, 268.36435707922607, 631.66347001893, 204.22981031721164, 105.66949133850854, 129.952035594922, 120.77927997806384, 326.4269279274288, 112.97498780903892, 311.0916151243377, 155.920882901158, 349.6747283440942, 156.78821365531982, 312.9921950322864, 178.2910962102705, 255.7924295906945, 311.24729368643864, 311.76090411760924, 302.25503172181044, 291.8401260077394, 243.11364444283842, 214.5429287431193, 240.11898744303608, 320.5350245112392, 230.70844463141367, 258.95701834579666, 234.35215868744385, 221.94253262366993, 210.52498165731566, 214.09012973414852, 200.90561222366864, 201.4483070965812, 201.74696351907969, 1.4841783732572864, 1.449958476049654, 1.3916012638332782, 1.3683435315005053, 1.3581709254778334, 1.7970607342527283, 1.745224913240494, 1.7861136307250602, 1.275683025245478, 1.2750223054604068, 2.5894055053462965, 1.2520012514406398, 1.246819287358429, 1.2694417750990943, 1.6890462603467058, 2.0411638610996348, 2.1674829496686856, 1.2599366019190987, 1.2235186086699505, 1.203553889287079, 1.6173915998572526, 1.191434754753406, 1.2179194883029618, 1.1948538526955086, 1.6674920094136871, 1.5969899292761516, 1.1560831048854006, 1.1393226656012632, 1.1167331406947365, 1.566783235608687, 1.5888010317758328, 2.6064769829661443, 1.9403821043093878, 69.71916962219288, 78.79341683135442, 420.64453547554086, 283.1575023736147, 211.51420932837303, 62.99653334438285, 14.133650826543585, 273.7549584182883, 106.21971213580498, 126.37946339933693, 111.88133003632058, 174.04495401231685, 194.5949797239003, 452.7734412380633, 268.48443017199907, 145.3328968012101, 149.55687657980818, 124.08699347270962, 52.22766528298732, 192.99677903443967, 81.10907606876583, 141.00284107318674, 152.17357823802584, 99.1719132490833, 138.96857117798834, 58.73779714035775, 87.02983589433124, 143.5108779515591, 148.90181435313113, 154.25266244024075, 162.0755902036328, 226.77671965959166, 195.55835512915917, 213.50943745757672, 124.14949995697994, 130.00413444383676, 153.69892813783554, 248.36921780799213, 155.93654790845616, 187.58242197979067, 150.82171302526038, 149.65884344946028, 139.79313019123273, 160.3431228539172, 145.2321637571199, 144.6841909794368, 145.32665055930292, 144.3614464483005, 1.6115829574266625, 1.519787374780181, 2.9701932622356666, 1.1165884369365229, 1.1253396670115003, 1.8945035805223458, 1.4720632859061136, 1.449708271066138, 1.786448667432942, 1.3635016807850975, 1.0325771585621768, 1.010212385366139, 1.3624695224933625, 0.9825311112907839, 1.3716900022120186, 1.6977052227830363, 4.005576902787466, 0.9096215539733133, 0.9440261232372332, 1.2274315881324769, 0.9278558908279207, 0.9598354025413381, 1.635266911865564, 1.9483219748953273, 1.9570400053458765, 1.1732614686649117, 0.8934966130644193, 1.57376975196264, 3.495409623588094, 1.2191029373026203, 3.413701423313475, 2.966719711753934, 6.541470285718903, 3.526857198827043, 4.797588840257595, 1.7829617522461678, 122.21241582815335, 84.81919643219733, 92.01347740326689, 127.83498033265862, 412.9501677601066, 69.69507506668332, 57.880064852071726, 78.02564956551308, 31.910336848675367, 44.90522904619451, 19.02655583893662, 61.40305880258908, 6.1436259275570215, 84.41984037739854, 135.37763631224811, 25.23890010988247, 23.45822075226394, 86.2421582160574, 155.88380161626125, 53.245303941065195, 82.28019777065641, 94.62135817886794, 129.15003336663204, 75.35989749570068, 137.89990151452437, 145.249630552004, 129.47959765887518, 121.0678200607661, 137.3363810599704, 73.0897882140673, 77.79432731078627, 102.38074809514785, 128.6272162880418, 93.79267518786939, 134.93493618547987, 155.5531783302472, 90.55291455211805, 103.62059899454376, 88.39600220080423, 95.23626019657569, 91.22058297098766, 82.34828563938837, 86.6178294678646, 83.8249913571219, 84.9598796816092, 84.49437045823683, 84.11613997148329, 1.192836521019642, 1.1101624182698226, 0.8161728395083538, 0.8065480161958494, 0.7807333076070783, 0.7842959186055471, 1.3148872001848448, 0.7491173064886512, 0.7596331231771232, 0.7523539380698205, 0.7323726260442274, 1.282883821749465, 0.730423391754263, 0.723441999233767, 0.7058297008966694, 0.6951309678580513, 0.7108600282605677, 1.7275480189329564, 1.1759242524108386, 1.148973299473837, 1.4251713678596225, 0.9191840385067229, 0.8929818674444114, 0.636686639288754, 0.9362829703555265, 0.9154217353103525, 0.9382561336466041, 2.0989567725805744, 0.6656615088430375, 1.382564802076902, 1.4662460517881635, 22.10678230172035, 1.6424277080479899, 75.25082452127995, 57.71046953501661, 56.61802905419041, 71.09564629866196, 49.63712907939709, 45.83586435981926, 205.1855744292691, 138.9173229181329, 66.917736035926, 28.269057693691973, 41.93991913989395, 78.84657982614469, 74.01623657693018, 85.9746903345334, 53.81578054507144, 31.84071572802648, 107.38009709324933, 95.47009947774366, 180.7191194354592, 89.54804605059813, 117.83871035494646, 73.69031983487922, 86.26339977908127, 38.31570654721431, 105.31057128890619, 54.25115552105412, 100.76967868717794, 43.25511017878332, 65.16938000481511, 73.556712555212, 103.69939230161434, 69.53066169450123, 73.75042267314845, 83.09670832517965, 102.5470288332319, 64.99982983265737, 69.33716412740742, 74.56722831125919, 80.19777643277305, 69.92251824796126, 71.65243685597959, 66.25393975439927, 65.48306689838256], \"Total\": [4904.0, 1043.0, 882.0, 1014.0, 980.0, 657.0, 638.0, 575.0, 849.0, 665.0, 1739.0, 653.0, 1014.0, 992.0, 539.0, 860.0, 2849.0, 5643.0, 619.0, 423.0, 2585.0, 3043.0, 580.0, 1515.0, 1398.0, 3062.0, 657.0, 726.0, 585.0, 2752.0, 6.950199549558217, 4.564860767527228, 10.421337379789648, 3.3998376836082094, 6.85971954537792, 4.561397525718325, 3.3647325960379013, 3.357433124287784, 3.3689557197642714, 17.1239860675197, 36.20996600529106, 7.801714213195579, 3.3252393930362354, 4.466830226950095, 3.2994948305856333, 7.918352675405096, 4.541587042422474, 4.487050088688931, 3.321604735691636, 3.3015626580173425, 5.722117944910635, 4.431651356167137, 5.651313606974873, 6.8642034352432875, 4.460110781749634, 3.302205546351246, 6.746479440726851, 9.087347318896645, 3.308357474597834, 7.816276746670717, 458.67474948354067, 657.3932312175436, 759.6960419253427, 168.98930511689105, 45.86660724089564, 68.11224249375456, 21.95637682698175, 275.79810263812504, 381.2990232033084, 93.95567722780572, 512.7242738617871, 347.05249558043636, 21.967268412808206, 136.7041465419182, 160.2762285991615, 660.6979812411611, 744.380733991129, 21.851195000569454, 12.165535542742296, 100.44839599184999, 427.2719542627828, 71.84861198654045, 840.5627558905819, 555.8090205737817, 153.2883787441394, 38.91955775172398, 353.44338625643206, 361.33856373160756, 65.12703782239021, 420.5639033068073, 399.7465949972067, 96.41886635383706, 90.08688822188464, 884.2239789182195, 1515.171648261985, 1538.8030771072592, 991.6890505152194, 4101.272299796631, 1852.5635331766914, 2131.9103255598866, 2585.239538034782, 1284.2529751130169, 878.93589598148, 2153.0451616387454, 2527.9786785349274, 2521.638623877258, 5643.669775323552, 2867.755985522518, 2270.093150275731, 1113.7872538924235, 3043.0191284782613, 2238.203263725935, 2752.023295521122, 4904.698679800933, 3025.6762057630153, 3062.5567634534796, 1588.5265552422131, 1506.2594694227648, 1754.4089127508466, 1961.1043780288862, 1824.7595643866655, 2026.2995311151185, 1560.0539665952817, 6.357555430661652, 12.771272246669401, 29.6137208665082, 9.490888677890267, 7.373966678548923, 26.494131234416667, 10.508857341599052, 7.440577154467826, 11.684791724719885, 7.4722056806336745, 13.70785765979231, 6.311021405501554, 21.0518548912895, 10.516323025065716, 4.168091004061523, 7.268905214790908, 8.448965679511856, 19.06443952484978, 13.6096218497292, 5.210825374384601, 36.65866375404225, 6.247818243333678, 18.84328369735064, 300.3860945967985, 7.360517208981265, 6.25597841605535, 6.256263041238287, 8.419702650871812, 5.161653736517596, 44.446962602834965, 383.63692966678246, 849.5901379061751, 86.42888450272312, 188.462949424172, 80.81330885397716, 417.7917876912567, 44.160675795968984, 48.23818570813199, 223.0827494612236, 1014.8982043270673, 90.35334441810257, 860.7412664928867, 726.7055881593594, 475.51881022839945, 174.7634542000793, 45.65559376045568, 482.91414732583826, 50.85596518145681, 111.86363376835814, 34.47124260075532, 39.766366829000745, 763.5047529392881, 224.18164337144918, 192.31777545561383, 80.98925289284244, 116.83641917289485, 72.1025180637648, 230.40382944984134, 2849.390985801824, 654.136495539993, 100.25834304896051, 1357.0338136737757, 966.3465735861681, 980.954423855732, 223.8396028820115, 5643.669775323552, 958.2476524162469, 902.3474856356768, 2238.203263725935, 3025.6762057630153, 2527.9786785349274, 4904.698679800933, 1167.3492019403266, 1716.1957093936442, 1961.1043780288862, 1560.0539665952817, 1678.0227092274404, 2867.755985522518, 1953.6302994162704, 4101.272299796631, 1773.488050660986, 2358.4165330115934, 2752.023295521122, 3062.5567634534796, 2061.550970537829, 2585.239538034782, 3043.0191284782613, 52.50385668790334, 14.92326187595626, 5.8903599710703025, 20.710071894062008, 8.906954396051274, 14.817067110741467, 28.928576926542625, 18.695130374180877, 6.944194211047093, 8.91585231528635, 16.81261082333261, 35.5036203497783, 63.3611685511529, 8.843756540807775, 13.886952410159395, 17.653877627210264, 8.823956153591324, 4.921954338752286, 6.8682925989992, 20.87446575793306, 102.77443854114392, 7.796792532882545, 5.9253593111887355, 27.653397780913, 6.919174733388381, 7.928517602951964, 42.418704080962435, 9.820358808837096, 99.87055185081188, 665.4764204456733, 380.62241038040355, 49.69199306477873, 113.55842375383936, 1014.5194561205137, 162.90580919145094, 223.66291806233454, 203.40805839717817, 38.33768553578898, 296.42133206597475, 241.44118212277772, 52.17940948720571, 65.23823266809912, 56.344359296913446, 72.23778804589931, 72.79347785832661, 267.6675093336581, 89.31788258911972, 51.93385253341545, 107.43554967728346, 44.343497871677656, 542.6421900505902, 72.5913731786693, 52.309784161543995, 220.80734100909365, 341.7936352525802, 250.59997743927195, 272.9411189410017, 190.90331537620355, 213.7141333787601, 753.0485702630692, 5643.669775323552, 254.33545316818285, 779.6808989485578, 815.3666284174382, 367.8860461619107, 303.2641068844057, 977.879593096701, 4904.698679800933, 599.9329406971065, 4101.272299796631, 1773.488050660986, 3043.0191284782613, 1150.4424676621725, 1370.6575996195247, 3062.5567634534796, 2021.8149229579692, 2061.550970537829, 2527.9786785349274, 3025.6762057630153, 1953.6302994162704, 2867.755985522518, 1395.770902464743, 1755.708082408391, 2521.638623877258, 2849.390985801824, 2358.4165330115934, 2270.093150275731, 2585.239538034782, 1824.7595643866655, 2026.2995311151185, 2752.023295521122, 8.11347415721841, 11.994637802733195, 5.034886890615673, 6.680203752950636, 3.9438706003932813, 6.718282283228706, 6.829835146955108, 4.993531586309533, 7.625744357370283, 9.504663430398349, 3.904268052603465, 13.711355304879703, 9.391906477452086, 13.050762077928127, 16.71342036170396, 7.662564091070909, 41.668092773057495, 10.473434826844882, 3.849842032633731, 16.628230474520763, 5.6598929975077885, 3.982890194106034, 3.886476722730655, 3.9911677696629724, 3.875516767365197, 3.854396407361444, 8.772807945134224, 12.996213583286558, 2.935096205486094, 26.089897200750478, 24.042842395403454, 56.29357967891156, 13.457305525319065, 1043.2173759041782, 21.591661846878033, 17.022254825641756, 139.84782456860006, 17.01689376277028, 44.40915427576239, 657.7662909943504, 882.7752477490981, 93.89768764659397, 58.5840307059352, 423.8526891895731, 74.75816177040632, 575.5460459251443, 72.3841566759282, 327.8911737666432, 63.651252606228766, 56.90380799116848, 638.8725187213153, 58.4965997873707, 69.69646768302042, 585.7793655058879, 204.18362917951245, 580.7163220431721, 74.10860103127366, 60.02913609890189, 75.38215807750237, 992.1915177636102, 77.12143991609045, 657.4298368243241, 107.71799668666158, 494.64588259170944, 91.46110155232263, 383.65399189408356, 535.2488191255607, 1739.7673878571513, 723.5935499112047, 1097.4066454153294, 2752.023295521122, 4904.698679800933, 560.4445348084603, 1953.594120434601, 2521.638623877258, 1035.8475872751292, 705.0879054297061, 1515.171648261985, 3043.0191284782613, 2238.203263725935, 2153.0451616387454, 3025.6762057630153, 4101.272299796631, 2867.755985522518, 2358.4165330115934, 2270.093150275731, 5643.669775323552, 2061.550970537829, 2026.2995311151185, 3062.5567634534796, 1755.708082408391, 1961.1043780288862, 2585.239538034782, 8.123591529493247, 6.146611989489918, 15.240784073841542, 10.286663225839138, 4.087103765906255, 4.057341900629239, 17.232045616567614, 5.077646988084771, 5.061803068043502, 4.06612507071179, 4.0314331952581, 20.100833817137204, 9.06584918616387, 5.086129599538796, 7.127698132107686, 7.934405836490124, 5.004275014183371, 3.973706348211366, 46.76927349495462, 5.013039703640732, 3.926869044288426, 6.043184751371603, 3.033261705383729, 10.831528852312157, 5.0955024234517365, 3.0205647037180845, 38.518507643562415, 2.9795053770408613, 11.948110938974487, 3.01998029547136, 4.026946473273271, 15.095505824892873, 14.95459520937758, 19.81359746140037, 458.4269696155396, 467.7360342672961, 227.4460339289352, 619.3553878647338, 224.76620872140546, 233.7650539221552, 190.91966618835525, 78.30752057175285, 44.527888047009, 389.5095621264909, 81.04330703561321, 222.83476256253968, 77.67353341783972, 76.74677781662909, 153.50135588868372, 65.51406141271202, 68.93898350148021, 622.4126220356139, 57.489309931363834, 53.70148559269288, 40.985942215629365, 161.21420427129377, 34.28619032790154, 347.87708809892837, 857.7000116577823, 289.34125036727414, 740.5575887644604, 76.60392565718588, 577.5841834876752, 425.53553890317875, 116.57250489896478, 308.6134415639894, 1377.0820411636194, 5643.669775323552, 1449.2457785989811, 3062.5567634534796, 2849.390985801824, 4101.272299796631, 924.4417622937965, 1513.1265077467333, 608.9827281485021, 1042.856914060633, 4904.698679800933, 2358.4165330115934, 530.0925838212731, 1347.3642640381547, 3043.0191284782613, 1464.5071991771295, 2521.638623877258, 2021.8149229579692, 2752.023295521122, 2131.9103255598866, 1385.853156377506, 2867.755985522518, 1678.0227092274404, 3025.6762057630153, 2585.239538034782, 2061.550970537829, 2153.0451616387454, 1953.6302994162704, 13.412878200897515, 30.409308327513667, 17.990508488691916, 6.689080981875785, 13.12724644506137, 6.683771637021165, 7.5470487704863105, 9.961396482354907, 18.85746866528552, 6.602335140042181, 3.7811866968676537, 19.335486637250856, 4.6920025955605125, 21.815398166844126, 7.531895815061338, 35.692548601266026, 10.116717797432674, 4.706946131897603, 134.06072409831873, 11.338759569386934, 240.93193805492066, 4.767806347813181, 8.290451170728405, 7.594051864505485, 73.71608525882375, 9.512328738914157, 6.688898421083065, 6.68825851947948, 4.729488938330981, 3.727423388442232, 86.80494637539806, 25.378212642398434, 539.4826053932562, 653.1143397666772, 125.93053259241286, 60.62700742959434, 283.4800442295642, 127.07753926322381, 74.75012927967909, 28.029014207639648, 35.082440708320746, 52.960365394466535, 523.6690231778085, 90.38849283325149, 61.70755973947517, 32.0503060267625, 667.4575712144269, 33.8432618798606, 32.14099639342568, 110.11306780550564, 174.01086183942468, 72.32754722009756, 169.4428953072735, 67.47612292006856, 118.8069664832863, 1464.5071991771295, 272.25970643927764, 74.40096325592866, 1513.1265077467333, 1678.0227092274404, 1753.871611077334, 1768.389437130826, 4904.698679800933, 3062.5567634534796, 732.9195823044697, 3025.6762057630153, 1377.0820411636194, 5643.669775323552, 3043.0191284782613, 2021.8149229579692, 2867.755985522518, 2026.2995311151185, 2752.023295521122, 4101.272299796631, 1953.594120434601, 2131.9103255598866, 2585.239538034782, 2270.093150275731, 1415.1093475817886, 1953.6302994162704, 1385.853156377506, 2849.390985801824, 2061.550970537829, 2358.4165330115934, 1754.4089127508466, 2153.0451616387454, 5.999664419555498, 3.9795938384620975, 12.354909797303506, 3.9626461534682766, 7.086583963817159, 14.161593638698045, 4.986548498629043, 2.93441131132964, 12.123774285109599, 4.9388140089683095, 3.9462199716969417, 2.923725875587963, 3.9754925744909264, 15.225180631955375, 4.911659688281624, 61.68142321122523, 3.894962826587663, 2.862478836663249, 15.25337796002052, 17.56063674272554, 26.68325511055087, 2.9010139770459973, 13.341915848093976, 2.832901202158216, 2.9032634125702956, 8.22573064382561, 2.9050537264296965, 3.919446506472625, 4.942539975069038, 3.940335763822291, 303.63970854932035, 32.63510020634854, 980.5592386307592, 36.890929634753604, 20.357334457012396, 147.8829584973169, 36.81572526375839, 317.1252430509654, 522.8251361687336, 34.77610569836656, 213.61885519823917, 176.81407319681549, 36.74777873115659, 233.84289603411864, 264.40834631543913, 53.150847238102386, 154.77748944507047, 42.481132200020376, 62.625392128911635, 58.1111110327425, 107.95607361317718, 122.32550848313561, 49.98273727108108, 196.58364503849228, 1739.7673878571513, 64.16770773864081, 50.76094248287442, 59.61942805439117, 200.90538593289583, 925.0395943916778, 914.5807449436644, 132.10778349563964, 739.4003663581985, 4904.698679800933, 1506.2594694227648, 5643.669775323552, 1021.1448037260807, 393.98118437695473, 554.0171899594341, 494.64588259170944, 2527.9786785349274, 446.55577474239334, 2358.4165330115934, 767.3616625447186, 3062.5567634534796, 781.9831510483104, 2849.390985801824, 1013.5938554037124, 2026.2995311151185, 3025.6762057630153, 3043.0191284782613, 2867.755985522518, 2752.023295521122, 1953.6302994162704, 1538.8030771072592, 2021.8149229579692, 4101.272299796631, 1852.5635331766914, 2521.638623877258, 1961.1043780288862, 2131.9103255598866, 2061.550970537829, 2270.093150275731, 1640.0574970213142, 1768.389437130826, 2238.203263725935, 2.499504219068399, 2.47629352506447, 2.466373976399201, 2.492769488338385, 2.5109923399107976, 3.362986604559663, 3.278061427481292, 3.4108717904322594, 2.4391474642513233, 2.4539031538480023, 4.992356601245449, 2.438719379100094, 2.4418391554945655, 2.504546617954726, 3.349092633481646, 4.066944597847285, 4.321168121394816, 2.512573147139023, 2.4569131998717673, 2.451975174932043, 3.315389318090417, 2.4449273875094213, 2.5006082540001997, 2.475480729437023, 3.4744820615787257, 3.385314372848191, 2.46059536980699, 2.4268670698798824, 2.425272358547638, 3.4251477073929792, 3.500002410675666, 6.458340939026309, 4.568062741043993, 353.44338625643206, 420.5639033068073, 4101.272299796631, 2527.9786785349274, 1754.4089127508466, 381.2990232033084, 56.50075798112591, 2585.239538034782, 759.6960419253427, 971.8195428772469, 840.5627558905819, 1538.8030771072592, 1852.5635331766914, 5643.669775323552, 2849.390985801824, 1284.2529751130169, 1357.0338136737757, 1071.376233116765, 351.2159156932248, 2131.9103255598866, 657.3932312175436, 1402.5503170581649, 1560.0539665952817, 868.403800680026, 1398.7484932170619, 427.2719542627828, 744.380733991129, 1506.2594694227648, 1588.5265552422131, 1678.0227092274404, 1824.7595643866655, 3025.6762057630153, 2521.638623877258, 3062.5567634534796, 1300.4706827513803, 1409.6780736762012, 1961.1043780288862, 4904.698679800933, 2021.8149229579692, 3043.0191284782613, 1953.6302994162704, 2061.550970537829, 1753.871611077334, 2867.755985522518, 2026.2995311151185, 2238.203263725935, 2358.4165330115934, 2270.093150275731, 2.9150237086134285, 2.954657434977559, 5.859106814455724, 2.204146763804005, 2.221868433009681, 3.7536380680417993, 2.92642390827214, 3.0102668763950735, 3.717119266846943, 2.950091242300717, 2.244839851924865, 2.2044653747650664, 3.0060308506331483, 2.201448141486308, 3.089881612237819, 3.9440938089066213, 9.480897229714843, 2.1698818709572043, 2.255339455028682, 2.9415548847434057, 2.2291288904797666, 2.3077110799666993, 3.9471573279602166, 4.773960745013019, 4.809171843449758, 2.92431192422681, 2.230015643656472, 3.9706778280499586, 8.878845595545348, 3.1238071631760085, 9.54219763248981, 8.231728811407022, 20.332758970703022, 10.778923992475507, 15.95052896051323, 4.887191830746907, 882.7752477490981, 575.5460459251443, 638.8725187213153, 1043.2173759041782, 4904.698679800933, 535.2488191255607, 423.8526891895731, 657.7662909943504, 204.18362917951245, 327.8911737666432, 107.71799668666158, 560.4445348084603, 23.141887528334195, 992.1915177636102, 1953.594120434601, 179.3705384091195, 163.5043848004186, 1097.4066454153294, 2867.755985522518, 580.7163220431721, 1113.7872538924235, 1398.7484932170619, 2270.093150275731, 1035.8475872751292, 2752.023295521122, 3062.5567634534796, 2585.239538034782, 2358.4165330115934, 3043.0191284782613, 1102.9511215059683, 1266.9067817707298, 2026.2995311151185, 3025.6762057630153, 1753.871611077334, 4101.272299796631, 5643.669775323552, 1824.7595643866655, 2521.638623877258, 1739.7673878571513, 2153.0451616387454, 1953.6302994162704, 1515.171648261985, 2131.9103255598866, 1768.389437130826, 2021.8149229579692, 2061.550970537829, 2238.203263725935, 2.577833719256346, 2.5965919540277773, 1.9705191637546469, 1.9731577729542102, 1.9438775025357065, 1.96186811868336, 3.3997036953654605, 1.9409482677211858, 1.9811094402727023, 2.0024295795537386, 1.983410386665359, 3.4999530048538485, 2.0104453087612844, 2.0013265961425137, 2.031610266859465, 2.005418903029983, 2.058318944560056, 5.047513176442602, 3.5040660050540815, 3.439701307929696, 4.300390235970736, 2.779171218360342, 2.726249630307056, 1.9559565595487567, 2.893513088896871, 2.8375371118713515, 2.9109266498181383, 6.532853153642112, 2.093774420836774, 4.384970666589325, 5.025225007728517, 139.84782456860006, 6.108330678454308, 882.7752477490981, 657.4298368243241, 657.7662909943504, 1043.2173759041782, 638.8725187213153, 575.5460459251443, 4904.698679800933, 3043.0191284782613, 1102.9511215059683, 327.8911737666432, 580.7163220431721, 1515.171648261985, 1398.7484932170619, 1755.708082408391, 904.1536522214861, 423.8526891895731, 2521.638623877258, 2153.0451616387454, 5643.669775323552, 2021.8149229579692, 3062.5567634534796, 1522.4140955703024, 1961.1043780288862, 585.7793655058879, 2752.023295521122, 992.1915177636102, 2585.239538034782, 705.0879054297061, 1329.295425803658, 1640.0574970213142, 2867.755985522518, 1513.1265077467333, 1754.4089127508466, 2270.093150275731, 4101.272299796631, 1505.3012520377583, 1753.871611077334, 2131.9103255598866, 3025.6762057630153, 2026.2995311151185, 2849.390985801824, 1953.594120434601, 2238.203263725935], \"Category\": [\"Default\", \"Default\", \"Default\", \"Default\", \"Default\", \"Default\", \"Default\", \"Default\", \"Default\", \"Default\", \"Default\", \"Default\", \"Default\", \"Default\", \"Default\", \"Default\", \"Default\", \"Default\", \"Default\", \"Default\", \"Default\", \"Default\", \"Default\", \"Default\", \"Default\", \"Default\", \"Default\", \"Default\", \"Default\", \"Default\", \"Topic1\", \"Topic1\", \"Topic1\", \"Topic1\", \"Topic1\", \"Topic1\", \"Topic1\", \"Topic1\", \"Topic1\", \"Topic1\", \"Topic1\", \"Topic1\", \"Topic1\", \"Topic1\", \"Topic1\", \"Topic1\", \"Topic1\", \"Topic1\", \"Topic1\", \"Topic1\", \"Topic1\", \"Topic1\", \"Topic1\", \"Topic1\", \"Topic1\", \"Topic1\", \"Topic1\", \"Topic1\", \"Topic1\", \"Topic1\", \"Topic1\", \"Topic1\", \"Topic1\", \"Topic1\", \"Topic1\", \"Topic1\", \"Topic1\", \"Topic1\", \"Topic1\", \"Topic1\", \"Topic1\", \"Topic1\", \"Topic1\", \"Topic1\", \"Topic1\", \"Topic1\", \"Topic1\", \"Topic1\", \"Topic1\", \"Topic1\", \"Topic1\", \"Topic1\", \"Topic1\", \"Topic1\", \"Topic1\", \"Topic1\", \"Topic1\", \"Topic1\", \"Topic1\", \"Topic1\", \"Topic1\", \"Topic1\", \"Topic1\", \"Topic1\", \"Topic1\", \"Topic1\", \"Topic1\", \"Topic1\", \"Topic1\", \"Topic1\", \"Topic1\", \"Topic1\", \"Topic1\", \"Topic1\", \"Topic1\", \"Topic1\", \"Topic1\", \"Topic1\", \"Topic1\", \"Topic1\", \"Topic1\", \"Topic1\", \"Topic1\", \"Topic1\", \"Topic1\", \"Topic1\", \"Topic1\", \"Topic1\", \"Topic1\", \"Topic1\", \"Topic1\", \"Topic1\", \"Topic1\", \"Topic2\", \"Topic2\", \"Topic2\", \"Topic2\", \"Topic2\", \"Topic2\", \"Topic2\", \"Topic2\", \"Topic2\", \"Topic2\", \"Topic2\", \"Topic2\", \"Topic2\", \"Topic2\", \"Topic2\", \"Topic2\", \"Topic2\", \"Topic2\", \"Topic2\", \"Topic2\", \"Topic2\", \"Topic2\", \"Topic2\", \"Topic2\", \"Topic2\", \"Topic2\", \"Topic2\", \"Topic2\", \"Topic2\", \"Topic2\", \"Topic2\", \"Topic2\", \"Topic2\", \"Topic2\", \"Topic2\", \"Topic2\", \"Topic2\", \"Topic2\", \"Topic2\", \"Topic2\", \"Topic2\", \"Topic2\", \"Topic2\", \"Topic2\", \"Topic2\", \"Topic2\", \"Topic2\", \"Topic2\", \"Topic2\", \"Topic2\", \"Topic2\", \"Topic2\", \"Topic2\", \"Topic2\", \"Topic2\", \"Topic2\", \"Topic2\", \"Topic2\", \"Topic2\", \"Topic2\", \"Topic2\", \"Topic2\", \"Topic2\", \"Topic2\", \"Topic2\", \"Topic2\", \"Topic2\", \"Topic2\", \"Topic2\", \"Topic2\", \"Topic2\", \"Topic2\", \"Topic2\", \"Topic2\", \"Topic2\", \"Topic2\", \"Topic2\", \"Topic2\", \"Topic2\", \"Topic2\", \"Topic2\", \"Topic2\", \"Topic2\", \"Topic2\", \"Topic2\", \"Topic2\", \"Topic2\", \"Topic3\", \"Topic3\", \"Topic3\", \"Topic3\", \"Topic3\", \"Topic3\", \"Topic3\", \"Topic3\", \"Topic3\", \"Topic3\", \"Topic3\", \"Topic3\", \"Topic3\", \"Topic3\", \"Topic3\", \"Topic3\", \"Topic3\", \"Topic3\", \"Topic3\", \"Topic3\", \"Topic3\", \"Topic3\", \"Topic3\", \"Topic3\", \"Topic3\", \"Topic3\", \"Topic3\", \"Topic3\", \"Topic3\", \"Topic3\", \"Topic3\", \"Topic3\", \"Topic3\", \"Topic3\", \"Topic3\", \"Topic3\", \"Topic3\", \"Topic3\", \"Topic3\", \"Topic3\", \"Topic3\", \"Topic3\", \"Topic3\", \"Topic3\", \"Topic3\", \"Topic3\", \"Topic3\", \"Topic3\", \"Topic3\", \"Topic3\", \"Topic3\", \"Topic3\", \"Topic3\", \"Topic3\", \"Topic3\", \"Topic3\", \"Topic3\", \"Topic3\", \"Topic3\", \"Topic3\", \"Topic3\", \"Topic3\", \"Topic3\", \"Topic3\", \"Topic3\", \"Topic3\", \"Topic3\", \"Topic3\", \"Topic3\", \"Topic3\", \"Topic3\", \"Topic3\", \"Topic3\", \"Topic3\", \"Topic3\", \"Topic3\", \"Topic3\", \"Topic3\", \"Topic3\", \"Topic3\", \"Topic3\", \"Topic3\", \"Topic3\", \"Topic3\", \"Topic3\", \"Topic3\", \"Topic3\", \"Topic3\", \"Topic3\", \"Topic3\", \"Topic3\", \"Topic4\", \"Topic4\", \"Topic4\", \"Topic4\", \"Topic4\", \"Topic4\", \"Topic4\", \"Topic4\", \"Topic4\", \"Topic4\", \"Topic4\", \"Topic4\", \"Topic4\", \"Topic4\", \"Topic4\", \"Topic4\", \"Topic4\", \"Topic4\", \"Topic4\", \"Topic4\", \"Topic4\", \"Topic4\", \"Topic4\", \"Topic4\", \"Topic4\", \"Topic4\", \"Topic4\", \"Topic4\", \"Topic4\", \"Topic4\", \"Topic4\", \"Topic4\", \"Topic4\", \"Topic4\", \"Topic4\", \"Topic4\", \"Topic4\", \"Topic4\", \"Topic4\", \"Topic4\", \"Topic4\", \"Topic4\", \"Topic4\", \"Topic4\", \"Topic4\", \"Topic4\", \"Topic4\", \"Topic4\", \"Topic4\", \"Topic4\", \"Topic4\", \"Topic4\", \"Topic4\", \"Topic4\", \"Topic4\", \"Topic4\", \"Topic4\", \"Topic4\", \"Topic4\", \"Topic4\", \"Topic4\", \"Topic4\", \"Topic4\", \"Topic4\", \"Topic4\", \"Topic4\", \"Topic4\", \"Topic4\", \"Topic4\", \"Topic4\", \"Topic4\", \"Topic4\", \"Topic4\", \"Topic4\", \"Topic4\", \"Topic4\", \"Topic4\", \"Topic4\", \"Topic4\", \"Topic4\", \"Topic4\", \"Topic4\", \"Topic4\", \"Topic4\", \"Topic4\", \"Topic4\", \"Topic4\", \"Topic4\", \"Topic4\", \"Topic4\", \"Topic4\", \"Topic4\", \"Topic4\", \"Topic5\", \"Topic5\", \"Topic5\", \"Topic5\", \"Topic5\", \"Topic5\", \"Topic5\", \"Topic5\", \"Topic5\", \"Topic5\", \"Topic5\", \"Topic5\", \"Topic5\", \"Topic5\", \"Topic5\", \"Topic5\", \"Topic5\", \"Topic5\", \"Topic5\", \"Topic5\", \"Topic5\", \"Topic5\", \"Topic5\", \"Topic5\", \"Topic5\", \"Topic5\", \"Topic5\", \"Topic5\", \"Topic5\", \"Topic5\", \"Topic5\", \"Topic5\", \"Topic5\", \"Topic5\", \"Topic5\", \"Topic5\", \"Topic5\", \"Topic5\", \"Topic5\", \"Topic5\", \"Topic5\", \"Topic5\", \"Topic5\", \"Topic5\", \"Topic5\", \"Topic5\", \"Topic5\", \"Topic5\", \"Topic5\", \"Topic5\", \"Topic5\", \"Topic5\", \"Topic5\", \"Topic5\", \"Topic5\", \"Topic5\", \"Topic5\", \"Topic5\", \"Topic5\", \"Topic5\", \"Topic5\", \"Topic5\", \"Topic5\", \"Topic5\", \"Topic5\", \"Topic5\", \"Topic5\", \"Topic5\", \"Topic5\", \"Topic5\", \"Topic5\", \"Topic5\", \"Topic5\", \"Topic5\", \"Topic5\", \"Topic5\", \"Topic5\", \"Topic5\", \"Topic5\", \"Topic5\", \"Topic5\", \"Topic5\", \"Topic5\", \"Topic5\", \"Topic5\", \"Topic5\", \"Topic5\", \"Topic5\", \"Topic5\", \"Topic5\", \"Topic5\", \"Topic5\", \"Topic5\", \"Topic5\", \"Topic6\", \"Topic6\", \"Topic6\", \"Topic6\", \"Topic6\", \"Topic6\", \"Topic6\", \"Topic6\", \"Topic6\", \"Topic6\", \"Topic6\", \"Topic6\", \"Topic6\", \"Topic6\", \"Topic6\", \"Topic6\", \"Topic6\", \"Topic6\", \"Topic6\", \"Topic6\", \"Topic6\", \"Topic6\", \"Topic6\", \"Topic6\", \"Topic6\", \"Topic6\", \"Topic6\", \"Topic6\", \"Topic6\", \"Topic6\", \"Topic6\", \"Topic6\", \"Topic6\", \"Topic6\", \"Topic6\", \"Topic6\", \"Topic6\", \"Topic6\", \"Topic6\", \"Topic6\", \"Topic6\", \"Topic6\", \"Topic6\", \"Topic6\", \"Topic6\", \"Topic6\", \"Topic6\", \"Topic6\", \"Topic6\", \"Topic6\", \"Topic6\", \"Topic6\", \"Topic6\", \"Topic6\", \"Topic6\", \"Topic6\", \"Topic6\", \"Topic6\", \"Topic6\", \"Topic6\", \"Topic6\", \"Topic6\", \"Topic6\", \"Topic6\", \"Topic6\", \"Topic6\", \"Topic6\", \"Topic6\", \"Topic6\", \"Topic6\", \"Topic6\", \"Topic6\", \"Topic6\", \"Topic6\", \"Topic6\", \"Topic6\", \"Topic6\", \"Topic6\", \"Topic6\", \"Topic6\", \"Topic6\", \"Topic6\", \"Topic6\", \"Topic6\", \"Topic6\", \"Topic6\", \"Topic7\", \"Topic7\", \"Topic7\", \"Topic7\", \"Topic7\", \"Topic7\", \"Topic7\", \"Topic7\", \"Topic7\", \"Topic7\", \"Topic7\", \"Topic7\", \"Topic7\", \"Topic7\", \"Topic7\", \"Topic7\", \"Topic7\", \"Topic7\", \"Topic7\", \"Topic7\", \"Topic7\", \"Topic7\", \"Topic7\", \"Topic7\", \"Topic7\", \"Topic7\", \"Topic7\", \"Topic7\", \"Topic7\", \"Topic7\", \"Topic7\", \"Topic7\", \"Topic7\", \"Topic7\", \"Topic7\", \"Topic7\", \"Topic7\", \"Topic7\", \"Topic7\", \"Topic7\", \"Topic7\", \"Topic7\", \"Topic7\", \"Topic7\", \"Topic7\", \"Topic7\", \"Topic7\", \"Topic7\", \"Topic7\", \"Topic7\", \"Topic7\", \"Topic7\", \"Topic7\", \"Topic7\", \"Topic7\", \"Topic7\", \"Topic7\", \"Topic7\", \"Topic7\", \"Topic7\", \"Topic7\", \"Topic7\", \"Topic7\", \"Topic7\", \"Topic7\", \"Topic7\", \"Topic7\", \"Topic7\", \"Topic7\", \"Topic7\", \"Topic7\", \"Topic7\", \"Topic7\", \"Topic7\", \"Topic7\", \"Topic7\", \"Topic7\", \"Topic7\", \"Topic7\", \"Topic7\", \"Topic7\", \"Topic7\", \"Topic7\", \"Topic7\", \"Topic7\", \"Topic7\", \"Topic7\", \"Topic7\", \"Topic7\", \"Topic7\", \"Topic7\", \"Topic7\", \"Topic7\", \"Topic7\", \"Topic7\", \"Topic7\", \"Topic8\", \"Topic8\", \"Topic8\", \"Topic8\", \"Topic8\", \"Topic8\", \"Topic8\", \"Topic8\", \"Topic8\", \"Topic8\", \"Topic8\", \"Topic8\", \"Topic8\", \"Topic8\", \"Topic8\", \"Topic8\", \"Topic8\", \"Topic8\", \"Topic8\", \"Topic8\", \"Topic8\", \"Topic8\", \"Topic8\", \"Topic8\", \"Topic8\", \"Topic8\", \"Topic8\", \"Topic8\", \"Topic8\", \"Topic8\", \"Topic8\", \"Topic8\", \"Topic8\", \"Topic8\", \"Topic8\", \"Topic8\", \"Topic8\", \"Topic8\", \"Topic8\", \"Topic8\", \"Topic8\", \"Topic8\", \"Topic8\", \"Topic8\", \"Topic8\", \"Topic8\", \"Topic8\", \"Topic8\", \"Topic8\", \"Topic8\", \"Topic8\", \"Topic8\", \"Topic8\", \"Topic8\", \"Topic8\", \"Topic8\", \"Topic8\", \"Topic8\", \"Topic8\", \"Topic8\", \"Topic8\", \"Topic8\", \"Topic8\", \"Topic8\", \"Topic8\", \"Topic8\", \"Topic8\", \"Topic8\", \"Topic8\", \"Topic8\", \"Topic8\", \"Topic8\", \"Topic8\", \"Topic8\", \"Topic8\", \"Topic8\", \"Topic8\", \"Topic8\", \"Topic8\", \"Topic8\", \"Topic8\", \"Topic9\", \"Topic9\", \"Topic9\", \"Topic9\", \"Topic9\", \"Topic9\", \"Topic9\", \"Topic9\", \"Topic9\", \"Topic9\", \"Topic9\", \"Topic9\", \"Topic9\", \"Topic9\", \"Topic9\", \"Topic9\", \"Topic9\", \"Topic9\", \"Topic9\", \"Topic9\", \"Topic9\", \"Topic9\", \"Topic9\", \"Topic9\", \"Topic9\", \"Topic9\", \"Topic9\", \"Topic9\", \"Topic9\", \"Topic9\", \"Topic9\", \"Topic9\", \"Topic9\", \"Topic9\", \"Topic9\", \"Topic9\", \"Topic9\", \"Topic9\", \"Topic9\", \"Topic9\", \"Topic9\", \"Topic9\", \"Topic9\", \"Topic9\", \"Topic9\", \"Topic9\", \"Topic9\", \"Topic9\", \"Topic9\", \"Topic9\", \"Topic9\", \"Topic9\", \"Topic9\", \"Topic9\", \"Topic9\", \"Topic9\", \"Topic9\", \"Topic9\", \"Topic9\", \"Topic9\", \"Topic9\", \"Topic9\", \"Topic9\", \"Topic9\", \"Topic9\", \"Topic9\", \"Topic9\", \"Topic9\", \"Topic9\", \"Topic9\", \"Topic9\", \"Topic9\", \"Topic9\", \"Topic9\", \"Topic9\", \"Topic9\", \"Topic9\", \"Topic9\", \"Topic9\", \"Topic9\", \"Topic9\", \"Topic9\", \"Topic9\", \"Topic10\", \"Topic10\", \"Topic10\", \"Topic10\", \"Topic10\", \"Topic10\", \"Topic10\", \"Topic10\", \"Topic10\", \"Topic10\", \"Topic10\", \"Topic10\", \"Topic10\", \"Topic10\", \"Topic10\", \"Topic10\", \"Topic10\", \"Topic10\", \"Topic10\", \"Topic10\", \"Topic10\", \"Topic10\", \"Topic10\", \"Topic10\", \"Topic10\", \"Topic10\", \"Topic10\", \"Topic10\", \"Topic10\", \"Topic10\", \"Topic10\", \"Topic10\", \"Topic10\", \"Topic10\", \"Topic10\", \"Topic10\", \"Topic10\", \"Topic10\", \"Topic10\", \"Topic10\", \"Topic10\", \"Topic10\", \"Topic10\", \"Topic10\", \"Topic10\", \"Topic10\", \"Topic10\", \"Topic10\", \"Topic10\", \"Topic10\", \"Topic10\", \"Topic10\", \"Topic10\", \"Topic10\", \"Topic10\", \"Topic10\", \"Topic10\", \"Topic10\", \"Topic10\", \"Topic10\", \"Topic10\", \"Topic10\", \"Topic10\", \"Topic10\", \"Topic10\", \"Topic10\", \"Topic10\", \"Topic10\", \"Topic10\", \"Topic10\", \"Topic10\", \"Topic10\", \"Topic10\", \"Topic10\", \"Topic10\", \"Topic10\"], \"logprob\": [30.0, 29.0, 28.0, 27.0, 26.0, 25.0, 24.0, 23.0, 22.0, 21.0, 20.0, 19.0, 18.0, 17.0, 16.0, 15.0, 14.0, 13.0, 12.0, 11.0, 10.0, 9.0, 8.0, 7.0, 6.0, 5.0, 4.0, 3.0, 2.0, 1.0, -9.9538, -10.389, -9.5675, -10.7139, -10.0132, -10.4268, -10.7409, -10.7449, -10.7447, -9.129, -8.3806, -9.9168, -10.7713, -10.4779, -10.7839, -9.9086, -10.4647, -10.4828, -10.7838, -10.7905, -10.241, -10.4983, -10.2557, -10.0616, -10.4937, -10.7955, -10.0865, -9.7891, -10.8042, -9.9476, -5.9424, -5.6442, -5.5345, -6.9838, -8.2457, -7.8672, -8.9596, -6.5573, -6.2507, -7.5878, -6.0179, -6.3939, -8.9842, -7.2855, -7.1384, -5.8283, -5.7476, -8.9951, -9.5406, -7.6056, -6.2902, -7.9152, -5.6981, -6.0871, -7.2543, -8.4814, -6.5265, -6.5272, -8.0367, -6.4205, -6.498, -7.7107, -7.7733, -5.8881, -5.4477, -5.454, -5.8115, -4.6981, -5.3275, -5.2911, -5.1536, -5.7136, -5.9995, -5.3718, -5.2696, -5.2804, -4.8386, -5.2702, -5.4508, -5.8647, -5.3047, -5.4943, -5.3904, -5.1362, -5.3771, -5.3791, -5.6961, -5.7404, -5.6974, -5.7297, -5.7621, -5.7902, -5.8051, -9.7999, -9.1056, -8.2855, -9.4399, -9.703, -8.4241, -9.349, -9.6999, -9.2502, -9.6975, -9.0953, -9.8728, -8.6707, -9.3647, -10.2988, -9.7435, -9.5932, -8.7797, -9.1174, -10.0793, -8.1299, -9.9018, -8.798, -6.0296, -9.741, -9.9059, -9.9063, -9.6094, -10.1048, -7.9525, -5.814, -5.036, -7.3122, -6.5509, -7.386, -5.7806, -7.983, -7.8976, -6.4139, -4.9726, -7.2967, -5.1552, -5.3287, -5.7377, -6.7007, -7.9726, -5.7605, -7.8765, -7.1454, -8.2414, -8.1126, -5.403, -6.523, -6.6763, -7.4744, -7.1636, -7.5906, -6.5831, -4.6946, -5.8889, -7.3537, -5.3559, -5.716, -5.7374, -6.8286, -4.6031, -5.8484, -5.9301, -5.3545, -5.2141, -5.3252, -4.9708, -5.8044, -5.6117, -5.5664, -5.6875, -5.6779, -5.489, -5.6735, -5.4328, -5.7109, -5.6227, -5.636, -5.6242, -5.7199, -5.697, -5.7138, -7.6449, -8.9116, -9.8483, -8.5917, -9.4364, -8.9299, -8.2646, -8.7031, -9.6957, -9.4498, -8.8162, -8.0693, -7.4938, -9.4654, -9.0152, -8.7767, -9.4704, -10.0552, -9.7221, -8.6109, -7.021, -9.6017, -9.8774, -8.338, -9.7239, -9.5893, -7.9153, -9.379, -7.0598, -5.164, -5.7348, -7.7601, -6.9496, -4.7885, -6.5994, -6.2972, -6.3944, -8.0307, -6.0323, -6.2486, -7.7348, -7.52, -7.6718, -7.4381, -7.4326, -6.213, -7.2615, -7.7694, -7.1021, -7.9166, -5.7021, -7.4845, -7.7739, -6.5616, -6.2324, -6.5354, -6.4874, -6.7903, -6.7407, -5.8382, -4.5714, -6.6901, -5.9739, -5.9676, -6.469, -6.5868, -5.9584, -5.0829, -6.2431, -5.3008, -5.7216, -5.4604, -5.9441, -5.8641, -5.5621, -5.7534, -5.7581, -5.6816, -5.6116, -5.7862, -5.6628, -5.9259, -5.8893, -5.7922, -5.7713, -5.8292, -5.8793, -5.8594, -5.952, -5.9538, -5.9658, -9.355, -9.0779, -9.9507, -9.6809, -10.2102, -9.6784, -9.668, -9.9851, -9.5784, -9.3689, -10.2641, -9.0101, -9.398, -9.0796, -8.8337, -9.6146, -7.923, -9.3045, -10.3095, -8.851, -9.9297, -10.284, -10.3132, -10.2867, -10.3218, -10.3315, -9.5092, -9.1177, -10.6067, -8.4237, -8.5092, -7.6695, -9.0868, -4.8191, -8.6226, -8.856, -6.7922, -8.8568, -7.9206, -5.3069, -5.0426, -7.213, -7.6681, -5.7686, -7.4493, -5.5162, -7.4803, -6.0663, -7.6066, -7.7139, -5.4716, -7.6888, -7.5378, -5.6085, -6.5693, -5.6214, -7.5037, -7.6999, -7.5049, -5.2687, -7.5028, -5.6756, -7.2176, -5.9391, -7.3619, -6.2094, -6.0691, -5.2918, -5.9324, -5.6611, -5.0278, -4.6599, -6.1661, -5.3586, -5.2171, -5.7944, -6.0586, -5.5857, -5.1675, -5.3763, -5.3999, -5.2013, -5.0675, -5.2836, -5.3915, -5.4131, -5.1129, -5.566, -5.5845, -5.5231, -5.6947, -5.6791, -5.656, -9.4248, -9.715, -8.8113, -9.2046, -10.1284, -10.1412, -8.6969, -9.9192, -9.9265, -10.156, -10.168, -8.5626, -9.3607, -9.9392, -9.6031, -9.4998, -9.9608, -10.1936, -7.7351, -9.9684, -10.2142, -9.7857, -10.4865, -9.2152, -9.9693, -10.4929, -7.9477, -10.5081, -9.1239, -10.5, -10.2129, -8.9049, -8.922, -8.6471, -5.5781, -5.5632, -6.2627, -5.3667, -6.3333, -6.3038, -6.4997, -7.3553, -7.8958, -5.8901, -7.3623, -6.438, -7.4101, -7.4305, -6.8055, -7.5883, -7.5506, -5.6099, -7.745, -7.8206, -8.0629, -6.9274, -8.2171, -6.3064, -5.5801, -6.4788, -5.7181, -7.5805, -6.0497, -6.2998, -7.2708, -6.6013, -5.6011, -4.6697, -5.5913, -5.1481, -5.2001, -5.0221, -5.9587, -5.698, -6.2356, -5.9328, -5.1039, -5.5411, -6.3286, -5.8632, -5.4657, -5.8486, -5.6587, -5.7546, -5.6795, -5.7952, -5.9202, -5.7521, -5.8901, -5.7815, -5.828, -5.865, -5.8595, -5.9066, -8.9033, -8.0861, -8.6136, -9.6092, -8.9351, -9.6126, -9.4934, -9.2266, -8.5987, -9.6498, -10.2165, -8.5879, -10.0079, -8.4726, -9.538, -7.9834, -9.2451, -10.0105, -6.662, -9.1331, -6.0773, -10.0027, -9.4523, -9.5458, -7.2754, -9.3251, -9.6782, -9.6785, -10.026, -10.2679, -7.131, -8.3516, -5.3402, -5.1719, -6.8018, -7.5174, -6.028, -6.8229, -7.3355, -8.282, -8.0696, -7.6935, -5.566, -7.2214, -7.5752, -8.1776, -5.4175, -8.1321, -8.1884, -7.1122, -6.7385, -7.4882, -6.8833, -7.6173, -7.2315, -5.4045, -6.6729, -7.5928, -5.5225, -5.5641, -5.5557, -5.5542, -4.9021, -5.2292, -6.142, -5.2913, -5.7681, -4.9497, -5.3097, -5.5703, -5.3935, -5.5877, -5.4297, -5.2262, -5.6166, -5.5948, -5.5243, -5.6107, -5.8403, -5.7104, -5.8786, -5.6453, -5.805, -5.795, -5.8523, -5.8395, -9.6933, -10.1485, -9.0238, -10.1658, -9.5898, -8.9144, -9.9772, -10.511, -9.094, -9.9942, -10.2314, -10.5337, -10.228, -8.8854, -10.0176, -7.492, -10.2545, -10.5662, -8.895, -8.7552, -8.3377, -10.5625, -9.0368, -10.5868, -10.5637, -9.525, -10.5661, -10.2671, -10.0364, -10.2661, -5.9254, -8.1604, -4.7952, -8.0431, -8.6339, -6.6911, -8.0567, -5.965, -5.4881, -8.1226, -6.377, -6.5672, -8.0762, -6.3059, -6.201, -7.7315, -6.7226, -7.9459, -7.6237, -7.7009, -7.1457, -7.0505, -7.8545, -6.6867, -4.9255, -7.6911, -7.8938, -7.7764, -6.8356, -5.6528, -5.7452, -7.1911, -6.0112, -4.7738, -5.5772, -4.7212, -5.8503, -6.5092, -6.3024, -6.3756, -5.3813, -6.4424, -5.4294, -6.1202, -5.3125, -6.1146, -5.4233, -5.9861, -5.6252, -5.4289, -5.4273, -5.4582, -5.4933, -5.676, -5.801, -5.6884, -5.3995, -5.7284, -5.6129, -5.7127, -5.7671, -5.8199, -5.8031, -5.8667, -5.864, -5.8625, -10.3697, -10.393, -10.4341, -10.451, -10.4584, -10.1784, -10.2077, -10.1845, -10.5211, -10.5216, -9.8131, -10.5398, -10.544, -10.526, -10.2404, -10.0511, -9.991, -10.5335, -10.5628, -10.5793, -10.2838, -10.5894, -10.5674, -10.5866, -10.2533, -10.2965, -10.6195, -10.6341, -10.6542, -10.3156, -10.3016, -9.8066, -10.1017, -6.5201, -6.3977, -4.7228, -5.1186, -5.4103, -6.6215, -8.116, -5.1523, -6.0991, -5.9253, -6.0471, -5.6053, -5.4937, -4.6492, -5.1718, -5.7855, -5.7569, -5.9436, -6.809, -5.5019, -6.3688, -5.8158, -5.7396, -6.1677, -5.8303, -6.6915, -6.2983, -5.7982, -5.7613, -5.726, -5.6765, -5.3406, -5.4887, -5.4009, -5.9431, -5.897, -5.7296, -5.2497, -5.7151, -5.5304, -5.7485, -5.7562, -5.8244, -5.6873, -5.7862, -5.79, -5.7856, -5.7923, -9.8032, -9.8618, -9.1918, -10.1701, -10.1623, -9.6415, -9.8938, -9.9091, -9.7002, -9.9704, -10.2484, -10.2703, -9.9711, -10.298, -9.9644, -9.7511, -8.8927, -10.3751, -10.338, -10.0755, -10.3553, -10.3214, -9.7886, -9.6134, -9.609, -10.1206, -10.393, -9.8269, -9.029, -10.0823, -9.0526, -9.193, -8.4023, -9.02, -8.7123, -9.7021, -5.4747, -5.8399, -5.7585, -5.4297, -4.2571, -6.0363, -6.222, -5.9234, -6.8175, -6.4759, -7.3346, -6.163, -8.465, -5.8446, -5.3723, -7.052, -7.1252, -5.8233, -5.2313, -6.3055, -5.8703, -5.7305, -5.4194, -5.9581, -5.3539, -5.302, -5.4169, -5.4841, -5.358, -5.9887, -5.9263, -5.6517, -5.4235, -5.7393, -5.3756, -5.2334, -5.7745, -5.6397, -5.7986, -5.7241, -5.7671, -5.8695, -5.8189, -5.8517, -5.8382, -5.8437, -5.8482, -9.8845, -9.9563, -10.2639, -10.2758, -10.3083, -10.3038, -9.7871, -10.3497, -10.3357, -10.3454, -10.3723, -9.8117, -10.3749, -10.3846, -10.4092, -10.4245, -10.4021, -9.5141, -9.8988, -9.922, -9.7065, -10.1451, -10.174, -10.5123, -10.1267, -10.1492, -10.1246, -9.3194, -10.4678, -9.7369, -9.6781, -6.9649, -9.5646, -5.74, -6.0054, -6.0245, -5.7968, -6.1561, -6.2358, -4.7369, -5.1269, -5.8574, -6.7191, -6.3246, -5.6933, -5.7565, -5.6068, -6.0753, -6.6001, -5.3844, -5.502, -4.8639, -5.566, -5.2915, -5.7609, -5.6034, -6.415, -5.4039, -6.0672, -5.448, -6.2937, -5.8838, -5.7628, -5.4193, -5.8191, -5.7601, -5.6408, -5.4305, -5.8864, -5.8218, -5.7491, -5.6763, -5.8134, -5.789, -5.8673, -5.879], \"loglift\": [30.0, 29.0, 28.0, 27.0, 26.0, 25.0, 24.0, 23.0, 22.0, 21.0, 20.0, 19.0, 18.0, 17.0, 16.0, 15.0, 14.0, 13.0, 12.0, 11.0, 10.0, 9.0, 8.0, 7.0, 6.0, 5.0, 4.0, 3.0, 2.0, 1.0, 1.5199, 1.5052, 1.5012, 1.4749, 1.4737, 1.4681, 1.4583, 1.4564, 1.4532, 1.4431, 1.4426, 1.4414, 1.4397, 1.4379, 1.4348, 1.4347, 1.4345, 1.4285, 1.4283, 1.4277, 1.4271, 1.4255, 1.4249, 1.4246, 1.4237, 1.4224, 1.417, 1.4166, 1.4119, 1.4087, 1.3418, 1.28, 1.2451, 1.2989, 1.3411, 1.3242, 1.3639, 1.2356, 1.2182, 1.2819, 1.1549, 1.1691, 1.3388, 1.2092, 1.1972, 1.0909, 1.0524, 1.3332, 1.3733, 1.1973, 1.0649, 1.2228, 0.9804, 1.005, 1.1259, 1.2696, 1.0183, 0.9955, 1.1995, 0.9505, 0.9237, 1.1331, 1.1385, 0.7397, 0.6415, 0.6197, 0.7016, 0.3954, 0.5607, 0.4566, 0.4014, 0.541, 0.6343, 0.3661, 0.3077, 0.2995, -0.0643, 0.1811, 0.2341, 0.5323, 0.0872, 0.2048, 0.102, -0.2216, 0.0206, 0.0064, 0.3459, 0.3548, 0.2453, 0.1016, 0.1412, 0.0083, 0.2549, 1.763, 1.7598, 1.7388, 1.7223, 1.7116, 1.7115, 1.7113, 1.7057, 1.704, 1.7038, 1.6993, 1.6974, 1.6949, 1.6949, 1.6863, 1.6855, 1.6853, 1.685, 1.6843, 1.6825, 1.681, 1.6785, 1.6783, 1.6778, 1.6754, 1.6731, 1.6726, 1.6726, 1.6665, 1.6657, 1.6489, 1.6318, 1.641, 1.6227, 1.6344, 1.597, 1.6417, 1.6388, 1.591, 1.5174, 1.6121, 1.4995, 1.4953, 1.5104, 1.5484, 1.6188, 1.4722, 1.607, 1.5499, 1.631, 1.6169, 1.3717, 1.4771, 1.477, 1.5439, 1.4882, 1.5439, 1.3896, 0.7631, 1.0404, 1.4511, 0.8436, 0.823, 0.7866, 1.173, 0.1711, 0.699, 0.6774, 0.3446, 0.1836, 0.2521, -0.0562, 0.5457, 0.3529, 0.2649, 0.3725, 0.3093, -0.0377, 0.1615, -0.3393, 0.221, 0.0241, -0.1436, -0.2387, 0.0614, -0.142, -0.3219, 1.8068, 1.798, 1.7909, 1.7902, 1.7893, 1.7868, 1.7831, 1.7812, 1.779, 1.7749, 1.7742, 1.7736, 1.7699, 1.7675, 1.7664, 1.7649, 1.7646, 1.7636, 1.7635, 1.7631, 1.759, 1.7571, 1.7559, 1.7548, 1.7543, 1.7528, 1.7496, 1.749, 1.7488, 1.748, 1.7359, 1.7466, 1.7306, 1.7018, 1.7199, 1.7052, 1.7029, 1.7354, 1.6885, 1.6773, 1.7231, 1.7145, 1.7093, 1.6945, 1.6923, 1.6098, 1.6588, 1.6931, 1.6336, 1.7039, 1.414, 1.6432, 1.6814, 1.4537, 1.3459, 1.3532, 1.3159, 1.3704, 1.3072, 0.9502, 0.2028, 1.1837, 0.7798, 0.7413, 1.0357, 1.1111, 0.5687, -0.1683, 0.7726, -0.2073, 0.2103, -0.0685, 0.4205, 0.3254, -0.1766, 0.0473, 0.0233, -0.1042, -0.2139, 0.0488, -0.2115, 0.2455, 0.0526, -0.2123, -0.3136, -0.1824, -0.1944, -0.3044, -0.0487, -0.1553, -0.4734, 1.964, 1.8501, 1.8454, 1.8325, 1.8302, 1.8292, 1.8232, 1.8193, 1.8026, 1.7918, 1.7864, 1.7842, 1.7747, 1.7641, 1.7626, 1.7616, 1.7598, 1.7592, 1.7549, 1.7505, 1.7494, 1.7465, 1.7419, 1.7418, 1.7361, 1.7318, 1.7317, 1.7302, 1.729, 1.7273, 1.7235, 1.7124, 1.7262, 1.6434, 1.7176, 1.722, 1.6798, 1.7216, 1.6985, 1.6168, 1.5868, 1.6573, 1.674, 1.5945, 1.649, 1.541, 1.6503, 1.5536, 1.6525, 1.6573, 1.4812, 1.6547, 1.6306, 1.4311, 1.5242, 1.4269, 1.6033, 1.6178, 1.5851, 1.2439, 1.5643, 1.2486, 1.5154, 1.2696, 1.5348, 1.2534, 1.0607, 0.6592, 0.8959, 0.7507, 0.4646, 0.2546, 0.9177, 0.4765, 0.3627, 0.6752, 0.7956, 0.5035, 0.2244, 0.3228, 0.338, 0.1963, 0.026, 0.1677, 0.2552, 0.2718, -0.3387, 0.2153, 0.214, -0.1376, 0.2472, 0.1522, -0.1011, 1.893, 1.8816, 1.8773, 1.8771, 1.8763, 1.8708, 1.8689, 1.8685, 1.8643, 1.8539, 1.8504, 1.8492, 1.8473, 1.8468, 1.8454, 1.8415, 1.8415, 1.8393, 1.8322, 1.8321, 1.8305, 1.8279, 1.8164, 1.8149, 1.8148, 1.8142, 1.8137, 1.8127, 1.808, 1.8073, 1.8067, 1.7933, 1.7855, 1.779, 1.7067, 1.7015, 1.723, 1.6172, 1.6641, 1.6544, 1.661, 1.6965, 1.7207, 1.5576, 1.6552, 1.5681, 1.6499, 1.6415, 1.5734, 1.6419, 1.6287, 1.369, 1.6159, 1.6085, 1.6364, 1.4024, 1.6607, 1.2543, 1.0781, 1.2661, 1.087, 1.4934, 1.0039, 1.0594, 1.3832, 1.0791, 0.5837, 0.1046, 0.5424, 0.2375, 0.2576, 0.0714, 0.6247, 0.3926, 0.7652, 0.53, -0.1893, 0.1057, 0.8109, 0.3435, -0.0737, 0.2747, -0.0788, 0.0462, -0.1871, -0.0475, 0.2583, -0.3008, 0.0971, -0.3839, -0.273, -0.0837, -0.1216, -0.0715, 1.913, 1.9116, 1.9091, 1.9028, 1.9027, 1.9003, 1.898, 1.8872, 1.8769, 1.8753, 1.8659, 1.8627, 1.8588, 1.8573, 1.8553, 1.8541, 1.8533, 1.853, 1.8523, 1.8512, 1.8507, 1.848, 1.8452, 1.8393, 1.8369, 1.8349, 1.8339, 1.8337, 1.8327, 1.8289, 1.8179, 1.827, 1.7817, 1.7588, 1.775, 1.7904, 1.7374, 1.7448, 1.7629, 1.7973, 1.7853, 1.7495, 1.5857, 1.687, 1.7149, 1.7677, 1.4915, 1.7586, 1.754, 1.5988, 1.5149, 1.6431, 1.3967, 1.5835, 1.4035, 0.7188, 1.1329, 1.5102, 0.5681, 0.4231, 0.3873, 0.3805, 0.0125, 0.1563, 0.6735, 0.1064, 0.4167, -0.1754, 0.0822, 0.2305, 0.0577, 0.2109, 0.0628, -0.1327, 0.2185, 0.1529, 0.0306, 0.0742, 0.3173, 0.1246, 0.2999, -0.1876, -0.0237, -0.1482, 0.0903, -0.1016, 1.9275, 1.8829, 1.8747, 1.8698, 1.8646, 1.8476, 1.8286, 1.825, 1.8233, 1.8212, 1.8084, 1.806, 1.8044, 1.8041, 1.8033, 1.7985, 1.7983, 1.7946, 1.7927, 1.7916, 1.7908, 1.785, 1.7848, 1.7844, 1.783, 1.7803, 1.78, 1.7794, 1.7783, 1.7751, 1.7712, 1.7668, 1.7292, 1.7615, 1.7651, 1.725, 1.7499, 1.6882, 1.6652, 1.741, 1.6714, 1.6703, 1.7323, 1.652, 1.634, 1.7079, 1.6479, 1.7176, 1.6516, 1.6493, 1.5852, 1.5554, 1.6464, 1.4448, 1.0256, 1.5599, 1.5916, 1.5482, 1.2741, 0.9298, 0.8489, 1.3378, 0.7955, 0.1408, 0.518, 0.0531, 0.6336, 0.927, 0.793, 0.8331, 0.196, 0.8686, 0.2173, 0.6494, 0.073, 0.6361, 0.0343, 0.5052, 0.1734, -0.0313, -0.0354, -0.007, -0.0009, 0.1591, 0.2728, 0.1124, -0.3061, 0.1598, -0.033, 0.1186, -0.0193, -0.0386, -0.1182, 0.1434, 0.0707, -0.1634, 2.1267, 2.1127, 2.0757, 2.0482, 2.0334, 2.0213, 2.0176, 2.001, 1.9998, 1.9932, 1.9915, 1.9812, 1.9758, 1.9684, 1.9634, 1.9586, 1.958, 1.9577, 1.9508, 1.9363, 1.9302, 1.9291, 1.9286, 1.9195, 1.9138, 1.8966, 1.8926, 1.8918, 1.8724, 1.8658, 1.8582, 1.7406, 1.7917, 1.0247, 0.9732, 0.3707, 0.4588, 0.5324, 0.8474, 1.2623, 0.4026, 0.6805, 0.6081, 0.6313, 0.4685, 0.3945, 0.1251, 0.2859, 0.469, 0.4426, 0.4922, 0.7422, 0.2459, 0.5555, 0.3507, 0.3205, 0.4782, 0.3389, 0.6636, 0.5017, 0.297, 0.2807, 0.2612, 0.2268, 0.057, 0.0911, -0.0154, 0.299, 0.2644, 0.1017, -0.3351, 0.0857, -0.1384, 0.0866, 0.0251, 0.1185, -0.236, 0.0123, -0.0909, -0.1388, -0.1073, 2.5394, 2.4673, 2.4527, 2.452, 2.4518, 2.4483, 2.445, 2.4014, 2.3994, 2.3603, 2.3555, 2.3518, 2.3408, 2.3254, 2.32, 2.2892, 2.2705, 2.2627, 2.2612, 2.2581, 2.2556, 2.2549, 2.2509, 2.2359, 2.233, 2.2188, 2.2175, 2.2066, 2.1999, 2.1912, 2.1042, 2.1116, 1.998, 2.0149, 1.9307, 2.1238, 1.1548, 1.2173, 1.1943, 1.0328, 0.6575, 1.0935, 1.1411, 1.0003, 1.276, 1.144, 1.3984, 0.9208, 1.8059, 0.668, 0.4628, 1.171, 1.1905, 0.5886, 0.2199, 0.7428, 0.5267, 0.4387, 0.2655, 0.5114, 0.1385, 0.0836, 0.1381, 0.1627, 0.0339, 0.4181, 0.3418, 0.1468, -0.0259, 0.2036, -0.2821, -0.4592, 0.1288, -0.0598, 0.1524, 0.0138, 0.0679, 0.2198, -0.0712, 0.083, -0.0375, -0.0624, -0.1491, 2.5811, 2.502, 2.4703, 2.4571, 2.4395, 2.4348, 2.4018, 2.3997, 2.3931, 2.3728, 2.3554, 2.3481, 2.3392, 2.3342, 2.2945, 2.2922, 2.2885, 2.2795, 2.2598, 2.2552, 2.2473, 2.2453, 2.2356, 2.2294, 2.2234, 2.2204, 2.2195, 2.2163, 2.2058, 2.1975, 2.1199, 1.507, 2.0382, 0.8895, 0.9188, 0.8992, 0.6657, 0.7967, 0.8215, 0.1777, 0.265, 0.5494, 0.9008, 0.7237, 0.3959, 0.4127, 0.3351, 0.5303, 0.7631, 0.1954, 0.2359, -0.0896, 0.2347, 0.094, 0.3235, 0.2279, 0.6246, 0.0885, 0.4454, 0.107, 0.5605, 0.3363, 0.2473, 0.0319, 0.2715, 0.1825, 0.0441, -0.337, 0.2093, 0.1211, -0.0014, -0.2787, -0.0149, -0.3313, -0.0322, -0.1799]}, \"token.table\": {\"Topic\": [1, 2, 3, 4, 5, 6, 7, 8, 9, 10, 4, 10, 7, 8, 8, 1, 2, 3, 4, 5, 6, 7, 8, 9, 1, 3, 4, 5, 6, 8, 9, 1, 2, 3, 4, 5, 6, 7, 8, 9, 10, 1, 4, 7, 9, 10, 1, 2, 3, 4, 5, 6, 7, 8, 9, 10, 1, 8, 4, 1, 2, 3, 4, 5, 6, 7, 9, 10, 9, 1, 2, 3, 4, 5, 6, 7, 8, 9, 10, 9, 1, 2, 3, 4, 5, 6, 7, 8, 9, 10, 1, 2, 3, 4, 5, 6, 7, 8, 9, 10, 10, 9, 1, 2, 3, 4, 5, 6, 7, 8, 9, 10, 1, 2, 3, 4, 5, 6, 7, 8, 9, 10, 5, 1, 2, 3, 4, 5, 6, 7, 8, 9, 10, 1, 2, 3, 4, 5, 6, 7, 8, 9, 10, 3, 4, 5, 6, 7, 8, 9, 1, 2, 3, 4, 5, 6, 7, 8, 9, 10, 1, 2, 3, 4, 5, 6, 7, 8, 9, 10, 1, 2, 3, 4, 5, 6, 7, 8, 9, 10, 1, 2, 3, 5, 6, 7, 1, 2, 3, 4, 5, 6, 7, 8, 9, 10, 7, 1, 2, 3, 4, 5, 6, 7, 8, 9, 10, 1, 2, 3, 4, 5, 6, 7, 8, 9, 10, 1, 3, 10, 1, 2, 3, 4, 5, 6, 7, 8, 9, 10, 6, 1, 2, 3, 4, 5, 6, 7, 8, 9, 10, 1, 2, 3, 4, 5, 6, 7, 8, 9, 10, 1, 2, 3, 4, 5, 6, 7, 8, 9, 10, 1, 2, 3, 4, 5, 6, 7, 8, 9, 1, 2, 3, 4, 5, 6, 7, 8, 9, 10, 1, 2, 3, 4, 5, 6, 7, 8, 9, 10, 1, 2, 3, 4, 5, 6, 7, 8, 9, 10, 5, 3, 4, 5, 6, 1, 2, 3, 4, 5, 6, 7, 8, 9, 10, 1, 2, 3, 4, 5, 6, 7, 8, 9, 10, 8, 2, 3, 4, 5, 7, 10, 1, 2, 3, 4, 5, 6, 7, 8, 9, 10, 1, 2, 3, 4, 5, 6, 7, 8, 9, 10, 1, 2, 3, 4, 5, 6, 7, 8, 9, 10, 1, 2, 3, 4, 5, 6, 7, 8, 9, 10, 1, 2, 3, 4, 5, 6, 7, 8, 9, 10, 1, 2, 3, 4, 5, 6, 7, 8, 9, 10, 4, 7, 9, 10, 1, 2, 3, 5, 6, 7, 3, 1, 2, 3, 4, 5, 6, 7, 8, 9, 10, 1, 2, 3, 4, 5, 6, 7, 8, 9, 10, 5, 1, 2, 3, 4, 5, 6, 7, 8, 9, 10, 9, 7, 1, 2, 3, 4, 5, 7, 8, 1, 2, 3, 4, 5, 6, 7, 8, 9, 10, 1, 8, 1, 2, 3, 4, 5, 6, 7, 8, 9, 10, 1, 2, 3, 4, 5, 6, 7, 8, 9, 10, 1, 2, 3, 4, 5, 6, 7, 8, 9, 10, 7, 4, 1, 2, 3, 4, 5, 6, 7, 8, 9, 10, 2, 1, 2, 3, 4, 5, 6, 7, 8, 9, 3, 1, 2, 3, 4, 5, 6, 7, 8, 10, 1, 2, 3, 4, 5, 6, 7, 8, 9, 10, 1, 2, 3, 4, 5, 6, 7, 8, 9, 10, 1, 2, 3, 4, 5, 6, 7, 8, 9, 10, 1, 2, 3, 4, 5, 6, 7, 8, 9, 10, 1, 2, 3, 4, 5, 6, 7, 8, 9, 10, 1, 1, 2, 3, 4, 5, 6, 7, 8, 9, 10, 1, 3, 5, 2, 2, 1, 2, 3, 4, 5, 6, 7, 8, 9, 10, 5, 8, 1, 2, 3, 4, 5, 6, 7, 8, 9, 10, 1, 2, 4, 5, 7, 9, 8, 1, 2, 3, 4, 5, 6, 7, 8, 9, 10, 2, 9, 1, 7, 1, 2, 3, 4, 5, 6, 7, 8, 9, 10, 8, 7, 8, 10, 10, 1, 2, 3, 4, 5, 6, 7, 8, 9, 10, 1, 2, 3, 4, 5, 6, 7, 8, 9, 10, 1, 2, 3, 4, 5, 6, 7, 8, 9, 10, 1, 2, 3, 4, 5, 6, 7, 8, 9, 10, 5, 1, 2, 3, 4, 5, 6, 7, 8, 9, 10, 2, 3, 5, 7, 1, 1, 9, 1, 2, 3, 4, 5, 6, 7, 8, 9, 10, 3, 5, 10, 1, 2, 3, 4, 5, 6, 7, 8, 9, 10, 10, 2, 1, 2, 3, 4, 5, 6, 7, 8, 9, 10, 1, 2, 3, 4, 5, 6, 7, 8, 9, 10, 9, 1, 2, 3, 4, 5, 6, 7, 8, 10, 1, 2, 3, 5, 6, 7, 8, 1, 2, 3, 4, 5, 6, 7, 8, 9, 10, 1, 2, 3, 4, 5, 6, 7, 8, 9, 10, 5, 1, 2, 3, 4, 5, 6, 7, 8, 9, 10, 1, 8, 1, 2, 3, 4, 5, 6, 7, 8, 9, 10, 6, 5, 1, 2, 3, 4, 5, 6, 7, 8, 9, 10, 1, 2, 3, 4, 5, 6, 7, 8, 9, 10, 1, 2, 3, 4, 5, 6, 7, 8, 9, 10, 9, 1, 2, 3, 4, 5, 6, 7, 8, 9, 10, 1, 2, 3, 4, 5, 6, 7, 8, 9, 10, 1, 2, 3, 4, 5, 6, 7, 8, 9, 10, 1, 2, 3, 4, 5, 6, 7, 8, 9, 10, 1, 2, 3, 4, 5, 6, 7, 8, 9, 10, 1, 2, 3, 4, 5, 6, 7, 8, 9, 10, 1, 2, 3, 4, 5, 6, 7, 8, 9, 10, 10, 1, 2, 3, 4, 5, 6, 7, 8, 9, 10, 1, 2, 3, 4, 5, 6, 7, 8, 9, 10, 1, 7, 1, 2, 3, 4, 5, 6, 7, 8, 9, 10, 2, 9, 1, 2, 3, 4, 5, 6, 7, 8, 9, 10, 1, 2, 3, 4, 5, 6, 7, 8, 9, 10, 2, 3, 5, 6, 7, 8, 10, 1, 2, 3, 4, 5, 6, 7, 8, 9, 10, 8, 1, 2, 3, 4, 5, 6, 7, 8, 9, 10, 4, 6, 9, 6, 3, 5, 6, 7, 8, 8, 1, 4, 6, 7, 10, 1, 2, 3, 4, 5, 6, 7, 8, 9, 10, 1, 2, 3, 4, 5, 6, 7, 8, 9, 10, 3, 1, 2, 3, 4, 5, 6, 7, 8, 9, 10, 4, 5, 7, 1, 2, 3, 4, 5, 6, 7, 8, 9, 10, 1, 2, 3, 4, 5, 6, 7, 8, 9, 10, 1, 2, 3, 4, 5, 6, 7, 8, 9, 10, 4, 1, 3, 5, 6, 9, 1, 2, 3, 4, 5, 6, 7, 8, 9, 10, 8, 2, 4, 9, 2, 3, 5, 6, 7, 2, 3, 5, 1, 2, 3, 4, 5, 6, 7, 8, 9, 10, 3, 1, 2, 3, 4, 5, 6, 7, 8, 9, 10, 1, 2, 3, 4, 5, 6, 7, 8, 9, 10, 10, 1, 2, 3, 4, 5, 6, 7, 8, 9, 10, 1, 3, 5, 6, 7, 8, 7, 8, 1, 2, 3, 4, 5, 6, 7, 8, 9, 10, 1, 2, 3, 4, 5, 6, 7, 8, 9, 10, 1, 2, 3, 4, 5, 6, 7, 8, 9, 10, 1, 2, 3, 4, 5, 6, 7, 8, 9, 10, 1, 2, 3, 4, 5, 6, 7, 8, 9, 10, 1, 2, 3, 4, 5, 6, 7, 8, 9, 10, 1, 2, 3, 4, 5, 6, 7, 8, 9, 10, 1, 2, 3, 4, 5, 6, 7, 8, 9, 10, 9, 1, 2, 3, 5, 6, 7, 2, 3, 1, 2, 3, 4, 5, 6, 7, 8, 9, 1, 2, 3, 4, 5, 6, 7, 8, 9, 10, 5, 1, 2, 3, 4, 5, 6, 7, 8, 9, 10, 1, 2, 3, 4, 5, 6, 7, 8, 9, 10, 1, 2, 3, 4, 5, 6, 7, 8, 9, 10, 5, 7, 5, 6, 1, 2, 3, 4, 5, 6, 7, 8, 9, 10, 1, 2, 3, 4, 5, 6, 7, 8, 9, 10, 1, 2, 3, 4, 5, 6, 7, 8, 9, 10, 2, 10, 3, 4, 6, 10, 1, 2, 8, 1, 2, 3, 4, 5, 6, 7, 8, 9, 10, 6, 1, 2, 3, 4, 5, 6, 7, 8, 9, 10, 1, 2, 3, 4, 5, 6, 7, 8, 9, 10, 1, 2, 3, 4, 5, 6, 7, 8, 9, 10, 1, 2, 3, 4, 5, 6, 7, 8, 9, 10, 1, 3, 4, 6, 7, 9, 10, 1, 2, 3, 4, 5, 6, 7, 8, 9, 10, 1, 4, 1, 2, 3, 4, 5, 6, 7, 8, 9, 10, 1, 2, 3, 4, 5, 6, 7, 8, 9, 10, 5, 1, 2, 3, 4, 5, 6, 7, 8, 9, 10, 10, 2, 3, 5, 7, 3, 5, 6, 7, 8, 4, 1, 2, 3, 4, 5, 6, 7, 8, 9, 10, 1, 2, 3, 4, 5, 6, 7, 8, 9, 10, 1, 2, 3, 4, 5, 6, 7, 8, 9, 10, 1, 2, 3, 4, 5, 6, 7, 8, 9, 10, 10, 6, 1, 2, 3, 4, 5, 6, 7, 8, 9, 10, 1, 2, 3, 4, 5, 6, 7, 8, 9, 10, 1, 2, 3, 4, 5, 6, 7, 8, 9, 10, 1, 3, 5, 8, 9, 1, 2, 3, 4, 5, 6, 7, 8, 9, 10, 1, 2, 3, 4, 5, 6, 7, 8, 9, 10, 1, 2, 3, 4, 5, 6, 7, 8, 9, 10, 1, 2, 3, 4, 5, 6, 7, 8, 9, 1, 2, 3, 4, 5, 6, 7, 8, 9, 10, 5, 6, 7, 8, 1, 2, 3, 4, 5, 6, 7, 8, 9, 10, 1, 2, 3, 4, 5, 6, 7, 8, 9, 1, 2, 3, 4, 5, 6, 7, 8, 9, 10, 1, 2, 3, 4, 5, 6, 7, 8, 9, 10, 1, 2, 3, 4, 5, 6, 7, 8, 9, 10, 1, 2, 3, 4, 5, 7, 1, 2, 3, 4, 5, 6, 7, 8, 9, 10, 2, 4, 5, 6, 7, 9, 10, 1, 2, 3, 4, 5, 6, 7, 8, 9, 10, 2, 3, 4, 5, 6, 8, 10, 4, 1, 2, 3, 4, 5, 6, 7, 8, 9, 10, 1, 2, 3, 4, 5, 6, 7, 8, 9, 1, 2, 3, 4, 5, 6, 7, 8, 9, 10, 1, 1, 1, 6, 4, 1, 2, 3, 4, 5, 6, 7, 8, 9, 10, 10, 1, 2, 3, 4, 5, 6, 7, 8, 9, 10, 1, 2, 3, 4, 5, 6, 7, 8, 9, 10, 4, 9, 10, 3, 5, 7, 8, 8, 1, 2, 3, 4, 5, 6, 7, 8, 9, 10, 1, 2, 3, 4, 5, 6, 7, 8, 9, 10, 1, 4, 5, 6, 7, 9, 10, 3, 5, 6, 7, 8, 1, 2, 3, 4, 5, 6, 7, 8, 9, 10, 1, 2, 3, 4, 5, 6, 7, 8, 9, 10, 4, 1, 2, 3, 4, 5, 6, 7, 8, 9, 10, 1, 2, 3, 4, 5, 6, 7, 8, 9, 10, 9, 1, 2, 3, 4, 5, 6, 7, 8, 9, 10, 1, 2, 3, 4, 5, 6, 7, 8, 9, 10, 1, 2, 3, 4, 5, 6, 7, 8, 9, 10, 1, 2, 3, 4, 5, 6, 7, 8, 9, 10, 1, 2, 3, 4, 5, 6, 7, 8, 9, 10, 1, 2, 3, 4, 5, 6, 7, 8, 9, 10, 2, 3, 4, 5, 1, 2, 3, 4, 5, 6, 7, 8, 9, 8, 1, 3, 4, 5, 6, 7, 9, 10, 2, 3, 6, 1, 2, 3, 4, 5, 6, 7, 8, 2, 3, 4, 5, 8, 4, 5, 6, 4, 10, 1, 2, 3, 4, 5, 6, 7, 8, 9, 10, 9, 1, 2, 3, 4, 5, 6, 7, 9, 10, 1, 2, 3, 4, 5, 6, 7, 8, 9, 10, 1, 2, 3, 4, 5, 6, 7, 8, 9, 10, 1, 2, 3, 4, 5, 6, 7, 8, 9, 10, 1, 2, 3, 4, 5, 6, 7, 8, 9, 10, 1, 1, 1, 2, 3, 5, 6, 7, 8, 9, 1, 2, 3, 4, 5, 6, 7, 8, 9, 10, 2, 3, 4, 5, 6, 8, 1, 2, 3, 4, 5, 6, 7, 8, 9, 10, 5, 8, 1, 2, 3, 4, 5, 6, 7, 8, 9, 10, 1, 2, 3, 4, 5, 6, 7, 8, 9, 10, 1, 2, 3, 4, 5, 6, 7, 8, 9, 10, 1, 2, 3, 4, 5, 6, 7, 8, 9, 10, 1, 2, 3, 4, 5, 6, 7, 8, 9, 10, 1, 2, 3, 4, 5, 6, 7, 8, 9, 1, 2, 3, 4, 5, 6, 7, 8, 9, 10, 4, 10, 1, 2, 3, 4, 5, 6, 7, 8, 9, 10, 1, 2, 3, 4, 5, 6, 7, 8, 9, 10, 1, 2, 3, 4, 5, 6, 7, 8, 9, 10, 1, 8, 1, 2, 3, 4, 5, 6, 7, 8, 9, 10, 1, 2, 3, 4, 5, 6, 7, 8, 9, 10, 1, 2, 3, 4, 5, 6, 7, 8, 9, 10, 4, 10, 1, 2, 3, 4, 5, 6, 7, 8, 9, 10, 4, 10, 4, 9, 10, 1, 2, 3, 4, 5, 6, 7, 8, 9, 10, 1, 2, 3, 4, 5, 6, 7, 8, 9, 10, 1, 2, 5, 6, 7, 8, 1, 7, 1, 2, 3, 4, 5, 6, 7, 8, 9, 10, 1, 2, 3, 4, 5, 6, 7, 8, 9, 1, 2, 3, 4, 5, 6, 7, 8, 9, 10, 1, 2, 3, 4, 5, 6, 7, 8, 9, 10, 1, 2, 3, 4, 5, 6, 7, 8, 9, 10, 5, 9, 1, 2, 3, 4, 5, 6, 7, 8, 9, 10, 7, 1, 2, 3, 4, 5, 6, 7, 8, 9, 10, 1, 4, 5, 7, 9, 1, 2, 3, 4, 5, 6, 7, 8, 9, 10, 1, 2, 3, 4, 5, 6, 7, 8, 9, 10, 1, 2, 3, 4, 5, 6, 7, 8, 9, 10, 2, 1, 2, 3, 4, 5, 6, 7, 8, 9, 10, 1, 1, 2, 3, 4, 5, 6, 7, 8, 9, 10, 1, 6, 1, 2, 3, 4, 5, 6, 7, 8, 9, 10, 4, 9, 1, 3, 6, 1, 2, 3, 4, 5, 6, 7, 8, 9, 10, 1, 1, 2, 3, 4, 5, 6, 7, 8, 9, 10, 3, 1, 2, 3, 4, 5, 6, 7, 8, 9, 10, 1, 2, 3, 4, 5, 6, 7, 8, 9, 10, 1, 2, 3, 4, 5, 6, 7, 8, 9, 10, 7, 8, 2, 3, 5, 1, 2, 3, 4, 5, 6, 7, 8, 9, 10, 6, 1, 2, 3, 4, 5, 6, 7, 8, 9, 10, 1, 2, 3, 4, 5, 6, 7, 8, 9, 10, 10, 1, 2, 3, 4, 5, 6, 7, 8, 9, 10, 1, 2, 3, 4, 5, 6, 7, 8, 9, 10, 1, 2, 3, 4, 5, 6, 7, 8, 9, 10, 1, 2, 3, 4, 5, 6, 7, 8, 9, 10, 1, 2, 3, 4, 5, 6, 7, 8, 9, 10, 1, 3, 4, 5, 6, 7, 8, 10, 1, 3, 4, 5, 6, 7, 8, 10, 9, 2, 1, 2, 3, 4, 5, 6, 7, 8, 9, 10, 1, 2, 3, 4, 5, 6, 7, 8, 9, 10, 1, 1, 2, 3, 4, 5, 6, 7, 8, 9, 10, 1, 5, 1, 1, 2, 3, 4, 5, 6, 7, 8, 9, 10, 8, 9, 1, 2, 3, 4, 5, 6, 7, 8, 9, 10, 4, 10, 1, 2, 3, 4, 5, 6, 7, 8, 9, 10, 2, 3, 1, 2, 3, 4, 5, 6, 7, 8, 9, 10, 1, 2, 3, 4, 5, 6, 7, 8, 9, 10, 1, 2, 4, 5, 6, 7, 8, 1, 2, 3, 4, 5, 6, 7, 8, 9, 10, 1, 2, 3, 4, 5, 6, 7, 8, 9, 10, 2, 1, 2, 3, 4, 5, 6, 7, 8, 9, 10, 1, 2, 3, 4, 5, 6, 7, 8, 9, 10, 8, 1, 2, 3, 4, 5, 6, 7, 8, 9, 10, 1, 2, 3, 4, 5, 6, 7, 8, 9, 10, 1, 2, 3, 4, 5, 6, 7, 8, 9, 10, 7, 1, 2, 3, 4, 5, 6, 7, 8, 9, 10, 10, 7, 6, 1, 1, 2, 3, 4, 5, 6, 7, 8, 9, 10, 8, 1, 2, 3, 4, 5, 6, 7, 8, 9, 10, 1, 2, 3, 4, 5, 6, 7, 8, 9, 10, 3, 1, 2, 3, 4, 5, 6, 7, 8, 9, 10, 2, 3, 1, 2, 3, 4, 5, 6, 7, 8, 9, 10, 1, 2, 3, 4, 5, 6, 7, 8, 9, 10, 1, 2, 3, 4, 5, 6, 7, 8, 9, 10, 4, 10, 5, 6, 1, 2, 3, 4, 5, 6, 7, 8, 9, 10, 1, 2, 3, 4, 5, 6, 7, 8, 9, 10, 5, 7, 9, 1, 2, 3, 4, 5, 6, 7, 8, 9, 10, 1, 2, 3, 4, 5, 6, 7, 8, 9, 10, 1, 2, 3, 4, 5, 6, 7, 8, 9, 10, 1, 2, 3, 4, 5, 6, 7, 8, 9, 10, 3, 1, 2, 3, 4, 5, 6, 7, 8, 9, 10, 1, 7, 10, 1, 2, 3, 4, 5, 6, 7, 8, 9, 10, 4, 9, 1, 2, 3, 4, 5, 6, 7, 8, 9, 10, 6, 1, 1, 2, 3, 4, 5, 6, 7, 8, 9, 10, 4, 7, 10, 1, 2, 3, 4, 5, 6, 7, 8, 9, 10, 1, 2, 3, 4, 5, 6, 7, 8, 9, 10, 4, 7, 9, 1, 2, 3, 4, 5, 6, 7, 8, 9, 10, 1, 2, 3, 4, 5, 6, 7, 8, 9, 10, 1, 4, 5, 6, 7, 9, 10, 1, 2, 3, 4, 5, 6, 7, 8, 9, 10, 1, 2, 3, 4, 5, 6, 7, 8, 9, 10, 5, 1, 2, 3, 4, 5, 6, 7, 8, 9, 10, 1, 2, 3, 4, 5, 6, 7, 8, 9, 10, 7, 1, 2, 3, 4, 5, 6, 7, 8, 9, 10, 4, 7, 5, 8, 7, 7, 1, 2, 3, 4, 5, 6, 7, 8, 1, 2, 3, 4, 5, 6, 7, 8, 9, 10, 8, 1, 2, 3, 4, 5, 6, 7, 8, 9, 10, 8, 8, 9, 9, 5, 1, 2, 3, 4, 5, 6, 7, 8, 9, 10, 5, 9, 1, 2, 3, 4, 5, 6, 7, 8, 9, 10, 1, 2, 3, 5, 6, 7, 8, 4, 1, 2, 3, 4, 5, 6, 7, 8, 9, 10, 1, 2, 3, 4, 5, 6, 7, 8, 9, 10, 1, 2, 3, 4, 5, 6, 7, 8, 9, 10, 1, 2, 3, 4, 5, 6, 7, 8, 9, 10, 1, 2, 3, 4, 5, 6, 7, 8, 9, 10, 4, 10, 1, 2, 3, 4, 5, 6, 7, 8, 9, 10, 6, 1, 2, 3, 4, 5, 7, 1, 2, 3, 4, 5, 6, 7, 8, 9, 10, 1, 4, 5, 7, 8, 10, 1, 2, 3, 4, 5, 6, 7, 8, 9, 10, 1, 2, 3, 4, 5, 6, 7, 8, 9, 10, 1, 7, 1, 2, 3, 4, 5, 6, 7, 8, 9, 10, 1, 2, 3, 4, 5, 6, 7, 8, 9, 10, 2, 4, 5, 6, 7, 9, 10, 1, 2, 4, 5, 7, 8, 9, 1, 2, 3, 4, 5, 6, 7, 8, 9, 10, 4, 5, 9, 1, 2, 3, 4, 5, 6, 7, 8, 9, 10, 1, 2, 3, 4, 5, 6, 7, 8, 9, 10, 2, 1, 2, 3, 4, 5, 6, 7, 8, 9, 10, 1, 2, 8, 5, 8, 4, 7, 10, 1, 2, 3, 4, 5, 6, 7, 8, 9, 10, 1, 2, 3, 4, 5, 6, 7, 8, 9, 10, 1, 2, 3, 4, 5, 6, 7, 8, 9, 10, 1, 2, 3, 4, 5, 6, 7, 8, 9, 10, 1, 2, 3, 4, 5, 6, 7, 8, 9, 7, 1, 2, 3, 4, 5, 6, 7, 8, 9, 10, 1, 2, 3, 4, 5, 6, 7, 8, 9, 10, 1, 2, 3, 4, 5, 6, 7, 8, 9, 10, 3, 1, 2, 3, 4, 5, 6, 7, 8, 9, 10, 1, 2, 3, 4, 5, 6, 7, 8, 9, 10, 1, 2, 3, 4, 5, 6, 7, 8, 10, 1, 2, 3, 4, 5, 6, 7, 8, 9, 10, 1, 2, 3, 7, 8, 7, 6, 10, 4, 7, 9, 10, 1, 2, 3, 4, 5, 6, 7, 8, 9, 10, 1, 3, 4, 5, 6, 7, 9, 10, 10, 1, 2, 3, 4, 5, 6, 7, 8, 9, 10, 4, 1, 2, 3, 4, 5, 6, 7, 8, 9, 1, 2, 3, 4, 5, 6, 7, 8, 9, 1, 2, 3, 4, 5, 6, 7, 8, 9, 1, 2, 3, 4, 5, 6, 7, 8, 9, 10, 5, 6, 1, 2, 3, 4, 5, 6, 7, 8, 9, 10, 1, 4, 5, 6, 7, 9, 10, 4, 9, 1, 2, 3, 4, 5, 6, 7, 8, 9, 10, 1, 5, 6, 6, 5, 6, 1, 2, 3, 4, 5, 6, 7, 8, 9, 10, 1, 4, 7, 9, 1, 2, 3, 4, 5, 6, 7, 8, 9, 10, 4, 1, 2, 3, 4, 5, 6, 7, 8, 9, 10, 1, 1, 2, 3, 4, 5, 6, 7, 8, 9, 10, 1, 2, 3, 4, 5, 6, 7, 8, 9, 10, 9, 2, 3, 4, 7, 1, 2, 3, 4, 5, 6, 7, 8, 9, 10, 1, 2, 3, 4, 5, 6, 7, 8, 9, 10, 8, 1, 2, 3, 4, 5, 6, 7, 8, 9, 10, 2, 7, 1, 2, 3, 4, 5, 6, 7, 8, 9, 10, 1, 2, 3, 4, 5, 6, 7, 8, 9, 10, 1, 2, 3, 4, 5, 6, 7, 8, 9, 10, 1, 2, 3, 4, 5, 6, 7, 8, 9, 10, 1, 2, 3, 4, 5, 6, 7, 8, 9, 2, 4, 5, 7, 9, 10, 1, 2, 3, 4, 5, 6, 7, 8, 9, 10, 5, 1, 2, 4, 5, 6, 7, 9, 10, 1, 2, 3, 4, 5, 6, 7, 8, 9, 10, 1, 2, 3, 4, 5, 6, 7, 8, 9, 10, 1, 4, 5, 7, 8, 1, 1, 2, 3, 4, 5, 6, 7, 8, 9, 10, 1, 2, 3, 4, 5, 6, 7, 8, 9, 10, 8, 4, 9, 1, 2, 3, 4, 5, 6, 7, 8, 9, 10, 2, 3, 4, 4, 1, 2, 3, 4, 5, 6, 7, 8, 9, 10, 1, 2, 3, 4, 5, 6, 7, 8, 9, 10, 1, 2, 3, 4, 5, 6, 7, 8, 9, 10, 3, 4, 8, 1, 2, 3, 4, 5, 6, 7, 8, 9, 10, 1, 2, 3, 4, 5, 6, 7, 8, 9, 10, 5, 6, 8, 5, 3, 1, 8, 10, 3, 5, 5, 1, 2, 3, 4, 5, 6, 7, 8, 9, 10, 1, 2, 3, 4, 5, 6, 7, 8, 9, 10, 10, 1, 2, 3, 4, 5, 6, 7, 8, 9, 10, 1, 2, 3, 4, 5, 6, 7, 8, 9, 10, 4, 1, 9, 1, 2, 3, 4, 5, 6, 7, 8, 9, 10, 1, 2, 3, 4, 5, 6, 7, 8, 9, 10, 1, 2, 3, 4, 5, 6, 7, 8, 9, 10, 1, 2, 3, 4, 5, 6, 7, 8, 9, 10, 1, 2, 3, 4, 5, 6, 7, 8, 9, 10, 1, 2, 3, 4, 5, 6, 7, 8, 9, 10, 1, 2, 3, 4, 5, 6, 7, 8, 9, 7, 1, 2, 3, 4, 5, 6, 7, 8, 9, 10, 1, 2, 3, 4, 5, 6, 7, 8, 9, 10, 1, 2, 3, 4, 5, 6, 7, 8, 9, 10, 1, 2, 3, 4, 5, 6, 7, 8, 9, 10, 10, 1, 2, 3, 4, 5, 6, 7, 8, 9, 10, 10, 4, 1, 2, 3, 4, 5, 6, 7, 8, 9, 10, 4, 9, 1, 4, 7, 9, 1, 2, 3, 4, 5, 6, 7, 8, 9, 10, 9, 1, 2, 3, 4, 5, 6, 7, 8, 9, 10, 1, 2, 3, 4, 5, 6, 7, 8, 9, 10, 3, 1, 2, 3, 4, 5, 6, 7, 8, 9, 10, 1, 2, 3, 4, 5, 6, 7, 8, 9, 10, 1, 2, 3, 4, 5, 6, 7, 8, 9, 10, 1, 2, 3, 4, 5, 6, 7, 8, 9, 10, 2], \"Freq\": [0.019255263209225174, 0.05776578962767552, 0.6546789491136559, 0.09627631604612587, 0.03851052641845035, 0.03851052641845035, 0.019255263209225174, 0.019255263209225174, 0.03851052641845035, 0.019255263209225174, 0.28571812210425895, 0.28571812210425895, 0.5134837196256837, 0.41205388313645663, 0.39990270303247594, 0.10864922451867662, 0.027162306129669155, 0.027162306129669155, 0.05432461225933831, 0.05432461225933831, 0.027162306129669155, 0.5975707348527214, 0.05432461225933831, 0.027162306129669155, 0.05302938680422615, 0.05302938680422615, 0.05302938680422615, 0.05302938680422615, 0.6893820284549399, 0.05302938680422615, 0.05302938680422615, 0.029166261705845357, 0.029166261705845357, 0.058332523411690713, 0.029166261705845357, 0.5541589724110617, 0.11666504682338143, 0.058332523411690713, 0.029166261705845357, 0.029166261705845357, 0.058332523411690713, 0.0769454882832969, 0.6155639062663752, 0.0769454882832969, 0.0769454882832969, 0.0769454882832969, 0.08106168339984192, 0.03242467335993677, 0.03242467335993677, 0.04863701003990515, 0.03242467335993677, 0.03242467335993677, 0.6484934671987354, 0.06484934671987354, 0.03242467335993677, 0.016212336679968384, 0.595693175697807, 0.5947094755858752, 0.5160602108192444, 0.03832901265595002, 0.03832901265595002, 0.03832901265595002, 0.6515932151511503, 0.03832901265595002, 0.03832901265595002, 0.07665802531190004, 0.07665802531190004, 0.07665802531190004, 0.4484273475141807, 0.4389916129570147, 0.09517433343241512, 0.059483958395259454, 0.06900139173850096, 0.05591492089154388, 0.03331101670134529, 0.05591492089154388, 0.13324406680538117, 0.024983262526008968, 0.032121337533440104, 0.6861007662100037, 0.029944595578135606, 0.021388996841525433, 0.05988919115627121, 0.02566679620983052, 0.5603917172479663, 0.14972297789067804, 0.04705579305135595, 0.03422239494644069, 0.02566679620983052, 0.03850019431474578, 0.025871206549367816, 0.04311867758227969, 0.09486109068101532, 0.02874578505485313, 0.3736952057130907, 0.26446122250464876, 0.048867834593250316, 0.04599325608776501, 0.037369520571309066, 0.04024409907679438, 0.5097182580606465, 0.4536247252722541, 0.019046219898554533, 0.038092439797109065, 0.7428025760436268, 0.0571386596956636, 0.038092439797109065, 0.019046219898554533, 0.019046219898554533, 0.019046219898554533, 0.019046219898554533, 0.019046219898554533, 0.026755806568801513, 0.053511613137603026, 0.04013370985320227, 0.026755806568801513, 0.06688951642200379, 0.6287614543668355, 0.026755806568801513, 0.04013370985320227, 0.06688951642200379, 0.026755806568801513, 0.7441522294177404, 0.023517538085838077, 0.02565549609364154, 0.0726905722653177, 0.034207328124855385, 0.5858004941381485, 0.08551832031213846, 0.03848324414046231, 0.06413874023410385, 0.023517538085838077, 0.04489711816387269, 0.04746488954916323, 0.03215363485588477, 0.03674701126386831, 0.030622509386556925, 0.08574302628235939, 0.6216369405471056, 0.03674701126386831, 0.03215363485588477, 0.05512051689580246, 0.02296688203991769, 0.04583918168038932, 0.04583918168038932, 0.09167836336077864, 0.6875877252058398, 0.04583918168038932, 0.04583918168038932, 0.04583918168038932, 0.45551849676765616, 0.056586148666789585, 0.04526891893343167, 0.05941545610012906, 0.04809822636677115, 0.053756841233450106, 0.03112238176673427, 0.19805152033376355, 0.014146537166697396, 0.03395168920007375, 0.031115977821964395, 0.6486484607501809, 0.09574147022142891, 0.019148294044285783, 0.047870735110714456, 0.038296588088571566, 0.04547719835517873, 0.031115977821964395, 0.019148294044285783, 0.023935367555357228, 0.20836149386316954, 0.09426925937995409, 0.09999589663200738, 0.14757103687983467, 0.08281598487584751, 0.11541376615676623, 0.09426925937995409, 0.0634335203304364, 0.056825861962682606, 0.03656237630157098, 0.05245367946414252, 0.7343515124979954, 0.05245367946414252, 0.05245367946414252, 0.05245367946414252, 0.05245367946414252, 0.022457835838616005, 0.022457835838616005, 0.06737350751584802, 0.022457835838616005, 0.6063615676426322, 0.08983134335446402, 0.04491567167723201, 0.06737350751584802, 0.022457835838616005, 0.022457835838616005, 0.705990028341377, 0.06483281439558301, 0.038899688637349814, 0.025933125758233207, 0.5316290780437808, 0.038899688637349814, 0.025933125758233207, 0.06483281439558301, 0.025933125758233207, 0.07779937727469963, 0.09076594015381623, 0.024811709477340706, 0.06823220106268695, 0.1364644021253739, 0.03101463684667588, 0.4342049158534623, 0.07443512843202212, 0.08063805580135729, 0.07443512843202212, 0.03101463684667588, 0.03721756421601106, 0.6045295937202558, 0.6412893480123748, 0.5047676719274775, 0.026818367139871895, 0.6168224442170536, 0.09833401284619694, 0.026818367139871895, 0.05363673427974379, 0.05363673427974379, 0.03575782285316253, 0.044697278566453155, 0.017878911426581264, 0.026818367139871895, 0.6292201866327878, 0.02048019412306232, 0.09069800254499029, 0.4681187228128531, 0.061440582369186966, 0.16969303701965924, 0.0643663243867673, 0.038034646228544314, 0.02925742017580332, 0.02925742017580332, 0.02925742017580332, 0.1693293798249776, 0.03762875107221724, 0.01881437553610862, 0.056443126608325865, 0.056443126608325865, 0.01881437553610862, 0.5832456416193672, 0.03762875107221724, 0.01881437553610862, 0.01881437553610862, 0.01774239014481926, 0.04829872872756354, 0.66731100711348, 0.08772626238271745, 0.06012698882410972, 0.02759927355860774, 0.02759927355860774, 0.01971376682757696, 0.024642208534471195, 0.018728078486198108, 0.03456789466482457, 0.03456789466482457, 0.725925787961316, 0.06913578932964914, 0.03456789466482457, 0.03456789466482457, 0.03456789466482457, 0.03456789466482457, 0.03456789466482457, 0.013843170272110326, 0.04152951081633098, 0.6644721730612957, 0.08305902163266196, 0.04152951081633098, 0.04152951081633098, 0.02768634054422065, 0.02768634054422065, 0.02768634054422065, 0.013843170272110326, 0.2071835764201209, 0.21014334179755118, 0.08681978440462208, 0.07300754597661402, 0.06215507292603627, 0.0513025998754585, 0.17561274572753102, 0.058208719089462534, 0.03847694990659388, 0.037490361447450445, 0.10276472123487654, 0.08978391434205003, 0.10600992295808316, 0.06923097009507471, 0.20012077293107536, 0.15468794880618258, 0.13629847237467835, 0.06165883274092592, 0.0432693563094217, 0.035697218955272905, 0.7877664613917466, 0.7242852693476549, 0.048285684623177, 0.048285684623177, 0.048285684623177, 0.03851489955874189, 0.028319779087310214, 0.020390240942863354, 0.5505365054573106, 0.036249317231757075, 0.019257449779370946, 0.0657018874825597, 0.01585907628889372, 0.13820052194607385, 0.08495933726193064, 0.026058401744025794, 0.04560220305204514, 0.09120440610409028, 0.03908760261603869, 0.5146534344445094, 0.09120440610409028, 0.07817520523207738, 0.04560220305204514, 0.03257300218003224, 0.03257300218003224, 0.40997931230326085, 0.7197539586051991, 0.16371084878021805, 0.16371084878021805, 0.16371084878021805, 0.16371084878021805, 0.3274216975604361, 0.042331022039358485, 0.04938619237925156, 0.042331022039358485, 0.03174826652951886, 0.09524479958855658, 0.606744649230805, 0.0352758516994654, 0.03174826652951886, 0.03880343686941194, 0.021165511019679242, 0.03648818249750387, 0.6709117426960389, 0.08121563201057314, 0.017655572176211554, 0.04472744951306926, 0.03884225878766542, 0.04708152580323081, 0.030602991772100022, 0.015301495886050011, 0.01647853403113078, 0.0683409714965127, 0.18002012003959444, 0.26336276820607335, 0.17168585522294655, 0.07500838334983102, 0.05167244186321692, 0.05667300075320566, 0.04167132408323945, 0.05500614778987608, 0.03667076519325072, 0.15686628134392172, 0.1207255204460574, 0.1337977105580509, 0.10534647325547684, 0.09765694966018656, 0.08842952134583823, 0.13610456763663797, 0.09535009258159947, 0.02768228494304501, 0.0384476179764514, 0.07454922666835148, 0.03194966857215063, 0.02129977904810042, 0.5857439238227616, 0.04259955809620084, 0.02129977904810042, 0.05324944762025106, 0.02129977904810042, 0.08519911619240168, 0.07454922666835148, 0.0311434714311367, 0.026694404083831457, 0.08898134694610486, 0.03559253877844194, 0.5650315531077659, 0.08008321225149438, 0.0622869428622734, 0.05783787551496816, 0.022245336736526216, 0.0311434714311367, 0.6687817247715059, 0.07430908053016733, 0.07430908053016733, 0.14861816106033465, 0.06624488186086315, 0.06624488186086315, 0.06624488186086315, 0.6624488186086316, 0.06624488186086315, 0.06624488186086315, 0.673630932999947, 0.16631302274177662, 0.10067613246089742, 0.10413070563357527, 0.1391699478135935, 0.07402656798595399, 0.1322608014682378, 0.12633867602936147, 0.07155901571975552, 0.05033806623044871, 0.03454573172677853, 0.616629235248731, 0.058726593833212486, 0.04404494537490936, 0.029363296916606243, 0.04404494537490936, 0.029363296916606243, 0.014681648458303121, 0.10277153920812185, 0.014681648458303121, 0.029363296916606243, 0.662255976636377, 0.0802349873819985, 0.046092439559871475, 0.05121382173319053, 0.47116715994535285, 0.07169935042646675, 0.039263929995446076, 0.06999222303536039, 0.025606910866595264, 0.08194211477310485, 0.06487084086204134, 0.3321964600020925, 0.6840586584054494, 0.06555924875270414, 0.06555924875270414, 0.06555924875270414, 0.06555924875270414, 0.06555924875270414, 0.6555924875270414, 0.06555924875270414, 0.11236669300722571, 0.04794312234974964, 0.06142712551061672, 0.06592179323090575, 0.08390046411206185, 0.47493655577720734, 0.025469783748304494, 0.05843068036375736, 0.043448454629460606, 0.02397156117487482, 0.6571941955690997, 0.4917696693135776, 0.13568425912931256, 0.13441221919997526, 0.10133918103720532, 0.1454365652542319, 0.1187237267381485, 0.0924349015318442, 0.13186813934130065, 0.06148192991796976, 0.05130561048327131, 0.027136851825862514, 0.04351674259797559, 0.029011161731983724, 0.08703348519595118, 0.029011161731983724, 0.5512120729076908, 0.10153906606194303, 0.05802232346396745, 0.05802232346396745, 0.029011161731983724, 0.029011161731983724, 0.12041934802650336, 0.05557816062761694, 0.03705210708507796, 0.06484118739888643, 0.07410421417015592, 0.05557816062761694, 0.5187294991910915, 0.04631513385634745, 0.02778908031380847, 0.00926302677126949, 0.7546234696172609, 0.7606740443514656, 0.12852519209356195, 0.07739151351870398, 0.03593177413368399, 0.27501627125396594, 0.08568346139570797, 0.15754700966307594, 0.07462753089303598, 0.03593177413368399, 0.07186354826736797, 0.05666164382619398, 0.7864658129264055, 0.08002762990562169, 0.060020722429216265, 0.020006907476405423, 0.08002762990562169, 0.08002762990562169, 0.020006907476405423, 0.5601934093393518, 0.060020722429216265, 0.020006907476405423, 0.7279829634410983, 0.637627970694859, 0.045544855049632786, 0.045544855049632786, 0.045544855049632786, 0.045544855049632786, 0.045544855049632786, 0.045544855049632786, 0.09108971009926557, 0.045544855049632786, 0.28878901609523017, 0.09662286706737608, 0.10417996281566247, 0.07880971280355814, 0.06963323939492466, 0.08366784578459939, 0.12469207984672555, 0.10525954792256052, 0.030768175546594615, 0.017273361710368907, 0.22247438419126425, 0.08883112666460463, 0.0983487473786694, 0.16179955213910127, 0.0987453149084221, 0.06583020993894807, 0.1027109902059491, 0.07772723583152905, 0.04124302309428072, 0.04243272568353881, 0.15607421883711547, 0.11253177372676079, 0.09952558882366784, 0.10970434222608841, 0.09387072582232307, 0.15663970513724995, 0.11366274632702975, 0.07577516421801983, 0.04750084921129601, 0.034494664308203055, 0.03724291754550899, 0.03724291754550899, 0.09310729386377248, 0.03724291754550899, 0.5400223044098803, 0.09310729386377248, 0.055864376318263485, 0.055864376318263485, 0.018621458772754496, 0.03724291754550899, 0.10310406251192111, 0.03638966912185451, 0.016173186276379783, 0.4002863603403996, 0.0444762622600444, 0.026281427699117146, 0.2446194424302442, 0.020216482845474726, 0.07075768995916154, 0.04043296569094945, 0.7078000405185769, 0.11973851023430143, 0.06414563048266148, 0.017105501462043062, 0.07269838121368301, 0.07269838121368301, 0.02565825219306459, 0.5516524221508887, 0.05131650438612918, 0.02138187682755383, 0.0042763753655107655, 0.6716171977837556, 0.14029774851089216, 0.7014887425544608, 0.7749454349680328, 0.6393593066074615, 0.10260607911247327, 0.060281071478578044, 0.26549322970352457, 0.18982124635807554, 0.08208486328997862, 0.09106289521232003, 0.06669395142310763, 0.055150767522954385, 0.06797652741201354, 0.019238639833588738, 0.6301669089076753, 0.1260333817815351, 0.10868143747621795, 0.04281389961184343, 0.02305363825253108, 0.03622714582540598, 0.07245429165081196, 0.02964039203896853, 0.6224482328183392, 0.03622714582540598, 0.02305363825253108, 0.0065867537864374515, 0.07495175440960826, 0.07495175440960826, 0.07495175440960826, 0.07495175440960826, 0.5996140352768661, 0.44546607596196136, 0.40640570663125336, 0.1284981009163147, 0.04385252650318676, 0.018356871559473527, 0.05507061467842059, 0.05405078848067205, 0.025495654943713236, 0.5986379780783867, 0.05099130988742647, 0.019376697757222058, 0.007138783384239705, 0.3236369950354696, 0.3236369950354696, 0.14111171265391376, 0.7055585632695688, 0.11476136536874092, 0.2818146067006084, 0.08879090348101361, 0.03509521876719906, 0.1382751619427643, 0.08879090348101361, 0.10984803474133305, 0.09405518629609347, 0.023513796574023367, 0.02526855751238332, 0.4000793406832953, 0.6667039554682879, 0.3668042679889774, 0.3668042679889774, 0.3879226160050696, 0.09457187975212455, 0.17918882479349915, 0.05972960826449972, 0.04977467355374977, 0.09457187975212455, 0.04479720619837479, 0.3782875190084982, 0.05972960826449972, 0.024887336776874883, 0.01493240206612493, 0.07447452164218962, 0.03819206238061006, 0.043920871737701574, 0.0649265060470371, 0.07829372788025063, 0.5232312546143578, 0.03819206238061006, 0.04583047485673208, 0.0630169029280066, 0.03055364990448805, 0.11631410116427557, 0.12942794590338508, 0.10548092507544599, 0.11004226237600581, 0.10148975493745614, 0.157366136869314, 0.1077615937257259, 0.07982340275979696, 0.05359571328157796, 0.0393415342173285, 0.07072647523425953, 0.5173510688431947, 0.07989472202388577, 0.03405348807575459, 0.07727522294113541, 0.05893872936188294, 0.06810697615150918, 0.04060223578263047, 0.02881448991025388, 0.023575491744753176, 0.6507650079164903, 0.14660375067263465, 0.16351956805793863, 0.14998691414969542, 0.08345136576749972, 0.09303699561917197, 0.11615527937908744, 0.10036718315280371, 0.07104643301827679, 0.04510884636081066, 0.030448471293547195, 0.6402234898987236, 0.09721325351529865, 0.6804927746070906, 0.09721325351529865, 0.6576931703683428, 0.6726290325064852, 0.34196078459188334, 0.028897534768089476, 0.5862071338669579, 0.11834228524074737, 0.020641096262921054, 0.08394045813587896, 0.048162557946815794, 0.04265826561003684, 0.03440182710486842, 0.01651287701033684, 0.023393242431310527, 0.22805169658701735, 0.22805169658701735, 0.22805169658701735, 0.07923144235905928, 0.08300436818568115, 0.16978166219798416, 0.043388647006151505, 0.2414672529037997, 0.18675982841778258, 0.060366813225949924, 0.05659388739932805, 0.04716157283277338, 0.03395633243959683, 0.28538275208219605, 0.6719908813790959, 0.02949735643356024, 0.049162260722600395, 0.6686067458273653, 0.08849206930068071, 0.03932980857808032, 0.03441358250582028, 0.01966490428904016, 0.024581130361300198, 0.02949735643356024, 0.01474867821678012, 0.14516955879432333, 0.30507714386218204, 0.10242928260107077, 0.058952105094141456, 0.04716168407531316, 0.10685069048313138, 0.0692687234856162, 0.11053519705151522, 0.0324236578017778, 0.021370138096626277, 0.45424644857854785, 0.02727868115186639, 0.7092457099485262, 0.05455736230373278, 0.02727868115186639, 0.02727868115186639, 0.02727868115186639, 0.05455736230373278, 0.02727868115186639, 0.02727868115186639, 0.037744207996560766, 0.7171399519346546, 0.07548841599312153, 0.037744207996560766, 0.037744207996560766, 0.037744207996560766, 0.037744207996560766, 0.15636659220840257, 0.07442776659701257, 0.0778418843308205, 0.09900941428042957, 0.14066165063288616, 0.2198691820572298, 0.0689651782229199, 0.07306211950348941, 0.04779764827331083, 0.04233505989921816, 0.1526449656894962, 0.11847071963960899, 0.12815342268707702, 0.14410140417702438, 0.09284003510219359, 0.10138359661466538, 0.10081402584716727, 0.07290505823975937, 0.03930038295737029, 0.04898308600483833, 0.7449813450243042, 0.44556550603767386, 0.07472216560880245, 0.0885596036845066, 0.055349752302816635, 0.041512314227112476, 0.0691871903785208, 0.0442798018422533, 0.12453694268133741, 0.027674876151408317, 0.027674876151408317, 0.28571408892457095, 0.5714281778491419, 0.06285904451869892, 0.06285904451869892, 0.4766810876001335, 0.12047983532750628, 0.06285904451869892, 0.05238253709891577, 0.0471442833890242, 0.041906029679132616, 0.0471442833890242, 0.026191268549457886, 0.6625106252861559, 0.5984393057611818, 0.03253010061210002, 0.5878653896329504, 0.11734072006507508, 0.023235786151500015, 0.07900167291510005, 0.03136831130452502, 0.049956940225725034, 0.036015468534825026, 0.01975041822877501, 0.022073996843925015, 0.42561902862456785, 0.06657727822060279, 0.0784660779028533, 0.0689550381570529, 0.040421918919651696, 0.042799678856101794, 0.033288639110301395, 0.1878430349795579, 0.0142665596187006, 0.040421918919651696, 0.13211820792756637, 0.124166649117111, 0.10275860616588496, 0.145166919821647, 0.08848657753173428, 0.10826353149620023, 0.1221277878836609, 0.05056375858956244, 0.08420496894148907, 0.04179665528572702, 0.4333298083460388, 0.03776408990201126, 0.01888204495100563, 0.03776408990201126, 0.03776408990201126, 0.16993840455905065, 0.6231074833831857, 0.01888204495100563, 0.01888204495100563, 0.05664613485301688, 0.01888204495100563, 0.04012939763304315, 0.0267529317553621, 0.0267529317553621, 0.5885644986179661, 0.0267529317553621, 0.0267529317553621, 0.04012939763304315, 0.01337646587768105, 0.09363526114376734, 0.12038819289912944, 0.22428986637205378, 0.16890965245302816, 0.10957370896835784, 0.05933594348467031, 0.0684341214856531, 0.07238985105129779, 0.12895678384001683, 0.11194714670774467, 0.030459117655464094, 0.025316669220126, 0.15928989842944147, 0.24778428644579784, 0.1415910208261702, 0.03539775520654255, 0.03539775520654255, 0.017698877603271275, 0.0707955104130851, 0.24778428644579784, 0.017698877603271275, 0.017698877603271275, 0.07470798007998063, 0.04022737388922034, 0.05172090928614043, 0.06321444468306053, 0.10918858627074092, 0.4884752543691041, 0.05172090928614043, 0.04022737388922034, 0.05746767698460048, 0.022987070793840193, 0.02747498895289046, 0.04121248342933569, 0.6593997348693711, 0.09616246133511662, 0.04121248342933569, 0.01373749447644523, 0.02747498895289046, 0.02747498895289046, 0.04121248342933569, 0.01373749447644523, 0.11191164959675189, 0.05595582479837594, 0.040695145307909776, 0.12717232908721804, 0.06104271796186467, 0.0457820384713985, 0.44764659838700754, 0.05086893163488722, 0.0457820384713985, 0.015260679490466167, 0.3524182981841254, 0.15714625509402336, 0.12182673847679987, 0.0747340496538352, 0.1812044765579292, 0.07780531196837638, 0.1330880336301175, 0.08753097596442343, 0.06347275450051758, 0.0691034020771764, 0.0337838854599529, 0.035528030219567484, 0.017764015109783742, 0.017764015109783742, 0.6217405288424309, 0.035528030219567484, 0.035528030219567484, 0.05329204532935122, 0.017764015109783742, 0.10658409065870245, 0.07105606043913497, 0.6602586859999645, 0.11004311433332743, 0.34451741676105985, 0.05409777618562097, 0.07687578721114559, 0.05409777618562097, 0.14805707166591003, 0.07687578721114559, 0.04270877067285866, 0.14805707166591003, 0.022778011025524618, 0.03416701653828693, 0.7375494790395153, 0.4536902970445397, 0.28343325423713134, 0.12536470860488502, 0.12770069696398226, 0.07241563913201432, 0.09343953436388945, 0.08487424371386625, 0.042826453250116, 0.11290610402303308, 0.02725319752280109, 0.030367848668264072, 0.5656311573857625, 0.04713592978214688, 0.04351008902967404, 0.04713592978214688, 0.025380885267309857, 0.04351008902967404, 0.02175504451483702, 0.15228531160385914, 0.014503363009891348, 0.03625840752472837, 0.05047039044515456, 0.05047039044515456, 0.6561150757870093, 0.05047039044515456, 0.05047039044515456, 0.05047039044515456, 0.05047039044515456, 0.2108972414075656, 0.1094385685141962, 0.10886857596985143, 0.08036894875261284, 0.0769489934865442, 0.11684847159067824, 0.0951887549055769, 0.12083841940109165, 0.03932948555978926, 0.04217944828151312, 0.5863603567891774, 0.18961402189789142, 0.10850744605717486, 0.11617968971778318, 0.13152417703899982, 0.08549071507534989, 0.09919115018357903, 0.10138321980089571, 0.08877881950132488, 0.0498695837939541, 0.02959293983377496, 0.07617743783398019, 0.6855969405058218, 0.07617743783398019, 0.5365636772579897, 0.06561342219370105, 0.7217476441307115, 0.06561342219370105, 0.06561342219370105, 0.06561342219370105, 0.597176674065549, 0.07293225051531647, 0.6563902546378483, 0.07293225051531647, 0.07293225051531647, 0.07293225051531647, 0.28102314773861786, 0.06284862728978674, 0.035913501308449565, 0.18405669420580403, 0.09068159080383516, 0.10145564119637003, 0.0754183527477441, 0.045789714168273196, 0.07362267768232161, 0.049381064299118156, 0.13877595472779639, 0.22701004940040767, 0.08737745297676068, 0.10965013706887615, 0.10879349537302556, 0.08138096110580652, 0.09765715332696782, 0.07538446923485236, 0.039405518009127366, 0.03512230952987439, 0.6095139843902938, 0.06907588938813708, 0.013815177877627415, 0.013815177877627415, 0.5802374708603515, 0.041445533632882246, 0.02763035575525483, 0.05526071151050966, 0.013815177877627415, 0.11052142302101932, 0.08289106726576449, 0.7503352871521629, 0.08337058746135144, 0.08337058746135144, 0.12382736715084837, 0.3714821014525451, 0.08102284517277733, 0.0565631183281653, 0.07337918053383607, 0.08560904395614208, 0.08560904395614208, 0.06114931711153006, 0.03363212441134153, 0.027517192700188525, 0.5909625218950797, 0.05138804538218084, 0.05138804538218084, 0.05138804538218084, 0.02569402269109042, 0.05138804538218084, 0.02569402269109042, 0.12847011345545212, 0.02569402269109042, 0.02569402269109042, 0.04861640960468672, 0.03241093973645781, 0.04861640960468672, 0.03241093973645781, 0.09723281920937343, 0.5996023851244695, 0.03241093973645781, 0.03241093973645781, 0.06482187947291562, 0.016205469868228906, 0.8627623462351485, 0.055584865799016094, 0.055584865799016094, 0.055584865799016094, 0.7226032553872093, 0.055584865799016094, 0.024678163726970462, 0.024678163726970462, 0.07403449118091139, 0.024678163726970462, 0.5552586838568354, 0.11105173677136708, 0.061695409317426154, 0.07403449118091139, 0.024678163726970462, 0.024678163726970462, 0.4011602375101975, 0.11398858908733354, 0.6839315345240012, 0.11398858908733354, 0.6846506286522434, 0.08558132858153042, 0.08558132858153042, 0.08558132858153042, 0.08558132858153042, 0.710146096882554, 0.118357682813759, 0.118357682813759, 0.05029375724969281, 0.6538188442460066, 0.07544063587453922, 0.025146878624846405, 0.05029375724969281, 0.05029375724969281, 0.05029375724969281, 0.025146878624846405, 0.025146878624846405, 0.025146878624846405, 0.7226295320845952, 0.18294226989692683, 0.15400752312751492, 0.0849374824521446, 0.08680424030823568, 0.07280355638755251, 0.07187017745950697, 0.16054117562383374, 0.11573898707764757, 0.035468399265730706, 0.03360164140963962, 0.19309878965751695, 0.10358279445204552, 0.08184319561643102, 0.10997679410957918, 0.07161279616437714, 0.07672799589040408, 0.20077158924655736, 0.0805643956849243, 0.052430797191776124, 0.030691198356161634, 0.5074804743814773, 0.5301791583208896, 0.05474676091357012, 0.04610253550616431, 0.051865352444434853, 0.06339098632097592, 0.0374583100987585, 0.023051267753082156, 0.14407042345676346, 0.020169859283946885, 0.028814084691352694, 0.05803141555280923, 0.05803141555280923, 0.6963769866337108, 0.05803141555280923, 0.05803141555280923, 0.05803141555280923, 0.7538457746631102, 0.403961940849938, 0.05559937424044423, 0.022587245785180468, 0.02432472623019435, 0.5247190943941924, 0.034749608900277645, 0.02432472623019435, 0.06949921780055529, 0.01563732400512494, 0.14768583782617997, 0.07992410047063858, 0.038342919629124436, 0.028757189721843327, 0.023964324768202774, 0.5818538053719633, 0.024922897758930883, 0.02971576271257144, 0.06805868234169588, 0.013420021870193553, 0.12269734281319819, 0.06805868234169588, 0.12775695216043823, 0.11688402006167754, 0.3424973611109621, 0.07882875771601508, 0.05708289351849368, 0.06795582561725438, 0.09513815586415614, 0.05436466049380351, 0.038055262345662456, 0.027182330246901754, 0.10374040026413668, 0.05928022872236382, 0.05928022872236382, 0.04446017154177286, 0.05928022872236382, 0.5187020013206834, 0.05928022872236382, 0.02964011436118191, 0.02964011436118191, 0.02964011436118191, 0.1329229814032518, 0.21241613694833375, 0.0651583242172803, 0.14334831327801664, 0.048217159920787414, 0.06385515773293468, 0.2032939715579145, 0.057339325311206654, 0.05082349288947863, 0.02476016320256651, 0.20239448639078977, 0.18541658245513853, 0.07416663298205542, 0.15548185709491136, 0.07148591130800522, 0.08980417608068156, 0.09025096302635659, 0.06478410712287973, 0.03753010343670274, 0.029041151468877122, 0.13741934451409893, 0.258215381224073, 0.0897658621422743, 0.05873568757457454, 0.14960977023712382, 0.08533298006117433, 0.06870967225704946, 0.07425077485842442, 0.03103017456769976, 0.04765348237182463, 0.06346569222039082, 0.09587370526910102, 0.16609106687463981, 0.0499623534500949, 0.3173284611019541, 0.10802671016236735, 0.08372070037583469, 0.0499623534500949, 0.025656343663562245, 0.037809348556828576, 0.443392234268913, 0.047501752466181206, 0.7125262869927181, 0.047501752466181206, 0.047501752466181206, 0.047501752466181206, 0.047501752466181206, 0.7126142393376248, 0.11876903988960413, 0.09192556422475476, 0.03064185474158492, 0.03064185474158492, 0.06128370948316984, 0.03064185474158492, 0.03064185474158492, 0.6128370948316983, 0.06128370948316984, 0.03064185474158492, 0.034560242535329175, 0.034560242535329175, 0.034560242535329175, 0.023040161690219448, 0.09216064676087779, 0.6566446081712543, 0.023040161690219448, 0.023040161690219448, 0.05760040422554862, 0.011520080845109724, 0.5994874365412067, 0.01739453824013359, 0.03478907648026718, 0.08697269120066795, 0.03478907648026718, 0.5392306854441413, 0.08697269120066795, 0.06957815296053436, 0.06957815296053436, 0.01739453824013359, 0.05218361472040077, 0.07950857107513314, 0.17736527393683546, 0.061160439288563954, 0.28745406465625056, 0.06727648321742034, 0.03669626357313837, 0.07339252714627674, 0.030580219644281977, 0.14066901036369708, 0.04892835143085116, 0.02713112060926488, 0.02713112060926488, 0.02713112060926488, 0.04069668091389732, 0.0678278015231622, 0.6782780152316219, 0.02713112060926488, 0.02713112060926488, 0.04069668091389732, 0.02713112060926488, 0.7394003447268619, 0.6815677107970798, 0.1495157516844648, 0.5980630067378592, 0.14121911184815847, 0.09031454827498506, 0.06896747322817041, 0.06896747322817041, 0.2298915774272347, 0.1018091271463468, 0.13136661567270555, 0.0935987136668027, 0.031199571222267568, 0.04433623278953812, 0.03147684494987383, 0.04721526742481075, 0.0550844786622792, 0.03934605618734229, 0.10229974608708996, 0.6137984765225397, 0.03147684494987383, 0.03147684494987383, 0.03147684494987383, 0.023607633712405374, 0.1483051406462665, 0.11964714245375123, 0.1554696401943953, 0.108900393131558, 0.09887009376417766, 0.11033329304118376, 0.11749779258931257, 0.07092854552647528, 0.043703447243585776, 0.025792198373263738, 0.7922647823126241, 0.49864893488791906, 0.153072474840873, 0.153072474840873, 0.153072474840873, 0.306144949681746, 0.15483852733094713, 0.15483852733094713, 0.46451558199284143, 0.03567731610508934, 0.03567731610508934, 0.03567731610508934, 0.03567731610508934, 0.07135463221017868, 0.6421916898916081, 0.03567731610508934, 0.03567731610508934, 0.03567731610508934, 0.03567731610508934, 0.6393858355574111, 0.03729653135644003, 0.029837225085152023, 0.03729653135644003, 0.029837225085152023, 0.07459306271288006, 0.6787968706872085, 0.022377918813864018, 0.022377918813864018, 0.044755837627728036, 0.022377918813864018, 0.2350192693797048, 0.12481249334289407, 0.07900365270108721, 0.05045611433010612, 0.10954287979562512, 0.07302858653041674, 0.17792419263774262, 0.09560105873072738, 0.03518650078283716, 0.019252990994382598, 0.21110438591709824, 0.29906454671588917, 0.15625863859549918, 0.03207958805602963, 0.04139301684648985, 0.034149238898354126, 0.07657708116600623, 0.0962387641680889, 0.023800984686731662, 0.028975111792542894, 0.0512084942577375, 0.034138996171825, 0.0170694980859125, 0.5974324330069375, 0.034138996171825, 0.0170694980859125, 0.0853474904295625, 0.0170694980859125, 0.102416988515475, 0.06827799234365, 0.08642337395993578, 0.04321168697996789, 0.4321168697996789, 0.04321168697996789, 0.08642337395993578, 0.25927012187980736, 0.04321168697996789, 0.030527797496797075, 0.045791696245195614, 0.07631949374199269, 0.030527797496797075, 0.5495003549423474, 0.10684729123878976, 0.06105559499359415, 0.045791696245195614, 0.030527797496797075, 0.045791696245195614, 0.7284166396246654, 0.600777215112631, 0.08417014840124543, 0.0589191038808718, 0.02525104452037363, 0.12625522260186814, 0.02525104452037363, 0.43768477168647624, 0.1346722374419927, 0.06733611872099635, 0.03366805936049817, 0.016834029680249087, 0.16408675649849547, 0.112934204877507, 0.10761965405974197, 0.1601008433851717, 0.09433327701532937, 0.11027692946862448, 0.09632623357199127, 0.06510324751762168, 0.04583800080322343, 0.04318072539434091, 0.6621278456767216, 0.034710618067799764, 0.6826421553333953, 0.09256164818079936, 0.01157020602259992, 0.034710618067799764, 0.034710618067799764, 0.04628082409039968, 0.034710618067799764, 0.02314041204519984, 0.02314041204519984, 0.5144357083692476, 0.7607221631488452, 0.09509027039360565, 0.09509027039360565, 0.09509027039360565, 0.06686907843369307, 0.6686907843369307, 0.06686907843369307, 0.06686907843369307, 0.06686907843369307, 0.7442378556319124, 0.47153289166694495, 0.11150207979588728, 0.10478508703709888, 0.03761515944921498, 0.03224156524218427, 0.029554768138668915, 0.049705746415034086, 0.11687567400291798, 0.016120782621092136, 0.02821136958691124, 0.4497947869610248, 0.11694664460986645, 0.14213515267968385, 0.02698768721766149, 0.02698768721766149, 0.03598358295688198, 0.07016798676591987, 0.08456141994867267, 0.01799179147844099, 0.02338932892197329, 0.556726134215276, 0.05567261342152759, 0.04175446006614569, 0.0695907667769095, 0.027836306710763797, 0.04175446006614569, 0.013918153355381898, 0.1530996869092009, 0.013918153355381898, 0.027836306710763797, 0.4903904797640617, 0.07870464490040496, 0.07567754317346631, 0.05146072935795709, 0.04086587331367181, 0.05297428022142642, 0.04843362763101844, 0.11200276389673014, 0.01664905949816259, 0.03178456813285585, 0.49740224001225875, 0.6373559237633661, 0.08452929657146183, 0.26402360534049185, 0.1701021647055343, 0.06470143688185967, 0.08766001125929375, 0.08557286813407247, 0.10957501407411718, 0.0709628662575235, 0.04069929094181495, 0.022958574377434076, 0.016494299197619015, 0.049482897592857046, 0.049482897592857046, 0.03298859839523803, 0.08247149598809507, 0.6432776687071415, 0.03298859839523803, 0.03298859839523803, 0.049482897592857046, 0.03298859839523803, 0.18255020182037798, 0.17133203299342736, 0.09433460149935734, 0.13104860856937747, 0.07750734825893144, 0.06526934590225805, 0.11932052297756549, 0.07852718178865421, 0.03671400707002015, 0.043852841778079625, 0.6575953826194386, 0.08219942282742983, 0.08219942282742983, 0.08219942282742983, 0.4486057330604934, 0.21590729245785487, 0.0650581576611417, 0.08293127789771909, 0.17015210465221675, 0.06648800728006789, 0.1258267664655048, 0.05361936070973217, 0.09937454851537028, 0.06791785689899409, 0.052904435900269074, 0.5527658128437627, 0.06141842364930697, 0.04606381773698023, 0.04606381773698023, 0.0767730295616337, 0.04606381773698023, 0.04606381773698023, 0.09212763547396045, 0.015354605912326742, 0.030709211824653485, 0.034190021424660585, 0.017095010712330293, 0.017095010712330293, 0.5812303642192299, 0.034190021424660585, 0.017095010712330293, 0.06838004284932117, 0.017095010712330293, 0.11966507498631204, 0.06838004284932117, 0.032884667721798266, 0.032884667721798266, 0.032884667721798266, 0.032884667721798266, 0.032884667721798266, 0.723462689879562, 0.032884667721798266, 0.032884667721798266, 0.032884667721798266, 0.09399919946310553, 0.10574909939599371, 0.12689891927519245, 0.054049539691285675, 0.3078473782416706, 0.0798993195436397, 0.10574909939599371, 0.07284937958390678, 0.023499799865776383, 0.030549739825509296, 0.6462614923013146, 0.09232307032875922, 0.09232307032875922, 0.09232307032875922, 0.02801705227529002, 0.02801705227529002, 0.02801705227529002, 0.02801705227529002, 0.08405115682587007, 0.6724092546069605, 0.02801705227529002, 0.02801705227529002, 0.05603410455058004, 0.02801705227529002, 0.03940387820414654, 0.03940387820414654, 0.03940387820414654, 0.03940387820414654, 0.11821163461243964, 0.6698659294704913, 0.03940387820414654, 0.03940387820414654, 0.03940387820414654, 0.20887878069788623, 0.11166475697685742, 0.11560586604662886, 0.14713473860480036, 0.06437144813960016, 0.09392976616288595, 0.07488107232565733, 0.0827632904652002, 0.052548120930285845, 0.04860701186051441, 0.07173964716174719, 0.028695858864698873, 0.028695858864698873, 0.5739171772939775, 0.028695858864698873, 0.028695858864698873, 0.10043550602644606, 0.014347929432349436, 0.10043550602644606, 0.04304378829704831, 0.05321038867329341, 0.021284155469317365, 0.018243561830843455, 0.5670707135753841, 0.033446530023213, 0.033446530023213, 0.05169009185405646, 0.015202968192369546, 0.11858315190048246, 0.08665691869650642, 0.04790541763302199, 0.04790541763302199, 0.7185812644953298, 0.09581083526604398, 0.04790541763302199, 0.04790541763302199, 0.02689584925096561, 0.6455003820231746, 0.10310075546203484, 0.017930566167310407, 0.04930905696010362, 0.035861132334620814, 0.04482641541827602, 0.04034377387644841, 0.013447924625482804, 0.02241320770913801, 0.0463141747537414, 0.6483984465523795, 0.0463141747537414, 0.0463141747537414, 0.0463141747537414, 0.0463141747537414, 0.0926283495074828, 0.01774800552315057, 0.03549601104630114, 0.6744242098797216, 0.07099202209260227, 0.05324401656945171, 0.03549601104630114, 0.01774800552315057, 0.03549601104630114, 0.03549601104630114, 0.01774800552315057, 0.056644779187699855, 0.7363821294400981, 0.056644779187699855, 0.056644779187699855, 0.056644779187699855, 0.4100512787859207, 0.38512019512685525, 0.7516597079188505, 0.06510308459636728, 0.525164882410696, 0.060762878956609465, 0.026041233838546913, 0.08246390715539856, 0.052082467677093826, 0.09982472971442984, 0.04774226203733601, 0.021701028198789094, 0.017360822559031274, 0.08132080242222492, 0.05421386828148328, 0.02710693414074164, 0.02710693414074164, 0.05421386828148328, 0.02710693414074164, 0.6234594852370577, 0.05421386828148328, 0.02710693414074164, 0.022498725254540046, 0.6974604828907415, 0.06749617576362013, 0.022498725254540046, 0.04499745050908009, 0.04499745050908009, 0.04499745050908009, 0.022498725254540046, 0.022498725254540046, 0.022498725254540046, 0.719403804789723, 0.6057737523603571, 0.6685907089743606, 0.6638434894441355, 0.7683898645226277, 0.11132846847996282, 0.15289109671248227, 0.09574248289276802, 0.08015649730557323, 0.15066452734288302, 0.13730511112528748, 0.10539095016103146, 0.06828146066771053, 0.05417985466024857, 0.044531387391985124, 0.5152120829959433, 0.13864048797031714, 0.2884945448205864, 0.08868913568689406, 0.06626199792698981, 0.09888328921412326, 0.10398036597773787, 0.07339790539605026, 0.0703396593378815, 0.04077661410891681, 0.029563045228964687, 0.47744767229569895, 0.08191504181543854, 0.072553322750817, 0.060851173920040066, 0.05617031438772929, 0.030425586960020033, 0.02574472742770926, 0.13808535620316784, 0.02574472742770926, 0.03276601672617542, 0.39799212909354525, 0.19899606454677263, 0.19899606454677263, 0.11030406302436416, 0.6618243781461849, 0.11030406302436416, 0.11030406302436416, 0.6101166937364886, 0.0740049239320572, 0.16064483487690465, 0.0830299146554788, 0.06858992949800423, 0.157034838587536, 0.07941991836611016, 0.23464975880896186, 0.07039492764268855, 0.050539948051161014, 0.021659977736211863, 0.05272054904419758, 0.03514703269613172, 0.01757351634806586, 0.5974995558342393, 0.03514703269613172, 0.03514703269613172, 0.0878675817403293, 0.01757351634806586, 0.0878675817403293, 0.05272054904419758, 0.058746623772406074, 0.6462128614964668, 0.058746623772406074, 0.058746623772406074, 0.058746623772406074, 0.058746623772406074, 0.058746623772406074, 0.08369523894677115, 0.6695619115741692, 0.08369523894677115, 0.08369523894677115, 0.08369523894677115, 0.22915606753928058, 0.071395357725806, 0.04721305914125881, 0.21764068726092478, 0.03454614083506742, 0.16466993798048807, 0.036849216890738584, 0.1140022647557225, 0.06333459153095694, 0.023030760556711615, 0.04460668522904386, 0.5754262394546658, 0.09813470750389648, 0.02230334261452193, 0.04460668522904386, 0.05352802227485263, 0.07583136488937456, 0.04460668522904386, 0.02230334261452193, 0.02230334261452193, 0.7792527523389468, 0.05311523970172426, 0.06491862630210743, 0.10623047940344851, 0.0767220129024906, 0.11803386600383169, 0.43082361091398563, 0.04131185310134109, 0.02950846650095792, 0.04721354640153268, 0.02360677320076634, 0.028504288179779437, 0.028504288179779437, 0.028504288179779437, 0.028504288179779437, 0.08551286453933832, 0.6270943399551476, 0.028504288179779437, 0.028504288179779437, 0.028504288179779437, 0.028504288179779437, 0.3399562609511639, 0.10747362580877289, 0.11328301098762547, 0.10529510636670317, 0.08423608509336253, 0.1917097109021354, 0.16266278500787246, 0.10384276007199002, 0.0602723712305956, 0.0355824842204721, 0.0355824842204721, 0.020241458191222805, 0.04723006911285321, 0.6578473912147412, 0.08771298549529882, 0.04723006911285321, 0.026988610921630407, 0.030362187286834208, 0.026988610921630407, 0.04048291638244561, 0.016867881826019004, 0.02012396642445786, 0.04024793284891572, 0.7043388248560252, 0.08049586569783145, 0.04024793284891572, 0.04024793284891572, 0.02012396642445786, 0.02012396642445786, 0.02012396642445786, 0.02012396642445786, 0.018032194126372702, 0.0375670710966098, 0.6987475223969422, 0.08715560494413473, 0.030053656877287834, 0.02704829118955905, 0.02704829118955905, 0.022540242657965878, 0.03305902256501662, 0.01953487697023709, 0.01761207961406193, 0.03522415922812386, 0.6868711049484152, 0.08806039807030963, 0.044030199035154816, 0.02641811942109289, 0.03522415922812386, 0.01761207961406193, 0.01761207961406193, 0.01761207961406193, 0.1558416273919374, 0.06233665095677496, 0.03116832547838748, 0.06233665095677496, 0.0779208136959687, 0.03116832547838748, 0.49869320765419967, 0.06233665095677496, 0.03116832547838748, 0.01558416273919374, 0.0670094787796466, 0.7371042665761125, 0.0670094787796466, 0.0670094787796466, 0.031112912237050195, 0.031112912237050195, 0.031112912237050195, 0.031112912237050195, 0.12445164894820078, 0.6222582447410039, 0.06222582447410039, 0.031112912237050195, 0.06222582447410039, 0.3982489249790084, 0.04918171712165947, 0.04918171712165947, 0.34427201985161626, 0.04918171712165947, 0.04918171712165947, 0.04918171712165947, 0.34427201985161626, 0.04918171712165947, 0.7295085963236878, 0.07295085963236878, 0.07295085963236878, 0.11389108659903784, 0.05694554329951892, 0.05694554329951892, 0.05694554329951892, 0.05694554329951892, 0.05694554329951892, 0.6264009762947081, 0.4038293481278497, 0.05947916183322319, 0.7137499419986783, 0.05947916183322319, 0.05947916183322319, 0.05947916183322319, 0.7484801639158847, 0.08819306855221273, 0.7055445484177019, 0.2941432811815979, 0.2941432811815979, 0.06783719684938767, 0.07980846688163255, 0.47086995460163206, 0.11572227697836719, 0.05586592681714279, 0.051875503473061156, 0.05586592681714279, 0.04788508012897953, 0.035913810096734645, 0.01995211672040814, 0.6768974217869661, 0.06269384560697501, 0.06269384560697501, 0.06269384560697501, 0.31346922803487504, 0.06269384560697501, 0.06269384560697501, 0.06269384560697501, 0.31346922803487504, 0.06269384560697501, 0.015782537204828813, 0.031565074409657626, 0.7102141742172966, 0.07891268602414407, 0.04734761161448644, 0.015782537204828813, 0.031565074409657626, 0.015782537204828813, 0.015782537204828813, 0.015782537204828813, 0.033202976816417, 0.6529918773895343, 0.09960893044925101, 0.011067658938805668, 0.04427063575522267, 0.04427063575522267, 0.033202976816417, 0.033202976816417, 0.011067658938805668, 0.022135317877611336, 0.11093575267827485, 0.053555190948132686, 0.022952224692056867, 0.07650741564018955, 0.07076935946717533, 0.026777595474066343, 0.5604168195643885, 0.045904449384113734, 0.021039539301052127, 0.007650741564018955, 0.1996363314703013, 0.1240597202708301, 0.08413245397676984, 0.12477270716893832, 0.08341946707866162, 0.11978179888218078, 0.08841037536541915, 0.10053115263325887, 0.03850129249784382, 0.0377883055997356, 0.5882633778790941, 0.6014604555053777, 0.03376813081030137, 0.7428988778266301, 0.06753626162060274, 0.03376813081030137, 0.03376813081030137, 0.03376813081030137, 0.03376813081030137, 0.03376813081030137, 0.12102492393271128, 0.052948404220561185, 0.018910144364486136, 0.052948404220561185, 0.07564057745794454, 0.034038259856075045, 0.5446121576972007, 0.06429449083925286, 0.026474202110280592, 0.007564057745794455, 0.053489865006828806, 0.7488581100956032, 0.053489865006828806, 0.053489865006828806, 0.053489865006828806, 0.053489865006828806, 0.6035884929489822, 0.041422739712185054, 0.041422739712185054, 0.06509287669057652, 0.03550520546758719, 0.03550520546758719, 0.02367013697839146, 0.12426821913655517, 0.01183506848919573, 0.017752602733793595, 0.7549626814649633, 0.40545351579647976, 0.5559450969301489, 0.04389040238922229, 0.10241093890818534, 0.07315067064870381, 0.04389040238922229, 0.029260268259481526, 0.021945201194611144, 0.08778080477844458, 0.021945201194611144, 0.021945201194611144, 0.17390059835558053, 0.1553786411342761, 0.11730572906826144, 0.03498591919579727, 0.13685668391297168, 0.08849379561289897, 0.10907374808101501, 0.12965370054913106, 0.02675393820855085, 0.028811933455362457, 0.05376274479458785, 0.20161029297970443, 0.08064411719188176, 0.026881372397293924, 0.05376274479458785, 0.4838647031512906, 0.04032205859594088, 0.026881372397293924, 0.04032205859594088, 0.013440686198646962, 0.02900968820828317, 0.6672228287905129, 0.05801937641656634, 0.02900968820828317, 0.05801937641656634, 0.05801937641656634, 0.05801937641656634, 0.02900968820828317, 0.02900968820828317, 0.02900968820828317, 0.14128900608600053, 0.1562861631565816, 0.10261212732502832, 0.1397103579733078, 0.08919361836714, 0.09629753487425735, 0.10419077543772107, 0.06393524856405611, 0.061567276395016995, 0.04499147121174319, 0.10885011660877889, 0.05442505830438944, 0.02721252915219472, 0.08163758745658417, 0.05442505830438944, 0.02721252915219472, 0.5986756413482839, 0.05442505830438944, 0.02721252915219472, 0.16587447653612006, 0.1035082855550198, 0.10187566275446744, 0.09795736803314177, 0.13583421700595658, 0.125058906522311, 0.11428359603866539, 0.06987625586364113, 0.047346061216018524, 0.03852989809303576, 0.6556736976328743, 0.13113473952657487, 0.16198618751833455, 0.18704160501217765, 0.1037177747419552, 0.08565456678127761, 0.09905630171984486, 0.10488314299748279, 0.10196972235866382, 0.07982772550363967, 0.0437013095822845, 0.032047627027008634, 0.0399485868881758, 0.7024293194504245, 0.0798971737763516, 0.016645244536739916, 0.036619537980827815, 0.02330334235143588, 0.0399485868881758, 0.026632391258783868, 0.013316195629391934, 0.0199742934440879, 0.5725974284367124, 0.04870368931530657, 0.03554053004089938, 0.06449948044459518, 0.03290789818601795, 0.03554053004089938, 0.02632631854881436, 0.13952948830871612, 0.014479475201847898, 0.027642634476255076, 0.6396907584074107, 0.12793815168148215, 0.053062954179256785, 0.026531477089628393, 0.013265738544814196, 0.5438952803373821, 0.03979721563444259, 0.026531477089628393, 0.07959443126888519, 0.013265738544814196, 0.14592312399295615, 0.053062954179256785, 0.04373443936394861, 0.021867219681974304, 0.021867219681974304, 0.5248132723673833, 0.04373443936394861, 0.032800829522961455, 0.08746887872789721, 0.010933609840987152, 0.13120331809184582, 0.06560165904592291, 0.0428917608344573, 0.0428917608344573, 0.10294022600269753, 0.09436187383580608, 0.42891760834457304, 0.10294022600269753, 0.06862681733513169, 0.051470113001348766, 0.025735056500674383, 0.0428917608344573, 0.3435332182150572, 0.3435332182150572, 0.04269709318239733, 0.03659750844205486, 0.024398338961369902, 0.5306638724097954, 0.039647300812226095, 0.027448131331541142, 0.05794605503325352, 0.01524896185085619, 0.1372406566577057, 0.08539418636479466, 0.6525230902572728, 0.13050461805145455, 0.6683576224733856, 0.0954796603533408, 0.0954796603533408, 0.1457534566349555, 0.13520550911532056, 0.08630138879701313, 0.07191782399751094, 0.1821918207936944, 0.09780824063661488, 0.138082222075221, 0.06808220671764369, 0.04219179007853975, 0.03356165119883844, 0.09318454159524944, 0.09714984123760048, 0.11697633944935569, 0.07534069320466977, 0.1586119856940416, 0.1890126162853996, 0.11235015653327947, 0.07401892665721942, 0.03833122987606005, 0.04626182916076214, 0.7007714180964715, 0.05839761817470596, 0.05839761817470596, 0.05839761817470596, 0.05839761817470596, 0.05839761817470596, 0.08093948206876045, 0.7284553386188442, 0.017884055321522745, 0.03576811064304549, 0.670652074557103, 0.09389129043799442, 0.04918115213418755, 0.03129709681266481, 0.02682608298228412, 0.022355069151903433, 0.03129709681266481, 0.017884055321522745, 0.03616192150861919, 0.03616192150861919, 0.6870765086637646, 0.07232384301723838, 0.03616192150861919, 0.03616192150861919, 0.03616192150861919, 0.03616192150861919, 0.03616192150861919, 0.02485077295947333, 0.053843341412192214, 0.6502618924395521, 0.07869411437166554, 0.04141795493245555, 0.028992568452718883, 0.03727615943920999, 0.028992568452718883, 0.03727615943920999, 0.020708977466227775, 0.09349286483907376, 0.09349286483907376, 0.12292580376989329, 0.08310476874584335, 0.29259803995932343, 0.07271667265261293, 0.09522421418794551, 0.07271667265261293, 0.031164288279691255, 0.045015083070665145, 0.020025923186923308, 0.040051846373846615, 0.7009073115423158, 0.05006480796730827, 0.06007776956076992, 0.03003888478038496, 0.040051846373846615, 0.020025923186923308, 0.03003888478038496, 0.020025923186923308, 0.2533468815434253, 0.5066937630868505, 0.05510435781693256, 0.061992402544049134, 0.030996201272024567, 0.4683870414439268, 0.06543642490760743, 0.036162234817362, 0.09815463736141113, 0.01894212299957057, 0.09126659263429455, 0.072324469634724, 0.6069753639085328, 0.02954797925654674, 0.02954797925654674, 0.02954797925654674, 0.02954797925654674, 0.1477398962827337, 0.6205075643874816, 0.02954797925654674, 0.02954797925654674, 0.05909595851309348, 0.02954797925654674, 0.10547524941688213, 0.21095049883376427, 0.10547524941688213, 0.10547524941688213, 0.42190099766752853, 0.09159484689224835, 0.06228449588672888, 0.45431044058555187, 0.08060346526517856, 0.09159484689224835, 0.06594828976241882, 0.054956908135349015, 0.04396552650827921, 0.029310351005519472, 0.029310351005519472, 0.1682268575303947, 0.1576507093163031, 0.09815987561203778, 0.13682891751981024, 0.07304152360357019, 0.11898166740853064, 0.10278694045570286, 0.07502455139371238, 0.042635097488056814, 0.02644037053522903, 0.13107457192398062, 0.056174816538848836, 0.02340617355785368, 0.0514935818272781, 0.07021852067356105, 0.02340617355785368, 0.566429400100059, 0.056174816538848836, 0.018724938846282943, 0.009362469423141472, 0.7676327093330009, 0.024398609521746342, 0.024398609521746342, 0.07319582856523903, 0.024398609521746342, 0.5611680190001659, 0.14639165713047805, 0.048797219043492684, 0.07319582856523903, 0.024398609521746342, 0.048797219043492684, 0.6021186020447894, 0.14963591353023134, 0.11102019390952649, 0.0627505443836454, 0.22107499482853535, 0.08205840419399783, 0.06468133036468064, 0.142878162596608, 0.04826964952588108, 0.07240447428882162, 0.045373470554328214, 0.594400875230048, 0.748080615487397, 0.139086050958237, 0.05039349672399891, 0.043338407182639066, 0.39004566464375157, 0.05744858626535876, 0.07256663528255843, 0.06752728561015854, 0.03930692744471915, 0.08466107449631817, 0.05442497646191882, 0.7067271416193405, 0.17668178540483512, 0.6990418650069384, 0.1747604662517346, 0.723724182971436, 0.593252229381324, 0.042592467750454034, 0.05019826556303511, 0.04107130818793782, 0.039550148625421604, 0.03802898906290539, 0.025859712562775663, 0.12321392456381346, 0.015211595625162154, 0.03498666993787296, 0.7288927727911269, 0.3449352282587317, 0.07237985117560272, 0.05202301803246445, 0.04976114768322687, 0.12214099885882959, 0.12892660990654234, 0.0757726566994591, 0.06333236977865238, 0.058808629080177206, 0.03166618488932619, 0.675064547131662, 0.07192839605860074, 0.5990748603236884, 0.09656140840743661, 0.016750448397208392, 0.035471537782323655, 0.040398140252090826, 0.05320730667348548, 0.05320730667348548, 0.016750448397208392, 0.016750448397208392, 0.03331715446820475, 0.03331715446820475, 0.016658577234102374, 0.5663916259594808, 0.03331715446820475, 0.03331715446820475, 0.0666343089364095, 0.016658577234102374, 0.09995146340461425, 0.11661004063871662, 0.24639883098965268, 0.1141093487314718, 0.089740233578649, 0.10173138547924435, 0.08161719519437474, 0.11024123521515072, 0.06150300490950514, 0.10598631034719753, 0.049898664360541904, 0.03906794651484289, 0.7602211791325837, 0.40901010193953935, 0.7830073470251081, 0.07830073470251081, 0.07830073470251081, 0.16089541579143787, 0.0757840726553874, 0.07461816384530452, 0.0489681700234811, 0.31479537872237845, 0.09210679599654778, 0.07228634622513876, 0.08860906956629912, 0.03381135549240361, 0.03964089954281803, 0.7934017123473984, 0.12921775686959874, 0.0710697662782793, 0.025843551373919745, 0.04522621490435955, 0.06460887843479937, 0.025843551373919745, 0.5491754666957946, 0.05814799059131943, 0.019382663530439808, 0.006460887843479936, 0.04799835718166578, 0.02399917859083289, 0.02399917859083289, 0.647977821952488, 0.04799835718166578, 0.02399917859083289, 0.07199753577249866, 0.02399917859083289, 0.04799835718166578, 0.07199753577249866, 0.4776063696491007, 0.03714257906600601, 0.663260340464393, 0.08489732357944231, 0.015918248171145434, 0.05836690996086658, 0.03183649634229087, 0.042448661789721155, 0.03183649634229087, 0.015918248171145434, 0.021224330894860578, 0.013775741609663422, 0.04132722482899027, 0.6336841140445174, 0.11020593287730737, 0.08265444965798054, 0.027551483219326843, 0.04132722482899027, 0.013775741609663422, 0.013775741609663422, 0.013775741609663422, 0.33276559807588146, 0.0574776942131068, 0.04436874641011753, 0.13512300043081246, 0.08268720921885539, 0.1310894780298927, 0.06352797781448646, 0.058486074813336744, 0.05949445541356668, 0.03529332100804804, 0.26061442328131623, 0.052851876050057145, 0.04556196211211823, 0.2387446814674995, 0.04465072286987586, 0.11025994831132611, 0.05558559377678424, 0.07107666089490443, 0.07836657483284334, 0.041005765900906405, 0.6322682610398744, 0.043604707657922376, 0.021802353828961188, 0.10901176914480594, 0.021802353828961188, 0.043604707657922376, 0.021802353828961188, 0.10901176914480594, 0.021802353828961188, 0.021802353828961188, 0.04974918001398719, 0.04974918001398719, 0.04974918001398719, 0.6964885201958206, 0.09949836002797438, 0.04974918001398719, 0.04974918001398719, 0.04974918001398719, 0.6406972250092112, 0.04576408750065795, 0.04576408750065795, 0.04576408750065795, 0.04576408750065795, 0.04576408750065795, 0.0915281750013159, 0.04576408750065795, 0.5380510703108285, 0.6691464627317351, 0.14606430414950589, 0.11225312263341657, 0.10008109728762442, 0.05815523220767364, 0.11901535893663444, 0.11225312263341657, 0.2353258233519817, 0.07303215207475294, 0.022991603430940744, 0.02163915617029717, 0.19771556675757057, 0.1265798072892383, 0.09833472632387108, 0.13320519665148492, 0.07915596764368345, 0.11332902856474503, 0.10530882038939385, 0.05579275252418217, 0.054397933711077616, 0.03626528914071841, 0.6408847931834204, 0.0557009987611751, 0.018566999587058368, 0.02785049938058755, 0.5105924886441051, 0.02785049938058755, 0.02785049938058755, 0.07426799834823347, 0.018566999587058368, 0.17638649607705448, 0.0557009987611751, 0.6605620396520696, 0.7378031781680634, 0.593655769432298, 0.14946319756612728, 0.041102379330685, 0.044838959269838184, 0.32508245470632685, 0.05418040911772114, 0.06912672887433387, 0.09715107841798273, 0.03549750942195523, 0.13078029787036138, 0.05418040911772114, 0.6032474041847825, 0.3326645831959356, 0.3060820497483122, 0.1052766285758526, 0.05653744867962454, 0.047439468432328644, 0.09877807125635553, 0.07213398624641752, 0.1397189823691871, 0.11307489735924908, 0.029243507937736835, 0.031193075133585955, 0.34560064851175154, 0.34560064851175154, 0.0817341681542906, 0.036326296957462485, 0.05448944543619373, 0.05448944543619373, 0.0817341681542906, 0.526731305883206, 0.04540787119682811, 0.05448944543619373, 0.036326296957462485, 0.027244722718096866, 0.11332785233673255, 0.6799671140203952, 0.2857610207229532, 0.18028699590675587, 0.2550999669973144, 0.02330240083148545, 0.024528842980511, 0.02330240083148545, 0.10424758266717175, 0.06990720249445635, 0.01839663223538325, 0.01594374793733215, 0.045035759690014165, 0.022517879845007083, 0.022517879845007083, 0.6079827558151912, 0.022517879845007083, 0.022517879845007083, 0.06755363953502125, 0.022517879845007083, 0.11258939922503541, 0.09007151938002833, 0.09824468936359541, 0.04912234468179771, 0.04912234468179771, 0.04912234468179771, 0.04912234468179771, 0.6385904808633701, 0.04912234468179771, 0.03727370610216313, 0.5715301602331679, 0.09318426525540781, 0.018636853051081564, 0.08283045800480694, 0.05383979770312451, 0.05798132060336486, 0.03313218320192278, 0.014495330150841215, 0.035202944652042954, 0.037354947927030084, 0.029053848387690068, 0.041505497696700096, 0.020752748848350048, 0.07470989585406017, 0.6806901622258816, 0.02490329861802006, 0.020752748848350048, 0.04980659723604012, 0.02490329861802006, 0.687861493891254, 0.09396868734243709, 0.09396868734243709, 0.08748808821537246, 0.06480599127064628, 0.3143090576626344, 0.10368958603303403, 0.10368958603303403, 0.05508509258004933, 0.038883594762387765, 0.038883594762387765, 0.18056966591322285, 0.17878184743883452, 0.09058280270234281, 0.05005891728287366, 0.11799601930963077, 0.16328742066080218, 0.07389649694138493, 0.09177468168526838, 0.024433519149974048, 0.02800915609875074, 0.6009186121142842, 0.13455274659382546, 0.16836343676355597, 0.0910818592327434, 0.08418171838177799, 0.1842337607207764, 0.10557215501977076, 0.09177187331783994, 0.07383150710532987, 0.03450070425482704, 0.03174064791444088, 0.11150103120269815, 0.05017546404121417, 0.055750515601349075, 0.23972721708580103, 0.11150103120269815, 0.11707608276283306, 0.09477587652229343, 0.03902536092094435, 0.1393762890033727, 0.04460041248107926, 0.11629755576366925, 0.06807661800800152, 0.04538441200533434, 0.2496142660293389, 0.0737496695086683, 0.0794227210093351, 0.18579243664683748, 0.04538441200533434, 0.0737496695086683, 0.060985303632168024, 0.6894141206574024, 0.0804147245091746, 0.4244110460206437, 0.09381717859403704, 0.0402073622545873, 0.09828466328899119, 0.04914233164449559, 0.11615460206880776, 0.05360981633944974, 0.02680490816972487, 0.022337423474770725, 0.2907229176250437, 0.6074332814623815, 0.6343180075305745, 0.6769485591020524, 0.03932675336833925, 0.6488914305775976, 0.09831688342084811, 0.019663376684169624, 0.05899013005250887, 0.03932675336833925, 0.03932675336833925, 0.019663376684169624, 0.019663376684169624, 0.019663376684169624, 0.39927386171658663, 0.015328434862537143, 0.030656869725074285, 0.6744511339516343, 0.07664217431268572, 0.07664217431268572, 0.015328434862537143, 0.030656869725074285, 0.015328434862537143, 0.015328434862537143, 0.015328434862537143, 0.03275403404225999, 0.07954551124548855, 0.44919818115099414, 0.11229954528774853, 0.09826210212677997, 0.07018721580484283, 0.05147062492355141, 0.04679147720322856, 0.03275403404225999, 0.028074886321937133, 0.6784447279065384, 0.07771917988320723, 0.14930263503879285, 0.21475036546675683, 0.07976442145908111, 0.14725739346291897, 0.11657876982481086, 0.0766965590952703, 0.05828938491240543, 0.03476910678985587, 0.04601793545716218, 0.7612625940150693, 0.09515782425188367, 0.23292024850260287, 0.13975214910156172, 0.11771915262158578, 0.10386984054845803, 0.06735801781021218, 0.09065004266047247, 0.07868927314277124, 0.09379761358618333, 0.03588230855310369, 0.03840036529367236, 0.12944780619574978, 0.11675684480400961, 0.0939131142988773, 0.08122215290713712, 0.11168046024731354, 0.058378422402004804, 0.26904838150489174, 0.07360757607209302, 0.043149268731916594, 0.02030553822678428, 0.06730607240089657, 0.029739892456210115, 0.0203483474700385, 0.4946213692717051, 0.04539246743316281, 0.028174634958514848, 0.07356710239167766, 0.018783089972343233, 0.14400368978796477, 0.07826287488476347, 0.6312690653317047, 0.10521151088861745, 0.09884628789920093, 0.6919240152944065, 0.041477972298311176, 0.17973787995934842, 0.041477972298311176, 0.02765198153220745, 0.041477972298311176, 0.5530396306441491, 0.041477972298311176, 0.02765198153220745, 0.02765198153220745, 0.013825990766103725, 0.021983236698522667, 0.017586589358818135, 0.0527597680764544, 0.0263798840382272, 0.5979440381998166, 0.10112288881320426, 0.06155306275586347, 0.0527597680764544, 0.021983236698522667, 0.0395698260573408, 0.2518461691693356, 0.2518461691693356, 0.5036923383386712, 0.03862319464548748, 0.02574879643032499, 0.11586958393646245, 0.02574879643032499, 0.5535991232519872, 0.07724638929097496, 0.07724638929097496, 0.03862319464548748, 0.012874398215162494, 0.02574879643032499, 0.2078488737757733, 0.1886955645882447, 0.1191761460557335, 0.048947345701461975, 0.09789469140292395, 0.0652631276019493, 0.126979346095097, 0.09221963682884139, 0.02340960011809051, 0.029794036513933374, 0.13666864200446602, 0.1545840070612312, 0.12796689326260863, 0.09008869285687647, 0.09981417674483473, 0.12131261481295297, 0.12438382025125558, 0.0772920035306156, 0.04657994914758954, 0.02201030564116868, 0.02618902546722012, 0.03142683056066414, 0.06809146621477231, 0.03142683056066414, 0.5656829500919546, 0.10999390696232451, 0.057615856027884264, 0.05237805093444024, 0.02618902546722012, 0.03666463565410817, 0.7200259451335342, 0.23945398064715412, 0.10168593698714763, 0.07544440486143211, 0.09184536244000431, 0.08747177375238506, 0.0492028727357166, 0.24820115802239262, 0.06232363879857435, 0.02624153212571552, 0.016400957578572198, 0.767655792001763, 0.09595697400022038, 0.5112587982172273, 0.3128358430833321, 0.06071919317229231, 0.06269916686269314, 0.1861175268976786, 0.06797909670376204, 0.04487940364908562, 0.08513886868723596, 0.07325902654483094, 0.05411928087095619, 0.05213930718055535, 0.364443492822891, 0.364443492822891, 0.027804418251939262, 0.022243534601551408, 0.03707255766925235, 0.038926185552714966, 0.12048581242507014, 0.6357943640276777, 0.024097162485014027, 0.027804418251939262, 0.046340697086565436, 0.022243534601551408, 0.6584100410704258, 0.6061533970171478, 0.5226980926443199, 0.07216354264119341, 0.07216354264119341, 0.0604613465372161, 0.04290805238125014, 0.04485841839857969, 0.04680878441590924, 0.08776647077982982, 0.02340439220795462, 0.027305124242613724, 0.19811736295551036, 0.19811736295551036, 0.3962347259110207, 0.2448020825268747, 0.09362948176326681, 0.09899367082262063, 0.11557389155153247, 0.11484241122525694, 0.09362948176326681, 0.07826839491148085, 0.10265107245399825, 0.03291661468239849, 0.02511415786879292, 0.026059725983266627, 0.026059725983266627, 0.05211945196653325, 0.026059725983266627, 0.5472542456485991, 0.13029862991633315, 0.05211945196653325, 0.06514931495816657, 0.026059725983266627, 0.03908958897489994, 0.20461648215007153, 0.20461648215007153, 0.40923296430014305, 0.22841491649915668, 0.13884043944066388, 0.0649414958674073, 0.0649414958674073, 0.060462772014482656, 0.06270213394094497, 0.2530478976902422, 0.0761383054997189, 0.03359042889693481, 0.015675533485236242, 0.07254402845762976, 0.08243639597457927, 0.36931505396611514, 0.13849314523729317, 0.059354205101697075, 0.1022211310084783, 0.06265166094068025, 0.04616438174576439, 0.04286692590678122, 0.02637964671186537, 0.058765131518174564, 0.6464164466999203, 0.058765131518174564, 0.058765131518174564, 0.11753026303634913, 0.058765131518174564, 0.058765131518174564, 0.02101820539679889, 0.0472909621427975, 0.6909735024197635, 0.09195464861099514, 0.028900032420598475, 0.03152730809519834, 0.02364548107139875, 0.01839092972219903, 0.03152730809519834, 0.01576365404759917, 0.5428128722543147, 0.04991382733373009, 0.05615305575044635, 0.03743537050029757, 0.04991382733373009, 0.03743537050029757, 0.024956913666865047, 0.1622199388346228, 0.012478456833432523, 0.024956913666865047, 0.6712523546395909, 0.021903121121297168, 0.657093633638915, 0.06570936336389151, 0.021903121121297168, 0.06570936336389151, 0.043806242242594336, 0.043806242242594336, 0.021903121121297168, 0.021903121121297168, 0.021903121121297168, 0.3106028565315898, 0.06485114586923305, 0.05006053365344305, 0.21844596503320604, 0.05119827305465766, 0.08305497628866687, 0.056886970060730735, 0.07850401868380842, 0.04550957604858459, 0.03982087904251152, 0.6888799656760648, 0.08762573734100305, 0.1695982013051672, 0.13355858352781916, 0.10458555747151978, 0.11518544505309272, 0.14698510779781157, 0.1038788982994149, 0.05865271128470365, 0.04381286867050153, 0.03603961777734803, 0.20053951150278215, 0.6016185345083465, 0.7340161081853018, 0.4075140448928822, 0.757069867914972, 0.6986951219983067, 0.6373118285310876, 0.04552227346650626, 0.04552227346650626, 0.04552227346650626, 0.04552227346650626, 0.04552227346650626, 0.04552227346650626, 0.09104454693301252, 0.12615388137157316, 0.11420246103110832, 0.3147207356322404, 0.10357897628402848, 0.06241297288909408, 0.07967613560309883, 0.06374090848247907, 0.05975710170232412, 0.04913361695524428, 0.02655871186769961, 0.40701478589157836, 0.07357418834061731, 0.08174909815624146, 0.07357418834061731, 0.04087454907812073, 0.0899240079718656, 0.03269963926249658, 0.5068444085686971, 0.05722436870936902, 0.03269963926249658, 0.008174909815624146, 0.40783447166332554, 0.3979983632073216, 0.5328164206953926, 0.450071653723181, 0.7639674168313446, 0.17975568897377953, 0.0953000910464279, 0.11370286724849674, 0.14097841054799162, 0.09924354308972837, 0.11600321427375535, 0.10252975312581208, 0.06178074867837395, 0.04502107749434697, 0.04567831950156372, 0.6593562291213464, 0.3417139933737194, 0.12612430401242078, 0.11425378128184, 0.1276081193537434, 0.10287786366503342, 0.1122753608267432, 0.13453259094658215, 0.11870522730580779, 0.07715839774877506, 0.042041434670806926, 0.04451446023967792, 0.05306930660607736, 0.6899009858790056, 0.05306930660607736, 0.05306930660607736, 0.05306930660607736, 0.05306930660607736, 0.05306930660607736, 0.6814086694200101, 0.019164647699686944, 0.05749394309906083, 0.68992731718873, 0.05749394309906083, 0.03832929539937389, 0.03832929539937389, 0.019164647699686944, 0.019164647699686944, 0.03832929539937389, 0.019164647699686944, 0.15450939454550353, 0.155749722254011, 0.14901651469354182, 0.08026692170769852, 0.11871708067143047, 0.08983516403047052, 0.11198387311096128, 0.08026692170769852, 0.027641588932452468, 0.03207133074855062, 0.023574506144538283, 0.047149012289076565, 0.7072351843361484, 0.07072351843361484, 0.047149012289076565, 0.023574506144538283, 0.023574506144538283, 0.023574506144538283, 0.023574506144538283, 0.023574506144538283, 0.1135198183962114, 0.047299924331754756, 0.0252266263102692, 0.053606580909322056, 0.07252655064202396, 0.0252266263102692, 0.5739057485586243, 0.053606580909322056, 0.02837995459905285, 0.0063066565775673, 0.021451888931803862, 0.021451888931803862, 0.014301259287869243, 0.6006528900905082, 0.028602518575738485, 0.021451888931803862, 0.042903777863607724, 0.014301259287869243, 0.06435566679541159, 0.15731385216656166, 0.6388479287357353, 0.1064746547892892, 0.5081992959778251, 0.03111424261088725, 0.0622284852217745, 0.0622284852217745, 0.0622284852217745, 0.03111424261088725, 0.03111424261088725, 0.13482838464717808, 0.03111424261088725, 0.04148565681451633, 0.75730781518129, 0.06568066574534752, 0.06568066574534752, 0.06568066574534752, 0.06568066574534752, 0.06568066574534752, 0.6568066574534752, 0.121717878671778, 0.047334730594580335, 0.020286313111962998, 0.047334730594580335, 0.06762104370654333, 0.027048417482617333, 0.5950651846175813, 0.040572626223925996, 0.020286313111962998, 0.006762104370654333, 0.07061352172028117, 0.07061352172028117, 0.07061352172028117, 0.7061352172028117, 0.07061352172028117, 0.4922203910427345, 0.04877929028563839, 0.03080797281198214, 0.06418327669162946, 0.03850996601497768, 0.5083315513977054, 0.10526057377427231, 0.05391395242096875, 0.06418327669162946, 0.028240641744316963, 0.0590486145562991, 0.6300761058362351, 0.04578407689467452, 0.03270291206762466, 0.05668504758388274, 0.04360388275683288, 0.03924349448114959, 0.019621747240574795, 0.10246912447855727, 0.013081164827049864, 0.017441553102733154, 0.12156974781937688, 0.6078487390968844, 0.02608399505667812, 0.02608399505667812, 0.6781838714736311, 0.10433598022671248, 0.02608399505667812, 0.02608399505667812, 0.02608399505667812, 0.02608399505667812, 0.02608399505667812, 0.02608399505667812, 0.14597201712816682, 0.07343933780982305, 0.09338582462236758, 0.19765155114248673, 0.10879901897751564, 0.09338582462236758, 0.09882577557124336, 0.06165277742059219, 0.06618606987798868, 0.06074611892911289, 0.05983215753319618, 0.658153732865158, 0.05983215753319618, 0.05983215753319618, 0.05983215753319618, 0.05983215753319618, 0.05983215753319618, 0.112430061009077, 0.037476687003025665, 0.037476687003025665, 0.07495337400605133, 0.6371036790514363, 0.037476687003025665, 0.037476687003025665, 0.04713182973097417, 0.015710609910324722, 0.015710609910324722, 0.5812925666820148, 0.031421219820649444, 0.031421219820649444, 0.04713182973097417, 0.015710609910324722, 0.12568487928259778, 0.07855304955162361, 0.20946967380170045, 0.20946967380170045, 0.4189393476034009, 0.022391932522632715, 0.03358789878394907, 0.6381700768950324, 0.06717579756789814, 0.06717579756789814, 0.04478386504526543, 0.04478386504526543, 0.022391932522632715, 0.03358789878394907, 0.022391932522632715, 0.03649283715246093, 0.6829373809960545, 0.06516578062939452, 0.013033156125878903, 0.052132624503515614, 0.03127957470210937, 0.046919362053164056, 0.03127957470210937, 0.015639787351054684, 0.023459681026582028, 0.6780611057743373, 0.025961545791277033, 0.025961545791277033, 0.051923091582554065, 0.025961545791277033, 0.6490386447819257, 0.051923091582554065, 0.051923091582554065, 0.0778846373738311, 0.025961545791277033, 0.025961545791277033, 0.2189111789150817, 0.2189111789150817, 0.4378223578301634, 0.29195821185800513, 0.5839164237160103, 0.2325370362055684, 0.2325370362055684, 0.2325370362055684, 0.025706419557610598, 0.07551260745048113, 0.0980057245633904, 0.028919722002311923, 0.4209426202558736, 0.12049884167629968, 0.07872590989518247, 0.07551260745048113, 0.01927981466820795, 0.05623279278227319, 0.03989692905703245, 0.5585570067984543, 0.09974232264258112, 0.019948464528516226, 0.089768090378323, 0.04987116132129056, 0.04987116132129056, 0.04987116132129056, 0.019948464528516226, 0.029922696792774338, 0.2378027219876344, 0.0905693960695092, 0.08453143633154192, 0.15791587006991348, 0.09474952204194809, 0.09660735580747648, 0.089640479186745, 0.0599151389382907, 0.044123551931299354, 0.044123551931299354, 0.16060405870115219, 0.13905961180221715, 0.0675712198193872, 0.08030202935057609, 0.10380506233123252, 0.08421920151401883, 0.19977578033557955, 0.10086718320865047, 0.03721313555270599, 0.02644091210323847, 0.08626612841646933, 0.05751075227764622, 0.02875537613882311, 0.05751075227764622, 0.08626612841646933, 0.02875537613882311, 0.6038628989152852, 0.02875537613882311, 0.02875537613882311, 0.6107915023423721, 0.11761707887296456, 0.11328761584696587, 0.12122496472796347, 0.1075149984789676, 0.13854281683195827, 0.14431543419995652, 0.11328761584696587, 0.06494194538998044, 0.043294630259986956, 0.036800435720988914, 0.21281315076847554, 0.1903780294525218, 0.10512456845189756, 0.0634593431508406, 0.08525346100062424, 0.10448356498572745, 0.06858737088020145, 0.09743252685785628, 0.0365371975716961, 0.035255190639355886, 0.03319006552675233, 0.03319006552675233, 0.05531677587792055, 0.044253420702336434, 0.1438236172825934, 0.5752944691303736, 0.022126710351168217, 0.022126710351168217, 0.05531677587792055, 0.022126710351168217, 0.6790756455709758, 0.031763543897224765, 0.055586201820143344, 0.04764531584583715, 0.031763543897224765, 0.07146797376875573, 0.6273299919701891, 0.023822657922918575, 0.031763543897224765, 0.055586201820143344, 0.023822657922918575, 0.5586166946103833, 0.04196181743552175, 0.03933920384580164, 0.03933920384580164, 0.04458443102524186, 0.03409397666636142, 0.026226135897201096, 0.1652246561523669, 0.013113067948600548, 0.03409397666636142, 0.6904176600537808, 0.02761670640215123, 0.02761670640215123, 0.02761670640215123, 0.02761670640215123, 0.05523341280430246, 0.02761670640215123, 0.08285011920645369, 0.02761670640215123, 0.019460091715308526, 0.04865022928827131, 0.7102933476087612, 0.06811032100357983, 0.04865022928827131, 0.029190137572962786, 0.029190137572962786, 0.019460091715308526, 0.029190137572962786, 0.019460091715308526, 0.07347742729676929, 0.7347742729676928, 0.07347742729676929, 0.07347742729676929, 0.40952738338634015, 0.6884554257307988, 0.7027127182819629, 0.10038753118313756, 0.6896149011268157, 0.07662387790297952, 0.07662387790297952, 0.07662387790297952, 0.18199838461242185, 0.04817604298564108, 0.044607447208926926, 0.2819190663604182, 0.05888183031578354, 0.09456778808292508, 0.06780331975756893, 0.05174463876235523, 0.10884217118978169, 0.06423472398085477, 0.051718377652489295, 0.051718377652489295, 0.051718377652489295, 0.051718377652489295, 0.6723389094823607, 0.051718377652489295, 0.051718377652489295, 0.051718377652489295, 0.3598195006459447, 0.21014127359124643, 0.10064660998317593, 0.09843459657695228, 0.12719077085785968, 0.06525439548359757, 0.12166073734230057, 0.10507063679562322, 0.07299644240538034, 0.03871023460891382, 0.05972436196803846, 0.5146049089404533, 0.13790130083501975, 0.0394003716671485, 0.01970018583357425, 0.078800743334297, 0.078800743334297, 0.01970018583357425, 0.5122048316729305, 0.05910055750072275, 0.01970018583357425, 0.09415944897998932, 0.04707972448999466, 0.02353986224499733, 0.070619586734992, 0.04707972448999466, 0.02353986224499733, 0.5884965561249332, 0.070619586734992, 0.02353986224499733, 0.028166141653952325, 0.028166141653952325, 0.7041535413488081, 0.05633228330790465, 0.05633228330790465, 0.028166141653952325, 0.028166141653952325, 0.028166141653952325, 0.028166141653952325, 0.04147351953711353, 0.031105139652835144, 0.13824506512371176, 0.07257865918994867, 0.3801739290902073, 0.13478893849561896, 0.06566640593376308, 0.051841899421391904, 0.04492964616520632, 0.04492964616520632, 0.1495014480782144, 0.5980057923128576, 0.02698742078744685, 0.02698742078744685, 0.02698742078744685, 0.5532421261426604, 0.04048113118117028, 0.02698742078744685, 0.06746855196861713, 0.013493710393723424, 0.09445597275606397, 0.1079496831497874, 0.10479766176662951, 0.20959532353325902, 0.10479766176662951, 0.10479766176662951, 0.10479766176662951, 0.3143929852998885, 0.10479766176662951, 0.253543665148578, 0.507087330297156, 0.20107247422454044, 0.15242590787989357, 0.08540174980504675, 0.06270001884421154, 0.06486208845952918, 0.04107932269103515, 0.2691776671070461, 0.0713482973054821, 0.03135000942210577, 0.019458626537858754, 0.07455521365526793, 0.07455521365526793, 0.7455521365526794, 0.7474868391558739, 0.10512672842235593, 0.6307603705341356, 0.020730464575317145, 0.6841053309854658, 0.08292185830126858, 0.020730464575317145, 0.04146092915063429, 0.04146092915063429, 0.06219139372595144, 0.020730464575317145, 0.020730464575317145, 0.020730464575317145, 0.11262725421215965, 0.33788176263647896, 0.11262725421215965, 0.33788176263647896, 0.024748398851157444, 0.668206768981251, 0.09899359540462978, 0.012374199425578722, 0.04949679770231489, 0.03712259827673616, 0.04949679770231489, 0.024748398851157444, 0.012374199425578722, 0.024748398851157444, 0.7320820916488902, 0.41526307435128984, 0.06504120441646709, 0.07504754355746202, 0.08755546748370568, 0.03752377177873101, 0.1250792392624367, 0.030019017422984805, 0.11257131533619302, 0.027517432637736074, 0.02501584785248734, 0.7411272863022778, 0.02395685451363083, 0.06634205865313153, 0.5012511098236604, 0.06265638872795755, 0.10504159286745825, 0.10872726279263221, 0.038699534214326724, 0.03501386428915275, 0.03685669925173973, 0.02395685451363083, 0.148917006849415, 0.1397006448619919, 0.12466342267198584, 0.1397006448619919, 0.09846955176036236, 0.10429041196294535, 0.10235012522875102, 0.07276075253228745, 0.04074602141808097, 0.028619229329366398, 0.3389725665637786, 0.06748973953658219, 0.742387134902404, 0.06748973953658219, 0.06748973953658219, 0.037041951775618, 0.6173658629269666, 0.09877853806831466, 0.012347317258539332, 0.074083903551236, 0.037041951775618, 0.04938926903415733, 0.024694634517078665, 0.012347317258539332, 0.04938926903415733, 0.030539215464877905, 0.017450980265644518, 0.06762254852937251, 0.030539215464877905, 0.5889705839655025, 0.09816176399425042, 0.05671568586334468, 0.05017156826372799, 0.021813725332055646, 0.0370833330644946, 0.4628378123261787, 0.03639809156182535, 0.5771697376232305, 0.0935950925875509, 0.01559918209792515, 0.0935950925875509, 0.05719700102572555, 0.0415978189278004, 0.0519972736597505, 0.0207989094639002, 0.0207989094639002, 0.6393883952243817, 0.5075709583844997, 0.10745750978119653, 0.050900925685829934, 0.04524526727629328, 0.050900925685829934, 0.06221224250490326, 0.0282782920476833, 0.565565840953666, 0.06221224250490326, 0.02262263363814664, 0.00565565840953666, 0.1419730026691825, 0.06897473813887409, 0.051156264119664945, 0.21784521462194398, 0.06035289587151482, 0.0362117375229089, 0.29601658451266794, 0.051731053604155565, 0.05058147463517433, 0.025865526802077782, 0.02692578092844051, 0.049363931702140935, 0.06731445232110127, 0.02692578092844051, 0.5115898376403697, 0.10321549355902195, 0.07180208247584136, 0.07180208247584136, 0.02692578092844051, 0.040388671392660766, 0.19183094671813342, 0.13164868892420922, 0.07898921335452554, 0.15496931381935486, 0.09177794313573442, 0.08049376979937363, 0.12262135025512058, 0.05942997957150016, 0.03987074578847479, 0.048898084457563426, 0.1376673042009544, 0.051625239075357904, 0.0172084130251193, 0.0860420651255965, 0.0688336521004772, 0.0344168260502386, 0.5506692168038176, 0.051625239075357904, 0.0172084130251193, 0.06013869013496583, 0.6615255914846242, 0.06013869013496583, 0.06013869013496583, 0.06013869013496583, 0.12027738026993166, 0.2603298991266177, 0.09428163914315345, 0.05488035711317887, 0.09381257626184422, 0.1022557081254102, 0.1247707264282528, 0.10413195965064709, 0.09052913609267968, 0.04080847067390224, 0.03517971609819158, 0.592674183422858, 0.041592420045609146, 0.041592420045609146, 0.6238863006841372, 0.041592420045609146, 0.041592420045609146, 0.08318484009121829, 0.041592420045609146, 0.08318484009121829, 0.17255492597911165, 0.09877702476542786, 0.11584959694710675, 0.13292216912878566, 0.09999649420697636, 0.09450888172000814, 0.12255667887562346, 0.0701194928890383, 0.04816904294116544, 0.045120369337294214, 0.031200950130241645, 0.031200950130241645, 0.031200950130241645, 0.031200950130241645, 0.12480380052096658, 0.6240190026048329, 0.031200950130241645, 0.031200950130241645, 0.031200950130241645, 0.031200950130241645, 0.08248256495736632, 0.08248256495736632, 0.08248256495736632, 0.6598605196589306, 0.08248256495736632, 0.6056558175822487, 0.0382337650987732, 0.0573506476481598, 0.6499740066791444, 0.09558441274693301, 0.0382337650987732, 0.0191168825493866, 0.0191168825493866, 0.0191168825493866, 0.0382337650987732, 0.0191168825493866, 0.10597407381724852, 0.18166984082956888, 0.05298703690862426, 0.05298703690862426, 0.07569576701232036, 0.03784788350616018, 0.40118756516529797, 0.04541746020739222, 0.02270873010369611, 0.015139153402464073, 0.41232482466375237, 0.3201221931328467, 0.3201221931328467, 0.04483173930923954, 0.041095761033469576, 0.6089644589505038, 0.07845554379116919, 0.041095761033469576, 0.041095761033469576, 0.052303695860779466, 0.03735978275769962, 0.026151847930389733, 0.02241586965461977, 0.07201004010559016, 0.7201004010559016, 0.07201004010559016, 0.5188879888379501, 0.10615901032934592, 0.05111359756598137, 0.39711333493570145, 0.14154534710579456, 0.047181782368598185, 0.07470448875028046, 0.05111359756598137, 0.03538633677644864, 0.06684085835551411, 0.027522706381682277, 0.02255122053956649, 0.04510244107913298, 0.6765366161869947, 0.11275610269783244, 0.04510244107913298, 0.02255122053956649, 0.02255122053956649, 0.02255122053956649, 0.02255122053956649, 0.02255122053956649, 0.05475869512387188, 0.09582771646677579, 0.06084299458207987, 0.39243731505441515, 0.06540621917573586, 0.06084299458207987, 0.08365911755035982, 0.02737934756193594, 0.06996944376939185, 0.08822234214401581, 0.7128049123521714, 0.10182927319316734, 0.5756253635948391, 0.05991282555177749, 0.5820103053601242, 0.08558975078825355, 0.025676925236476068, 0.08558975078825355, 0.05991282555177749, 0.034235900315301424, 0.034235900315301424, 0.017117950157650712, 0.025676925236476068, 0.5088448363733649, 0.05218921398701178, 0.05218921398701178, 0.08480747272889415, 0.039141910490258836, 0.04566556223863531, 0.02609460699350589, 0.15004399021265888, 0.013047303496752946, 0.032618258741882365, 0.5898394724884786, 0.1966131574961595, 0.5907870820036503, 0.7385895731237342, 0.7567618942746707, 0.6314444689398991, 0.1262888937879798, 0.4993933420734126, 0.165475662443223, 0.661902649772892, 0.588754503617285, 0.0416074234376518, 0.610242210418893, 0.09708398802118753, 0.013869141145883933, 0.05547656458353573, 0.05547656458353573, 0.027738282291767866, 0.027738282291767866, 0.027738282291767866, 0.0416074234376518, 0.18419483291131147, 0.06276268380681724, 0.11461011825592714, 0.1405338354804821, 0.06958471465538434, 0.21011855013586642, 0.06958471465538434, 0.06139827763710383, 0.05048302827939648, 0.03547456041254888, 0.4996685708007202, 0.5960257182141525, 0.05321658198340647, 0.04257326558672518, 0.05321658198340647, 0.05321658198340647, 0.04257326558672518, 0.02128663279336259, 0.11707648036349425, 0.010643316396681295, 0.02128663279336259, 0.021381559414385132, 0.021381559414385132, 0.0641446782431554, 0.042763118828770263, 0.6628283418459391, 0.0641446782431554, 0.042763118828770263, 0.042763118828770263, 0.021381559414385132, 0.021381559414385132, 0.7532218699976876, 0.2079360090577822, 0.4158720181155644, 0.1694234945376112, 0.03388469890752224, 0.028671668306364972, 0.3935838103873737, 0.049523790710994046, 0.06776939781504449, 0.09122803552025219, 0.039097729508679506, 0.06516288251446585, 0.05994985191330858, 0.12774371110575003, 0.06387185555287501, 0.015967963888218754, 0.06387185555287501, 0.06387185555287501, 0.03193592777643751, 0.5588787360876564, 0.047903891664656265, 0.03193592777643751, 0.5041820929864476, 0.04075951442044378, 0.06793252403407297, 0.5208160175945594, 0.09510553364770216, 0.08151902884088756, 0.04528834935604865, 0.04981718429165351, 0.04528834935604865, 0.031701844549234054, 0.022644174678024324, 0.15102239980098625, 0.12402805780757324, 0.16853224325617305, 0.09192667813973077, 0.12110975056504211, 0.10505906073112087, 0.10651821435238644, 0.06639148976758333, 0.035749263721006404, 0.029183072425311353, 0.03831049659210079, 0.012770165530700263, 0.03831049659210079, 0.025540331061400526, 0.5874276144122121, 0.11493148977630237, 0.07662099318420158, 0.05108066212280105, 0.025540331061400526, 0.025540331061400526, 0.018615812047386833, 0.0558474361421605, 0.6236297035874588, 0.09307906023693416, 0.04653953011846708, 0.037231624094773666, 0.02792371807108025, 0.02792371807108025, 0.037231624094773666, 0.02792371807108025, 0.18450361499551174, 0.05031916772604866, 0.016773055908682884, 0.08386527954341443, 0.06709222363473154, 0.03354611181736577, 0.5031916772604865, 0.03354611181736577, 0.03354611181736577, 0.5102761312591393, 0.0452891619965327, 0.6793374299479905, 0.06793374299479905, 0.02264458099826635, 0.0452891619965327, 0.0452891619965327, 0.0452891619965327, 0.0452891619965327, 0.02264458099826635, 0.02264458099826635, 0.04246758475077007, 0.025952412903248376, 0.021233792375385033, 0.5544379120239425, 0.03538965395897506, 0.030671033431111716, 0.06606068739008678, 0.009437241055726683, 0.1368399953080369, 0.07549792844581346, 0.03916248383177453, 0.026108322554516353, 0.07832496766354906, 0.052216645109032706, 0.4699498059812943, 0.10443329021806541, 0.07832496766354906, 0.06527080638629087, 0.026108322554516353, 0.03916248383177453, 0.0808051998869935, 0.08447816351822048, 0.11753483619926326, 0.09917001804312839, 0.09917001804312839, 0.3305667268104279, 0.06244038173085861, 0.055094454468404656, 0.0477485272059507, 0.02571074541858884, 0.48583335573085323, 0.0525741557689213, 0.5951394433041891, 0.09673644661481519, 0.025235594769082225, 0.06098602069194871, 0.0525741557689213, 0.03575042592286649, 0.03575042592286649, 0.018926696076811668, 0.027338560999839077, 0.5068018450966548, 0.7944567746805677, 0.06856573201415475, 0.024487761433626697, 0.01959020914690136, 0.519140542392886, 0.034282866007077376, 0.01959020914690136, 0.09795104573450679, 0.00979510457345068, 0.15672167317521088, 0.05387307515397874, 0.17067447849436315, 0.5120234354830895, 0.09277363869511229, 0.37109455478044917, 0.09277363869511229, 0.37109455478044917, 0.5106181477453375, 0.055501972581014955, 0.044401578064811965, 0.06660236709721794, 0.06660236709721794, 0.055501972581014955, 0.03330118354860897, 0.11100394516202991, 0.022200789032405983, 0.03330118354860897, 0.46085458078824726, 0.1442923089733731, 0.18427692471298254, 0.18514615548993058, 0.04954615428603776, 0.11213077022629597, 0.06866923137889444, 0.1156076933340881, 0.08518461614090703, 0.029553846416233046, 0.024338461754544863, 0.18241124659700292, 0.1137345023602827, 0.0759441245792303, 0.17914092544287338, 0.08866204017862293, 0.1140978713774082, 0.10610375300064712, 0.051598400431821546, 0.05014492436331953, 0.0381537467981779, 0.6729586569881736, 0.07438626147270383, 0.6179781722347703, 0.08010828158598875, 0.01716606033985473, 0.040054140792994374, 0.040054140792994374, 0.04577616090627928, 0.04577616090627928, 0.01716606033985473, 0.02288808045313964, 0.02906247423156537, 0.02744789232981174, 0.06942702177540616, 0.03229163803507264, 0.539270355185713, 0.10494782361398607, 0.0661978579718989, 0.05651036656137711, 0.024218728526304474, 0.051666620856116216, 0.02455406605727056, 0.0306925825715882, 0.681375333089258, 0.08593923120044696, 0.04296961560022348, 0.03683109908590584, 0.02455406605727056, 0.02455406605727056, 0.03683109908590584, 0.01841554954295292, 0.5475448309245525, 0.049776802811322955, 0.049776802811322955, 0.049776802811322955, 0.029866081686793774, 0.049776802811322955, 0.029866081686793774, 0.15928576899623345, 0.00995536056226459, 0.029866081686793774, 0.679300089659328], \"Term\": [\"aapl\", \"aapl\", \"aapl\", \"aapl\", \"aapl\", \"aapl\", \"aapl\", \"aapl\", \"aapl\", \"aapl\", \"absenteeism\", \"absenteeism\", \"acacia\", \"accelerant\", \"accessing\", \"accompany\", \"accompany\", \"accompany\", \"accompany\", \"accompany\", \"accompany\", \"accompany\", \"accompany\", \"accompany\", \"accompanying\", \"accompanying\", \"accompanying\", \"accompanying\", \"accompanying\", \"accompanying\", \"accompanying\", \"accrued\", \"accrued\", \"accrued\", \"accrued\", \"accrued\", \"accrued\", \"accrued\", \"accrued\", \"accrued\", \"accrued\", \"achal\", \"achal\", \"achal\", \"achal\", \"achal\", \"aci\", \"aci\", \"aci\", \"aci\", \"aci\", \"aci\", \"aci\", \"aci\", \"aci\", \"aci\", \"acknowledged\", \"acumen\", \"adi\", \"adithya\", \"adithya\", \"adithya\", \"adithya\", \"adithya\", \"adithya\", \"adithya\", \"adithya\", \"adithya\", \"admit\", \"advanced\", \"advanced\", \"advanced\", \"advanced\", \"advanced\", \"advanced\", \"advanced\", \"advanced\", \"advanced\", \"advanced\", \"adversity\", \"advertiser\", \"advertiser\", \"advertiser\", \"advertiser\", \"advertiser\", \"advertiser\", \"advertiser\", \"advertiser\", \"advertiser\", \"advertiser\", \"advertising\", \"advertising\", \"advertising\", \"advertising\", \"advertising\", \"advertising\", \"advertising\", \"advertising\", \"advertising\", \"advertising\", \"adviser\", \"agm\", \"airpods\", \"airpods\", \"airpods\", \"airpods\", \"airpods\", \"airpods\", \"airpods\", \"airpods\", \"airpods\", \"airpods\", \"alexa\", \"alexa\", \"alexa\", \"alexa\", \"alexa\", \"alexa\", \"alexa\", \"alexa\", \"alexa\", \"alexa\", \"algorithmically\", \"alphabet\", \"alphabet\", \"alphabet\", \"alphabet\", \"alphabet\", \"alphabet\", \"alphabet\", \"alphabet\", \"alphabet\", \"alphabet\", \"amazon\", \"amazon\", \"amazon\", \"amazon\", \"amazon\", \"amazon\", \"amazon\", \"amazon\", \"amazon\", \"amazon\", \"amazonfresh\", \"amazonfresh\", \"amazonfresh\", \"amazonfresh\", \"amazonfresh\", \"amazonfresh\", \"amazonfresh\", \"amd\", \"amd\", \"amd\", \"amd\", \"amd\", \"amd\", \"amd\", \"amd\", \"amd\", \"amd\", \"amy\", \"amy\", \"amy\", \"amy\", \"amy\", \"amy\", \"amy\", \"amy\", \"amy\", \"amy\", \"analyst\", \"analyst\", \"analyst\", \"analyst\", \"analyst\", \"analyst\", \"analyst\", \"analyst\", \"analyst\", \"analyst\", \"analyst_satya\", \"analyst_satya\", \"analyst_satya\", \"analyst_satya\", \"analyst_satya\", \"analyst_satya\", \"analyst_sundar\", \"analyst_sundar\", \"analyst_sundar\", \"analyst_sundar\", \"analyst_sundar\", \"analyst_sundar\", \"analyst_sundar\", \"analyst_sundar\", \"analyst_sundar\", \"analyst_sundar\", \"andre\", \"andrew\", \"andrew\", \"andrew\", \"andrew\", \"andrew\", \"andrew\", \"andrew\", \"andrew\", \"andrew\", \"andrew\", \"android\", \"android\", \"android\", \"android\", \"android\", \"android\", \"android\", \"android\", \"android\", \"android\", \"animate\", \"annie\", \"announces\", \"annuity\", \"annuity\", \"annuity\", \"annuity\", \"annuity\", \"annuity\", \"annuity\", \"annuity\", \"annuity\", \"annuity\", \"anticipates\", \"app\", \"app\", \"app\", \"app\", \"app\", \"app\", \"app\", \"app\", \"app\", \"app\", \"appdynamics\", \"appdynamics\", \"appdynamics\", \"appdynamics\", \"appdynamics\", \"appdynamics\", \"appdynamics\", \"appdynamics\", \"appdynamics\", \"appdynamics\", \"apple\", \"apple\", \"apple\", \"apple\", \"apple\", \"apple\", \"apple\", \"apple\", \"apple\", \"apple\", \"applecare\", \"applecare\", \"applecare\", \"applecare\", \"applecare\", \"applecare\", \"applecare\", \"applecare\", \"applecare\", \"applicable\", \"applicable\", \"applicable\", \"applicable\", \"applicable\", \"applicable\", \"applicable\", \"applicable\", \"applicable\", \"applicable\", \"application\", \"application\", \"application\", \"application\", \"application\", \"application\", \"application\", \"application\", \"application\", \"application\", \"area\", \"area\", \"area\", \"area\", \"area\", \"area\", \"area\", \"area\", \"area\", \"area\", \"argentine\", \"arkit\", \"arkit\", \"arkit\", \"arkit\", \"asml\", \"asml\", \"asml\", \"asml\", \"asml\", \"asml\", \"asml\", \"asml\", \"asml\", \"asml\", \"assistant\", \"assistant\", \"assistant\", \"assistant\", \"assistant\", \"assistant\", \"assistant\", \"assistant\", \"assistant\", \"assistant\", \"attribution\", \"authoring\", \"authoritative\", \"authoritative\", \"authoritative\", \"authoritative\", \"authoritative\", \"aws\", \"aws\", \"aws\", \"aws\", \"aws\", \"aws\", \"aws\", \"aws\", \"aws\", \"aws\", \"azure\", \"azure\", \"azure\", \"azure\", \"azure\", \"azure\", \"azure\", \"azure\", \"azure\", \"azure\", \"base\", \"base\", \"base\", \"base\", \"base\", \"base\", \"base\", \"base\", \"base\", \"base\", \"based\", \"based\", \"based\", \"based\", \"based\", \"based\", \"based\", \"based\", \"based\", \"based\", \"beam\", \"beam\", \"beam\", \"beam\", \"beam\", \"beam\", \"beam\", \"beam\", \"beam\", \"beam\", \"bet\", \"bet\", \"bet\", \"bet\", \"bet\", \"bet\", \"bet\", \"bet\", \"bet\", \"bet\", \"bhf\", \"bhf\", \"bhf\", \"bhf\", \"bidding\", \"bidding\", \"bidding\", \"bidding\", \"bidding\", \"bidding\", \"bionic\", \"bit\", \"bit\", \"bit\", \"bit\", \"bit\", \"bit\", \"bit\", \"bit\", \"bit\", \"bit\", \"blockchain\", \"blockchain\", \"blockchain\", \"blockchain\", \"blockchain\", \"blockchain\", \"blockchain\", \"blockchain\", \"blockchain\", \"blockchain\", \"blurring\", \"board\", \"board\", \"board\", \"board\", \"board\", \"board\", \"board\", \"board\", \"board\", \"board\", \"bollin\", \"bone\", \"brexit\", \"brexit\", \"brexit\", \"brexit\", \"brexit\", \"brexit\", \"brexit\", \"brian\", \"brian\", \"brian\", \"brian\", \"brian\", \"brian\", \"brian\", \"brian\", \"brian\", \"brian\", \"bricm\", \"buck\", \"call\", \"call\", \"call\", \"call\", \"call\", \"call\", \"call\", \"call\", \"call\", \"call\", \"campaign\", \"campaign\", \"campaign\", \"campaign\", \"campaign\", \"campaign\", \"campaign\", \"campaign\", \"campaign\", \"campaign\", \"campus\", \"campus\", \"campus\", \"campus\", \"campus\", \"campus\", \"campus\", \"campus\", \"campus\", \"campus\", \"candidly\", \"cannibalized\", \"capacity\", \"capacity\", \"capacity\", \"capacity\", \"capacity\", \"capacity\", \"capacity\", \"capacity\", \"capacity\", \"capacity\", \"carolyn\", \"cat\", \"cat\", \"cat\", \"cat\", \"cat\", \"cat\", \"cat\", \"cat\", \"cat\", \"catalina\", \"cautionary\", \"cautionary\", \"cautionary\", \"cautionary\", \"cautionary\", \"cautionary\", \"cautionary\", \"cautionary\", \"cautionary\", \"center\", \"center\", \"center\", \"center\", \"center\", \"center\", \"center\", \"center\", \"center\", \"center\", \"ceo\", \"ceo\", \"ceo\", \"ceo\", \"ceo\", \"ceo\", \"ceo\", \"ceo\", \"ceo\", \"ceo\", \"cfo\", \"cfo\", \"cfo\", \"cfo\", \"cfo\", \"cfo\", \"cfo\", \"cfo\", \"cfo\", \"cfo\", \"cfo_term\", \"cfo_term\", \"cfo_term\", \"cfo_term\", \"cfo_term\", \"cfo_term\", \"cfo_term\", \"cfo_term\", \"cfo_term\", \"cfo_term\", \"chairman\", \"chairman\", \"chairman\", \"chairman\", \"chairman\", \"chairman\", \"chairman\", \"chairman\", \"chairman\", \"chairman\", \"chan\", \"charles\", \"charles\", \"charles\", \"charles\", \"charles\", \"charles\", \"charles\", \"charles\", \"charles\", \"charles\", \"chassis\", \"chelsea\", \"chelsea\", \"chemical\", \"chevron\", \"china\", \"china\", \"china\", \"china\", \"china\", \"china\", \"china\", \"china\", \"china\", \"china\", \"chromecast\", \"chromecast\", \"chuck\", \"chuck\", \"chuck\", \"chuck\", \"chuck\", \"chuck\", \"chuck\", \"chuck\", \"chuck\", \"chuck\", \"chuck_cisco\", \"chuck_cisco\", \"chuck_cisco\", \"chuck_cisco\", \"chuck_cisco\", \"churning\", \"circling\", \"cisco\", \"cisco\", \"cisco\", \"cisco\", \"cisco\", \"cisco\", \"cisco\", \"cisco\", \"cisco\", \"cisco\", \"cleveland\", \"cleveland\", \"cliqr\", \"cliqr\", \"cloud\", \"cloud\", \"cloud\", \"cloud\", \"cloud\", \"cloud\", \"cloud\", \"cloud\", \"cloud\", \"cloud\", \"cloudcenter\", \"cloudlock\", \"cntk\", \"cntk\", \"cold\", \"collaboration\", \"collaboration\", \"collaboration\", \"collaboration\", \"collaboration\", \"collaboration\", \"collaboration\", \"collaboration\", \"collaboration\", \"collaboration\", \"com\", \"com\", \"com\", \"com\", \"com\", \"com\", \"com\", \"com\", \"com\", \"com\", \"come\", \"come\", \"come\", \"come\", \"come\", \"come\", \"come\", \"come\", \"come\", \"come\", \"commercial\", \"commercial\", \"commercial\", \"commercial\", \"commercial\", \"commercial\", \"commercial\", \"commercial\", \"commercial\", \"commercial\", \"commute\", \"company\", \"company\", \"company\", \"company\", \"company\", \"company\", \"company\", \"company\", \"company\", \"company\", \"comparables\", \"compute_capacity\", \"compute_capacity\", \"compute_capacity\", \"conceptual\", \"conflict\", \"connor\", \"constant\", \"constant\", \"constant\", \"constant\", \"constant\", \"constant\", \"constant\", \"constant\", \"constant\", \"constant\", \"constructively\", \"constructively\", \"constructively\", \"content\", \"content\", \"content\", \"content\", \"content\", \"content\", \"content\", \"content\", \"content\", \"content\", \"contractual\", \"contribution_linkedin\", \"cook\", \"cook\", \"cook\", \"cook\", \"cook\", \"cook\", \"cook\", \"cook\", \"cook\", \"cook\", \"corporation\", \"corporation\", \"corporation\", \"corporation\", \"corporation\", \"corporation\", \"corporation\", \"corporation\", \"corporation\", \"corporation\", \"corroborated\", \"cortana\", \"cortana\", \"cortana\", \"cortana\", \"cortana\", \"cortana\", \"cortana\", \"cortana\", \"cortana\", \"cosmos\", \"cosmos\", \"cosmos\", \"cosmos\", \"cosmos\", \"cosmos\", \"cosmos\", \"cost\", \"cost\", \"cost\", \"cost\", \"cost\", \"cost\", \"cost\", \"cost\", \"cost\", \"cost\", \"could\", \"could\", \"could\", \"could\", \"could\", \"could\", \"could\", \"could\", \"could\", \"could\", \"cpms\", \"cpu\", \"cpu\", \"cpu\", \"cpu\", \"cpu\", \"cpu\", \"cpu\", \"cpu\", \"cpu\", \"cpu\", \"criticality\", \"criticality\", \"cross\", \"cross\", \"cross\", \"cross\", \"cross\", \"cross\", \"cross\", \"cross\", \"cross\", \"cross\", \"csoi\", \"cup\", \"currency\", \"currency\", \"currency\", \"currency\", \"currency\", \"currency\", \"currency\", \"currency\", \"currency\", \"currency\", \"custom\", \"custom\", \"custom\", \"custom\", \"custom\", \"custom\", \"custom\", \"custom\", \"custom\", \"custom\", \"customer\", \"customer\", \"customer\", \"customer\", \"customer\", \"customer\", \"customer\", \"customer\", \"customer\", \"customer\", \"cymer\", \"darin\", \"darin\", \"darin\", \"darin\", \"darin\", \"darin\", \"darin\", \"darin\", \"darin\", \"darin\", \"dassen\", \"dassen\", \"dassen\", \"dassen\", \"dassen\", \"dassen\", \"dassen\", \"dassen\", \"dassen\", \"dassen\", \"data\", \"data\", \"data\", \"data\", \"data\", \"data\", \"data\", \"data\", \"data\", \"data\", \"datacenter\", \"datacenter\", \"datacenter\", \"datacenter\", \"datacenter\", \"datacenter\", \"datacenter\", \"datacenter\", \"datacenter\", \"datacenter\", \"dave\", \"dave\", \"dave\", \"dave\", \"dave\", \"dave\", \"dave\", \"dave\", \"dave\", \"dave\", \"dec\", \"dec\", \"dec\", \"dec\", \"dec\", \"dec\", \"dec\", \"dec\", \"dec\", \"dec\", \"deferred\", \"deferred\", \"deferred\", \"deferred\", \"deferred\", \"deferred\", \"deferred\", \"deferred\", \"deferred\", \"deferred\", \"delete\", \"demand\", \"demand\", \"demand\", \"demand\", \"demand\", \"demand\", \"demand\", \"demand\", \"demand\", \"demand\", \"deshpande\", \"deshpande\", \"deshpande\", \"deshpande\", \"deshpande\", \"deshpande\", \"deshpande\", \"deshpande\", \"deshpande\", \"deshpande\", \"design_activity\", \"design_activity\", \"desktop\", \"desktop\", \"desktop\", \"desktop\", \"desktop\", \"desktop\", \"desktop\", \"desktop\", \"desktop\", \"desktop\", \"developer_productivity\", \"deviate\", \"device\", \"device\", \"device\", \"device\", \"device\", \"device\", \"device\", \"device\", \"device\", \"device\", \"devinder\", \"devinder\", \"devinder\", \"devinder\", \"devinder\", \"devinder\", \"devinder\", \"devinder\", \"devinder\", \"devinder\", \"diane\", \"diane\", \"diane\", \"diane\", \"diane\", \"diane\", \"diane\", \"director\", \"director\", \"director\", \"director\", \"director\", \"director\", \"director\", \"director\", \"director\", \"director\", \"disparity\", \"division\", \"division\", \"division\", \"division\", \"division\", \"division\", \"division\", \"division\", \"division\", \"division\", \"diwali\", \"diwali\", \"diwali\", \"doorstep\", \"doubleclick\", \"doubleclick\", \"doubleclick\", \"doubleclick\", \"doubleclick\", \"downstream\", \"dpv\", \"dpv\", \"dpv\", \"dpv\", \"dpv\", \"dram\", \"dram\", \"dram\", \"dram\", \"dram\", \"dram\", \"dram\", \"dram\", \"dram\", \"dram\", \"driven\", \"driven\", \"driven\", \"driven\", \"driven\", \"driven\", \"driven\", \"driven\", \"driven\", \"driven\", \"dubai\", \"duv\", \"duv\", \"duv\", \"duv\", \"duv\", \"duv\", \"duv\", \"duv\", \"duv\", \"duv\", \"duval\", \"duval\", \"duval\", \"dynamic\", \"dynamic\", \"dynamic\", \"dynamic\", \"dynamic\", \"dynamic\", \"dynamic\", \"dynamic\", \"dynamic\", \"dynamic\", \"ebitda\", \"ebitda\", \"ebitda\", \"ebitda\", \"ebitda\", \"ebitda\", \"ebitda\", \"ebitda\", \"ebitda\", \"ebitda\", \"echo\", \"echo\", \"echo\", \"echo\", \"echo\", \"echo\", \"echo\", \"echo\", \"echo\", \"echo\", \"effectivity\", \"egm\", \"egm\", \"egm\", \"egm\", \"egm\", \"ellen\", \"ellen\", \"ellen\", \"ellen\", \"ellen\", \"ellen\", \"ellen\", \"ellen\", \"ellen\", \"ellen\", \"emear\", \"emergent\", \"emergent\", \"emergent\", \"emil\", \"emil\", \"emil\", \"emil\", \"emil\", \"empowers\", \"empowers\", \"empowers\", \"end_support\", \"end_support\", \"end_support\", \"end_support\", \"end_support\", \"end_support\", \"end_support\", \"end_support\", \"end_support\", \"end_support\", \"ended_qtr\", \"enterprise\", \"enterprise\", \"enterprise\", \"enterprise\", \"enterprise\", \"enterprise\", \"enterprise\", \"enterprise\", \"enterprise\", \"enterprise\", \"environment\", \"environment\", \"environment\", \"environment\", \"environment\", \"environment\", \"environment\", \"environment\", \"environment\", \"environment\", \"envisaged\", \"epyc\", \"epyc\", \"epyc\", \"epyc\", \"epyc\", \"epyc\", \"epyc\", \"epyc\", \"epyc\", \"epyc\", \"equity_security\", \"equity_security\", \"equity_security\", \"equity_security\", \"equity_security\", \"equity_security\", \"erik\", \"ethereum\", \"eur\", \"eur\", \"eur\", \"eur\", \"eur\", \"eur\", \"eur\", \"eur\", \"eur\", \"eur\", \"euv\", \"euv\", \"euv\", \"euv\", \"euv\", \"euv\", \"euv\", \"euv\", \"euv\", \"euv\", \"ever\", \"ever\", \"ever\", \"ever\", \"ever\", \"ever\", \"ever\", \"ever\", \"ever\", \"ever\", \"excuse\", \"excuse\", \"excuse\", \"excuse\", \"excuse\", \"excuse\", \"excuse\", \"excuse\", \"excuse\", \"excuse\", \"executive\", \"executive\", \"executive\", \"executive\", \"executive\", \"executive\", \"executive\", \"executive\", \"executive\", \"executive\", \"expect\", \"expect\", \"expect\", \"expect\", \"expect\", \"expect\", \"expect\", \"expect\", \"expect\", \"expect\", \"expense\", \"expense\", \"expense\", \"expense\", \"expense\", \"expense\", \"expense\", \"expense\", \"expense\", \"expense\", \"experience\", \"experience\", \"experience\", \"experience\", \"experience\", \"experience\", \"experience\", \"experience\", \"experience\", \"experience\", \"experiential\", \"expiration\", \"expiration\", \"expiration\", \"expiration\", \"expiration\", \"expiration\", \"extensibility\", \"extensibility\", \"faucette\", \"faucette\", \"faucette\", \"faucette\", \"faucette\", \"faucette\", \"faucette\", \"faucette\", \"faucette\", \"fba\", \"fba\", \"fba\", \"fba\", \"fba\", \"fba\", \"fba\", \"fba\", \"fba\", \"fba\", \"fca\", \"fiber\", \"fiber\", \"fiber\", \"fiber\", \"fiber\", \"fiber\", \"fiber\", \"fiber\", \"fiber\", \"fiber\", \"field\", \"field\", \"field\", \"field\", \"field\", \"field\", \"field\", \"field\", \"field\", \"field\", \"fildes\", \"fildes\", \"fildes\", \"fildes\", \"fildes\", \"fildes\", \"fildes\", \"fildes\", \"fildes\", \"fildes\", \"firebase\", \"firepower\", \"fitzgerald\", \"fitzgerald\", \"focused\", \"focused\", \"focused\", \"focused\", \"focused\", \"focused\", \"focused\", \"focused\", \"focused\", \"focused\", \"food\", \"food\", \"food\", \"food\", \"food\", \"food\", \"food\", \"food\", \"food\", \"food\", \"forward\", \"forward\", \"forward\", \"forward\", \"forward\", \"forward\", \"forward\", \"forward\", \"forward\", \"forward\", \"frantz\", \"frictionless\", \"friedland\", \"friedland\", \"friedland\", \"friedland\", \"fujitsu\", \"fujitsu\", \"fujitsu\", \"fulfilled\", \"fulfilled\", \"fulfilled\", \"fulfilled\", \"fulfilled\", \"fulfilled\", \"fulfilled\", \"fulfilled\", \"fulfilled\", \"fulfilled\", \"fulfilling\", \"fulfillment\", \"fulfillment\", \"fulfillment\", \"fulfillment\", \"fulfillment\", \"fulfillment\", \"fulfillment\", \"fulfillment\", \"fulfillment\", \"fulfillment\", \"gaap\", \"gaap\", \"gaap\", \"gaap\", \"gaap\", \"gaap\", \"gaap\", \"gaap\", \"gaap\", \"gaap\", \"gaming\", \"gaming\", \"gaming\", \"gaming\", \"gaming\", \"gaming\", \"gaming\", \"gaming\", \"gaming\", \"gaming\", \"gardiner\", \"gardiner\", \"gardiner\", \"gardiner\", \"gardiner\", \"gardiner\", \"gardiner\", \"gardiner\", \"gardiner\", \"gardiner\", \"gareth\", \"gareth\", \"gareth\", \"gareth\", \"gareth\", \"gareth\", \"gareth\", \"gcp\", \"gcp\", \"gcp\", \"gcp\", \"gcp\", \"gcp\", \"gcp\", \"gcp\", \"gcp\", \"gcp\", \"geforces\", \"generale\", \"george\", \"george\", \"george\", \"george\", \"george\", \"george\", \"george\", \"george\", \"george\", \"george\", \"get\", \"get\", \"get\", \"get\", \"get\", \"get\", \"get\", \"get\", \"get\", \"get\", \"gilead\", \"github\", \"github\", \"github\", \"github\", \"github\", \"github\", \"github\", \"github\", \"github\", \"github\", \"glean\", \"glint\", \"glint\", \"glint\", \"glint\", \"googlers\", \"googlers\", \"googlers\", \"googlers\", \"googlers\", \"gossler\", \"gpu\", \"gpu\", \"gpu\", \"gpu\", \"gpu\", \"gpu\", \"gpu\", \"gpu\", \"gpu\", \"gpu\", \"gpus\", \"gpus\", \"gpus\", \"gpus\", \"gpus\", \"gpus\", \"gpus\", \"gpus\", \"gpus\", \"gpus\", \"graf\", \"graf\", \"graf\", \"graf\", \"graf\", \"graf\", \"graf\", \"graf\", \"graf\", \"graf\", \"graphic\", \"graphic\", \"graphic\", \"graphic\", \"graphic\", \"graphic\", \"graphic\", \"graphic\", \"graphic\", \"graphic\", \"grappling\", \"gregory\", \"grew\", \"grew\", \"grew\", \"grew\", \"grew\", \"grew\", \"grew\", \"grew\", \"grew\", \"grew\", \"grocery\", \"grocery\", \"grocery\", \"grocery\", \"grocery\", \"grocery\", \"grocery\", \"grocery\", \"grocery\", \"grocery\", \"gross\", \"gross\", \"gross\", \"gross\", \"gross\", \"gross\", \"gross\", \"gross\", \"gross\", \"gross\", \"gross_leverage\", \"gross_leverage\", \"gross_leverage\", \"gross_leverage\", \"gung\", \"half\", \"half\", \"half\", \"half\", \"half\", \"half\", \"half\", \"half\", \"half\", \"half\", \"han\", \"han\", \"han\", \"han\", \"han\", \"han\", \"han\", \"han\", \"han\", \"han\", \"harchandani\", \"harchandani\", \"harchandani\", \"harchandani\", \"harchandani\", \"harchandani\", \"harchandani\", \"harchandani\", \"harchandani\", \"harchandani\", \"hardin\", \"hardin\", \"hardin\", \"hardin\", \"hardin\", \"hardin\", \"hardin\", \"hardin\", \"hardin\", \"hardware\", \"hardware\", \"hardware\", \"hardware\", \"hardware\", \"hardware\", \"hardware\", \"hardware\", \"hardware\", \"hardware\", \"headcount_end\", \"headcount_end\", \"headcount_end\", \"headcount_end\", \"heath\", \"heath\", \"heath\", \"heath\", \"heath\", \"heath\", \"heath\", \"heath\", \"heath\", \"heath\", \"helfstein\", \"helfstein\", \"helfstein\", \"helfstein\", \"helfstein\", \"helfstein\", \"helfstein\", \"helfstein\", \"helfstein\", \"high\", \"high\", \"high\", \"high\", \"high\", \"high\", \"high\", \"high\", \"high\", \"high\", \"hmi\", \"hmi\", \"hmi\", \"hmi\", \"hmi\", \"hmi\", \"hmi\", \"hmi\", \"hmi\", \"hmi\", \"holding\", \"holding\", \"holding\", \"holding\", \"holding\", \"holding\", \"holding\", \"holding\", \"holding\", \"holding\", \"homepod\", \"homepod\", \"homepod\", \"homepod\", \"homepod\", \"homepod\", \"hood\", \"hood\", \"hood\", \"hood\", \"hood\", \"hood\", \"hood\", \"hood\", \"hood\", \"hood\", \"houri\", \"houri\", \"houri\", \"houri\", \"houri\", \"houri\", \"houri\", \"huberty\", \"huberty\", \"huberty\", \"huberty\", \"huberty\", \"huberty\", \"huberty\", \"huberty\", \"huberty\", \"huberty\", \"huguet\", \"huguet\", \"huguet\", \"huguet\", \"huguet\", \"humanlike\", \"humbled\", \"hvm\", \"hybrid\", \"hybrid\", \"hybrid\", \"hybrid\", \"hybrid\", \"hybrid\", \"hybrid\", \"hybrid\", \"hybrid\", \"hybrid\", \"hyperflex\", \"hyperflex\", \"hyperflex\", \"hyperflex\", \"hyperflex\", \"hyperflex\", \"hyperflex\", \"hyperflex\", \"hyperflex\", \"iaa\", \"iaa\", \"iaa\", \"iaa\", \"iaa\", \"iaa\", \"iaa\", \"iaa\", \"iaa\", \"iaa\", \"identical\", \"iflytek\", \"illustrates\", \"imdb\", \"imec\", \"impact\", \"impact\", \"impact\", \"impact\", \"impact\", \"impact\", \"impact\", \"impact\", \"impact\", \"impact\", \"impedance\", \"increased\", \"increased\", \"increased\", \"increased\", \"increased\", \"increased\", \"increased\", \"increased\", \"increased\", \"increased\", \"independent\", \"independent\", \"independent\", \"independent\", \"independent\", \"independent\", \"independent\", \"independent\", \"independent\", \"independent\", \"indigenous\", \"indigenous\", \"indigenous\", \"indonesia\", \"indonesia\", \"indonesia\", \"indonesia\", \"inhibitor\", \"innovation\", \"innovation\", \"innovation\", \"innovation\", \"innovation\", \"innovation\", \"innovation\", \"innovation\", \"innovation\", \"innovation\", \"inspection\", \"inspection\", \"inspection\", \"inspection\", \"inspection\", \"inspection\", \"inspection\", \"inspection\", \"inspection\", \"inspection\", \"instruct\", \"instruct\", \"instruct\", \"instruct\", \"instruct\", \"instruct\", \"instruct\", \"instructive\", \"instructive\", \"instructive\", \"instructive\", \"instructive\", \"intel\", \"intel\", \"intel\", \"intel\", \"intel\", \"intel\", \"intel\", \"intel\", \"intel\", \"intel\", \"intelligent\", \"intelligent\", \"intelligent\", \"intelligent\", \"intelligent\", \"intelligent\", \"intelligent\", \"intelligent\", \"intelligent\", \"intelligent\", \"intends\", \"international\", \"international\", \"international\", \"international\", \"international\", \"international\", \"international\", \"international\", \"international\", \"international\", \"internationally\", \"internationally\", \"internationally\", \"internationally\", \"internationally\", \"internationally\", \"internationally\", \"internationally\", \"internationally\", \"internationally\", \"invaluable\", \"investment\", \"investment\", \"investment\", \"investment\", \"investment\", \"investment\", \"investment\", \"investment\", \"investment\", \"investment\", \"ipad\", \"ipad\", \"ipad\", \"ipad\", \"ipad\", \"ipad\", \"ipad\", \"ipad\", \"ipad\", \"ipad\", \"ipads\", \"ipads\", \"ipads\", \"ipads\", \"ipads\", \"ipads\", \"ipads\", \"ipads\", \"ipads\", \"ipads\", \"iphone\", \"iphone\", \"iphone\", \"iphone\", \"iphone\", \"iphone\", \"iphone\", \"iphone\", \"iphone\", \"iphone\", \"iphones\", \"iphones\", \"iphones\", \"iphones\", \"iphones\", \"iphones\", \"iphones\", \"iphones\", \"iphones\", \"iphones\", \"ittai\", \"ittai\", \"ittai\", \"ittai\", \"ittai\", \"ittai\", \"ittai\", \"ittai\", \"ittai\", \"ittai\", \"itunes\", \"itunes\", \"itunes\", \"itunes\", \"jason\", \"jason\", \"jason\", \"jason\", \"jason\", \"jason\", \"jason\", \"jason\", \"jason\", \"jean\", \"jenkins\", \"jenkins\", \"jenkins\", \"jenkins\", \"jenkins\", \"jenkins\", \"jenkins\", \"jenkins\", \"jennifer\", \"jennifer\", \"jennifer\", \"jess\", \"jess\", \"jess\", \"jess\", \"jess\", \"jess\", \"jess\", \"jie\", \"joan\", \"joan\", \"joan\", \"joan\", \"joan\", \"joh\", \"josey\", \"josey\", \"journalist\", \"journalist\", \"june\", \"june\", \"june\", \"june\", \"june\", \"june\", \"june\", \"june\", \"june\", \"june\", \"justice\", \"kai\", \"kai\", \"kai\", \"kai\", \"kai\", \"kai\", \"kai\", \"kai\", \"kai\", \"katy\", \"katy\", \"katy\", \"katy\", \"katy\", \"katy\", \"katy\", \"katy\", \"katy\", \"katy\", \"keith\", \"keith\", \"keith\", \"keith\", \"keith\", \"keith\", \"keith\", \"keith\", \"keith\", \"keith\", \"kelly\", \"kelly\", \"kelly\", \"kelly\", \"kelly\", \"kelly\", \"kelly\", \"kelly\", \"kelly\", \"kelly\", \"kind\", \"kind\", \"kind\", \"kind\", \"kind\", \"kind\", \"kind\", \"kind\", \"kind\", \"kind\", \"kls\", \"komatsu\", \"kpi\", \"kpi\", \"kpi\", \"kpi\", \"kpi\", \"kpi\", \"kpi\", \"kpi\", \"kramer\", \"kramer\", \"kramer\", \"kramer\", \"kramer\", \"kramer\", \"kramer\", \"kramer\", \"kramer\", \"kramer\", \"kristin\", \"kristin\", \"kristin\", \"kristin\", \"kristin\", \"kristin\", \"kumar\", \"kumar\", \"kumar\", \"kumar\", \"kumar\", \"kumar\", \"kumar\", \"kumar\", \"kumar\", \"kumar\", \"kurian\", \"lateef\", \"laura\", \"laura\", \"laura\", \"laura\", \"laura\", \"laura\", \"laura\", \"laura\", \"laura\", \"laura\", \"learning\", \"learning\", \"learning\", \"learning\", \"learning\", \"learning\", \"learning\", \"learning\", \"learning\", \"learning\", \"lease\", \"lease\", \"lease\", \"lease\", \"lease\", \"lease\", \"lease\", \"lease\", \"lease\", \"lease\", \"lenschow\", \"lenschow\", \"lenschow\", \"lenschow\", \"lenschow\", \"lenschow\", \"lenschow\", \"lenschow\", \"lenschow\", \"lenschow\", \"level\", \"level\", \"level\", \"level\", \"level\", \"level\", \"level\", \"level\", \"level\", \"level\", \"liani\", \"liani\", \"liani\", \"liani\", \"liani\", \"liani\", \"liani\", \"liani\", \"liani\", \"like\", \"like\", \"like\", \"like\", \"like\", \"like\", \"like\", \"like\", \"like\", \"like\", \"likelihood\", \"likelihood\", \"line\", \"line\", \"line\", \"line\", \"line\", \"line\", \"line\", \"line\", \"line\", \"line\", \"linkedin\", \"linkedin\", \"linkedin\", \"linkedin\", \"linkedin\", \"linkedin\", \"linkedin\", \"linkedin\", \"linkedin\", \"linkedin\", \"lisa\", \"lisa\", \"lisa\", \"lisa\", \"lisa\", \"lisa\", \"lisa\", \"lisa\", \"lisa\", \"lisa\", \"lisa_present\", \"lisa_present\", \"litho\", \"litho\", \"litho\", \"litho\", \"litho\", \"litho\", \"litho\", \"litho\", \"litho\", \"litho\", \"lithography\", \"lithography\", \"lithography\", \"lithography\", \"lithography\", \"lithography\", \"lithography\", \"lithography\", \"lithography\", \"lithography\", \"local\", \"local\", \"local\", \"local\", \"local\", \"local\", \"local\", \"local\", \"local\", \"local\", \"log\", \"log\", \"logic\", \"logic\", \"logic\", \"logic\", \"logic\", \"logic\", \"logic\", \"logic\", \"logic\", \"logic\", \"logic_sector\", \"logic_sector\", \"logic_space\", \"logic_space\", \"logic_space\", \"long\", \"long\", \"long\", \"long\", \"long\", \"long\", \"long\", \"long\", \"long\", \"long\", \"lot\", \"lot\", \"lot\", \"lot\", \"lot\", \"lot\", \"lot\", \"lot\", \"lot\", \"lot\", \"lpddr\", \"lpddr\", \"lpddr\", \"lpddr\", \"lpddr\", \"lpddr\", \"lubert\", \"lubert\", \"luca\", \"luca\", \"luca\", \"luca\", \"luca\", \"luca\", \"luca\", \"luca\", \"luca\", \"luca\", \"lynn\", \"lynn\", \"lynn\", \"lynn\", \"lynn\", \"lynn\", \"lynn\", \"lynn\", \"lynn\", \"mac\", \"mac\", \"mac\", \"mac\", \"mac\", \"mac\", \"mac\", \"mac\", \"mac\", \"mac\", \"machine\", \"machine\", \"machine\", \"machine\", \"machine\", \"machine\", \"machine\", \"machine\", \"machine\", \"machine\", \"maestro\", \"maestro\", \"maestro\", \"maestro\", \"maestro\", \"maestro\", \"maestro\", \"maestro\", \"maestro\", \"maestro\", \"mahesh\", \"mahesh\", \"management\", \"management\", \"management\", \"management\", \"management\", \"management\", \"management\", \"management\", \"management\", \"management\", \"mandatory\", \"manney\", \"manney\", \"manney\", \"manney\", \"manney\", \"manney\", \"manney\", \"manney\", \"manney\", \"manney\", \"marathon\", \"marathon\", \"marathon\", \"marathon\", \"marathon\", \"march\", \"march\", \"march\", \"march\", \"march\", \"march\", \"march\", \"march\", \"march\", \"march\", \"margin\", \"margin\", \"margin\", \"margin\", \"margin\", \"margin\", \"margin\", \"margin\", \"margin\", \"margin\", \"marilyn\", \"marilyn\", \"marilyn\", \"marilyn\", \"marilyn\", \"marilyn\", \"marilyn\", \"marilyn\", \"marilyn\", \"marilyn\", \"marketeers\", \"marketer\", \"marketer\", \"marketer\", \"marketer\", \"marketer\", \"marketer\", \"marketer\", \"marketer\", \"marketer\", \"marketer\", \"mbux\", \"mean\", \"mean\", \"mean\", \"mean\", \"mean\", \"mean\", \"mean\", \"mean\", \"mean\", \"mean\", \"mehta\", \"melich\", \"memory\", \"memory\", \"memory\", \"memory\", \"memory\", \"memory\", \"memory\", \"memory\", \"memory\", \"memory\", \"menon\", \"menon\", \"metropolis\", \"metropolis\", \"mfn\", \"micro\", \"micro\", \"micro\", \"micro\", \"micro\", \"micro\", \"micro\", \"micro\", \"micro\", \"micro\", \"microcontrollers\", \"micron\", \"micron\", \"micron\", \"micron\", \"micron\", \"micron\", \"micron\", \"micron\", \"micron\", \"micron\", \"microservice\", \"microsoft\", \"microsoft\", \"microsoft\", \"microsoft\", \"microsoft\", \"microsoft\", \"microsoft\", \"microsoft\", \"microsoft\", \"microsoft\", \"miller\", \"miller\", \"miller\", \"miller\", \"miller\", \"miller\", \"miller\", \"miller\", \"miller\", \"miller\", \"million\", \"million\", \"million\", \"million\", \"million\", \"million\", \"million\", \"million\", \"million\", \"million\", \"mindmeld\", \"mindshare\", \"mixer\", \"mixer\", \"mixer\", \"mobile\", \"mobile\", \"mobile\", \"mobile\", \"mobile\", \"mobile\", \"mobile\", \"mobile\", \"mobile\", \"mobile\", \"moovit\", \"mora\", \"mora\", \"mora\", \"mora\", \"mora\", \"mora\", \"mora\", \"mora\", \"mora\", \"mora\", \"mulholland\", \"mulholland\", \"mulholland\", \"mulholland\", \"mulholland\", \"mulholland\", \"mulholland\", \"mulholland\", \"mulholland\", \"mulholland\", \"multipatterning\", \"nadella\", \"nadella\", \"nadella\", \"nadella\", \"nadella\", \"nadella\", \"nadella\", \"nadella\", \"nadella\", \"nadella\", \"nancy\", \"nancy\", \"nancy\", \"nancy\", \"nancy\", \"nancy\", \"nancy\", \"nancy\", \"nancy\", \"nancy\", \"nand\", \"nand\", \"nand\", \"nand\", \"nand\", \"nand\", \"nand\", \"nand\", \"nand\", \"nand\", \"nanometer\", \"nanometer\", \"nanometer\", \"nanometer\", \"nanometer\", \"nanometer\", \"nanometer\", \"nanometer\", \"nanometer\", \"nanometer\", \"naples\", \"naples\", \"naples\", \"naples\", \"naples\", \"naples\", \"naples\", \"naples\", \"naples\", \"naples\", \"nathanson\", \"nathanson\", \"nathanson\", \"nathanson\", \"nathanson\", \"nathanson\", \"nathanson\", \"nathanson\", \"navi\", \"navi\", \"navi\", \"navi\", \"navi\", \"navi\", \"navi\", \"navi\", \"negotiate\", \"nemeroff\", \"network\", \"network\", \"network\", \"network\", \"network\", \"network\", \"network\", \"network\", \"network\", \"network\", \"next\", \"next\", \"next\", \"next\", \"next\", \"next\", \"next\", \"next\", \"next\", \"next\", \"nice_progress\", \"nickl\", \"nickl\", \"nickl\", \"nickl\", \"nickl\", \"nickl\", \"nickl\", \"nickl\", \"nickl\", \"nickl\", \"nics\", \"nike\", \"nilay\", \"node\", \"node\", \"node\", \"node\", \"node\", \"node\", \"node\", \"node\", \"node\", \"node\", \"nol\", \"nomination\", \"non\", \"non\", \"non\", \"non\", \"non\", \"non\", \"non\", \"non\", \"non\", \"non\", \"nonbusiness\", \"nonbusiness\", \"north\", \"north\", \"north\", \"north\", \"north\", \"north\", \"north\", \"north\", \"north\", \"north\", \"nov\", \"nov\", \"nvidia\", \"nvidia\", \"nvidia\", \"nvidia\", \"nvidia\", \"nvidia\", \"nvidia\", \"nvidia\", \"nvidia\", \"nvidia\", \"nxe\", \"nxe\", \"nxe\", \"nxe\", \"nxe\", \"nxe\", \"nxe\", \"nxe\", \"nxe\", \"nxe\", \"objection\", \"objection\", \"objection\", \"objection\", \"objection\", \"objection\", \"objection\", \"office\", \"office\", \"office\", \"office\", \"office\", \"office\", \"office\", \"office\", \"office\", \"office\", \"olsavsky\", \"olsavsky\", \"olsavsky\", \"olsavsky\", \"olsavsky\", \"olsavsky\", \"olsavsky\", \"olsavsky\", \"olsavsky\", \"olsavsky\", \"onenote\", \"ongoing\", \"ongoing\", \"ongoing\", \"ongoing\", \"ongoing\", \"ongoing\", \"ongoing\", \"ongoing\", \"ongoing\", \"ongoing\", \"operating\", \"operating\", \"operating\", \"operating\", \"operating\", \"operating\", \"operating\", \"operating\", \"operating\", \"operating\", \"operational_execution\", \"opportunity\", \"opportunity\", \"opportunity\", \"opportunity\", \"opportunity\", \"opportunity\", \"opportunity\", \"opportunity\", \"opportunity\", \"opportunity\", \"option\", \"option\", \"option\", \"option\", \"option\", \"option\", \"option\", \"option\", \"option\", \"option\", \"order\", \"order\", \"order\", \"order\", \"order\", \"order\", \"order\", \"order\", \"order\", \"order\", \"orderability\", \"organization\", \"organization\", \"organization\", \"organization\", \"organization\", \"organization\", \"organization\", \"organization\", \"organization\", \"organization\", \"organizing\", \"orin\", \"ott\", \"outfitting\", \"paas\", \"paas\", \"paas\", \"paas\", \"paas\", \"paas\", \"paas\", \"paas\", \"paas\", \"paas\", \"pastime\", \"paxton\", \"paxton\", \"paxton\", \"paxton\", \"paxton\", \"paxton\", \"paxton\", \"paxton\", \"paxton\", \"paxton\", \"pay\", \"pay\", \"pay\", \"pay\", \"pay\", \"pay\", \"pay\", \"pay\", \"pay\", \"pay\", \"pencil\", \"people\", \"people\", \"people\", \"people\", \"people\", \"people\", \"people\", \"people\", \"people\", \"people\", \"per_search\", \"per_search\", \"performance\", \"performance\", \"performance\", \"performance\", \"performance\", \"performance\", \"performance\", \"performance\", \"performance\", \"performance\", \"perspective\", \"perspective\", \"perspective\", \"perspective\", \"perspective\", \"perspective\", \"perspective\", \"perspective\", \"perspective\", \"perspective\", \"peter\", \"peter\", \"peter\", \"peter\", \"peter\", \"peter\", \"peter\", \"peter\", \"peter\", \"peter\", \"peter_mentioned\", \"peter_mentioned\", \"pfeiffer\", \"pfeiffer\", \"phil\", \"phil\", \"phil\", \"phil\", \"phil\", \"phil\", \"phil\", \"phil\", \"phil\", \"phil\", \"pichai\", \"pichai\", \"pichai\", \"pichai\", \"pichai\", \"pichai\", \"pichai\", \"pichai\", \"pichai\", \"pichai\", \"pitch\", \"pitch\", \"pitch\", \"pixel\", \"pixel\", \"pixel\", \"pixel\", \"pixel\", \"pixel\", \"pixel\", \"pixel\", \"pixel\", \"pixel\", \"platform\", \"platform\", \"platform\", \"platform\", \"platform\", \"platform\", \"platform\", \"platform\", \"platform\", \"platform\", \"point\", \"point\", \"point\", \"point\", \"point\", \"point\", \"point\", \"point\", \"point\", \"point\", \"porat\", \"porat\", \"porat\", \"porat\", \"porat\", \"porat\", \"porat\", \"porat\", \"porat\", \"porat\", \"portable\", \"portfolio\", \"portfolio\", \"portfolio\", \"portfolio\", \"portfolio\", \"portfolio\", \"portfolio\", \"portfolio\", \"portfolio\", \"portfolio\", \"posted_fiscal\", \"posted_fiscal\", \"preorder\", \"president\", \"president\", \"president\", \"president\", \"president\", \"president\", \"president\", \"president\", \"president\", \"president\", \"previous_node\", \"previous_node\", \"prime\", \"prime\", \"prime\", \"prime\", \"prime\", \"prime\", \"prime\", \"prime\", \"prime\", \"prime\", \"principally\", \"prior_estimate\", \"processor\", \"processor\", \"processor\", \"processor\", \"processor\", \"processor\", \"processor\", \"processor\", \"processor\", \"processor\", \"prodrive\", \"prodrive\", \"prodrive\", \"product\", \"product\", \"product\", \"product\", \"product\", \"product\", \"product\", \"product\", \"product\", \"product\", \"programmatic\", \"programmatic\", \"programmatic\", \"programmatic\", \"programmatic\", \"programmatic\", \"programmatic\", \"programmatic\", \"programmatic\", \"programmatic\", \"prolonged\", \"prolonged\", \"prolonged\", \"provider\", \"provider\", \"provider\", \"provider\", \"provider\", \"provider\", \"provider\", \"provider\", \"provider\", \"provider\", \"purchase\", \"purchase\", \"purchase\", \"purchase\", \"purchase\", \"purchase\", \"purchase\", \"purchase\", \"purchase\", \"purchase\", \"qiu\", \"qiu\", \"qiu\", \"qiu\", \"qiu\", \"qiu\", \"qiu\", \"qtr\", \"qtr\", \"qtr\", \"qtr\", \"qtr\", \"qtr\", \"qtr\", \"qtr\", \"qtr\", \"qtr\", \"radeon\", \"radeon\", \"radeon\", \"radeon\", \"radeon\", \"radeon\", \"radeon\", \"radeon\", \"radeon\", \"radeon\", \"railtel\", \"raimo\", \"raimo\", \"raimo\", \"raimo\", \"raimo\", \"raimo\", \"raimo\", \"raimo\", \"raimo\", \"raimo\", \"ramp\", \"ramp\", \"ramp\", \"ramp\", \"ramp\", \"ramp\", \"ramp\", \"ramp\", \"ramp\", \"ramp\", \"ratable\", \"rate\", \"rate\", \"rate\", \"rate\", \"rate\", \"rate\", \"rate\", \"rate\", \"rate\", \"rate\", \"rearchitecting\", \"rearchitecting\", \"rebranded\", \"recast\", \"reclassified\", \"recommended\", \"reconciled\", \"reconciled\", \"reconciled\", \"reconciled\", \"reconciled\", \"reconciled\", \"reconciled\", \"reconciled\", \"record\", \"record\", \"record\", \"record\", \"record\", \"record\", \"record\", \"record\", \"record\", \"record\", \"recreate\", \"recurring\", \"recurring\", \"recurring\", \"recurring\", \"recurring\", \"recurring\", \"recurring\", \"recurring\", \"recurring\", \"recurring\", \"reengaged\", \"reentering\", \"refurb\", \"reimbursed\", \"relatedly\", \"research\", \"research\", \"research\", \"research\", \"research\", \"research\", \"research\", \"research\", \"research\", \"research\", \"resmed\", \"restarted\", \"result\", \"result\", \"result\", \"result\", \"result\", \"result\", \"result\", \"result\", \"result\", \"result\", \"result_detail\", \"result_detail\", \"result_detail\", \"result_detail\", \"result_detail\", \"result_detail\", \"result_detail\", \"reuses\", \"reuters\", \"reuters\", \"reuters\", \"reuters\", \"reuters\", \"reuters\", \"reuters\", \"reuters\", \"reuters\", \"reuters\", \"revenue\", \"revenue\", \"revenue\", \"revenue\", \"revenue\", \"revenue\", \"revenue\", \"revenue\", \"revenue\", \"revenue\", \"revenue_yovery\", \"revenue_yovery\", \"revenue_yovery\", \"revenue_yovery\", \"revenue_yovery\", \"revenue_yovery\", \"revenue_yovery\", \"revenue_yovery\", \"revenue_yovery\", \"revenue_yovery\", \"robbins\", \"robbins\", \"robbins\", \"robbins\", \"robbins\", \"robbins\", \"robbins\", \"robbins\", \"robbins\", \"robbins\", \"roger\", \"roger\", \"roger\", \"roger\", \"roger\", \"roger\", \"roger\", \"roger\", \"roger\", \"roger\", \"roger_mentioned\", \"roger_mentioned\", \"rome\", \"rome\", \"rome\", \"rome\", \"rome\", \"rome\", \"rome\", \"rome\", \"rome\", \"rome\", \"ron\", \"router\", \"router\", \"router\", \"router\", \"router\", \"router\", \"routing\", \"routing\", \"routing\", \"routing\", \"routing\", \"routing\", \"routing\", \"routing\", \"routing\", \"routing\", \"rpo\", \"rpo\", \"rpo\", \"rpo\", \"rpo\", \"runtimes\", \"ruth\", \"ruth\", \"ruth\", \"ruth\", \"ruth\", \"ruth\", \"ruth\", \"ruth\", \"ruth\", \"ruth\", \"ryzen\", \"ryzen\", \"ryzen\", \"ryzen\", \"ryzen\", \"ryzen\", \"ryzen\", \"ryzen\", \"ryzen\", \"ryzen\", \"saas_business\", \"saas_business\", \"sacconaghi\", \"sacconaghi\", \"sacconaghi\", \"sacconaghi\", \"sacconaghi\", \"sacconaghi\", \"sacconaghi\", \"sacconaghi\", \"sacconaghi\", \"sacconaghi\", \"said\", \"said\", \"said\", \"said\", \"said\", \"said\", \"said\", \"said\", \"said\", \"said\", \"sale_profitability\", \"sale_profitability\", \"sale_profitability\", \"sale_profitability\", \"sale_profitability\", \"sale_profitability\", \"sale_profitability\", \"sam\", \"sam\", \"sam\", \"sam\", \"sam\", \"sam\", \"sam\", \"sandeep\", \"sandeep\", \"sandeep\", \"sandeep\", \"sandeep\", \"sandeep\", \"sandeep\", \"sandeep\", \"sandeep\", \"sandeep\", \"sanganeria\", \"sanganeria\", \"sanganeria\", \"satisfaction\", \"satisfaction\", \"satisfaction\", \"satisfaction\", \"satisfaction\", \"satisfaction\", \"satisfaction\", \"satisfaction\", \"satisfaction\", \"satisfaction\", \"satya\", \"satya\", \"satya\", \"satya\", \"satya\", \"satya\", \"satya\", \"satya\", \"satya\", \"satya\", \"satya_talking\", \"sbc\", \"sbc\", \"sbc\", \"sbc\", \"sbc\", \"sbc\", \"sbc\", \"sbc\", \"sbc\", \"sbc\", \"scaler\", \"scaler\", \"scaler\", \"scratched\", \"scratched\", \"scrutiny\", \"scrutiny\", \"scrutiny\", \"search\", \"search\", \"search\", \"search\", \"search\", \"search\", \"search\", \"search\", \"search\", \"search\", \"seat\", \"seat\", \"seat\", \"seat\", \"seat\", \"seat\", \"seat\", \"seat\", \"seat\", \"seat\", \"second\", \"second\", \"second\", \"second\", \"second\", \"second\", \"second\", \"second\", \"second\", \"second\", \"security\", \"security\", \"security\", \"security\", \"security\", \"security\", \"security\", \"security\", \"security\", \"security\", \"security_portfolio\", \"security_portfolio\", \"security_portfolio\", \"security_portfolio\", \"security_portfolio\", \"security_portfolio\", \"security_portfolio\", \"security_portfolio\", \"security_portfolio\", \"secuties\", \"seeing\", \"seeing\", \"seeing\", \"seeing\", \"seeing\", \"seeing\", \"seeing\", \"seeing\", \"seeing\", \"seeing\", \"segment\", \"segment\", \"segment\", \"segment\", \"segment\", \"segment\", \"segment\", \"segment\", \"segment\", \"segment\", \"selection\", \"selection\", \"selection\", \"selection\", \"selection\", \"selection\", \"selection\", \"selection\", \"selection\", \"selection\", \"selene\", \"seller\", \"seller\", \"seller\", \"seller\", \"seller\", \"seller\", \"seller\", \"seller\", \"seller\", \"seller\", \"semi\", \"semi\", \"semi\", \"semi\", \"semi\", \"semi\", \"semi\", \"semi\", \"semi\", \"semi\", \"semicustom\", \"semicustom\", \"semicustom\", \"semicustom\", \"semicustom\", \"semicustom\", \"semicustom\", \"semicustom\", \"semicustom\", \"shannon\", \"shannon\", \"shannon\", \"shannon\", \"shannon\", \"shannon\", \"shannon\", \"shannon\", \"shannon\", \"shannon\", \"sharepoint\", \"sharepoint\", \"sharepoint\", \"sharepoint\", \"sharpen\", \"shaun\", \"shelly\", \"shelly\", \"ship_system\", \"ship_system\", \"ship_system\", \"ship_system\", \"shipment\", \"shipment\", \"shipment\", \"shipment\", \"shipment\", \"shipment\", \"shipment\", \"shipment\", \"shipment\", \"shipment\", \"shipping_cost\", \"shipping_cost\", \"shipping_cost\", \"shipping_cost\", \"shipping_cost\", \"shipping_cost\", \"shipping_cost\", \"shipping_cost\", \"shopify\", \"side\", \"side\", \"side\", \"side\", \"side\", \"side\", \"side\", \"side\", \"side\", \"side\", \"siemer\", \"silverstein\", \"silverstein\", \"silverstein\", \"silverstein\", \"silverstein\", \"silverstein\", \"silverstein\", \"silverstein\", \"silverstein\", \"simon\", \"simon\", \"simon\", \"simon\", \"simon\", \"simon\", \"simon\", \"simon\", \"simon\", \"siri\", \"siri\", \"siri\", \"siri\", \"siri\", \"siri\", \"siri\", \"siri\", \"siri\", \"site\", \"site\", \"site\", \"site\", \"site\", \"site\", \"site\", \"site\", \"site\", \"site\", \"sizmek\", \"sizmek\", \"skip\", \"skip\", \"skip\", \"skip\", \"skip\", \"skip\", \"skip\", \"skip\", \"skip\", \"skip\", \"slot\", \"slot\", \"slot\", \"slot\", \"slot\", \"slot\", \"slot\", \"snep\", \"snep\", \"software\", \"software\", \"software\", \"software\", \"software\", \"software\", \"software\", \"software\", \"software\", \"software\", \"sort_center\", \"sort_center\", \"sort_center\", \"sortation\", \"souq\", \"souq\", \"spencer\", \"spencer\", \"spencer\", \"spencer\", \"spencer\", \"spencer\", \"spencer\", \"spencer\", \"spencer\", \"spencer\", \"spie\", \"spie\", \"spie\", \"spie\", \"sql\", \"sql\", \"sql\", \"sql\", \"sql\", \"sql\", \"sql\", \"sql\", \"sql\", \"sql\", \"sreekrishnan\", \"stacy\", \"stacy\", \"stacy\", \"stacy\", \"stacy\", \"stacy\", \"stacy\", \"stacy\", \"stacy\", \"stacy\", \"sticky\", \"store\", \"store\", \"store\", \"store\", \"store\", \"store\", \"store\", \"store\", \"store\", \"store\", \"strong\", \"strong\", \"strong\", \"strong\", \"strong\", \"strong\", \"strong\", \"strong\", \"strong\", \"strong\", \"subsequently\", \"subsidy\", \"subsidy\", \"subsidy\", \"subsidy\", \"suh\", \"suh\", \"suh\", \"suh\", \"suh\", \"suh\", \"suh\", \"suh\", \"suh\", \"suh\", \"sundar\", \"sundar\", \"sundar\", \"sundar\", \"sundar\", \"sundar\", \"sundar\", \"sundar\", \"sundar\", \"sundar\", \"supposedly\", \"surface\", \"surface\", \"surface\", \"surface\", \"surface\", \"surface\", \"surface\", \"surface\", \"surface\", \"surface\", \"swanson\", \"sweat\", \"switching\", \"switching\", \"switching\", \"switching\", \"switching\", \"switching\", \"switching\", \"switching\", \"switching\", \"switching\", \"system\", \"system\", \"system\", \"system\", \"system\", \"system\", \"system\", \"system\", \"system\", \"system\", \"tac\", \"tac\", \"tac\", \"tac\", \"tac\", \"tac\", \"tac\", \"tac\", \"tac\", \"tac\", \"take\", \"take\", \"take\", \"take\", \"take\", \"take\", \"take\", \"take\", \"take\", \"take\", \"tal\", \"tal\", \"tal\", \"tal\", \"tal\", \"tal\", \"tal\", \"tal\", \"tal\", \"tammy\", \"tammy\", \"tammy\", \"tammy\", \"tammy\", \"tammy\", \"technology\", \"technology\", \"technology\", \"technology\", \"technology\", \"technology\", \"technology\", \"technology\", \"technology\", \"technology\", \"temasek\", \"terence\", \"terence\", \"terence\", \"terence\", \"terence\", \"terence\", \"terence\", \"terence\", \"term\", \"term\", \"term\", \"term\", \"term\", \"term\", \"term\", \"term\", \"term\", \"term\", \"terry\", \"terry\", \"terry\", \"terry\", \"terry\", \"terry\", \"terry\", \"terry\", \"terry\", \"terry\", \"tetration\", \"tetration\", \"tetration\", \"tetration\", \"tetration\", \"texture\", \"thomson\", \"thomson\", \"thomson\", \"thomson\", \"thomson\", \"thomson\", \"thomson\", \"thomson\", \"thomson\", \"thomson\", \"threat\", \"threat\", \"threat\", \"threat\", \"threat\", \"threat\", \"threat\", \"threat\", \"threat\", \"threat\", \"tightest\", \"tilted\", \"tilted\", \"tim\", \"tim\", \"tim\", \"tim\", \"tim\", \"tim\", \"tim\", \"tim\", \"tim\", \"tim\", \"tim_talk\", \"tim_talk\", \"tim_talk\", \"timetable\", \"timothy\", \"timothy\", \"timothy\", \"timothy\", \"timothy\", \"timothy\", \"timothy\", \"timothy\", \"timothy\", \"timothy\", \"toni\", \"toni\", \"toni\", \"toni\", \"toni\", \"toni\", \"toni\", \"toni\", \"toni\", \"toni\", \"tool\", \"tool\", \"tool\", \"tool\", \"tool\", \"tool\", \"tool\", \"tool\", \"tool\", \"tool\", \"total_outside\", \"total_outside\", \"tournament\", \"transactional\", \"transactional\", \"transactional\", \"transactional\", \"transactional\", \"transactional\", \"transactional\", \"transactional\", \"transactional\", \"transactional\", \"treasurer\", \"treasurer\", \"treasurer\", \"treasurer\", \"treasurer\", \"treasurer\", \"treasurer\", \"treasurer\", \"treasurer\", \"treasurer\", \"trivia\", \"trivia\", \"tuning\", \"turning_alphabet\", \"tvos\", \"ultrathin\", \"ultrathin\", \"unabated\", \"undersea\", \"undersea\", \"undue\", \"unearned\", \"unearned\", \"unearned\", \"unearned\", \"unearned\", \"unearned\", \"unearned\", \"unearned\", \"unearned\", \"unearned\", \"unit\", \"unit\", \"unit\", \"unit\", \"unit\", \"unit\", \"unit\", \"unit\", \"unit\", \"unit\", \"validating\", \"vega\", \"vega\", \"vega\", \"vega\", \"vega\", \"vega\", \"vega\", \"vega\", \"vega\", \"vega\", \"verily\", \"verily\", \"verily\", \"verily\", \"verily\", \"verily\", \"verily\", \"verily\", \"verily\", \"verily\", \"voltage\", \"vpa\", \"vpa\", \"wafer\", \"wafer\", \"wafer\", \"wafer\", \"wafer\", \"wafer\", \"wafer\", \"wafer\", \"wafer\", \"wafer\", \"wan\", \"wan\", \"wan\", \"wan\", \"wan\", \"wan\", \"wan\", \"wan\", \"wan\", \"waning\", \"watch\", \"watch\", \"watch\", \"watch\", \"watch\", \"watch\", \"watch\", \"watch\", \"watch\", \"watch\", \"way\", \"way\", \"way\", \"way\", \"way\", \"way\", \"way\", \"way\", \"way\", \"way\", \"waymo\", \"waymo\", \"waymo\", \"waymo\", \"waymo\", \"waymo\", \"waymo\", \"waymo\", \"waymo\", \"waymo\", \"wearable\", \"wearable\", \"wearable\", \"wearable\", \"wearable\", \"wearable\", \"wearable\", \"wearable\", \"wearable\", \"wearable\", \"webex\", \"webex\", \"webex\", \"webex\", \"webex\", \"webex\", \"webex\", \"webex\", \"webex\", \"webscale\", \"wei\", \"wei\", \"wei\", \"wei\", \"wei\", \"wei\", \"wei\", \"wei\", \"wei\", \"wei\", \"wennink\", \"wennink\", \"wennink\", \"wennink\", \"wennink\", \"wennink\", \"wennink\", \"wennink\", \"wennink\", \"wennink\", \"west\", \"west\", \"west\", \"west\", \"west\", \"west\", \"west\", \"west\", \"west\", \"west\", \"whole\", \"whole\", \"whole\", \"whole\", \"whole\", \"whole\", \"whole\", \"whole\", \"whole\", \"whole\", \"widest\", \"window\", \"window\", \"window\", \"window\", \"window\", \"window\", \"window\", \"window\", \"window\", \"window\", \"wipe\", \"witnessed\", \"wolfgang\", \"wolfgang\", \"wolfgang\", \"wolfgang\", \"wolfgang\", \"wolfgang\", \"wolfgang\", \"wolfgang\", \"wolfgang\", \"wolfgang\", \"wolfgang_mentioned\", \"wolfgang_mentioned\", \"wolfgang_said\", \"wolfgang_said\", \"wolfgang_said\", \"wolfgang_said\", \"wong\", \"wong\", \"wong\", \"wong\", \"wong\", \"wong\", \"wong\", \"wong\", \"wong\", \"wong\", \"workday\", \"world\", \"world\", \"world\", \"world\", \"world\", \"world\", \"world\", \"world\", \"world\", \"world\", \"would\", \"would\", \"would\", \"would\", \"would\", \"would\", \"would\", \"would\", \"would\", \"would\", \"wwdc\", \"xbox\", \"xbox\", \"xbox\", \"xbox\", \"xbox\", \"xbox\", \"xbox\", \"xbox\", \"xbox\", \"xbox\", \"youtube\", \"youtube\", \"youtube\", \"youtube\", \"youtube\", \"youtube\", \"youtube\", \"youtube\", \"youtube\", \"youtube\", \"yovery\", \"yovery\", \"yovery\", \"yovery\", \"yovery\", \"yovery\", \"yovery\", \"yovery\", \"yovery\", \"yovery\", \"zen\", \"zen\", \"zen\", \"zen\", \"zen\", \"zen\", \"zen\", \"zen\", \"zen\", \"zen\", \"zukin\"]}, \"R\": 30, \"lambda.step\": 0.01, \"plot.opts\": {\"xlab\": \"PC1\", \"ylab\": \"PC2\"}, \"topic.order\": [3, 2, 10, 7, 8, 9, 6, 5, 4, 1]};\n",
              "\n",
              "function LDAvis_load_lib(url, callback){\n",
              "  var s = document.createElement('script');\n",
              "  s.src = url;\n",
              "  s.async = true;\n",
              "  s.onreadystatechange = s.onload = callback;\n",
              "  s.onerror = function(){console.warn(\"failed to load library \" + url);};\n",
              "  document.getElementsByTagName(\"head\")[0].appendChild(s);\n",
              "}\n",
              "\n",
              "if(typeof(LDAvis) !== \"undefined\"){\n",
              "   // already loaded: just create the visualization\n",
              "   !function(LDAvis){\n",
              "       new LDAvis(\"#\" + \"ldavis_el549601404124703790088550778062\", ldavis_el549601404124703790088550778062_data);\n",
              "   }(LDAvis);\n",
              "}else if(typeof define === \"function\" && define.amd){\n",
              "   // require.js is available: use it to load d3/LDAvis\n",
              "   require.config({paths: {d3: \"https://d3js.org/d3.v5\"}});\n",
              "   require([\"d3\"], function(d3){\n",
              "      window.d3 = d3;\n",
              "      LDAvis_load_lib(\"https://cdn.jsdelivr.net/gh/bmabey/pyLDAvis@3.3.1/pyLDAvis/js/ldavis.v3.0.0.js\", function(){\n",
              "        new LDAvis(\"#\" + \"ldavis_el549601404124703790088550778062\", ldavis_el549601404124703790088550778062_data);\n",
              "      });\n",
              "    });\n",
              "}else{\n",
              "    // require.js not available: dynamically load d3 & LDAvis\n",
              "    LDAvis_load_lib(\"https://d3js.org/d3.v5.js\", function(){\n",
              "         LDAvis_load_lib(\"https://cdn.jsdelivr.net/gh/bmabey/pyLDAvis@3.3.1/pyLDAvis/js/ldavis.v3.0.0.js\", function(){\n",
              "                 new LDAvis(\"#\" + \"ldavis_el549601404124703790088550778062\", ldavis_el549601404124703790088550778062_data);\n",
              "            })\n",
              "         });\n",
              "}\n",
              "</script>"
            ],
            "text/plain": [
              "PreparedData(topic_coordinates=              x         y  topics  cluster       Freq\n",
              "topic                                                \n",
              "2     -0.009956  0.040175       1        1  16.484371\n",
              "1      0.046093  0.022139       2        1  13.132472\n",
              "9      0.033650 -0.014958       3        1  12.170648\n",
              "6     -0.057576  0.000932       4        1  11.254539\n",
              "7      0.017047 -0.034471       5        1  10.700391\n",
              "8     -0.003007 -0.027548       6        1  10.699098\n",
              "5      0.001789  0.013414       7        1  10.613880\n",
              "4      0.009920  0.014443       8        1   7.079597\n",
              "3     -0.024330 -0.007622       9        1   4.362562\n",
              "0     -0.013630 -0.006503      10        1   3.502443, topic_info=          Term         Freq        Total Category  logprob  loglift\n",
              "242   customer  4904.000000  4904.000000  Default  30.0000  30.0000\n",
              "7030       euv  1043.000000  1043.000000  Default  29.0000  29.0000\n",
              "7005      asml   882.000000   882.000000  Default  28.0000  28.0000\n",
              "63       apple  1014.000000  1014.000000  Default  27.0000  27.0000\n",
              "1312     cisco   980.000000   980.000000  Default  26.0000  26.0000\n",
              "...        ...          ...          ...      ...      ...      ...\n",
              "673     margin    80.197776  3025.676206  Topic10  -5.6763  -0.2787\n",
              "116        bit    69.922518  2026.299531  Topic10  -5.8134  -0.0149\n",
              "1793     cloud    71.652437  2849.390986  Topic10  -5.7890  -0.3313\n",
              "260     demand    66.253940  1953.594120  Topic10  -5.8673  -0.0322\n",
              "375     expect    65.483067  2238.203264  Topic10  -5.8790  -0.1799\n",
              "\n",
              "[910 rows x 6 columns], token_table=       Topic      Freq   Term\n",
              "term                         \n",
              "1226       1  0.019255   aapl\n",
              "1226       2  0.057766   aapl\n",
              "1226       3  0.654679   aapl\n",
              "1226       4  0.096276   aapl\n",
              "1226       5  0.038511   aapl\n",
              "...      ...       ...    ...\n",
              "4913       7  0.029866    zen\n",
              "4913       8  0.159286    zen\n",
              "4913       9  0.009955    zen\n",
              "4913      10  0.029866    zen\n",
              "11002      2  0.679300  zukin\n",
              "\n",
              "[4018 rows x 3 columns], R=30, lambda_step=0.01, plot_opts={'xlab': 'PC1', 'ylab': 'PC2'}, topic_order=[3, 2, 10, 7, 8, 9, 6, 5, 4, 1])"
            ]
          },
          "execution_count": 396,
          "metadata": {},
          "output_type": "execute_result"
        }
      ],
      "source": [
        "import pyLDAvis\n",
        "import pyLDAvis.gensim_models\n",
        "import warnings\n",
        "warnings.filterwarnings('ignore', category = DeprecationWarning)\n",
        "\n",
        "# Visualize modeling output through pyLDAvis package\n",
        "pyLDAvis.enable_notebook()\n",
        "visual = pyLDAvis.gensim_models.prepare(lda_final, corpus, id2word)\n",
        "visual"
      ]
    },
    {
      "cell_type": "code",
      "execution_count": 397,
      "metadata": {},
      "outputs": [],
      "source": [
        "pyLDAvis.save_html(visual, \"lda.html\")"
      ]
    },
    {
      "cell_type": "code",
      "execution_count": 349,
      "metadata": {},
      "outputs": [
        {
          "name": "stderr",
          "output_type": "stream",
          "text": [
            "[nltk_data] Downloading package punkt to\n",
            "[nltk_data]     /Users/yanlinzhang/nltk_data...\n",
            "[nltk_data]   Package punkt is already up-to-date!\n",
            "/var/folders/lp/v4x5vmys7d5506998ljns1j40000gn/T/ipykernel_54960/1338983889.py:6: SettingWithCopyWarning: \n",
            "A value is trying to be set on a copy of a slice from a DataFrame.\n",
            "Try using .loc[row_indexer,col_indexer] = value instead\n",
            "\n",
            "See the caveats in the documentation: https://pandas.pydata.org/pandas-docs/stable/user_guide/indexing.html#returning-a-view-versus-a-copy\n",
            "  tagged_corpus['body_tokenized'] = tagged_corpus['body_lemmatized_cleaned'].apply(lambda x: word_tokenize(x))\n"
          ]
        }
      ],
      "source": [
        "import nltk\n",
        "nltk.download('punkt')\n",
        "from nltk.tokenize import word_tokenize\n",
        "\n",
        "tagged_corpus = final_df[['body','body_lemmatized_cleaned']]\n",
        "tagged_corpus['body_tokenized'] = tagged_corpus['body_lemmatized_cleaned'].apply(lambda x: word_tokenize(x))"
      ]
    },
    {
      "cell_type": "code",
      "execution_count": 352,
      "metadata": {},
      "outputs": [
        {
          "name": "stderr",
          "output_type": "stream",
          "text": [
            "/var/folders/lp/v4x5vmys7d5506998ljns1j40000gn/T/ipykernel_54960/4091407372.py:6: SettingWithCopyWarning: \n",
            "A value is trying to be set on a copy of a slice from a DataFrame.\n",
            "Try using .loc[row_indexer,col_indexer] = value instead\n",
            "\n",
            "See the caveats in the documentation: https://pandas.pydata.org/pandas-docs/stable/user_guide/indexing.html#returning-a-view-versus-a-copy\n",
            "  tagged_corpus[\"topic\"] = topic\n"
          ]
        }
      ],
      "source": [
        "topic = []\n",
        "for corpus in tagged_corpus['body_tokenized']:\n",
        "  topic_scores = np.array(lda_final[id2word.doc2bow(corpus)])\n",
        "  topic.append(np.argmax(topic_scores[:,1]))\n",
        "\n",
        "tagged_corpus[\"topic\"] = topic"
      ]
    },
    {
      "cell_type": "code",
      "execution_count": 369,
      "metadata": {},
      "outputs": [
        {
          "name": "stderr",
          "output_type": "stream",
          "text": [
            "/var/folders/lp/v4x5vmys7d5506998ljns1j40000gn/T/ipykernel_54960/3007140218.py:2: SettingWithCopyWarning: \n",
            "A value is trying to be set on a copy of a slice from a DataFrame.\n",
            "Try using .loc[row_indexer,col_indexer] = value instead\n",
            "\n",
            "See the caveats in the documentation: https://pandas.pydata.org/pandas-docs/stable/user_guide/indexing.html#returning-a-view-versus-a-copy\n",
            "  lda_topic_group['body'] = lda_topic_group.index\n"
          ]
        },
        {
          "data": {
            "text/html": [
              "<style type=\"text/css\">\n",
              "#T_76261_row0_col1, #T_76261_row1_col1, #T_76261_row2_col1, #T_76261_row3_col1, #T_76261_row4_col1, #T_76261_row5_col1, #T_76261_row6_col1, #T_76261_row7_col1, #T_76261_row8_col1, #T_76261_row9_col1 {\n",
              "  width: 400px;\n",
              "}\n",
              "</style>\n",
              "<table id=\"T_76261\">\n",
              "  <thead>\n",
              "    <tr>\n",
              "      <th class=\"blank level0\" >&nbsp;</th>\n",
              "      <th id=\"T_76261_level0_col0\" class=\"col_heading level0 col0\" >topic</th>\n",
              "      <th id=\"T_76261_level0_col1\" class=\"col_heading level0 col1\" >Documents</th>\n",
              "    </tr>\n",
              "  </thead>\n",
              "  <tbody>\n",
              "    <tr>\n",
              "      <th id=\"T_76261_level0_row0\" class=\"row_heading level0 row0\" >0</th>\n",
              "      <td id=\"T_76261_row0_col0\" class=\"data row0 col0\" >0</td>\n",
              "      <td id=\"T_76261_row0_col1\" class=\"data row0 col1\" >[9, 139, 145, 147]</td>\n",
              "    </tr>\n",
              "    <tr>\n",
              "      <th id=\"T_76261_level0_row1\" class=\"row_heading level0 row1\" >1</th>\n",
              "      <td id=\"T_76261_row1_col0\" class=\"data row1 col0\" >1</td>\n",
              "      <td id=\"T_76261_row1_col1\" class=\"data row1 col1\" >[14, 25, 133, 134, 135, 136, 137, 138, 140, 141, 142, 143, 144, 146, 148, 149, 150, 151, 171, 180]</td>\n",
              "    </tr>\n",
              "    <tr>\n",
              "      <th id=\"T_76261_level0_row2\" class=\"row_heading level0 row2\" >2</th>\n",
              "      <td id=\"T_76261_row2_col0\" class=\"data row2 col0\" >2</td>\n",
              "      <td id=\"T_76261_row2_col1\" class=\"data row2 col1\" >[6, 19, 20, 21, 22, 23, 24, 26, 27, 28, 29, 30, 31, 32, 33, 34, 35, 36, 37, 38, 39, 40, 44, 57, 58, 59, 61, 63, 67, 68, 70, 71, 72, 74, 108, 115, 116, 117, 118, 119, 120, 121, 152, 153, 154, 155, 156, 157, 158, 159, 160, 161, 162, 163, 165, 166, 167, 170, 172, 173, 176, 178, 179]</td>\n",
              "    </tr>\n",
              "    <tr>\n",
              "      <th id=\"T_76261_level0_row3\" class=\"row_heading level0 row3\" >3</th>\n",
              "      <td id=\"T_76261_row3_col0\" class=\"data row3 col0\" >3</td>\n",
              "      <td id=\"T_76261_row3_col1\" class=\"data row3 col1\" >[13, 42, 43, 45, 47, 48, 49, 51, 60, 62, 64, 65, 66, 69, 73, 75, 79, 81, 83, 88, 103, 105, 106, 174]</td>\n",
              "    </tr>\n",
              "    <tr>\n",
              "      <th id=\"T_76261_level0_row4\" class=\"row_heading level0 row4\" >4</th>\n",
              "      <td id=\"T_76261_row4_col0\" class=\"data row4 col0\" >4</td>\n",
              "      <td id=\"T_76261_row4_col1\" class=\"data row4 col1\" >[1, 12, 15, 41, 50, 52, 53, 55, 76, 78, 80, 82, 84, 85, 86, 87, 89, 90, 92, 95, 97, 98, 99, 100, 101, 102, 104, 109, 110, 112, 114, 122, 123, 125, 169, 182]</td>\n",
              "    </tr>\n",
              "    <tr>\n",
              "      <th id=\"T_76261_level0_row5\" class=\"row_heading level0 row5\" >5</th>\n",
              "      <td id=\"T_76261_row5_col0\" class=\"data row5 col0\" >5</td>\n",
              "      <td id=\"T_76261_row5_col1\" class=\"data row5 col1\" >[3, 8, 10, 11, 17, 46, 77, 91, 93, 94, 96, 107, 113, 177, 185, 186]</td>\n",
              "    </tr>\n",
              "    <tr>\n",
              "      <th id=\"T_76261_level0_row6\" class=\"row_heading level0 row6\" >6</th>\n",
              "      <td id=\"T_76261_row6_col0\" class=\"data row6 col0\" >6</td>\n",
              "      <td id=\"T_76261_row6_col1\" class=\"data row6 col1\" >[0, 2, 4, 7, 18, 54, 111, 124, 126, 127, 128]</td>\n",
              "    </tr>\n",
              "    <tr>\n",
              "      <th id=\"T_76261_level0_row7\" class=\"row_heading level0 row7\" >7</th>\n",
              "      <td id=\"T_76261_row7_col0\" class=\"data row7 col0\" >7</td>\n",
              "      <td id=\"T_76261_row7_col1\" class=\"data row7 col1\" >[5, 56, 175, 187]</td>\n",
              "    </tr>\n",
              "    <tr>\n",
              "      <th id=\"T_76261_level0_row8\" class=\"row_heading level0 row8\" >8</th>\n",
              "      <td id=\"T_76261_row8_col0\" class=\"data row8 col0\" >8</td>\n",
              "      <td id=\"T_76261_row8_col1\" class=\"data row8 col1\" >[16, 129, 130, 131, 132, 164, 168, 181]</td>\n",
              "    </tr>\n",
              "    <tr>\n",
              "      <th id=\"T_76261_level0_row9\" class=\"row_heading level0 row9\" >9</th>\n",
              "      <td id=\"T_76261_row9_col0\" class=\"data row9 col0\" >9</td>\n",
              "      <td id=\"T_76261_row9_col1\" class=\"data row9 col1\" >[183, 184]</td>\n",
              "    </tr>\n",
              "  </tbody>\n",
              "</table>\n"
            ],
            "text/plain": [
              "<pandas.io.formats.style.Styler object at 0x7fb33002a0a0>"
            ]
          },
          "execution_count": 369,
          "metadata": {},
          "output_type": "execute_result"
        }
      ],
      "source": [
        "lda_topic_group = tagged_corpus[['topic','body']]\n",
        "lda_topic_group['body'] = lda_topic_group.index\n",
        "lda_topic_group = lda_topic_group.groupby('topic')[\"body\"].apply(list).reset_index().rename(columns={'body': \"Documents\"})\n",
        "lda_topic_group.style.set_properties(subset=['Documents'], **{'width':'400px'})"
      ]
    },
    {
      "cell_type": "code",
      "execution_count": 412,
      "metadata": {},
      "outputs": [
        {
          "data": {
            "text/html": [
              "<style type=\"text/css\">\n",
              "#T_244ee_row0_col1, #T_244ee_row1_col1, #T_244ee_row2_col1, #T_244ee_row3_col1, #T_244ee_row4_col1, #T_244ee_row5_col1, #T_244ee_row6_col1, #T_244ee_row7_col1, #T_244ee_row8_col1, #T_244ee_row9_col1 {\n",
              "  width: 400px;\n",
              "}\n",
              "</style>\n",
              "<table id=\"T_244ee\">\n",
              "  <thead>\n",
              "    <tr>\n",
              "      <th class=\"blank level0\" >&nbsp;</th>\n",
              "      <th id=\"T_244ee_level0_col0\" class=\"col_heading level0 col0\" >topic</th>\n",
              "      <th id=\"T_244ee_level0_col1\" class=\"col_heading level0 col1\" >Documents</th>\n",
              "    </tr>\n",
              "  </thead>\n",
              "  <tbody>\n",
              "    <tr>\n",
              "      <th id=\"T_244ee_level0_row0\" class=\"row_heading level0 row0\" >0</th>\n",
              "      <td id=\"T_244ee_row0_col0\" class=\"data row0 col0\" >Microsoft product & tech</td>\n",
              "      <td id=\"T_244ee_row0_col1\" class=\"data row0 col1\" >[9, 139, 145, 147]</td>\n",
              "    </tr>\n",
              "    <tr>\n",
              "      <th id=\"T_244ee_level0_row1\" class=\"row_heading level0 row1\" >1</th>\n",
              "      <td id=\"T_244ee_row1_col0\" class=\"data row1 col0\" >Microsoft cloud computing</td>\n",
              "      <td id=\"T_244ee_row1_col1\" class=\"data row1 col1\" >[14, 25, 133, 134, 135, 136, 137, 138, 140, 141, 142, 143, 144, 146, 148, 149, 150, 151, 171, 180]</td>\n",
              "    </tr>\n",
              "    <tr>\n",
              "      <th id=\"T_244ee_level0_row2\" class=\"row_heading level0 row2\" >2</th>\n",
              "      <td id=\"T_244ee_row2_col0\" class=\"data row2 col0\" >Apple product & tech</td>\n",
              "      <td id=\"T_244ee_row2_col1\" class=\"data row2 col1\" >[6, 19, 20, 21, 22, 23, 24, 26, 27, 28, 29, 30, 31, 32, 33, 34, 35, 36, 37, 38, 39, 40, 44, 57, 58, 59, 61, 63, 67, 68, 70, 71, 72, 74, 108, 115, 116, 117, 118, 119, 120, 121, 152, 153, 154, 155, 156, 157, 158, 159, 160, 161, 162, 163, 165, 166, 167, 170, 172, 173, 176, 178, 179]</td>\n",
              "    </tr>\n",
              "    <tr>\n",
              "      <th id=\"T_244ee_level0_row3\" class=\"row_heading level0 row3\" >3</th>\n",
              "      <td id=\"T_244ee_row3_col0\" class=\"data row3 col0\" >ASML EUV (more revenue-oriented)</td>\n",
              "      <td id=\"T_244ee_row3_col1\" class=\"data row3 col1\" >[13, 42, 43, 45, 47, 48, 49, 51, 60, 62, 64, 65, 66, 69, 73, 75, 79, 81, 83, 88, 103, 105, 106, 174]</td>\n",
              "    </tr>\n",
              "    <tr>\n",
              "      <th id=\"T_244ee_level0_row4\" class=\"row_heading level0 row4\" >4</th>\n",
              "      <td id=\"T_244ee_row4_col0\" class=\"data row4 col0\" >Amazon product & tech</td>\n",
              "      <td id=\"T_244ee_row4_col1\" class=\"data row4 col1\" >[1, 12, 15, 41, 50, 52, 53, 55, 76, 78, 80, 82, 84, 85, 86, 87, 89, 90, 92, 95, 97, 98, 99, 100, 101, 102, 104, 109, 110, 112, 114, 122, 123, 125, 169, 182]</td>\n",
              "    </tr>\n",
              "    <tr>\n",
              "      <th id=\"T_244ee_level0_row5\" class=\"row_heading level0 row5\" >5</th>\n",
              "      <td id=\"T_244ee_row5_col0\" class=\"data row5 col0\" >Cisco software and products</td>\n",
              "      <td id=\"T_244ee_row5_col1\" class=\"data row5 col1\" >[3, 8, 10, 11, 17, 46, 77, 91, 93, 94, 96, 107, 113, 177, 185, 186]</td>\n",
              "    </tr>\n",
              "    <tr>\n",
              "      <th id=\"T_244ee_level0_row6\" class=\"row_heading level0 row6\" >6</th>\n",
              "      <td id=\"T_244ee_row6_col0\" class=\"data row6 col0\" >Tech center (cisco)</td>\n",
              "      <td id=\"T_244ee_row6_col1\" class=\"data row6 col1\" >[0, 2, 4, 7, 18, 54, 111, 124, 126, 127, 128]</td>\n",
              "    </tr>\n",
              "    <tr>\n",
              "      <th id=\"T_244ee_level0_row7\" class=\"row_heading level0 row7\" >7</th>\n",
              "      <td id=\"T_244ee_row7_col0\" class=\"data row7 col0\" >Cloud, tech, software</td>\n",
              "      <td id=\"T_244ee_row7_col1\" class=\"data row7 col1\" >[5, 56, 175, 187]</td>\n",
              "    </tr>\n",
              "    <tr>\n",
              "      <th id=\"T_244ee_level0_row8\" class=\"row_heading level0 row8\" >8</th>\n",
              "      <td id=\"T_244ee_row8_col0\" class=\"data row8 col0\" >ASML EUV (more customer-oriented)</td>\n",
              "      <td id=\"T_244ee_row8_col1\" class=\"data row8 col1\" >[16, 129, 130, 131, 132, 164, 168, 181]</td>\n",
              "    </tr>\n",
              "    <tr>\n",
              "      <th id=\"T_244ee_level0_row9\" class=\"row_heading level0 row9\" >9</th>\n",
              "      <td id=\"T_244ee_row9_col0\" class=\"data row9 col0\" >ASML EUV (more research-oriented)</td>\n",
              "      <td id=\"T_244ee_row9_col1\" class=\"data row9 col1\" >[183, 184]</td>\n",
              "    </tr>\n",
              "  </tbody>\n",
              "</table>\n"
            ],
            "text/plain": [
              "<pandas.io.formats.style.Styler object at 0x7fb447f9ea90>"
            ]
          },
          "execution_count": 412,
          "metadata": {},
          "output_type": "execute_result"
        }
      ],
      "source": [
        "lda_topic_group1 = lda_topic_group.replace({0: 'Microsoft product & tech',\n",
        "                                            1: 'Microsoft cloud computing',\n",
        "                                            2: 'Apple product & tech',\n",
        "                                            3: 'ASML EUV (more revenue-oriented)',\n",
        "                                            4: 'Amazon product & tech',\n",
        "                                            5: 'Cisco software and products',\n",
        "                                            6: 'Tech center (cisco)',\n",
        "                                            7: 'Cloud, tech, software',\n",
        "                                            8: 'ASML EUV (more customer-oriented)',\n",
        "                                            9: 'ASML EUV (more research-oriented)'\n",
        "})\n",
        "lda_topic_group1.style.set_properties(subset=['Documents'], **{'width':'400px'})"
      ]
    },
    {
      "cell_type": "markdown",
      "metadata": {},
      "source": [
        "## Ensemble LDA"
      ]
    },
    {
      "cell_type": "code",
      "execution_count": 399,
      "metadata": {},
      "outputs": [
        {
          "name": "stdout",
          "output_type": "stream",
          "text": [
            "(0, '0.008*\"revenue\" + 0.007*\"customer\" + 0.006*\"product\" + 0.005*\"like\" + 0.005*\"research\" + 0.004*\"margin\" + 0.004*\"next\" + 0.004*\"cloud\"')\n"
          ]
        },
        {
          "data": {
            "text/plain": [
              "0.21949191875562168"
            ]
          },
          "execution_count": 399,
          "metadata": {},
          "output_type": "execute_result"
        }
      ],
      "source": [
        "from gensim.models import EnsembleLda\n",
        "\n",
        "elda = EnsembleLda(topic_model_class='ldamulticore', corpus = corpus, id2word = id2word, num_topics = 20, num_models = 5)\n",
        "\n",
        "topics = elda.print_topics(num_words=8)\n",
        "for topic in topics:\n",
        "    print(topic)\n",
        "\n",
        "    coherence=  CoherenceModel(model = elda , texts = the_data,\n",
        "                                    dictionary = dictionary, coherence = 'c_v')\n",
        "coherence.get_coherence()"
      ]
    },
    {
      "cell_type": "code",
      "execution_count": 420,
      "metadata": {},
      "outputs": [
        {
          "name": "stdout",
          "output_type": "stream",
          "text": [
            "(0, '0.008*\"revenue\" + 0.007*\"customer\" + 0.006*\"product\" + 0.005*\"like\" + 0.005*\"research\" + 0.004*\"margin\" + 0.004*\"next\" + 0.004*\"cloud\" + 0.004*\"would\" + 0.004*\"million\" + 0.004*\"data\" + 0.004*\"ceo\" + 0.003*\"call\" + 0.003*\"analyst\" + 0.003*\"expect\" + 0.003*\"second\" + 0.003*\"technology\" + 0.003*\"result\" + 0.003*\"bit\" + 0.003*\"strong\"')\n"
          ]
        }
      ],
      "source": [
        "topics = elda.print_topics(num_words=20)\n",
        "for topic in topics:\n",
        "    print(topic)"
      ]
    },
    {
      "cell_type": "code",
      "execution_count": 418,
      "metadata": {},
      "outputs": [
        {
          "data": {
            "text/plain": [
              "-7.675541414479138"
            ]
          },
          "execution_count": 418,
          "metadata": {},
          "output_type": "execute_result"
        }
      ],
      "source": [
        "elda.log_perplexity(corpus)"
      ]
    },
    {
      "cell_type": "code",
      "execution_count": 400,
      "metadata": {},
      "outputs": [
        {
          "name": "stderr",
          "output_type": "stream",
          "text": [
            "/var/folders/lp/v4x5vmys7d5506998ljns1j40000gn/T/ipykernel_54960/93119132.py:2: SettingWithCopyWarning: \n",
            "A value is trying to be set on a copy of a slice from a DataFrame.\n",
            "Try using .loc[row_indexer,col_indexer] = value instead\n",
            "\n",
            "See the caveats in the documentation: https://pandas.pydata.org/pandas-docs/stable/user_guide/indexing.html#returning-a-view-versus-a-copy\n",
            "  tagged_corpus4['body_tokenized'] = tagged_corpus4['body_lemmatized_cleaned'].apply(lambda x: word_tokenize(x))\n",
            "/var/folders/lp/v4x5vmys7d5506998ljns1j40000gn/T/ipykernel_54960/93119132.py:9: SettingWithCopyWarning: \n",
            "A value is trying to be set on a copy of a slice from a DataFrame.\n",
            "Try using .loc[row_indexer,col_indexer] = value instead\n",
            "\n",
            "See the caveats in the documentation: https://pandas.pydata.org/pandas-docs/stable/user_guide/indexing.html#returning-a-view-versus-a-copy\n",
            "  tagged_corpus4[\"topic\"] = topic\n"
          ]
        }
      ],
      "source": [
        "tagged_corpus4 = final_df[['body','body_lemmatized_cleaned']]\n",
        "tagged_corpus4['body_tokenized'] = tagged_corpus4['body_lemmatized_cleaned'].apply(lambda x: word_tokenize(x))\n",
        "\n",
        "topic = []\n",
        "for corpus in tagged_corpus4['body_tokenized']:\n",
        "  topic_scores = np.array(elda[id2word.doc2bow(corpus)])\n",
        "  topic.append(np.argmax(topic_scores[:,1]))\n",
        "\n",
        "tagged_corpus4[\"topic\"] = topic"
      ]
    },
    {
      "cell_type": "code",
      "execution_count": 405,
      "metadata": {},
      "outputs": [
        {
          "name": "stderr",
          "output_type": "stream",
          "text": [
            "/var/folders/lp/v4x5vmys7d5506998ljns1j40000gn/T/ipykernel_54960/2523909080.py:2: SettingWithCopyWarning: \n",
            "A value is trying to be set on a copy of a slice from a DataFrame.\n",
            "Try using .loc[row_indexer,col_indexer] = value instead\n",
            "\n",
            "See the caveats in the documentation: https://pandas.pydata.org/pandas-docs/stable/user_guide/indexing.html#returning-a-view-versus-a-copy\n",
            "  elda_topic_group['body'] = elda_topic_group.index\n"
          ]
        },
        {
          "data": {
            "text/html": [
              "<style type=\"text/css\">\n",
              "#T_847c4_row0_col1 {\n",
              "  width: 400px;\n",
              "}\n",
              "</style>\n",
              "<table id=\"T_847c4\">\n",
              "  <thead>\n",
              "    <tr>\n",
              "      <th class=\"blank level0\" >&nbsp;</th>\n",
              "      <th id=\"T_847c4_level0_col0\" class=\"col_heading level0 col0\" >topic</th>\n",
              "      <th id=\"T_847c4_level0_col1\" class=\"col_heading level0 col1\" >Documents</th>\n",
              "    </tr>\n",
              "  </thead>\n",
              "  <tbody>\n",
              "    <tr>\n",
              "      <th id=\"T_847c4_level0_row0\" class=\"row_heading level0 row0\" >0</th>\n",
              "      <td id=\"T_847c4_row0_col0\" class=\"data row0 col0\" >0</td>\n",
              "      <td id=\"T_847c4_row0_col1\" class=\"data row0 col1\" >[0, 1, 2, 3, 4, 5, 6, 7, 8, 9, 10, 11, 12, 13, 14, 15, 16, 17, 18, 19, 20, 21, 22, 23, 24, 25, 26, 27, 28, 29, 30, 31, 32, 33, 34, 35, 36, 37, 38, 39, 40, 41, 42, 43, 44, 45, 46, 47, 48, 49, 50, 51, 52, 53, 54, 55, 56, 57, 58, 59, 60, 61, 62, 63, 64, 65, 66, 67, 68, 69, 70, 71, 72, 73, 74, 75, 76, 77, 78, 79, 80, 81, 82, 83, 84, 85, 86, 87, 88, 89, 90, 91, 92, 93, 94, 95, 96, 97, 98, 99, 100, 101, 102, 103, 104, 105, 106, 107, 108, 109, 110, 111, 112, 113, 114, 115, 116, 117, 118, 119, 120, 121, 122, 123, 124, 125, 126, 127, 128, 129, 130, 131, 132, 133, 134, 135, 136, 137, 138, 139, 140, 141, 142, 143, 144, 145, 146, 147, 148, 149, 150, 151, 152, 153, 154, 155, 156, 157, 158, 159, 160, 161, 162, 163, 164, 165, 166, 167, 168, 169, 170, 171, 172, 173, 174, 175, 176, 177, 178, 179, 180, 181, 182, 183, 184, 185, 186, 187]</td>\n",
              "    </tr>\n",
              "  </tbody>\n",
              "</table>\n"
            ],
            "text/plain": [
              "<pandas.io.formats.style.Styler object at 0x7fb5555ebd00>"
            ]
          },
          "execution_count": 405,
          "metadata": {},
          "output_type": "execute_result"
        }
      ],
      "source": [
        "elda_topic_group = tagged_corpus4[['topic','body']]\n",
        "elda_topic_group['body'] = elda_topic_group.index\n",
        "elda_topic_group = elda_topic_group.groupby('topic')[\"body\"].apply(list).reset_index().rename(columns={'body': \"Documents\"})\n",
        "elda_topic_group.style.set_properties(subset=['Documents'], **{'width':'400px'})"
      ]
    },
    {
      "cell_type": "code",
      "execution_count": 425,
      "metadata": {},
      "outputs": [
        {
          "data": {
            "text/html": [
              "<style type=\"text/css\">\n",
              "#T_ea8a8_row0_col1 {\n",
              "  width: 400px;\n",
              "}\n",
              "</style>\n",
              "<table id=\"T_ea8a8\">\n",
              "  <thead>\n",
              "    <tr>\n",
              "      <th class=\"blank level0\" >&nbsp;</th>\n",
              "      <th id=\"T_ea8a8_level0_col0\" class=\"col_heading level0 col0\" >topic</th>\n",
              "      <th id=\"T_ea8a8_level0_col1\" class=\"col_heading level0 col1\" >Documents</th>\n",
              "    </tr>\n",
              "  </thead>\n",
              "  <tbody>\n",
              "    <tr>\n",
              "      <th id=\"T_ea8a8_level0_row0\" class=\"row_heading level0 row0\" >0</th>\n",
              "      <td id=\"T_ea8a8_row0_col0\" class=\"data row0 col0\" >customer, product, revenue, research, etc</td>\n",
              "      <td id=\"T_ea8a8_row0_col1\" class=\"data row0 col1\" >[0, 1, 2, 3, 4, 5, 6, 7, 8, 9, 10, 11, 12, 13, 14, 15, 16, 17, 18, 19, 20, 21, 22, 23, 24, 25, 26, 27, 28, 29, 30, 31, 32, 33, 34, 35, 36, 37, 38, 39, 40, 41, 42, 43, 44, 45, 46, 47, 48, 49, 50, 51, 52, 53, 54, 55, 56, 57, 58, 59, 60, 61, 62, 63, 64, 65, 66, 67, 68, 69, 70, 71, 72, 73, 74, 75, 76, 77, 78, 79, 80, 81, 82, 83, 84, 85, 86, 87, 88, 89, 90, 91, 92, 93, 94, 95, 96, 97, 98, 99, 100, 101, 102, 103, 104, 105, 106, 107, 108, 109, 110, 111, 112, 113, 114, 115, 116, 117, 118, 119, 120, 121, 122, 123, 124, 125, 126, 127, 128, 129, 130, 131, 132, 133, 134, 135, 136, 137, 138, 139, 140, 141, 142, 143, 144, 145, 146, 147, 148, 149, 150, 151, 152, 153, 154, 155, 156, 157, 158, 159, 160, 161, 162, 163, 164, 165, 166, 167, 168, 169, 170, 171, 172, 173, 174, 175, 176, 177, 178, 179, 180, 181, 182, 183, 184, 185, 186, 187]</td>\n",
              "    </tr>\n",
              "  </tbody>\n",
              "</table>\n"
            ],
            "text/plain": [
              "<pandas.io.formats.style.Styler object at 0x7fb447f8b1f0>"
            ]
          },
          "execution_count": 425,
          "metadata": {},
          "output_type": "execute_result"
        }
      ],
      "source": [
        "elda_topic_group1 = elda_topic_group.replace({0: 'customer, product, revenue, research, etc'})\n",
        "elda_topic_group1.style.set_properties(subset=['Documents'], **{'width':'400px'})"
      ]
    },
    {
      "cell_type": "code",
      "execution_count": null,
      "metadata": {},
      "outputs": [],
      "source": []
    },
    {
      "cell_type": "code",
      "execution_count": 437,
      "metadata": {},
      "outputs": [
        {
          "data": {
            "text/html": [
              "<div>\n",
              "<style scoped>\n",
              "    .dataframe tbody tr th:only-of-type {\n",
              "        vertical-align: middle;\n",
              "    }\n",
              "\n",
              "    .dataframe tbody tr th {\n",
              "        vertical-align: top;\n",
              "    }\n",
              "\n",
              "    .dataframe thead th {\n",
              "        text-align: right;\n",
              "    }\n",
              "</style>\n",
              "<table border=\"1\" class=\"dataframe\">\n",
              "  <thead>\n",
              "    <tr style=\"text-align: right;\">\n",
              "      <th></th>\n",
              "      <th>Algorithm</th>\n",
              "      <th>Coherence score</th>\n",
              "      <th>K specification required</th>\n",
              "      <th>Topics generated</th>\n",
              "      <th>Topics assigned</th>\n",
              "    </tr>\n",
              "  </thead>\n",
              "  <tbody>\n",
              "    <tr>\n",
              "      <th>0</th>\n",
              "      <td>Manual</td>\n",
              "      <td>None</td>\n",
              "      <td>Yes</td>\n",
              "      <td>8</td>\n",
              "      <td>6</td>\n",
              "    </tr>\n",
              "    <tr>\n",
              "      <th>1</th>\n",
              "      <td>LDA</td>\n",
              "      <td>0.3262</td>\n",
              "      <td>Yes</td>\n",
              "      <td>10</td>\n",
              "      <td>10</td>\n",
              "    </tr>\n",
              "    <tr>\n",
              "      <th>2</th>\n",
              "      <td>Ensemble LDA</td>\n",
              "      <td>0.2195</td>\n",
              "      <td>No</td>\n",
              "      <td>1</td>\n",
              "      <td>1</td>\n",
              "    </tr>\n",
              "    <tr>\n",
              "      <th>3</th>\n",
              "      <td>LSI</td>\n",
              "      <td>0.439</td>\n",
              "      <td>Yes</td>\n",
              "      <td>5</td>\n",
              "      <td>4</td>\n",
              "    </tr>\n",
              "    <tr>\n",
              "      <th>4</th>\n",
              "      <td>HDP</td>\n",
              "      <td>0.6394</td>\n",
              "      <td>No</td>\n",
              "      <td>20</td>\n",
              "      <td>5</td>\n",
              "    </tr>\n",
              "  </tbody>\n",
              "</table>\n",
              "</div>"
            ],
            "text/plain": [
              "      Algorithm Coherence score K specification required  Topics generated  \\\n",
              "0        Manual            None                      Yes                 8   \n",
              "1           LDA          0.3262                      Yes                10   \n",
              "2  Ensemble LDA          0.2195                       No                 1   \n",
              "3           LSI           0.439                      Yes                 5   \n",
              "4           HDP          0.6394                       No                20   \n",
              "\n",
              "   Topics assigned  \n",
              "0                6  \n",
              "1               10  \n",
              "2                1  \n",
              "3                4  \n",
              "4                5  "
            ]
          },
          "execution_count": 437,
          "metadata": {},
          "output_type": "execute_result"
        }
      ],
      "source": [
        "compare = {'Algorithm': [\"Manual\",\"LDA\", \"Ensemble LDA\", \"LSI\", \"HDP\"],\n",
        "           'Coherence score': ['None',0.3262,0.2195,0.4390,0.6394],\n",
        "           'K specification required': ['Yes','Yes','No','Yes','No'],\n",
        "           'Topics generated': [8, 10, 1, 5, 20],\n",
        "           'Topics assigned': [6, 10, 1, 4, 5]}\n",
        "\n",
        "pd.DataFrame.from_dict(compare)"
      ]
    },
    {
      "cell_type": "code",
      "execution_count": null,
      "metadata": {},
      "outputs": [],
      "source": []
    }
  ],
  "metadata": {
    "colab": {
      "name": "NLP modelling.ipynb",
      "provenance": []
    },
    "kernelspec": {
      "display_name": "Python 3",
      "name": "python3"
    },
    "language_info": {
      "codemirror_mode": {
        "name": "ipython",
        "version": 3
      },
      "file_extension": ".py",
      "mimetype": "text/x-python",
      "name": "python",
      "nbconvert_exporter": "python",
      "pygments_lexer": "ipython3",
      "version": "3.8.8"
    }
  },
  "nbformat": 4,
  "nbformat_minor": 0
}
